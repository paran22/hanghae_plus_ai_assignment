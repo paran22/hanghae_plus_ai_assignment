{
 "cells": [
  {
   "cell_type": "markdown",
   "metadata": {
    "id": "OPJenlrhihrh"
   },
   "source": [
    "# [1주차] 심화과제 - MNIST 예측 모델에 deep learning techniques 적용하기\n",
    "\n",
    "구현 목표 : MNIST 데이터로 손글씨 이미지가 어떤 숫자를 의미하는지 분류하는 모델을 구현한다.\n",
    "\n",
    "필요한 라이브러리를 import 한다.\n",
    "GPU를 사용하기 위한 설정을 한다."
   ]
  },
  {
   "cell_type": "code",
   "execution_count": 1,
   "metadata": {
    "executionInfo": {
     "elapsed": 6315,
     "status": "ok",
     "timestamp": 1724212693193,
     "user": {
      "displayName": "조승혁",
      "userId": "15759752471844115325"
     },
     "user_tz": -540
    },
    "id": "6lXVfXoDtoQh"
   },
   "outputs": [],
   "source": [
    "import torch\n",
    "import torchvision\n",
    "import torchvision.transforms as transforms\n",
    "import numpy as np\n",
    "\n",
    "# mac에 GPU를 사용하기 위한 설정\n",
    "device = torch.device(\"mps\")"
   ]
  },
  {
   "cell_type": "markdown",
   "metadata": {
    "id": "pF-1zQvmiult"
   },
   "source": [
    "trainset과 testset 준비한다.\n",
    "PyTorch를 사용하기 위해 다차원 배열인 Tensor 형태로 변환한다."
   ]
  },
  {
   "cell_type": "code",
   "execution_count": 2,
   "metadata": {
    "colab": {
     "base_uri": "https://localhost:8080/"
    },
    "executionInfo": {
     "elapsed": 22007,
     "status": "ok",
     "timestamp": 1724212718261,
     "user": {
      "displayName": "조승혁",
      "userId": "15759752471844115325"
     },
     "user_tz": -540
    },
    "id": "KAYlqPaRt6ti",
    "outputId": "67e51d96-85b4-4129-efc8-7938006afdd4"
   },
   "outputs": [],
   "source": [
    "transform = transforms.ToTensor()\n",
    "\n",
    "trainset = torchvision.datasets.CIFAR10(\n",
    "    root='./data',\n",
    "    train=True,\n",
    "    download=True,\n",
    "    transform=transform\n",
    ")\n",
    "\n",
    "testset = torchvision.datasets.CIFAR10(\n",
    "    root='./data',\n",
    "    train=False,\n",
    "    download=True,\n",
    "    transform=transform\n",
    ")\n"
   ]
  },
  {
   "cell_type": "markdown",
   "metadata": {
    "id": "p-GqH7_ZjVMs"
   },
   "source": [
    "trainset이 잘 만들어졌는지 확인하기 위해 전체 transet data의 개수와 첫 번째 data를 출력한다."
   ]
  },
  {
   "cell_type": "code",
   "execution_count": 3,
   "metadata": {
    "colab": {
     "base_uri": "https://localhost:8080/",
     "height": 481
    },
    "executionInfo": {
     "elapsed": 601,
     "status": "ok",
     "timestamp": 1724212727291,
     "user": {
      "displayName": "조승혁",
      "userId": "15759752471844115325"
     },
     "user_tz": -540
    },
    "id": "Zsp3sHmojyhT",
    "outputId": "3511bb75-e677-4fb8-894b-69e22c80f4bc"
   },
   "outputs": [
    {
     "name": "stdout",
     "output_type": "stream",
     "text": [
      "50000\n",
      "torch.Size([3, 32, 32]) 6\n"
     ]
    },
    {
     "data": {
      "text/plain": [
       "<matplotlib.image.AxesImage at 0x1478c6d50>"
      ]
     },
     "execution_count": 3,
     "metadata": {},
     "output_type": "execute_result"
    },
    {
     "data": {
      "image/png": "[encoded data removed]",
      "text/plain": [
       "<Figure size 640x480 with 1 Axes>"
      ]
     },
     "metadata": {},
     "output_type": "display_data"
    }
   ],
   "source": [
    "from matplotlib import pyplot as plt\n",
    "\n",
    "print(len(trainset))\n",
    "print(trainset[0][0].shape, trainset[0][1])\n",
    "plt.imshow(trainset[0][0][0], cmap='gray')"
   ]
  },
  {
   "cell_type": "markdown",
   "metadata": {
    "id": "udm8wDBsi301"
   },
   "source": [
    "SGD를 위해 dataset을 여러 개의 batch로 나눈다.\n",
    "여러 개의 batch로 나누면 데이터가 많아도 메모리가 부족하지 않게 gradient descent를 수행할 수 있다.\n",
    "SGD는 랜덤으로 batch를 구성해야 잘 동작하기 때문에 trainloader에 shuffle=True로 설정한다."
   ]
  },
  {
   "cell_type": "code",
   "execution_count": 4,
   "metadata": {
    "id": "UxKu3kA2i5WH"
   },
   "outputs": [],
   "source": [
    "batch_size = 256\n",
    "\n",
    "trainloader = torch.utils.data.DataLoader(\n",
    "    trainset,\n",
    "    batch_size=batch_size,\n",
    "    shuffle=True\n",
    ")\n",
    "\n",
    "testloader = torch.utils.data.DataLoader(\n",
    "    testset,\n",
    "    batch_size=batch_size,\n",
    "    shuffle=False\n",
    ")\n"
   ]
  },
  {
   "cell_type": "markdown",
   "metadata": {
    "id": "z4Qyrm4WlzWt"
   },
   "source": [
    "첫 번째 batch를 출력하면 다음과 같다."
   ]
  },
  {
   "cell_type": "code",
   "execution_count": 5,
   "metadata": {
    "colab": {
     "base_uri": "https://localhost:8080/"
    },
    "executionInfo": {
     "elapsed": 33,
     "status": "ok",
     "timestamp": 1723366306519,
     "user": {
      "displayName": "조승혁",
      "userId": "15759752471844115325"
     },
     "user_tz": -540
    },
    "id": "_Hd7XxyAvVNz",
    "outputId": "185acb61-2ed7-4110-b325-c0e016ca60b0"
   },
   "outputs": [
    {
     "name": "stdout",
     "output_type": "stream",
     "text": [
      "torch.Size([256, 3, 32, 32]) torch.Size([256])\n"
     ]
    }
   ],
   "source": [
    "dataiter = iter(trainloader)\n",
    "images, labels = next(dataiter)\n",
    "print(images.shape, labels.shape)"
   ]
  },
  {
   "cell_type": "markdown",
   "metadata": {},
   "source": [
    "dataloader에 대한 model의 정확도를 측정하는 코드를 추가한다."
   ]
  },
  {
   "cell_type": "code",
   "execution_count": 6,
   "metadata": {},
   "outputs": [],
   "source": [
    "def accuracy(model, dataloader):\n",
    "  cnt = 0\n",
    "  acc = 0\n",
    "\n",
    "  for data in dataloader:\n",
    "    inputs, labels = data\n",
    "    inputs, labels = inputs.to('mps'), labels.to('mps')\n",
    "\n",
    "    preds = model(inputs)\n",
    "    preds = torch.argmax(preds, dim=-1)\n",
    "\n",
    "    cnt += labels.shape[0]\n",
    "    acc += (labels == preds).sum().item()\n",
    "\n",
    "  return acc / cnt"
   ]
  },
  {
   "cell_type": "markdown",
   "metadata": {},
   "source": [
    "모델을 학습하면서 저장한 정확도를 plot으로 출력하는 함수를 선언한다."
   ]
  },
  {
   "cell_type": "code",
   "execution_count": 7,
   "metadata": {},
   "outputs": [],
   "source": [
    "def plot_acc(train_accs, test_accs, label1, label2):\n",
    "  x = np.arange(len(train_accs))\n",
    "\n",
    "  plt.plot(x, train_accs, label=label1)\n",
    "  plt.plot(x, test_accs, label=label2)\n",
    "  plt.legend()\n",
    "  plt.show()"
   ]
  },
  {
   "cell_type": "markdown",
   "metadata": {},
   "source": [
    "### SGD vs Adam"
   ]
  },
  {
   "cell_type": "markdown",
   "metadata": {},
   "source": [
    "LeakyReLU을 사용하는 3-layer MLP 모델을 구현한다. "
   ]
  },
  {
   "cell_type": "code",
   "execution_count": 8,
   "metadata": {
    "id": "OLOA-ZGTuVVG"
   },
   "outputs": [],
   "source": [
    "from torch import nn\n",
    "\n",
    "\n",
    "class Model(nn.Module):\n",
    "  def __init__(self, input_dim, n_dim):\n",
    "    super().__init__()\n",
    "\n",
    "    self.layer1 = nn.Linear(input_dim, n_dim)\n",
    "    self.layer2 = nn.Linear(n_dim, n_dim)\n",
    "    # 0~9까지 각 클래스에 대한 확률을 출력하기 위해 dimension을 10으로 설정\n",
    "    self.layer3 = nn.Linear(n_dim, 10)\n",
    "\n",
    "    self.act = nn.LeakyReLU()\n",
    "\n",
    "  def forward(self, x):\n",
    "    x = torch.flatten(x, start_dim=1)\n",
    "    x = self.act(self.layer1(x))\n",
    "    x = self.act(self.layer2(x))\n",
    "    x = self.act(self.layer3(x))\n",
    "\n",
    "    return x\n",
    "\n",
    "\n",
    "model = Model(32 * 32 * 3, 1024)"
   ]
  },
  {
   "cell_type": "markdown",
   "metadata": {
    "id": "tag1rNcwmnAr"
   },
   "source": [
    "gradient descent를 수행해줄 optimizer를 구현한다. SGD와 Adam을 사용한다."
   ]
  },
  {
   "cell_type": "code",
   "execution_count": 9,
   "metadata": {
    "id": "ypS0TcOlvBhZ"
   },
   "outputs": [],
   "source": [
    "from torch.optim import SGD, Adam\n",
    "\n",
    "lr = 0.001\n",
    "model = model.to('mps')\n",
    "\n",
    "sgd_optimizer = SGD(model.parameters(), lr=lr)\n",
    "adam_optimizer = Adam(model.parameters(), lr=lr)"
   ]
  },
  {
   "cell_type": "markdown",
   "metadata": {
    "id": "5PooeOKMnRfZ"
   },
   "source": [
    "model을 학습한다.\n",
    "SGD의 성능을 측정하기 위해 배열에 정확도를 계산하여 저장한다."
   ]
  },
  {
   "cell_type": "code",
   "execution_count": 10,
   "metadata": {
    "colab": {
     "base_uri": "https://localhost:8080/"
    },
    "executionInfo": {
     "elapsed": 786155,
     "status": "ok",
     "timestamp": 1723367093025,
     "user": {
      "displayName": "조승혁",
      "userId": "15759752471844115325"
     },
     "user_tz": -540
    },
    "id": "TryX1hewvNiB",
    "outputId": "4e4a9282-d49a-40ff-c26c-d00fb7c0af79"
   },
   "outputs": [
    {
     "name": "stdout",
     "output_type": "stream",
     "text": [
      "Epoch   0 | Loss: 451.14811754226685\n",
      "Epoch   1 | Loss: 450.2908148765564\n",
      "Epoch   2 | Loss: 449.40737414360046\n",
      "Epoch   3 | Loss: 448.580792427063\n",
      "Epoch   4 | Loss: 447.81026554107666\n",
      "Epoch   5 | Loss: 447.094523191452\n",
      "Epoch   6 | Loss: 446.37571120262146\n",
      "Epoch   7 | Loss: 445.6939823627472\n",
      "Epoch   8 | Loss: 445.0013282299042\n",
      "Epoch   9 | Loss: 444.33336424827576\n",
      "Epoch  10 | Loss: 443.64325737953186\n",
      "Epoch  11 | Loss: 442.9713215827942\n",
      "Epoch  12 | Loss: 442.25143694877625\n",
      "Epoch  13 | Loss: 441.6075277328491\n",
      "Epoch  14 | Loss: 440.8982253074646\n",
      "Epoch  15 | Loss: 440.1737883090973\n",
      "Epoch  16 | Loss: 439.5208411216736\n",
      "Epoch  17 | Loss: 438.8014817237854\n",
      "Epoch  18 | Loss: 438.03958916664124\n",
      "Epoch  19 | Loss: 437.12902069091797\n",
      "Epoch  20 | Loss: 435.9339315891266\n",
      "Epoch  21 | Loss: 434.77215099334717\n",
      "Epoch  22 | Loss: 433.6445851325989\n",
      "Epoch  23 | Loss: 432.64183712005615\n",
      "Epoch  24 | Loss: 431.5539724826813\n",
      "Epoch  25 | Loss: 430.57140016555786\n",
      "Epoch  26 | Loss: 429.5948443412781\n",
      "Epoch  27 | Loss: 428.6358411312103\n",
      "Epoch  28 | Loss: 427.7583038806915\n",
      "Epoch  29 | Loss: 426.8822355270386\n",
      "Epoch  30 | Loss: 426.0402731895447\n",
      "Epoch  31 | Loss: 425.20349860191345\n",
      "Epoch  32 | Loss: 424.3710813522339\n",
      "Epoch  33 | Loss: 423.72230315208435\n",
      "Epoch  34 | Loss: 422.3800733089447\n",
      "Epoch  35 | Loss: 419.0036885738373\n",
      "Epoch  36 | Loss: 416.6390914916992\n",
      "Epoch  37 | Loss: 414.7408492565155\n",
      "Epoch  38 | Loss: 412.9688320159912\n",
      "Epoch  39 | Loss: 411.3299834728241\n",
      "Epoch  40 | Loss: 409.88027024269104\n",
      "Epoch  41 | Loss: 408.334171295166\n",
      "Epoch  42 | Loss: 407.0759824514389\n",
      "Epoch  43 | Loss: 404.0374507904053\n",
      "Epoch  44 | Loss: 401.75833237171173\n",
      "Epoch  45 | Loss: 400.1458991765976\n",
      "Epoch  46 | Loss: 398.80127120018005\n",
      "Epoch  47 | Loss: 397.560142159462\n",
      "Epoch  48 | Loss: 395.2287174463272\n",
      "Epoch  49 | Loss: 391.51748645305634\n"
     ]
    }
   ],
   "source": [
    "criterion = nn.CrossEntropyLoss()\n",
    "n_epochs = 50\n",
    "\n",
    "sgd_train_acc_list = []\n",
    "\n",
    "for epoch in range(n_epochs):\n",
    "  total_loss = 0.\n",
    "  for data in trainloader:\n",
    "    model.zero_grad()\n",
    "    inputs, labels = data\n",
    "    inputs, labels = inputs.to('mps'), labels.to('mps')\n",
    "\n",
    "    preds = model(inputs)\n",
    "    loss = criterion(preds, labels)\n",
    "    loss.backward()\n",
    "    sgd_optimizer.step()\n",
    "\n",
    "    total_loss += loss.item()\n",
    "  sgd_train_acc_list.append(accuracy(model, trainloader))\n",
    "\n",
    "  print(f\"Epoch {epoch:3d} | Loss: {total_loss}\")"
   ]
  },
  {
   "cell_type": "markdown",
   "metadata": {},
   "source": [
    "Adam의 성능을 측정하기 위해 배열에 정확도를 계산하여 저장한다."
   ]
  },
  {
   "cell_type": "code",
   "execution_count": 11,
   "metadata": {},
   "outputs": [
    {
     "name": "stdout",
     "output_type": "stream",
     "text": [
      "Epoch   0 | Loss: 417.2205333709717\n",
      "Epoch   1 | Loss: 339.45481741428375\n",
      "Epoch   2 | Loss: 315.916499376297\n",
      "Epoch   3 | Loss: 303.04694414138794\n",
      "Epoch   4 | Loss: 294.19255685806274\n",
      "Epoch   5 | Loss: 285.8053011894226\n",
      "Epoch   6 | Loss: 277.98451709747314\n",
      "Epoch   7 | Loss: 272.54860043525696\n",
      "Epoch   8 | Loss: 266.10283076763153\n",
      "Epoch   9 | Loss: 262.9660634994507\n",
      "Epoch  10 | Loss: 255.1988264322281\n",
      "Epoch  11 | Loss: 250.97989916801453\n",
      "Epoch  12 | Loss: 244.89740526676178\n",
      "Epoch  13 | Loss: 242.4584882259369\n",
      "Epoch  14 | Loss: 235.88721597194672\n",
      "Epoch  15 | Loss: 230.71190464496613\n",
      "Epoch  16 | Loss: 227.61740905046463\n",
      "Epoch  17 | Loss: 222.10773718357086\n",
      "Epoch  18 | Loss: 219.72411042451859\n",
      "Epoch  19 | Loss: 211.50541299581528\n",
      "Epoch  20 | Loss: 207.95748084783554\n",
      "Epoch  21 | Loss: 204.83350104093552\n",
      "Epoch  22 | Loss: 198.06421023607254\n",
      "Epoch  23 | Loss: 195.60018038749695\n",
      "Epoch  24 | Loss: 189.1362629532814\n",
      "Epoch  25 | Loss: 186.03153896331787\n",
      "Epoch  26 | Loss: 178.44265109300613\n",
      "Epoch  27 | Loss: 176.04442036151886\n",
      "Epoch  28 | Loss: 171.95717334747314\n",
      "Epoch  29 | Loss: 167.46434992551804\n",
      "Epoch  30 | Loss: 161.73827201128006\n",
      "Epoch  31 | Loss: 156.65031588077545\n",
      "Epoch  32 | Loss: 155.03178530931473\n",
      "Epoch  33 | Loss: 147.4130638241768\n",
      "Epoch  34 | Loss: 143.64913403987885\n",
      "Epoch  35 | Loss: 137.29064375162125\n",
      "Epoch  36 | Loss: 137.49212163686752\n",
      "Epoch  37 | Loss: 128.39384055137634\n",
      "Epoch  38 | Loss: 124.87601834535599\n",
      "Epoch  39 | Loss: 121.48890724778175\n",
      "Epoch  40 | Loss: 119.07019913196564\n",
      "Epoch  41 | Loss: 112.23971936106682\n",
      "Epoch  42 | Loss: 111.2174890935421\n",
      "Epoch  43 | Loss: 106.3011686205864\n",
      "Epoch  44 | Loss: 103.22416254878044\n",
      "Epoch  45 | Loss: 99.59934562444687\n",
      "Epoch  46 | Loss: 93.94083926081657\n",
      "Epoch  47 | Loss: 91.72469678521156\n",
      "Epoch  48 | Loss: 87.7928999364376\n",
      "Epoch  49 | Loss: 87.93892595171928\n"
     ]
    }
   ],
   "source": [
    "criterion = nn.CrossEntropyLoss()\n",
    "n_epochs = 50\n",
    "\n",
    "adam_train_acc_list = []\n",
    "\n",
    "for epoch in range(n_epochs):\n",
    "  total_loss = 0.\n",
    "  for data in trainloader:\n",
    "    model.zero_grad()\n",
    "    inputs, labels = data\n",
    "    inputs, labels = inputs.to('mps'), labels.to('mps')\n",
    "\n",
    "    preds = model(inputs)\n",
    "    loss = criterion(preds, labels)\n",
    "    loss.backward()\n",
    "    adam_optimizer.step()\n",
    "\n",
    "    total_loss += loss.item()\n",
    "  adam_train_acc_list.append(accuracy(model, trainloader))\n",
    "\n",
    "  print(f\"Epoch {epoch:3d} | Loss: {total_loss}\")"
   ]
  },
  {
   "cell_type": "markdown",
   "metadata": {},
   "source": [
    "SGD와 Adam의 성능을 비교한다."
   ]
  },
  {
   "cell_type": "code",
   "execution_count": 12,
   "metadata": {},
   "outputs": [
    {
     "data": {
      "image/png": "[encoded data removed]",
      "text/plain": [
       "<Figure size 640x480 with 1 Axes>"
      ]
     },
     "metadata": {},
     "output_type": "display_data"
    }
   ],
   "source": [
    "plot_acc(sgd_train_acc_list, adam_train_acc_list, 'SGD_train', 'Adam_train')"
   ]
  },
  {
   "cell_type": "markdown",
   "metadata": {},
   "source": [
    "### LeakyReLU vs Sigmoid"
   ]
  },
  {
   "cell_type": "markdown",
   "metadata": {},
   "source": [
    "LeakyReLU 모델을 구현한다."
   ]
  },
  {
   "cell_type": "code",
   "execution_count": 13,
   "metadata": {},
   "outputs": [],
   "source": [
    "from torch import nn\n",
    "\n",
    "\n",
    "class ModelWithLeakyReLU(nn.Module):\n",
    "  def __init__(self, input_dim, n_dim):\n",
    "    super().__init__()\n",
    "\n",
    "    self.layer1 = nn.Linear(input_dim, n_dim)\n",
    "    self.layer2 = nn.Linear(n_dim, n_dim)\n",
    "    # 0~9까지 각 클래스에 대한 확률을 출력하기 위해 dimension을 10으로 설정\n",
    "    self.layer3 = nn.Linear(n_dim, 10)\n",
    "\n",
    "    self.act = nn.LeakyReLU()\n",
    "\n",
    "  def forward(self, x):\n",
    "    x = torch.flatten(x, start_dim=1)\n",
    "    x = self.act(self.layer1(x))\n",
    "    x = self.act(self.layer2(x))\n",
    "    x = self.act(self.layer3(x))\n",
    "\n",
    "    return x\n",
    "\n",
    "\n",
    "model_with_leaky_relu = ModelWithLeakyReLU(32 * 32 * 3, 1024)"
   ]
  },
  {
   "cell_type": "markdown",
   "metadata": {},
   "source": [
    "Sigmoid 모델을 구현한다."
   ]
  },
  {
   "cell_type": "code",
   "execution_count": 14,
   "metadata": {},
   "outputs": [],
   "source": [
    "from torch import nn\n",
    "\n",
    "class ModelWithSigmoid(nn.Module):\n",
    "  def __init__(self, input_dim, n_dim):\n",
    "    super().__init__()\n",
    "\n",
    "    self.layer1 = nn.Linear(input_dim, n_dim)\n",
    "    self.layer2 = nn.Linear(n_dim, n_dim)\n",
    "    # 0~9까지 각 클래스에 대한 확률을 출력하기 위해 dimension을 10으로 설정\n",
    "    self.layer3 = nn.Linear(n_dim, 10)\n",
    "\n",
    "    self.act = nn.Sigmoid()\n",
    "\n",
    "  def forward(self, x):\n",
    "    x = torch.flatten(x, start_dim=1)\n",
    "    x = self.act(self.layer1(x))\n",
    "    x = self.act(self.layer2(x))\n",
    "    x = self.act(self.layer3(x))\n",
    "\n",
    "    return x\n",
    "\n",
    "\n",
    "model_with_sigmoid = ModelWithSigmoid(32 * 32 * 3, 1024)"
   ]
  },
  {
   "cell_type": "markdown",
   "metadata": {},
   "source": [
    "gradient descent를 수행해줄 optimizer를 구현한다. Adam을 사용한다."
   ]
  },
  {
   "cell_type": "code",
   "execution_count": 15,
   "metadata": {},
   "outputs": [],
   "source": [
    "from torch.optim import SGD, Adam\n",
    "\n",
    "lr = 0.001\n",
    "model_with_leaky_relu = model_with_leaky_relu.to('mps')\n",
    "model_with_sigmoid = model_with_sigmoid.to('mps')\n",
    "\n",
    "leaky_relu_optimizer = Adam(model_with_leaky_relu.parameters(), lr=lr)\n",
    "sigmoid_optimizer = Adam(model_with_sigmoid.parameters(), lr=lr)"
   ]
  },
  {
   "cell_type": "markdown",
   "metadata": {},
   "source": [
    "LeakyReLU 모델을 학습한다."
   ]
  },
  {
   "cell_type": "code",
   "execution_count": 16,
   "metadata": {},
   "outputs": [
    {
     "name": "stdout",
     "output_type": "stream",
     "text": [
      "Epoch   0 | Loss: 435.56925988197327\n",
      "Epoch   1 | Loss: 397.4174256324768\n",
      "Epoch   2 | Loss: 376.05108201503754\n",
      "Epoch   3 | Loss: 360.90127551555634\n",
      "Epoch   4 | Loss: 347.4737013578415\n",
      "Epoch   5 | Loss: 336.8340742588043\n",
      "Epoch   6 | Loss: 326.94212090969086\n",
      "Epoch   7 | Loss: 319.78423154354095\n",
      "Epoch   8 | Loss: 312.13118278980255\n",
      "Epoch   9 | Loss: 306.73069083690643\n",
      "Epoch  10 | Loss: 301.8901790380478\n",
      "Epoch  11 | Loss: 296.75432336330414\n",
      "Epoch  12 | Loss: 292.92099726200104\n",
      "Epoch  13 | Loss: 289.31909680366516\n",
      "Epoch  14 | Loss: 283.9481246471405\n",
      "Epoch  15 | Loss: 280.49676275253296\n",
      "Epoch  16 | Loss: 278.6144822835922\n",
      "Epoch  17 | Loss: 274.5078650712967\n",
      "Epoch  18 | Loss: 272.3609768152237\n",
      "Epoch  19 | Loss: 267.7644307613373\n",
      "Epoch  20 | Loss: 266.5610874891281\n",
      "Epoch  21 | Loss: 261.8840808868408\n",
      "Epoch  22 | Loss: 259.0528715848923\n",
      "Epoch  23 | Loss: 258.6658527851105\n",
      "Epoch  24 | Loss: 253.56834471225739\n",
      "Epoch  25 | Loss: 251.93239843845367\n",
      "Epoch  26 | Loss: 249.58718633651733\n",
      "Epoch  27 | Loss: 246.4798400402069\n",
      "Epoch  28 | Loss: 242.29490542411804\n",
      "Epoch  29 | Loss: 239.6620578765869\n",
      "Epoch  30 | Loss: 237.61715745925903\n",
      "Epoch  31 | Loss: 234.83311259746552\n",
      "Epoch  32 | Loss: 231.15328216552734\n",
      "Epoch  33 | Loss: 229.6050488948822\n",
      "Epoch  34 | Loss: 228.02288436889648\n",
      "Epoch  35 | Loss: 221.88868552446365\n",
      "Epoch  36 | Loss: 219.3286297917366\n",
      "Epoch  37 | Loss: 223.6230000257492\n",
      "Epoch  38 | Loss: 214.75792652368546\n",
      "Epoch  39 | Loss: 211.2596756219864\n",
      "Epoch  40 | Loss: 215.85230326652527\n",
      "Epoch  41 | Loss: 206.53737699985504\n",
      "Epoch  42 | Loss: 203.47387051582336\n",
      "Epoch  43 | Loss: 201.02379381656647\n",
      "Epoch  44 | Loss: 202.1915340423584\n",
      "Epoch  45 | Loss: 196.16497415304184\n",
      "Epoch  46 | Loss: 193.81807625293732\n",
      "Epoch  47 | Loss: 190.07515913248062\n",
      "Epoch  48 | Loss: 188.32731807231903\n",
      "Epoch  49 | Loss: 191.76069724559784\n"
     ]
    }
   ],
   "source": [
    "criterion = nn.CrossEntropyLoss()\n",
    "n_epochs = 50\n",
    "\n",
    "leaky_relu_train_acc_list = []\n",
    "\n",
    "for epoch in range(n_epochs):\n",
    "  total_loss = 0.\n",
    "  for data in trainloader:\n",
    "    model_with_leaky_relu.zero_grad()\n",
    "    inputs, labels = data\n",
    "    inputs, labels = inputs.to('mps'), labels.to('mps')\n",
    "\n",
    "    preds = model_with_leaky_relu(inputs)\n",
    "    loss = criterion(preds, labels)\n",
    "    loss.backward()\n",
    "    leaky_relu_optimizer.step()\n",
    "\n",
    "    total_loss += loss.item()\n",
    "  leaky_relu_train_acc_list.append(accuracy(model_with_leaky_relu, trainloader))\n",
    "\n",
    "  print(f\"Epoch {epoch:3d} | Loss: {total_loss}\")"
   ]
  },
  {
   "cell_type": "markdown",
   "metadata": {},
   "source": [
    "Sigmoid 모델을 학습한다.\n",
    "Sigmoid는 모든 입력값을 0과 1 사이로 압축한다."
   ]
  },
  {
   "cell_type": "code",
   "execution_count": 17,
   "metadata": {},
   "outputs": [
    {
     "name": "stdout",
     "output_type": "stream",
     "text": [
      "Epoch   0 | Loss: 412.2428605556488\n",
      "Epoch   1 | Loss: 393.8173198699951\n",
      "Epoch   2 | Loss: 388.17503476142883\n",
      "Epoch   3 | Loss: 384.5638289451599\n",
      "Epoch   4 | Loss: 381.5235834121704\n",
      "Epoch   5 | Loss: 380.21916377544403\n",
      "Epoch   6 | Loss: 377.9645162820816\n",
      "Epoch   7 | Loss: 376.78321731090546\n",
      "Epoch   8 | Loss: 375.1876890659332\n",
      "Epoch   9 | Loss: 374.09304344654083\n",
      "Epoch  10 | Loss: 372.2877186536789\n",
      "Epoch  11 | Loss: 372.11402773857117\n",
      "Epoch  12 | Loss: 370.47026097774506\n",
      "Epoch  13 | Loss: 369.9496650695801\n",
      "Epoch  14 | Loss: 368.6572630405426\n",
      "Epoch  15 | Loss: 368.0707072019577\n",
      "Epoch  16 | Loss: 367.0163869857788\n",
      "Epoch  17 | Loss: 366.83253359794617\n",
      "Epoch  18 | Loss: 365.4430387020111\n",
      "Epoch  19 | Loss: 365.98288130760193\n",
      "Epoch  20 | Loss: 364.9325774908066\n",
      "Epoch  21 | Loss: 363.9646670818329\n",
      "Epoch  22 | Loss: 364.5687977075577\n",
      "Epoch  23 | Loss: 363.3548607826233\n",
      "Epoch  24 | Loss: 362.536368727684\n",
      "Epoch  25 | Loss: 361.1865131855011\n",
      "Epoch  26 | Loss: 361.34870421886444\n",
      "Epoch  27 | Loss: 361.22735142707825\n",
      "Epoch  28 | Loss: 360.7446197271347\n",
      "Epoch  29 | Loss: 359.98362827301025\n",
      "Epoch  30 | Loss: 360.2163120508194\n",
      "Epoch  31 | Loss: 358.674843788147\n",
      "Epoch  32 | Loss: 359.3360641002655\n",
      "Epoch  33 | Loss: 357.8823778629303\n",
      "Epoch  34 | Loss: 357.69955587387085\n",
      "Epoch  35 | Loss: 357.34817123413086\n",
      "Epoch  36 | Loss: 356.7842456102371\n",
      "Epoch  37 | Loss: 356.24114632606506\n",
      "Epoch  38 | Loss: 355.51377868652344\n",
      "Epoch  39 | Loss: 355.67515456676483\n",
      "Epoch  40 | Loss: 355.74816381931305\n",
      "Epoch  41 | Loss: 355.4790989160538\n",
      "Epoch  42 | Loss: 353.7134510278702\n",
      "Epoch  43 | Loss: 354.34268164634705\n",
      "Epoch  44 | Loss: 353.7583079338074\n",
      "Epoch  45 | Loss: 353.3804030418396\n",
      "Epoch  46 | Loss: 352.9767515659332\n",
      "Epoch  47 | Loss: 352.70362520217896\n",
      "Epoch  48 | Loss: 352.64470195770264\n",
      "Epoch  49 | Loss: 352.9900460243225\n"
     ]
    }
   ],
   "source": [
    "criterion = nn.CrossEntropyLoss()\n",
    "n_epochs = 50\n",
    "\n",
    "sigmoid_train_acc_list = []\n",
    "\n",
    "for epoch in range(n_epochs):\n",
    "  total_loss = 0.\n",
    "  for data in trainloader:\n",
    "    model_with_sigmoid.zero_grad()\n",
    "    inputs, labels = data\n",
    "    inputs, labels = inputs.to('mps'), labels.to('mps')\n",
    "\n",
    "    preds = model_with_sigmoid(inputs)\n",
    "    loss = criterion(preds, labels)\n",
    "    loss.backward()\n",
    "    sigmoid_optimizer.step()\n",
    "\n",
    "    total_loss += loss.item()\n",
    "  sigmoid_train_acc_list.append(accuracy(model_with_sigmoid, trainloader))\n",
    "\n",
    "  print(f\"Epoch {epoch:3d} | Loss: {total_loss}\")"
   ]
  },
  {
   "cell_type": "markdown",
   "metadata": {},
   "source": [
    "LeakyReLU와 Sigmoid의 성능을 비교한다."
   ]
  },
  {
   "cell_type": "code",
   "execution_count": 18,
   "metadata": {},
   "outputs": [
    {
     "data": {
      "image/png": "[encoded data removed]",
      "text/plain": [
       "<Figure size 640x480 with 1 Axes>"
      ]
     },
     "metadata": {},
     "output_type": "display_data"
    }
   ],
   "source": [
    "plot_acc(leaky_relu_train_acc_list, sigmoid_train_acc_list, 'LeakyReLU_train', 'Sigmoid_train')"
   ]
  }
 ],
 "metadata": {
  "accelerator": "GPU",
  "colab": {
   "authorship_tag": "ABX9TyOz7vBAsZ4WYLph4xp9q2ee",
   "gpuType": "T4",
   "provenance": []
  },
  "kernelspec": {
   "display_name": "Python (welcomedl)",
   "language": "python",
   "name": "welcomedl"
  },
  "language_info": {
   "codemirror_mode": {
    "name": "ipython",
    "version": 3
   },
   "file_extension": ".py",
   "mimetype": "text/x-python",
   "name": "python",
   "nbconvert_exporter": "python",
   "pygments_lexer": "ipython3",
   "version": "3.12.9"
  }
 },
 "nbformat": 4,
 "nbformat_minor": 0
}
