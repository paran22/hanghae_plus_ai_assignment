{
 "cells": [
  {
   "cell_type": "markdown",
   "metadata": {
    "id": "OPJenlrhihrh"
   },
   "source": [
    "# [1주차] 심화과제 - MNIST 예측 모델에 deep learning techniques 적용하기\n",
    "\n",
    "구현 목표 : MNIST 데이터로 손글씨 이미지가 어떤 숫자를 의미하는지 분류하는 모델을 구현한다.\n",
    "\n",
    "필요한 라이브러리를 import 한다.\n",
    "GPU를 사용하기 위한 설정을 한다."
   ]
  },
  {
   "cell_type": "code",
   "execution_count": 1,
   "metadata": {
    "executionInfo": {
     "elapsed": 6315,
     "status": "ok",
     "timestamp": 1724212693193,
     "user": {
      "displayName": "조승혁",
      "userId": "15759752471844115325"
     },
     "user_tz": -540
    },
    "id": "6lXVfXoDtoQh"
   },
   "outputs": [],
   "source": [
    "import torch\n",
    "import torchvision\n",
    "import torchvision.transforms as transforms\n",
    "import numpy as np\n",
    "\n",
    "# mac에 GPU를 사용하기 위한 설정\n",
    "device = torch.device(\"mps\")"
   ]
  },
  {
   "cell_type": "markdown",
   "metadata": {
    "id": "pF-1zQvmiult"
   },
   "source": [
    "trainset과 testset 준비한다.\n",
    "PyTorch를 사용하기 위해 다차원 배열인 Tensor 형태로 변환한다."
   ]
  },
  {
   "cell_type": "code",
   "execution_count": 2,
   "metadata": {
    "colab": {
     "base_uri": "https://localhost:8080/"
    },
    "executionInfo": {
     "elapsed": 22007,
     "status": "ok",
     "timestamp": 1724212718261,
     "user": {
      "displayName": "조승혁",
      "userId": "15759752471844115325"
     },
     "user_tz": -540
    },
    "id": "KAYlqPaRt6ti",
    "outputId": "67e51d96-85b4-4129-efc8-7938006afdd4"
   },
   "outputs": [],
   "source": [
    "transform = transforms.ToTensor()\n",
    "\n",
    "trainset = torchvision.datasets.CIFAR10(\n",
    "    root='./data',\n",
    "    train=True,\n",
    "    download=True,\n",
    "    transform=transform\n",
    ")\n",
    "\n",
    "testset = torchvision.datasets.CIFAR10(\n",
    "    root='./data',\n",
    "    train=False,\n",
    "    download=True,\n",
    "    transform=transform\n",
    ")\n"
   ]
  },
  {
   "cell_type": "markdown",
   "metadata": {
    "id": "p-GqH7_ZjVMs"
   },
   "source": [
    "trainset이 잘 만들어졌는지 확인하기 위해 전체 transet data의 개수와 첫 번째 data를 출력한다."
   ]
  },
  {
   "cell_type": "code",
   "execution_count": 3,
   "metadata": {
    "colab": {
     "base_uri": "https://localhost:8080/",
     "height": 481
    },
    "executionInfo": {
     "elapsed": 601,
     "status": "ok",
     "timestamp": 1724212727291,
     "user": {
      "displayName": "조승혁",
      "userId": "15759752471844115325"
     },
     "user_tz": -540
    },
    "id": "Zsp3sHmojyhT",
    "outputId": "3511bb75-e677-4fb8-894b-69e22c80f4bc"
   },
   "outputs": [
    {
     "name": "stdout",
     "output_type": "stream",
     "text": [
      "50000\n",
      "torch.Size([3, 32, 32]) 6\n"
     ]
    },
    {
     "data": {
      "text/plain": [
       "<matplotlib.image.AxesImage at 0x13f374440>"
      ]
     },
     "execution_count": 3,
     "metadata": {},
     "output_type": "execute_result"
    },
    {
     "data": {
      "image/png": "[encoded data removed]",
      "text/plain": [
       "<Figure size 640x480 with 1 Axes>"
      ]
     },
     "metadata": {},
     "output_type": "display_data"
    }
   ],
   "source": [
    "from matplotlib import pyplot as plt\n",
    "\n",
    "print(len(trainset))\n",
    "print(trainset[0][0].shape, trainset[0][1])\n",
    "plt.imshow(trainset[0][0][0], cmap='gray')"
   ]
  },
  {
   "cell_type": "markdown",
   "metadata": {
    "id": "udm8wDBsi301"
   },
   "source": [
    "SGD를 위해 dataset을 여러 개의 batch로 나눈다.\n",
    "여러 개의 batch로 나누면 데이터가 많아도 메모리가 부족하지 않게 gradient descent를 수행할 수 있다.\n",
    "SGD는 랜덤으로 batch를 구성해야 잘 동작하기 때문에 trainloader에 shuffle=True로 설정한다."
   ]
  },
  {
   "cell_type": "code",
   "execution_count": 4,
   "metadata": {
    "id": "UxKu3kA2i5WH"
   },
   "outputs": [],
   "source": [
    "batch_size = 256\n",
    "\n",
    "trainloader = torch.utils.data.DataLoader(\n",
    "    trainset,\n",
    "    batch_size=batch_size,\n",
    "    shuffle=True\n",
    ")\n",
    "\n",
    "testloader = torch.utils.data.DataLoader(\n",
    "    testset,\n",
    "    batch_size=batch_size,\n",
    "    shuffle=False\n",
    ")\n"
   ]
  },
  {
   "cell_type": "markdown",
   "metadata": {
    "id": "z4Qyrm4WlzWt"
   },
   "source": [
    "첫 번째 batch를 출력하면 다음과 같다."
   ]
  },
  {
   "cell_type": "code",
   "execution_count": 5,
   "metadata": {
    "colab": {
     "base_uri": "https://localhost:8080/"
    },
    "executionInfo": {
     "elapsed": 33,
     "status": "ok",
     "timestamp": 1723366306519,
     "user": {
      "displayName": "조승혁",
      "userId": "15759752471844115325"
     },
     "user_tz": -540
    },
    "id": "_Hd7XxyAvVNz",
    "outputId": "185acb61-2ed7-4110-b325-c0e016ca60b0"
   },
   "outputs": [
    {
     "name": "stdout",
     "output_type": "stream",
     "text": [
      "torch.Size([256, 3, 32, 32]) torch.Size([256])\n"
     ]
    }
   ],
   "source": [
    "dataiter = iter(trainloader)\n",
    "images, labels = next(dataiter)\n",
    "print(images.shape, labels.shape)"
   ]
  },
  {
   "cell_type": "markdown",
   "metadata": {},
   "source": [
    "dataloader에 대한 model의 정확도를 측정하는 코드를 추가한다."
   ]
  },
  {
   "cell_type": "code",
   "execution_count": 6,
   "metadata": {},
   "outputs": [],
   "source": [
    "def accuracy(model, dataloader):\n",
    "  cnt = 0\n",
    "  acc = 0\n",
    "\n",
    "  for data in dataloader:\n",
    "    inputs, labels = data\n",
    "    inputs, labels = inputs.to('mps'), labels.to('mps')\n",
    "\n",
    "    preds = model(inputs)\n",
    "    preds = torch.argmax(preds, dim=-1)\n",
    "\n",
    "    cnt += labels.shape[0]\n",
    "    acc += (labels == preds).sum().item()\n",
    "\n",
    "  return acc / cnt"
   ]
  },
  {
   "cell_type": "markdown",
   "metadata": {},
   "source": [
    "모델을 학습하면서 저장한 정확도를 plot으로 출력하는 함수를 선언한다."
   ]
  },
  {
   "cell_type": "code",
   "execution_count": 7,
   "metadata": {},
   "outputs": [],
   "source": [
    "def plot_acc(train_accs, test_accs, label1, label2):\n",
    "  x = np.arange(len(train_accs))\n",
    "\n",
    "  plt.plot(x, train_accs, label=label1)\n",
    "  plt.plot(x, test_accs, label=label2)\n",
    "  plt.legend()\n",
    "  plt.show()"
   ]
  },
  {
   "cell_type": "markdown",
   "metadata": {},
   "source": [
    "### SGD vs Adam"
   ]
  },
  {
   "cell_type": "markdown",
   "metadata": {},
   "source": [
    "LeakyReLU을 사용하는 3-layer MLP 모델을 구현한다. "
   ]
  },
  {
   "cell_type": "code",
   "execution_count": 8,
   "metadata": {
    "id": "OLOA-ZGTuVVG"
   },
   "outputs": [],
   "source": [
    "from torch import nn\n",
    "\n",
    "\n",
    "class Model(nn.Module):\n",
    "  def __init__(self, input_dim, n_dim):\n",
    "    super().__init__()\n",
    "\n",
    "    self.layer1 = nn.Linear(input_dim, n_dim)\n",
    "    self.layer2 = nn.Linear(n_dim, n_dim)\n",
    "    # 0~9까지 각 클래스에 대한 확률을 출력하기 위해 dimension을 10으로 설정\n",
    "    self.layer3 = nn.Linear(n_dim, 10)\n",
    "\n",
    "    self.act = nn.LeakyReLU()\n",
    "\n",
    "  def forward(self, x):\n",
    "    x = torch.flatten(x, start_dim=1)\n",
    "    x = self.act(self.layer1(x))\n",
    "    x = self.act(self.layer2(x))\n",
    "    x = self.layer3(x)\n",
    "\n",
    "    return x\n",
    "\n",
    "\n",
    "model = Model(32 * 32 * 3, 1024)"
   ]
  },
  {
   "cell_type": "markdown",
   "metadata": {
    "id": "tag1rNcwmnAr"
   },
   "source": [
    "gradient descent를 수행해줄 optimizer를 구현한다. SGD와 Adam을 사용한다."
   ]
  },
  {
   "cell_type": "code",
   "execution_count": 9,
   "metadata": {
    "id": "ypS0TcOlvBhZ"
   },
   "outputs": [],
   "source": [
    "from torch.optim import SGD, Adam\n",
    "\n",
    "lr = 0.001\n",
    "model = model.to('mps')\n",
    "\n",
    "sgd_optimizer = SGD(model.parameters(), lr=lr)\n",
    "adam_optimizer = Adam(model.parameters(), lr=lr)"
   ]
  },
  {
   "cell_type": "markdown",
   "metadata": {
    "id": "5PooeOKMnRfZ"
   },
   "source": [
    "model을 학습한다.\n",
    "SGD의 성능을 측정하기 위해 배열에 정확도를 계산하여 저장한다."
   ]
  },
  {
   "cell_type": "code",
   "execution_count": 10,
   "metadata": {
    "colab": {
     "base_uri": "https://localhost:8080/"
    },
    "executionInfo": {
     "elapsed": 786155,
     "status": "ok",
     "timestamp": 1723367093025,
     "user": {
      "displayName": "조승혁",
      "userId": "15759752471844115325"
     },
     "user_tz": -540
    },
    "id": "TryX1hewvNiB",
    "outputId": "4e4a9282-d49a-40ff-c26c-d00fb7c0af79"
   },
   "outputs": [
    {
     "name": "stdout",
     "output_type": "stream",
     "text": [
      "Epoch   0 | Loss: 450.2898955345154\n",
      "Epoch   1 | Loss: 448.2156720161438\n",
      "Epoch   2 | Loss: 446.4143657684326\n",
      "Epoch   3 | Loss: 444.6605279445648\n",
      "Epoch   4 | Loss: 442.82019305229187\n",
      "Epoch   5 | Loss: 440.80369424819946\n",
      "Epoch   6 | Loss: 438.61826181411743\n",
      "Epoch   7 | Loss: 436.2262034416199\n",
      "Epoch   8 | Loss: 433.66328024864197\n",
      "Epoch   9 | Loss: 430.9483451843262\n",
      "Epoch  10 | Loss: 428.03337717056274\n",
      "Epoch  11 | Loss: 425.02383518218994\n",
      "Epoch  12 | Loss: 422.0090298652649\n",
      "Epoch  13 | Loss: 418.96238827705383\n",
      "Epoch  14 | Loss: 416.14988017082214\n",
      "Epoch  15 | Loss: 413.4155464172363\n",
      "Epoch  16 | Loss: 410.87359714508057\n",
      "Epoch  17 | Loss: 408.44449830055237\n",
      "Epoch  18 | Loss: 406.23766922950745\n",
      "Epoch  19 | Loss: 404.1861823797226\n",
      "Epoch  20 | Loss: 402.1143682003021\n",
      "Epoch  21 | Loss: 400.2425916194916\n",
      "Epoch  22 | Loss: 398.4380189180374\n",
      "Epoch  23 | Loss: 396.70708787441254\n",
      "Epoch  24 | Loss: 395.0333775281906\n",
      "Epoch  25 | Loss: 393.52414560317993\n",
      "Epoch  26 | Loss: 392.010151386261\n",
      "Epoch  27 | Loss: 390.5066052675247\n",
      "Epoch  28 | Loss: 389.1734696626663\n",
      "Epoch  29 | Loss: 387.76223051548004\n",
      "Epoch  30 | Loss: 386.59016156196594\n",
      "Epoch  31 | Loss: 385.37001287937164\n",
      "Epoch  32 | Loss: 384.252650141716\n",
      "Epoch  33 | Loss: 383.0647351741791\n",
      "Epoch  34 | Loss: 382.0329157114029\n",
      "Epoch  35 | Loss: 380.96984124183655\n",
      "Epoch  36 | Loss: 380.020201086998\n",
      "Epoch  37 | Loss: 379.086638212204\n",
      "Epoch  38 | Loss: 378.10462045669556\n",
      "Epoch  39 | Loss: 377.25966024398804\n",
      "Epoch  40 | Loss: 376.45623338222504\n",
      "Epoch  41 | Loss: 375.58380579948425\n",
      "Epoch  42 | Loss: 374.8807817697525\n",
      "Epoch  43 | Loss: 374.0949196815491\n",
      "Epoch  44 | Loss: 373.3479105234146\n",
      "Epoch  45 | Loss: 372.63756704330444\n",
      "Epoch  46 | Loss: 371.9800953865051\n",
      "Epoch  47 | Loss: 371.2747482061386\n",
      "Epoch  48 | Loss: 370.6609855890274\n",
      "Epoch  49 | Loss: 370.0085107088089\n"
     ]
    }
   ],
   "source": [
    "criterion = nn.CrossEntropyLoss()\n",
    "n_epochs = 50\n",
    "\n",
    "sgd_train_acc_list = []\n",
    "\n",
    "for epoch in range(n_epochs):\n",
    "  total_loss = 0.\n",
    "  for data in trainloader:\n",
    "    model.zero_grad()\n",
    "    inputs, labels = data\n",
    "    inputs, labels = inputs.to('mps'), labels.to('mps')\n",
    "\n",
    "    preds = model(inputs)\n",
    "    loss = criterion(preds, labels)\n",
    "    loss.backward()\n",
    "    sgd_optimizer.step()\n",
    "\n",
    "    total_loss += loss.item()\n",
    "  sgd_train_acc_list.append(accuracy(model, trainloader))\n",
    "\n",
    "  print(f\"Epoch {epoch:3d} | Loss: {total_loss}\")"
   ]
  },
  {
   "cell_type": "markdown",
   "metadata": {},
   "source": [
    "Adam의 성능을 측정하기 위해 배열에 정확도를 계산하여 저장한다."
   ]
  },
  {
   "cell_type": "code",
   "execution_count": 11,
   "metadata": {},
   "outputs": [
    {
     "name": "stdout",
     "output_type": "stream",
     "text": [
      "Epoch   0 | Loss: 375.59930872917175\n",
      "Epoch   1 | Loss: 328.1931993961334\n",
      "Epoch   2 | Loss: 311.5235651731491\n",
      "Epoch   3 | Loss: 300.24834644794464\n",
      "Epoch   4 | Loss: 289.6552879810333\n",
      "Epoch   5 | Loss: 284.3459335565567\n",
      "Epoch   6 | Loss: 275.8207520246506\n",
      "Epoch   7 | Loss: 268.579909324646\n",
      "Epoch   8 | Loss: 264.1532646417618\n",
      "Epoch   9 | Loss: 256.9805306196213\n",
      "Epoch  10 | Loss: 253.2964287996292\n",
      "Epoch  11 | Loss: 244.6334846019745\n",
      "Epoch  12 | Loss: 240.54299747943878\n",
      "Epoch  13 | Loss: 235.8479495048523\n",
      "Epoch  14 | Loss: 231.49070888757706\n",
      "Epoch  15 | Loss: 226.51317048072815\n",
      "Epoch  16 | Loss: 221.60944360494614\n",
      "Epoch  17 | Loss: 217.3695189356804\n",
      "Epoch  18 | Loss: 212.66790974140167\n",
      "Epoch  19 | Loss: 208.49204736948013\n",
      "Epoch  20 | Loss: 203.80094194412231\n",
      "Epoch  21 | Loss: 197.64608144760132\n",
      "Epoch  22 | Loss: 195.15967321395874\n",
      "Epoch  23 | Loss: 187.4658601284027\n",
      "Epoch  24 | Loss: 184.30605572462082\n",
      "Epoch  25 | Loss: 179.63212287425995\n",
      "Epoch  26 | Loss: 174.77636522054672\n",
      "Epoch  27 | Loss: 169.72913312911987\n",
      "Epoch  28 | Loss: 166.37138229608536\n",
      "Epoch  29 | Loss: 160.24919867515564\n",
      "Epoch  30 | Loss: 155.1411918401718\n",
      "Epoch  31 | Loss: 149.91402316093445\n",
      "Epoch  32 | Loss: 146.83615189790726\n",
      "Epoch  33 | Loss: 142.2851048707962\n",
      "Epoch  34 | Loss: 136.79058343172073\n",
      "Epoch  35 | Loss: 132.75123357772827\n",
      "Epoch  36 | Loss: 125.53262493014336\n",
      "Epoch  37 | Loss: 124.32515776157379\n",
      "Epoch  38 | Loss: 118.29719215631485\n",
      "Epoch  39 | Loss: 115.65826413035393\n",
      "Epoch  40 | Loss: 112.00247949361801\n",
      "Epoch  41 | Loss: 107.10292249917984\n",
      "Epoch  42 | Loss: 103.77768447995186\n",
      "Epoch  43 | Loss: 99.7038041651249\n",
      "Epoch  44 | Loss: 97.50180968642235\n",
      "Epoch  45 | Loss: 95.32186621427536\n",
      "Epoch  46 | Loss: 91.37326109409332\n",
      "Epoch  47 | Loss: 86.86889466643333\n",
      "Epoch  48 | Loss: 83.26436278223991\n",
      "Epoch  49 | Loss: 80.94676518440247\n"
     ]
    }
   ],
   "source": [
    "criterion = nn.CrossEntropyLoss()\n",
    "n_epochs = 50\n",
    "\n",
    "adam_train_acc_list = []\n",
    "adam_test_acc_list = []\n",
    "\n",
    "for epoch in range(n_epochs):\n",
    "  total_loss = 0.\n",
    "  for data in trainloader:\n",
    "    model.zero_grad()\n",
    "    inputs, labels = data\n",
    "    inputs, labels = inputs.to('mps'), labels.to('mps')\n",
    "\n",
    "    preds = model(inputs)\n",
    "    loss = criterion(preds, labels)\n",
    "    loss.backward()\n",
    "    adam_optimizer.step()\n",
    "\n",
    "    total_loss += loss.item()\n",
    "  adam_train_acc_list.append(accuracy(model, trainloader))\n",
    "  adam_test_acc_list.append(accuracy(model, testloader))\n",
    "  print(f\"Epoch {epoch:3d} | Loss: {total_loss}\")"
   ]
  },
  {
   "cell_type": "markdown",
   "metadata": {},
   "source": [
    "SGD와 Adam의 성능을 비교한다."
   ]
  },
  {
   "cell_type": "code",
   "execution_count": 12,
   "metadata": {},
   "outputs": [
    {
     "data": {
      "image/png": "[encoded data removed]",
      "text/plain": [
       "<Figure size 640x480 with 1 Axes>"
      ]
     },
     "metadata": {},
     "output_type": "display_data"
    }
   ],
   "source": [
    "plot_acc(sgd_train_acc_list, adam_train_acc_list, 'SGD_train', 'Adam_train')"
   ]
  },
  {
   "cell_type": "markdown",
   "metadata": {},
   "source": [
    "### LeakyReLU vs Sigmoid"
   ]
  },
  {
   "cell_type": "markdown",
   "metadata": {},
   "source": [
    "LeakyReLU 모델을 구현한다."
   ]
  },
  {
   "cell_type": "code",
   "execution_count": 13,
   "metadata": {},
   "outputs": [],
   "source": [
    "from torch import nn\n",
    "\n",
    "\n",
    "class ModelWithLeakyReLU(nn.Module):\n",
    "  def __init__(self, input_dim, n_dim):\n",
    "    super().__init__()\n",
    "\n",
    "    self.layer1 = nn.Linear(input_dim, n_dim)\n",
    "    self.layer2 = nn.Linear(n_dim, n_dim)\n",
    "    # 0~9까지 각 클래스에 대한 확률을 출력하기 위해 dimension을 10으로 설정\n",
    "    self.layer3 = nn.Linear(n_dim, 10)\n",
    "\n",
    "    self.act = nn.LeakyReLU()\n",
    "\n",
    "  def forward(self, x):\n",
    "    x = torch.flatten(x, start_dim=1)\n",
    "    x = self.act(self.layer1(x))\n",
    "    x = self.act(self.layer2(x))\n",
    "    x = self.layer3(x)\n",
    "\n",
    "    return x\n",
    "\n",
    "\n",
    "model_with_leaky_relu = ModelWithLeakyReLU(32 * 32 * 3, 1024)"
   ]
  },
  {
   "cell_type": "markdown",
   "metadata": {},
   "source": [
    "Sigmoid 모델을 구현한다."
   ]
  },
  {
   "cell_type": "code",
   "execution_count": 14,
   "metadata": {},
   "outputs": [],
   "source": [
    "from torch import nn\n",
    "\n",
    "class ModelWithSigmoid(nn.Module):\n",
    "  def __init__(self, input_dim, n_dim):\n",
    "    super().__init__()\n",
    "\n",
    "    self.layer1 = nn.Linear(input_dim, n_dim)\n",
    "    self.layer2 = nn.Linear(n_dim, n_dim)\n",
    "    # 0~9까지 각 클래스에 대한 확률을 출력하기 위해 dimension을 10으로 설정\n",
    "    self.layer3 = nn.Linear(n_dim, 10)\n",
    "\n",
    "    self.act = nn.Sigmoid()\n",
    "\n",
    "  def forward(self, x):\n",
    "    x = torch.flatten(x, start_dim=1)\n",
    "    x = self.act(self.layer1(x))\n",
    "    x = self.act(self.layer2(x))\n",
    "    x = self.layer3(x)\n",
    "\n",
    "    return x\n",
    "\n",
    "\n",
    "model_with_sigmoid = ModelWithSigmoid(32 * 32 * 3, 1024)"
   ]
  },
  {
   "cell_type": "markdown",
   "metadata": {},
   "source": [
    "gradient descent를 수행해줄 optimizer를 구현한다. Adam을 사용한다."
   ]
  },
  {
   "cell_type": "code",
   "execution_count": 15,
   "metadata": {},
   "outputs": [],
   "source": [
    "from torch.optim import SGD, Adam\n",
    "\n",
    "lr = 0.001\n",
    "model_with_leaky_relu = model_with_leaky_relu.to('mps')\n",
    "model_with_sigmoid = model_with_sigmoid.to('mps')\n",
    "\n",
    "leaky_relu_optimizer = Adam(model_with_leaky_relu.parameters(), lr=lr)\n",
    "sigmoid_optimizer = Adam(model_with_sigmoid.parameters(), lr=lr)"
   ]
  },
  {
   "cell_type": "markdown",
   "metadata": {},
   "source": [
    "LeakyReLU 모델을 학습한다."
   ]
  },
  {
   "cell_type": "code",
   "execution_count": 16,
   "metadata": {},
   "outputs": [
    {
     "name": "stdout",
     "output_type": "stream",
     "text": [
      "Epoch   0 | Loss: 366.5918719768524\n",
      "Epoch   1 | Loss: 324.9435832500458\n",
      "Epoch   2 | Loss: 308.04026985168457\n",
      "Epoch   3 | Loss: 294.34598910808563\n",
      "Epoch   4 | Loss: 286.08939003944397\n",
      "Epoch   5 | Loss: 279.07122457027435\n",
      "Epoch   6 | Loss: 271.78538608551025\n",
      "Epoch   7 | Loss: 264.5837889909744\n",
      "Epoch   8 | Loss: 258.61038041114807\n",
      "Epoch   9 | Loss: 252.97483897209167\n",
      "Epoch  10 | Loss: 247.17654359340668\n",
      "Epoch  11 | Loss: 241.95385938882828\n",
      "Epoch  12 | Loss: 237.59200966358185\n",
      "Epoch  13 | Loss: 230.62823128700256\n",
      "Epoch  14 | Loss: 224.6441993713379\n",
      "Epoch  15 | Loss: 221.06314808130264\n",
      "Epoch  16 | Loss: 216.51463478803635\n",
      "Epoch  17 | Loss: 209.17531949281693\n",
      "Epoch  18 | Loss: 204.59889596700668\n",
      "Epoch  19 | Loss: 197.99319887161255\n",
      "Epoch  20 | Loss: 193.27585822343826\n",
      "Epoch  21 | Loss: 188.05669432878494\n",
      "Epoch  22 | Loss: 184.7066587805748\n",
      "Epoch  23 | Loss: 178.74841213226318\n",
      "Epoch  24 | Loss: 173.30557656288147\n",
      "Epoch  25 | Loss: 166.23808974027634\n",
      "Epoch  26 | Loss: 161.4167799949646\n",
      "Epoch  27 | Loss: 158.42976224422455\n",
      "Epoch  28 | Loss: 150.4241350889206\n",
      "Epoch  29 | Loss: 146.5220769047737\n",
      "Epoch  30 | Loss: 141.3125501871109\n",
      "Epoch  31 | Loss: 136.56488144397736\n",
      "Epoch  32 | Loss: 131.52064511179924\n",
      "Epoch  33 | Loss: 127.35168558359146\n",
      "Epoch  34 | Loss: 122.12653157114983\n",
      "Epoch  35 | Loss: 118.39155203104019\n",
      "Epoch  36 | Loss: 112.3326712846756\n",
      "Epoch  37 | Loss: 108.73867958784103\n",
      "Epoch  38 | Loss: 102.22967448830605\n",
      "Epoch  39 | Loss: 100.10250464081764\n",
      "Epoch  40 | Loss: 95.26960062980652\n",
      "Epoch  41 | Loss: 90.89670211076736\n",
      "Epoch  42 | Loss: 87.60110667347908\n",
      "Epoch  43 | Loss: 86.5613223016262\n",
      "Epoch  44 | Loss: 80.94098657369614\n",
      "Epoch  45 | Loss: 79.65383511781693\n",
      "Epoch  46 | Loss: 74.41126219928265\n",
      "Epoch  47 | Loss: 71.07380735874176\n",
      "Epoch  48 | Loss: 70.71460522711277\n",
      "Epoch  49 | Loss: 66.83690267801285\n"
     ]
    }
   ],
   "source": [
    "criterion = nn.CrossEntropyLoss()\n",
    "n_epochs = 50\n",
    "\n",
    "leaky_relu_train_acc_list = []\n",
    "\n",
    "for epoch in range(n_epochs):\n",
    "  total_loss = 0.\n",
    "  for data in trainloader:\n",
    "    model_with_leaky_relu.zero_grad()\n",
    "    inputs, labels = data\n",
    "    inputs, labels = inputs.to('mps'), labels.to('mps')\n",
    "\n",
    "    preds = model_with_leaky_relu(inputs)\n",
    "    loss = criterion(preds, labels)\n",
    "    loss.backward()\n",
    "    leaky_relu_optimizer.step()\n",
    "\n",
    "    total_loss += loss.item()\n",
    "  leaky_relu_train_acc_list.append(accuracy(model_with_leaky_relu, trainloader))\n",
    "\n",
    "  print(f\"Epoch {epoch:3d} | Loss: {total_loss}\")"
   ]
  },
  {
   "cell_type": "markdown",
   "metadata": {},
   "source": [
    "Sigmoid 모델을 학습한다.\n",
    "Sigmoid는 모든 입력값을 0과 1 사이로 압축한다."
   ]
  },
  {
   "cell_type": "code",
   "execution_count": 17,
   "metadata": {},
   "outputs": [
    {
     "name": "stdout",
     "output_type": "stream",
     "text": [
      "Epoch   0 | Loss: 387.1187787055969\n",
      "Epoch   1 | Loss: 338.52922105789185\n",
      "Epoch   2 | Loss: 320.46667313575745\n",
      "Epoch   3 | Loss: 308.71701288223267\n",
      "Epoch   4 | Loss: 299.10929012298584\n",
      "Epoch   5 | Loss: 292.0453370809555\n",
      "Epoch   6 | Loss: 284.855175614357\n",
      "Epoch   7 | Loss: 278.4482568502426\n",
      "Epoch   8 | Loss: 273.6160749197006\n",
      "Epoch   9 | Loss: 269.22095143795013\n",
      "Epoch  10 | Loss: 266.00673472881317\n",
      "Epoch  11 | Loss: 261.3293846845627\n",
      "Epoch  12 | Loss: 257.19293320178986\n",
      "Epoch  13 | Loss: 252.4950169324875\n",
      "Epoch  14 | Loss: 249.70545995235443\n",
      "Epoch  15 | Loss: 245.09141218662262\n",
      "Epoch  16 | Loss: 241.30354952812195\n",
      "Epoch  17 | Loss: 239.3215502500534\n",
      "Epoch  18 | Loss: 235.28938853740692\n",
      "Epoch  19 | Loss: 230.48440670967102\n",
      "Epoch  20 | Loss: 227.92923206090927\n",
      "Epoch  21 | Loss: 224.30266666412354\n",
      "Epoch  22 | Loss: 221.37051379680634\n",
      "Epoch  23 | Loss: 219.73735505342484\n",
      "Epoch  24 | Loss: 215.20648658275604\n",
      "Epoch  25 | Loss: 212.01117795705795\n",
      "Epoch  26 | Loss: 209.94980013370514\n",
      "Epoch  27 | Loss: 205.93009668588638\n",
      "Epoch  28 | Loss: 201.82850795984268\n",
      "Epoch  29 | Loss: 199.00261962413788\n",
      "Epoch  30 | Loss: 197.191998898983\n",
      "Epoch  31 | Loss: 194.0051225423813\n",
      "Epoch  32 | Loss: 190.82721614837646\n",
      "Epoch  33 | Loss: 187.3459194302559\n",
      "Epoch  34 | Loss: 184.86703836917877\n",
      "Epoch  35 | Loss: 183.07085126638412\n",
      "Epoch  36 | Loss: 179.61977684497833\n",
      "Epoch  37 | Loss: 175.22437864542007\n",
      "Epoch  38 | Loss: 172.63303714990616\n",
      "Epoch  39 | Loss: 172.70210713148117\n",
      "Epoch  40 | Loss: 167.03683495521545\n",
      "Epoch  41 | Loss: 164.35109609365463\n",
      "Epoch  42 | Loss: 160.636212348938\n",
      "Epoch  43 | Loss: 160.02189749479294\n",
      "Epoch  44 | Loss: 157.27432131767273\n",
      "Epoch  45 | Loss: 153.59058088064194\n",
      "Epoch  46 | Loss: 149.99378073215485\n",
      "Epoch  47 | Loss: 150.7334741950035\n",
      "Epoch  48 | Loss: 146.7749142050743\n",
      "Epoch  49 | Loss: 142.86195248365402\n"
     ]
    }
   ],
   "source": [
    "criterion = nn.CrossEntropyLoss()\n",
    "n_epochs = 50\n",
    "\n",
    "sigmoid_train_acc_list = []\n",
    "\n",
    "for epoch in range(n_epochs):\n",
    "  total_loss = 0.\n",
    "  for data in trainloader:\n",
    "    model_with_sigmoid.zero_grad()\n",
    "    inputs, labels = data\n",
    "    inputs, labels = inputs.to('mps'), labels.to('mps')\n",
    "\n",
    "    preds = model_with_sigmoid(inputs)\n",
    "    loss = criterion(preds, labels)\n",
    "    loss.backward()\n",
    "    sigmoid_optimizer.step()\n",
    "\n",
    "    total_loss += loss.item()\n",
    "  sigmoid_train_acc_list.append(accuracy(model_with_sigmoid, trainloader))\n",
    "\n",
    "  print(f\"Epoch {epoch:3d} | Loss: {total_loss}\")"
   ]
  },
  {
   "cell_type": "markdown",
   "metadata": {},
   "source": [
    "LeakyReLU와 Sigmoid의 성능을 비교한다."
   ]
  },
  {
   "cell_type": "code",
   "execution_count": 18,
   "metadata": {},
   "outputs": [
    {
     "data": {
      "image/png": "[encoded data removed]",
      "text/plain": [
       "<Figure size 640x480 with 1 Axes>"
      ]
     },
     "metadata": {},
     "output_type": "display_data"
    }
   ],
   "source": [
    "plot_acc(leaky_relu_train_acc_list, sigmoid_train_acc_list, 'LeakyReLU_train', 'Sigmoid_train')"
   ]
  },
  {
   "cell_type": "markdown",
   "metadata": {},
   "source": [
    "Sigmoid는 조금 더 완만하게 변화하고, LeakyReLU는 조금 더 급격하게 변화한다."
   ]
  },
  {
   "cell_type": "markdown",
   "metadata": {},
   "source": [
    "### Dropout\n",
    "Dropout 모델을 구현한다."
   ]
  },
  {
   "cell_type": "code",
   "execution_count": 19,
   "metadata": {},
   "outputs": [],
   "source": [
    "from torch import nn\n",
    "\n",
    "class ModelWithDropout(nn.Module):\n",
    "  def __init__(self, input_dim, n_dim):\n",
    "    super().__init__()\n",
    "\n",
    "    self.layer1 = nn.Linear(input_dim, n_dim)\n",
    "    self.layer2 = nn.Linear(n_dim, n_dim)\n",
    "    self.layer3 = nn.Linear(n_dim, 10)\n",
    "\n",
    "    self.act = nn.LeakyReLU()\n",
    "    self.dropout = nn.Dropout(p=0.1)\n",
    "\n",
    "  def forward(self, x):\n",
    "    x = torch.flatten(x, start_dim=1)\n",
    "    x = self.dropout(self.act(self.layer1(x)))\n",
    "    x = self.dropout(self.act(self.layer2(x)))\n",
    "    x = self.layer3(x)\n",
    "\n",
    "    return x\n",
    "\n",
    "\n",
    "model_with_dropout = ModelWithDropout(32 * 32 * 3, 1024)"
   ]
  },
  {
   "cell_type": "code",
   "execution_count": 20,
   "metadata": {},
   "outputs": [],
   "source": [
    "from torch.optim import Adam\n",
    "\n",
    "lr = 0.001\n",
    "model_with_dropout = model_with_dropout.to('mps')\n",
    "\n",
    "optimizer = Adam(model_with_dropout.parameters(), lr=lr)"
   ]
  },
  {
   "cell_type": "code",
   "execution_count": 21,
   "metadata": {},
   "outputs": [
    {
     "name": "stdout",
     "output_type": "stream",
     "text": [
      "Epoch   0 | Loss: 369.78960847854614\n",
      "Epoch   1 | Loss: 331.577011346817\n",
      "Epoch   2 | Loss: 315.49702048301697\n",
      "Epoch   3 | Loss: 304.41384720802307\n",
      "Epoch   4 | Loss: 297.7803919315338\n",
      "Epoch   5 | Loss: 291.1958314180374\n",
      "Epoch   6 | Loss: 285.02668964862823\n",
      "Epoch   7 | Loss: 280.2770208120346\n",
      "Epoch   8 | Loss: 274.36386585235596\n",
      "Epoch   9 | Loss: 271.12227642536163\n",
      "Epoch  10 | Loss: 266.834166765213\n",
      "Epoch  11 | Loss: 263.086571931839\n",
      "Epoch  12 | Loss: 258.0477646589279\n",
      "Epoch  13 | Loss: 254.30087411403656\n",
      "Epoch  14 | Loss: 252.32765364646912\n",
      "Epoch  15 | Loss: 245.87661921977997\n",
      "Epoch  16 | Loss: 244.36605441570282\n",
      "Epoch  17 | Loss: 240.5954874753952\n",
      "Epoch  18 | Loss: 237.30045008659363\n",
      "Epoch  19 | Loss: 236.26080667972565\n",
      "Epoch  20 | Loss: 231.506478369236\n",
      "Epoch  21 | Loss: 228.46710485219955\n",
      "Epoch  22 | Loss: 226.0004540681839\n",
      "Epoch  23 | Loss: 222.8453950881958\n",
      "Epoch  24 | Loss: 221.16080504655838\n",
      "Epoch  25 | Loss: 218.47845941781998\n",
      "Epoch  26 | Loss: 215.26164323091507\n",
      "Epoch  27 | Loss: 210.94878715276718\n",
      "Epoch  28 | Loss: 207.57644087076187\n",
      "Epoch  29 | Loss: 205.90901690721512\n",
      "Epoch  30 | Loss: 202.35692936182022\n",
      "Epoch  31 | Loss: 201.07044571638107\n",
      "Epoch  32 | Loss: 197.0510739684105\n",
      "Epoch  33 | Loss: 193.89806252717972\n",
      "Epoch  34 | Loss: 193.93126344680786\n",
      "Epoch  35 | Loss: 191.13703668117523\n",
      "Epoch  36 | Loss: 186.6065502166748\n",
      "Epoch  37 | Loss: 188.28678214550018\n",
      "Epoch  38 | Loss: 181.97220259904861\n",
      "Epoch  39 | Loss: 179.89746743440628\n",
      "Epoch  40 | Loss: 179.23704278469086\n",
      "Epoch  41 | Loss: 175.38995188474655\n",
      "Epoch  42 | Loss: 171.81148207187653\n",
      "Epoch  43 | Loss: 171.63281953334808\n",
      "Epoch  44 | Loss: 167.89390397071838\n",
      "Epoch  45 | Loss: 166.3725882768631\n",
      "Epoch  46 | Loss: 165.05059057474136\n",
      "Epoch  47 | Loss: 163.42562985420227\n",
      "Epoch  48 | Loss: 163.42227411270142\n",
      "Epoch  49 | Loss: 159.45356279611588\n"
     ]
    }
   ],
   "source": [
    "criterion = nn.CrossEntropyLoss()\n",
    "n_epochs = 50\n",
    "\n",
    "dropout_train_acc_list = []\n",
    "dropout_test_acc_list = []\n",
    "\n",
    "for epoch in range(n_epochs):\n",
    "  total_loss = 0.\n",
    "  model.train()\n",
    "  for data in trainloader:\n",
    "    model_with_dropout.zero_grad()\n",
    "    inputs, labels = data\n",
    "    inputs, labels = inputs.to('mps'), labels.to('mps')\n",
    "\n",
    "    preds = model_with_dropout(inputs)\n",
    "    loss = criterion(preds, labels)\n",
    "    loss.backward()\n",
    "    optimizer.step()\n",
    "\n",
    "    total_loss += loss.item()\n",
    "\n",
    "  with torch.no_grad():\n",
    "    model.eval()\n",
    "    dropout_train_acc_list.append(accuracy(model, trainloader))\n",
    "    dropout_test_acc_list.append(accuracy(model, testloader))\n",
    "\n",
    "  print(f\"Epoch {epoch:3d} | Loss: {total_loss}\")"
   ]
  },
  {
   "cell_type": "code",
   "execution_count": 22,
   "metadata": {},
   "outputs": [
    {
     "data": {
      "image/png": "[encoded data removed]",
      "text/plain": [
       "<Figure size 640x480 with 1 Axes>"
      ]
     },
     "metadata": {},
     "output_type": "display_data"
    }
   ],
   "source": [
    "plot_acc(adam_train_acc_list, adam_test_acc_list, 'Adam_train', 'Adam_test')"
   ]
  },
  {
   "cell_type": "code",
   "execution_count": 23,
   "metadata": {},
   "outputs": [
    {
     "data": {
      "image/png": "[encoded data removed]",
      "text/plain": [
       "<Figure size 640x480 with 1 Axes>"
      ]
     },
     "metadata": {},
     "output_type": "display_data"
    }
   ],
   "source": [
    "plot_acc(dropout_train_acc_list, dropout_test_acc_list, 'Dropout_train', 'Dropout_test')"
   ]
  }
 ],
 "metadata": {
  "accelerator": "GPU",
  "colab": {
   "authorship_tag": "ABX9TyOz7vBAsZ4WYLph4xp9q2ee",
   "gpuType": "T4",
   "provenance": []
  },
  "kernelspec": {
   "display_name": "Python (welcomedl)",
   "language": "python",
   "name": "welcomedl"
  },
  "language_info": {
   "codemirror_mode": {
    "name": "ipython",
    "version": 3
   },
   "file_extension": ".py",
   "mimetype": "text/x-python",
   "name": "python",
   "nbconvert_exporter": "python",
   "pygments_lexer": "ipython3",
   "version": "3.12.9"
  }
 },
 "nbformat": 4,
 "nbformat_minor": 0
}
