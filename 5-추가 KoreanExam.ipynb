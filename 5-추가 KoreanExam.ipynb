{
 "cells": [
  {
   "cell_type": "markdown",
   "metadata": {
    "collapsed": false,
    "id": "4j2qvrRCkUUr"
   },
   "source": [
    "# 수능 국어 문제 GPT-4로 풀어보기"
   ]
  },
  {
   "cell_type": "markdown",
   "metadata": {
    "collapsed": false,
    "id": "axM5e3LdkUUs"
   },
   "source": [
    "# JSON Data 로드 및 확인"
   ]
  },
  {
   "cell_type": "code",
   "execution_count": null,
   "metadata": {
    "collapsed": true,
    "id": "jA_Y-rvhkUUt",
    "outputId": "a6b2c340-b9d3-4ae4-c706-7852d6fc7fc9"
   },
   "outputs": [
    {
     "name": "stdout",
     "output_type": "stream",
     "text": [
      "11\n"
     ]
    },
    {
     "data": {
      "text/html": [
       "<div>\n",
       "<style scoped>\n",
       "    .dataframe tbody tr th:only-of-type {\n",
       "        vertical-align: middle;\n",
       "    }\n",
       "\n",
       "    .dataframe tbody tr th {\n",
       "        vertical-align: top;\n",
       "    }\n",
       "\n",
       "    .dataframe thead th {\n",
       "        text-align: right;\n",
       "    }\n",
       "</style>\n",
       "<table border=\"1\" class=\"dataframe\">\n",
       "  <thead>\n",
       "    <tr style=\"text-align: right;\">\n",
       "      <th></th>\n",
       "      <th>id</th>\n",
       "      <th>paragraph</th>\n",
       "      <th>type</th>\n",
       "      <th>problems</th>\n",
       "    </tr>\n",
       "  </thead>\n",
       "  <tbody>\n",
       "    <tr>\n",
       "      <th>0</th>\n",
       "      <td>2023_11_KICE_1-3</td>\n",
       "      <td>사람들이 지속적으로 책을 읽는 이유 중 하나는 즐거움이다. 독서의 즐거움에는 여러 ...</td>\n",
       "      <td>0</td>\n",
       "      <td>[{'question': '윗글의 내용과 일치하지 않는 것은?', 'choices'...</td>\n",
       "    </tr>\n",
       "    <tr>\n",
       "      <th>1</th>\n",
       "      <td>2023_11_KICE_4-9</td>\n",
       "      <td>(가)[A](중국에서 비롯된 유서(類書)는 고금의 서적에서 자료를 수집하고 항목별로...</td>\n",
       "      <td>0</td>\n",
       "      <td>[{'question': '(가)와 (나)에 대한 설명으로 가장 적절한 것은?', ...</td>\n",
       "    </tr>\n",
       "    <tr>\n",
       "      <th>2</th>\n",
       "      <td>2023_11_KICE_10-13</td>\n",
       "      <td>법령의 조문은 대개 ‘A에 해당하면 B를 해야 한다.’처럼 요건과효과로 구성된 조건...</td>\n",
       "      <td>0</td>\n",
       "      <td>[{'question': '윗글의 내용과 일치하지 않는 것은?', 'choices'...</td>\n",
       "    </tr>\n",
       "    <tr>\n",
       "      <th>3</th>\n",
       "      <td>2023_11_KICE_14-17</td>\n",
       "      <td>하루에 필요한 에너지의 양은 하루 동안의 총 열량 소모량인 대사량으로 구한다. 그중...</td>\n",
       "      <td>0</td>\n",
       "      <td>[{'question': '윗글의 내용과 일치하지 않는 것은?', 'choices'...</td>\n",
       "    </tr>\n",
       "    <tr>\n",
       "      <th>4</th>\n",
       "      <td>2023_11_KICE_18-21</td>\n",
       "      <td>혼례를 마친 후 최척이 아내와 함께 장모를 모시고 집으로 돌아오매 하인들이 기뻐했다...</td>\n",
       "      <td>1</td>\n",
       "      <td>[{'question': '윗글에 대한 설명으로 가장 적절한 것은?', 'choic...</td>\n",
       "    </tr>\n",
       "  </tbody>\n",
       "</table>\n",
       "</div>"
      ],
      "text/plain": [
       "                   id                                          paragraph  \\\n",
       "0    2023_11_KICE_1-3  사람들이 지속적으로 책을 읽는 이유 중 하나는 즐거움이다. 독서의 즐거움에는 여러 ...   \n",
       "1    2023_11_KICE_4-9  (가)[A](중국에서 비롯된 유서(類書)는 고금의 서적에서 자료를 수집하고 항목별로...   \n",
       "2  2023_11_KICE_10-13  법령의 조문은 대개 ‘A에 해당하면 B를 해야 한다.’처럼 요건과효과로 구성된 조건...   \n",
       "3  2023_11_KICE_14-17  하루에 필요한 에너지의 양은 하루 동안의 총 열량 소모량인 대사량으로 구한다. 그중...   \n",
       "4  2023_11_KICE_18-21  혼례를 마친 후 최척이 아내와 함께 장모를 모시고 집으로 돌아오매 하인들이 기뻐했다...   \n",
       "\n",
       "   type                                           problems  \n",
       "0     0  [{'question': '윗글의 내용과 일치하지 않는 것은?', 'choices'...  \n",
       "1     0  [{'question': '(가)와 (나)에 대한 설명으로 가장 적절한 것은?', ...  \n",
       "2     0  [{'question': '윗글의 내용과 일치하지 않는 것은?', 'choices'...  \n",
       "3     0  [{'question': '윗글의 내용과 일치하지 않는 것은?', 'choices'...  \n",
       "4     1  [{'question': '윗글에 대한 설명으로 가장 적절한 것은?', 'choic...  "
      ]
     },
     "execution_count": 250,
     "metadata": {},
     "output_type": "execute_result"
    }
   ],
   "source": [
    "import pandas as pd\n",
    "\n",
    "json_data = pd.read_json('./data/2023_11_KICE.json')\n",
    "print(len(json_data))\n",
    "json_data.head()"
   ]
  },
  {
   "cell_type": "code",
   "execution_count": null,
   "metadata": {
    "id": "l9YYXbwNkUUu",
    "outputId": "2df30281-3ce1-433c-b4ed-5388115a0c71"
   },
   "outputs": [
    {
     "name": "stdout",
     "output_type": "stream",
     "text": [
      "<class 'pandas.core.frame.DataFrame'>\n",
      "RangeIndex: 11 entries, 0 to 10\n",
      "Data columns (total 4 columns):\n",
      " #   Column     Non-Null Count  Dtype \n",
      "---  ------     --------------  ----- \n",
      " 0   id         11 non-null     object\n",
      " 1   paragraph  11 non-null     object\n",
      " 2   type       11 non-null     int64 \n",
      " 3   problems   11 non-null     object\n",
      "dtypes: int64(1), object(3)\n",
      "memory usage: 480.0+ bytes\n"
     ]
    }
   ],
   "source": [
    "json_data.info()"
   ]
  },
  {
   "cell_type": "markdown",
   "metadata": {
    "collapsed": false,
    "id": "-HrFGm7jkUUu"
   },
   "source": [
    "# 클래스 활용 데이터 전처리"
   ]
  },
  {
   "cell_type": "code",
   "execution_count": null,
   "metadata": {},
   "outputs": [],
   "source": [
    "import json\n",
    "\n",
    "class Problem:\n",
    "    _number = 0\n",
    "\n",
    "    def __init__(self, data, paragraph=None):\n",
    "        if 'number' in data:\n",
    "            self.number = data['number']\n",
    "        else:\n",
    "            Problem._number += 1\n",
    "            self.number = Problem._number\n",
    "\n",
    "        self.paragraph = data['paragraph'] if 'paragraph' in data else paragraph\n",
    "        self.question_plus = data['question_plus'] if 'question_plus' in data else ''\n",
    "        self.question = data['question']\n",
    "        self.choices = data['choices']\n",
    "        self.answer = data['answer']\n",
    "        self.score = data['score']\n",
    "\n",
    "    def check(self, label):\n",
    "        return self.score if int(label) == int(self.answer) else 0\n",
    "\n",
    "    def to_json(self):\n",
    "        problem_dict = {\n",
    "            \"number\": self.number,\n",
    "            \"paragraph\": self.paragraph,\n",
    "            \"question_plus\": self.question_plus,\n",
    "            \"question\": self.question,\n",
    "            \"choices\": self.choices,\n",
    "            \"answer\": self.answer,\n",
    "            \"score\": self.score\n",
    "        }\n",
    "\n",
    "        return json.dumps(problem_dict, ensure_ascii=False, indent=4)\n",
    "\n",
    "    def __str__(self):\n",
    "        return self.question"
   ]
  },
  {
   "cell_type": "code",
   "execution_count": null,
   "metadata": {
    "id": "XPrn51jikUUu"
   },
   "outputs": [],
   "source": [
    "class Paragraph:\n",
    "    def __init__(self, data):\n",
    "        self.id        = data['id']\n",
    "        self.paragraph = data['paragraph']\n",
    "        self.type      = data['type']\n",
    "        self.problems  = []\n",
    "\n",
    "        self._parse_problems(data['problems'])\n",
    "\n",
    "    def _parse_problems(self, data_list):\n",
    "        for data in data_list:\n",
    "            problem = Problem(data, self.paragraph)\n",
    "            self.problems.append(problem)\n",
    "\n",
    "    def __str__(self):\n",
    "        lines = f'Paragraph({self.id}): type({self.type})'\n",
    "        for problem in self.problems:\n",
    "            lines += f'\\n\\t- {problem.number}) {problem}'\n",
    "        return lines"
   ]
  },
  {
   "cell_type": "code",
   "execution_count": null,
   "metadata": {
    "id": "7Q8KMbnZkUUv",
    "outputId": "443a2f0a-7eee-4fde-bda1-511908764413"
   },
   "outputs": [
    {
     "name": "stdout",
     "output_type": "stream",
     "text": [
      "Paragraph(2023_11_KICE_1-3): type(0)\n",
      "\t- 1) 윗글의 내용과 일치하지 않는 것은?\n",
      "\t- 2) 다음은 학생이 독서 후 작성한 글의 일부이다. [A]를 바탕으로 ⓐ～ⓔ를 이해한 내용으로 가장 적절한 것은?\n",
      "\t- 3) 윗글을 읽고 ㉠에 대해 보인 반응으로 적절하지 않은 것은?\n",
      "Paragraph(2023_11_KICE_4-9): type(0)\n",
      "\t- 4) (가)와 (나)에 대한 설명으로 가장 적절한 것은?\n",
      "\t- 5) [A]에 대한 이해로 적절하지 않은 것은?\n",
      "\t- 6) ㉮에 대한 이해를 바탕으로 ㉠, ㉡에 대해 파악한 내용으로 적절하지 않은 것은?\n",
      "\t- 7) ㉯를 반박하기 위한 ‘이수광’의 말로 가장 적절한 것은?\n",
      "\t- 8) (가), (나)를 읽은 학생이 <보기>의 임원경제지에 대해 보인 반응으로 적절하지 않은 것은?\n",
      "\t- 9) 문맥상 ⓐ～ⓔ와 바꾸어 쓰기에 적절하지 않은 것은?\n",
      "Paragraph(2023_11_KICE_10-13): type(0)\n",
      "\t- 10) 윗글의 내용과 일치하지 않는 것은?\n",
      "\t- 11) ㉠에 대한 이해로 가장 적절한 것은?\n",
      "\t- 12) 윗글을 바탕으로 <보기>를 이해한 내용으로 가장 적절한 것은? [3점]\n",
      "\t- 13) 문맥상 ⓐ～ⓔ의 의미와 가장 가까운 것은?\n",
      "Paragraph(2023_11_KICE_14-17): type(0)\n",
      "\t- 14) 윗글의 내용과 일치하지 않는 것은?\n",
      "\t- 15) 윗글을 읽고 추론한 내용으로 적절하지 않은 것은?\n",
      "\t- 16) ㉠, ㉡에 대한 이해로 가장 적절한 것은?\n",
      "\t- 17) 윗글을 바탕으로 <보기>를 탐구한 내용으로 가장 적절한 것은?\n",
      "Paragraph(2023_11_KICE_18-21): type(1)\n",
      "\t- 18) 윗글에 대한 설명으로 가장 적절한 것은?\n",
      "\t- 19) 윗글의 인물에 대한 이해로 적절하지 않은 것은?\n",
      "\t- 20) ㉠～㉤에 대한 이해로 가장 적절한 것은?\n",
      "\t- 21) <보기>를 바탕으로 윗글을 감상한 내용으로 적절하지 않은것은?\n",
      "Paragraph(2023_11_KICE_22-26): type(1)\n",
      "\t- 22) (가)～(다)의 공통점으로 가장 적절한 것은?\n",
      "\t- 23) [A], [B]에 대한 설명으로 적절하지 않은 것은?\n",
      "\t- 24) <보기>를 바탕으로 (가), (나)를 이해한 내용으로 적절하지 않은 것은?\n",
      "\t- 25) ㉠과 ㉡을 이해한 내용으로 가장 적절한 것은?\n",
      "\t- 26) <보기>를 바탕으로 [C]를 읽은 독자의 반응으로 적절하지 않은 것은?\n",
      "Paragraph(2023_11_KICE_27-30): type(1)\n",
      "\t- 27) 윗글에 대한 이해로 가장 적절한 것은?\n",
      "\t- 28) [A]～[E]의 서술 방식에 대한 설명으로 적절하지 않은 것은?\n",
      "\t- 29) 윗글의 ‘오동나무’에 대한 이해로 가장 적절한 것은?\n",
      "\t- 30)  <보기>를 바탕으로 윗글을 감상한 내용으로 적절하지 않은 것은?\n",
      "Paragraph(2023_11_KICE_31-34): type(1)\n",
      "\t- 31) (가)와 (나)의 공통점으로 가장 적절한 것은?\n",
      "\t- 32) ㉠～㉤의 시적 기능에 대한 설명으로 적절하지 않은 것은?\n",
      "\t- 33) [A]～[F]에 대한 이해로 가장 적절한 것은?\n",
      "\t- 34) <보기>를 바탕으로 (가)와 (나)를 감상한 내용으로 적절하지 않은 것은? \n",
      "Paragraph(2023_11_KICE_35-37): type(2)\n",
      "\t- 35) 위 발표자의 말하기 방식으로 적절하지 않은 것은?\n",
      "\t- 36) 다음은 발표자가 제시한 자료이다. 발표자의 자료 활용에 대한 설명으로 가장 적절한 것은?\n",
      "\t- 37) 발표 내용을 바탕으로 할 때, <보기>에 나타난 학생들의 반응에 대한 이해로 가장 적절한 것은?\n",
      "Paragraph(2023_11_KICE_38-42): type(2)\n",
      "\t- 38) (가)에 활용된 글쓰기 방식으로 가장 적절한 것은?\n",
      "\t- 39) <보기>는 (가)의 마지막 문단의 초고이다. <보기>를 고쳐 쓰기 위해 친구들이 조언한 내용 중 반영되지 않은 것은?\n",
      "\t- 40) [A], [B]에 대한 설명으로 적절하지 않은 것은?\n",
      "\t- 41) (가)와 (나)를 고려할 때, ‘학생 1’이 쓴 [회의록]의 내용 중 적절하지 않은 것은?\n",
      "\t- 42) 다음은 (나)를 바탕으로 학생들이 만든 지도의 초안이다. ㉠～㉤에 대한 반응으로 가장 적절한 것은?\n",
      "Paragraph(2023_11_KICE_43-45): type(2)\n",
      "\t- 43) 다음은 초고를 작성하기 전에 학생이 떠올린 생각이다. ㉠～㉤ 중, 학생의 초고에 반영되지 않은 것은?\n",
      "\t- 44) 다음은 초고를 읽은 교지 편집부 학생의 조언이다. 이를 반영 하여 [A]를 작성한다고 할 때, 가장 적절한 것은?\n",
      "\t- 45) <보기>는 초고를 보완하기 위해 추가로 수집한 자료이다. 자료 활용 방안으로 적절하지 않은 것은?\n"
     ]
    }
   ],
   "source": [
    "problem_list = []\n",
    "\n",
    "for i in range(len(json_data)):\n",
    "    paragraph_data = json_data.iloc[i]\n",
    "    paragraph = Paragraph(paragraph_data)\n",
    "    for problem in paragraph.problems:\n",
    "        problem_list.append(problem)\n",
    "    print(paragraph)"
   ]
  },
  {
   "cell_type": "code",
   "execution_count": null,
   "metadata": {
    "id": "5yeqjWYlkUUv",
    "outputId": "330d046c-cf56-45d2-d2c6-757edb66908f"
   },
   "outputs": [
    {
     "name": "stdout",
     "output_type": "stream",
     "text": [
      "{\n",
      "    \"number\": 1,\n",
      "    \"paragraph\": \"사람들이 지속적으로 책을 읽는 이유 중 하나는 즐거움이다. 독서의 즐거움에는 여러 가지가 있겠지만 그 중심에는 ‘소통의 즐거움’이 있다.독자는 독서를 통해 책과 소통하는 즐거움을 경험한다. 독서는필자와 간접적으로 대화하는 소통 행위이다. 독자는 자신이 속한사회나 시대의 영향 아래 필자가 속해 있거나 드러내고자 하는 사회나 시대를 경험한다. 직접 경험하지 못했던 다양한 삶을 필자를 매개로 만나고 이해하면서 독자는 더 넓은 시야로 세계를바라볼 수 있다. 이때 같은 책을 읽은 독자라도 독자의 배경지식이나 관점 등의 독자 요인, 읽기 환경이나 과제 등의 상황 요인이 다르므로, 필자가 보여 주는 세계를 그대로 수용하지 않고 저마다 소통 과정에서 다른 의미를 구성할 수 있다.[A] (이러한 소통은 독자가 책의 내용에 대해 질문하고 답을 찾아내는 과정에서 가능해진다. 독자는 책에서 답을 찾는 질문, 독자 자신에게서 답을 찾는 질문 등을 제기할 수 있다. 전자의 경우 책에 명시된 내용에서 답을 발견할 수 있고, 책의 내용들을 관계 지으며 답에 해당하는 내용을 스스로 구성할 수도 있다. 또한 후자의 경우 책에는 없는 독자의 경험에서 답을 찾을 수 있다. 이런 질문들을 풍부히 생성하고 주체적으로 답을 찾을 때 소통의 즐거움은 더 커진다.)한편 독자는 ㉠ (다른 독자와 소통하는 즐거움을 경험할 수도 있다.) 책과의 소통을 통해 개인적으로 형성한 의미를 독서 모임이나 독서 동아리 등에서 다른 독자들과 나누는 일이 이에 해당한다. 비슷한 해석에 서로 공감하며 기존 인식을 강화하거나 관점의 차이를 확인하고 기존 인식을 조정하는 과정에서, 독자는자신의 인식을 심화 확장할 수 있다. 최근 소통 공간이 온라인으로 확대되면서 독서를 통해 다른 독자들과 소통하며 즐거움을누리는 양상이 더 다양해지고 있다. 자신의 독서 경험을 담은 글이나 동영상을 생산 공유함으로써, 책을 읽지 않은 타인이 책과 소통하도록 돕는 것도 책을 통한 소통의 즐거움을 나누는 일이다.\",\n",
      "    \"question_plus\": \"\",\n",
      "    \"question\": \"윗글의 내용과 일치하지 않는 것은?\",\n",
      "    \"choices\": [\n",
      "        \"같은 책을 읽은 독자라도 서로 다른 의미를 구성할 수 있다.\",\n",
      "        \"다른 독자와의 소통은 독자가 인식의 폭을 확장하도록 돕는다\",\n",
      "        \"독자는 직접 경험해 보지 못했던 다양한 삶을 책의 필자를 매개로 접할 수 있다.\",\n",
      "        \"독자의 배경지식, 관점, 읽기 환경, 과제는 독자의 의미 구성에 영향을 주는 독자 요인이다.\",\n",
      "        \"독자는 책을 읽을 때 자신이 속한 사회나 시대의 영향을 받으며 필자와 간접적으로 대화한다\"\n",
      "    ],\n",
      "    \"answer\": 4,\n",
      "    \"score\": 2\n",
      "}\n"
     ]
    }
   ],
   "source": [
    "print(problem_list[0].to_json())"
   ]
  },
  {
   "cell_type": "markdown",
   "metadata": {
    "collapsed": false,
    "id": "O5BTjuPGkUUv"
   },
   "source": [
    "# OpenAI ChatClient"
   ]
  },
  {
   "cell_type": "code",
   "execution_count": null,
   "metadata": {
    "id": "XTRQw2n9kUUv"
   },
   "outputs": [],
   "source": [
    "from langchain.chat_models import ChatOpenAI\n",
    "from langchain.schema import HumanMessage\n",
    "import os\n",
    "from dotenv import load_dotenv\n",
    "\n",
    "load_dotenv()\n",
    "\n",
    "llm = ChatOpenAI(\n",
    "    model=\"gpt-4o\", # 추천: gpt 모델을 4o-mini, 3.5로 downgrade하여 프롬프팅의 난이도를 올려보세요!\n",
    "    temperature=0.5,\n",
    "    openai_api_key=os.getenv(\"OPENAI_API_KEY\"),\n",
    ")"
   ]
  },
  {
   "cell_type": "markdown",
   "metadata": {
    "collapsed": false,
    "id": "Jn4OYCOAkUUw"
   },
   "source": [
    "# 프롬프트"
   ]
  },
  {
   "cell_type": "code",
   "execution_count": null,
   "metadata": {
    "id": "xVElmgA_kUUw"
   },
   "outputs": [],
   "source": [
    "from langchain.prompts import PromptTemplate\n",
    "\n",
    "basic_prompt = PromptTemplate(\n",
    "    input_variables=[\"paragraph\", \"question\", \"question_plus\", \"choice\"],\n",
    "    template=\"\"\"\n",
    "        역할:\n",
    "        넌 이제 수능 국어 문제를 푸는 봇이다.\n",
    "\n",
    "        가이드:\n",
    "        주어지는 [지문], [질문], [참고]를 보고\n",
    "        [선택지]에서 답변을 골라줘\n",
    "\n",
    "        [지문] : {paragraph}\n",
    "        [질문] : {question}\n",
    "        [참고] : {question_plus}\n",
    "        [선택지] : {choice}\n",
    "\n",
    "        답변:\n",
    "        [선택지]에서 1, 2, 3, 4, 5번 중 가장 올바른 번호를 괄호 없이 숫자 하나만!\n",
    "        \"\"\"\n",
    "        )\n",
    "\n",
    "# CoT\n",
    "cot_prompt = PromptTemplate(\n",
    "    input_variables=[\"paragraph\", \"question\", \"question_plus\", \"choice\"],\n",
    "    template=\"\"\"\n",
    "        역할:\n",
    "        국어 시험 문제를 푸는 똑똑한 학생으로서 다음 문제의 답을 구하세요.\n",
    "        지문을 읽고, 질문에 대한 답을 1부터 5까지의 선택지 중에 한 개만 골라서 대답해야 합니다.\n",
    "\n",
    "        가이드:\n",
    "        ## Chain-of-Thoughts에 기반한 프롬프팅 문구를 작성해주세요! ##\n",
    "\n",
    "        [지문] : {paragraph}\n",
    "        [질문] : {question}\n",
    "        [참고] : {question_plus}\n",
    "        [선택지] : {choice}\n",
    "\n",
    "        답변:\n",
    "        [선택지]에서 단계별로 생각 후 1, 2, 3, 4, 5번 중 가장 올바른 번호를 괄호 없이 숫자 하나만 알려주세요.\n",
    "        꼭 숫자 하나만! 말해줘야 합니다.\n",
    "        \"\"\"\n",
    "        )\n",
    "\n",
    "# 감정 호소\n",
    "emotional_prompt = PromptTemplate(\n",
    "    input_variables=[\"paragraph\", \"question\", \"question_plus\", \"choice\"],\n",
    "    template=\"\"\"\n",
    "        국어 시험 문제의 답을 구하세요.\n",
    "        지문을 읽고, 질문에 대한 답을 1부터 5까지의 선택지 중에 한 개만 골라서 대답해야 합니다.\n",
    "\n",
    "        가이드:\n",
    "        ## 감정에 호소하는 프롬프트 가이드를 작성해주세요! ##\n",
    "\n",
    "        [지문] : {paragraph}\n",
    "        [질문] : {question}\n",
    "        [참고] : {question_plus}\n",
    "        [선택지] : {choice}\n",
    "\n",
    "        답변:\n",
    "        [선택지]에서 1, 2, 3, 4, 5번 중 가장 올바른 번호를 괄호 없이 숫자 하나만 알려주세요.\n",
    "        \"\"\"\n",
    "        )\n",
    "\n",
    "# 원샷 프롬프트\n",
    "one_shot_prompt = PromptTemplate(\n",
    "    input_variables=[\"paragraph\", \"question\", \"question_plus\", \"choice\"],\n",
    "    template=\"\"\"\n",
    "        국어 시험 문제의 답을 구하세요.\n",
    "        지문을 읽고, 질문에 대한 답을 1부터 5까지의 선택지 중에 한 개만 골라서 대답해야 합니다.\n",
    "\n",
    "        가이드: 아래 예시 사항을 참고하여 답변하세요.\n",
    "\n",
    "        <문제 1>\n",
    "        지문 :\n",
    "        안녕하세요? 지난 수업 시간에 곰팡이의 생육 환경에 대해 우리가 조사했던 활동이 기억나나요? (청중의 반응을 듣고) 네, 기억하는군요. 자료를 더 찾아보니 식물 뿌리와 함께 사는 곰팡이에 관한 흥미로운 사실이 있어 소개하려 합니다. 식물 뿌리와 함께 사는 곰팡이가 식물 뿌리와 상호 작용한다는 것을 알고 있나요? (청중의 반응을 살피고) 대부분 모르는군요. 곰팡이와 식물 뿌리의 상호 작용에는 곰팡이의 균사가 중요한 역할을 합니다. (㉠(화면) 제시) 이렇게 식물 뿌리를 감싸고 있는 실처럼 생긴 것이 곰팡이의 균사인데요, 균사는 곰팡이의 몸을 이루는 세포가 실 모양으로 이어진 것을 말합니다. 식물 뿌리와 연결된 곰팡이의 균사는 양분이 오가는 통로가 됩니다. 마치 서로를 잇는 다리와 같은 역할을 하지요. (㉡(화면) 제시) 이렇게 곰팡이가 토양에서 흡수한 양분은 식물 뿌리로 전달되고, 식물이 광합성으로 만든 양분도 곰팡이로 전달됩니다. 또한 균사는 땅속에서 퍼져 나가면서 거리가 떨어져 있는 식물 뿌리와 연결될 수 있고, 한 식물의 뿌리와 또 다른 식물의 뿌리를 연결할 수도 있습니다. 식물과 식물을 연결한 균사를 통해 양분이 식물 간에 전달되지요. 아, 질문이 있네요. (ⓐ(질문)을 듣고) 곰팡이나 식물에 눈이 있어 서로를 찾아가는 것은 아닙니다. 곰팡이와 식물 뿌리는 각각 상대의 생장을 촉진하는 물질을 내놓아 상대를 자기 쪽으로 유인하여 만날 수 있지요. 이해되었나요? (고개를 끄덕이는 모습을 보고) 그럼 발표를 이어 가겠습니다. 곰팡이의 균사가 식물 뿌리와 연결되는 방식은 곰팡이에 따라 다릅니다. 예를 들어, (㉢(화면) 제시) 화면의 왼쪽처럼 균사가 식물 뿌리 세포의 내부로 들어가는 곰팡이가 있고, 화면의 오른쪽처럼 균사가 식물 뿌리의 겉면이나 식물 뿌리 세포를 감싸는 곰팡이도 있습니다. 곰팡이와 식물 뿌리의 상호 작용이 흥미롭지 않나요? 발표 내용이 잘 이해되었기를 바라며 이만 마치겠습니다.\n",
    "\n",
    "        질문 :\n",
    "        위 발표에 활용된 발표 전략으로 적절하지 않은 것은?\n",
    "\n",
    "        선택지 :\n",
    "        1번 - 청중의 주의를 환기하기 위해 청중과 공유하고 있는 경험을 언급한다.\n",
    "        2번 - 청중이 발표 내용을 예측하도록 발표 내용의 제시 순서를 발표 도입에서 밝힌다.\n",
    "        3번 - 청중이 발표 내용에 대해 사전에 알고 있었는지 확인하기 위해 발표 내용과 관련된 질문을 한다.\n",
    "        4번 - 청중이 특정 대상의 개념을 파악하도록 대상의 정의를 제시한다.\n",
    "        5번 - 청중의 이해를 돕기 위해 특정 대상을 일상적 소재에 빗대어 표현한다.\n",
    "\n",
    "        정답: 3\n",
    "\n",
    "        [지문] : {paragraph}\n",
    "        [질문] : {question}\n",
    "        [참고] : {question_plus}\n",
    "        [선택지] : {choice}\n",
    "\n",
    "        답변:\n",
    "        [선택지]에서 1, 2, 3, 4, 5번 중 가장 올바른 번호를 괄호 없이 숫자 하나만 알려주세요.\n",
    "        \"\"\"\n",
    "        )\n",
    "\n",
    "prompt_templates = [basic_prompt, cot_prompt, emotional_prompt, one_shot_prompt]"
   ]
  },
  {
   "cell_type": "markdown",
   "metadata": {
    "collapsed": false,
    "id": "C-L4NV2-kUUw"
   },
   "source": [
    "# 문제 풀기"
   ]
  },
  {
   "cell_type": "code",
   "execution_count": null,
   "metadata": {
    "id": "r1Jio5gIkUUw"
   },
   "outputs": [],
   "source": [
    "def predict(json_text, llm, prompt_template):\n",
    "    problem = Problem(json.loads(json_text))\n",
    "\n",
    "    choice_text = ''\n",
    "    for idx, text in enumerate(problem.choices):\n",
    "        choice_text += f'({idx+1}): {text}\\n'\n",
    "\n",
    "    inputs = {\n",
    "        \"paragraph\": problem.paragraph,\n",
    "        \"question\": problem.question,\n",
    "        \"question_plus\": problem.question_plus,\n",
    "        \"choice\": choice_text,\n",
    "    }\n",
    "\n",
    "    # LangChain 스타일: prompt_template | llm\n",
    "    answer = prompt_template | inputs | llm\n",
    "\n",
    "    score = problem.check(answer)\n",
    "    print(f'{problem.number}번 문제: (정답:{problem.answer}), (예측:{answer}) -> [점수:{score}점]')\n",
    "    return score"
   ]
  },
  {
   "cell_type": "markdown",
   "metadata": {
    "collapsed": false,
    "id": "o7ztVNpokUUw"
   },
   "source": [
    "# 프롬프트별 예측 및 비교"
   ]
  },
  {
   "cell_type": "code",
   "execution_count": null,
   "metadata": {
    "id": "vMkl55G1kUUw",
    "outputId": "c7654947-d8ad-452b-e55d-02c1806f5c2c"
   },
   "outputs": [
    {
     "name": "stdout",
     "output_type": "stream",
     "text": [
      "basic 프롬프트 점수: 94\n",
      "채점 시작(zero_shot_cot)!\n",
      "1번 문제: (정답:4), (예측:4) -> [점수:2점]\n",
      "2번 문제: (정답:5), (예측:5) -> [점수:3점]\n",
      "3번 문제: (정답:1), (예측:1) -> [점수:2점]\n",
      "4번 문제: (정답:4), (예측:4) -> [점수:2점]\n",
      "5번 문제: (정답:5), (예측:5) -> [점수:2점]\n",
      "6번 문제: (정답:3), (예측:3) -> [점수:2점]\n",
      "7번 문제: (정답:2), (예측:2) -> [점수:2점]\n",
      "8번 문제: (정답:5), (예측:3) -> [점수:0점]\n",
      "9번 문제: (정답:2), (예측:2) -> [점수:2점]\n",
      "10번 문제: (정답:4), (예측:4) -> [점수:2점]\n",
      "11번 문제: (정답:5), (예측:5) -> [점수:2점]\n",
      "12번 문제: (정답:2), (예측:2) -> [점수:3점]\n",
      "13번 문제: (정답:5), (예측:1) -> [점수:0점]\n",
      "14번 문제: (정답:3), (예측:3) -> [점수:2점]\n",
      "15번 문제: (정답:4), (예측:5) -> [점수:0점]\n",
      "16번 문제: (정답:4), (예측:4) -> [점수:2점]\n",
      "17번 문제: (정답:1), (예측:1) -> [점수:3점]\n",
      "18번 문제: (정답:4), (예측:4) -> [점수:2점]\n",
      "19번 문제: (정답:3), (예측:3) -> [점수:2점]\n",
      "20번 문제: (정답:3), (예측:3) -> [점수:2점]\n",
      "21번 문제: (정답:5), (예측:5) -> [점수:3점]\n",
      "22번 문제: (정답:1), (예측:1) -> [점수:2점]\n",
      "23번 문제: (정답:5), (예측:5) -> [점수:2점]\n",
      "24번 문제: (정답:3), (예측:3) -> [점수:3점]\n",
      "25번 문제: (정답:3), (예측:3) -> [점수:2점]\n",
      "26번 문제: (정답:4), (예측:4) -> [점수:2점]\n",
      "27번 문제: (정답:1), (예측:1) -> [점수:2점]\n",
      "28번 문제: (정답:5), (예측:2) -> [점수:0점]\n",
      "29번 문제: (정답:1), (예측:1) -> [점수:2점]\n",
      "30번 문제: (정답:2), (예측:2) -> [점수:3점]\n",
      "31번 문제: (정답:1), (예측:1) -> [점수:2점]\n",
      "32번 문제: (정답:4), (예측:4) -> [점수:2점]\n",
      "33번 문제: (정답:2), (예측:2) -> [점수:2점]\n",
      "34번 문제: (정답:3), (예측:3) -> [점수:3점]\n",
      "35번 문제: (정답:1), (예측:1) -> [점수:2점]\n",
      "36번 문제: (정답:5), (예측:5) -> [점수:2점]\n",
      "37번 문제: (정답:3), (예측:3) -> [점수:2점]\n",
      "38번 문제: (정답:4), (예측:4) -> [점수:2점]\n",
      "39번 문제: (정답:4), (예측:4) -> [점수:2점]\n",
      "40번 문제: (정답:3), (예측:3) -> [점수:2점]\n",
      "41번 문제: (정답:2), (예측:2) -> [점수:3점]\n",
      "42번 문제: (정답:4), (예측:4) -> [점수:2점]\n",
      "43번 문제: (정답:5), (예측:5) -> [점수:2점]\n",
      "44번 문제: (정답:2), (예측:2) -> [점수:2점]\n",
      "45번 문제: (정답:1), (예측:1) -> [점수:3점]\n",
      "zero_shot_cot 프롬프트 점수: 91\n",
      "emotional 프롬프트 점수: 76\n",
      "one_shot 프롬프트 점수: 85\n"
     ]
    }
   ],
   "source": [
    "# 기존 점수 데이터 로드\n",
    "file_path = './score.csv'\n",
    "score_df = pd.read_csv(file_path)\n",
    "#print(score_df)\n",
    "\n",
    "for prompt_template in prompt_templates:\n",
    "    total_score = 0\n",
    "\n",
    "    if prompt_template.name in score_df['name'].values:\n",
    "        # 이미 존재하면 점수 출력\n",
    "        total_score = score_df.loc[score_df['name'] == prompt_template.name, 'score'].values[0]\n",
    "    else:\n",
    "        print(f\"채점 시작({prompt_template.name})!\")\n",
    "\n",
    "        for problem in problem_list:\n",
    "            score = predict(problem.to_json(), llm, prompt_template)\n",
    "            total_score += score\n",
    "\n",
    "        # 존재하지 않으면 새로운 데이터프레임 추가\n",
    "        new_row = {'name': prompt_template.name, 'score': total_score}\n",
    "        score_df = pd.concat([score_df, pd.DataFrame([new_row])], ignore_index=True)\n",
    "        score_df.to_csv(file_path, index=False)\n",
    "\n",
    "    print(f\"{prompt_template.name} 프롬프트 점수: {total_score}\")"
   ]
  },
  {
   "cell_type": "code",
   "execution_count": null,
   "metadata": {
    "id": "aBK0XWEbkUUw",
    "outputId": "44c6687c-39d0-4ebf-be19-0b6be61d040b"
   },
   "outputs": [
    {
     "data": {
      "text/html": [
       "<div>\n",
       "<style scoped>\n",
       "    .dataframe tbody tr th:only-of-type {\n",
       "        vertical-align: middle;\n",
       "    }\n",
       "\n",
       "    .dataframe tbody tr th {\n",
       "        vertical-align: top;\n",
       "    }\n",
       "\n",
       "    .dataframe thead th {\n",
       "        text-align: right;\n",
       "    }\n",
       "</style>\n",
       "<table border=\"1\" class=\"dataframe\">\n",
       "  <thead>\n",
       "    <tr style=\"text-align: right;\">\n",
       "      <th></th>\n",
       "      <th>name</th>\n",
       "      <th>score</th>\n",
       "    </tr>\n",
       "  </thead>\n",
       "  <tbody>\n",
       "    <tr>\n",
       "      <th>0</th>\n",
       "      <td>basic</td>\n",
       "      <td>94</td>\n",
       "    </tr>\n",
       "    <tr>\n",
       "      <th>1</th>\n",
       "      <td>emotional</td>\n",
       "      <td>76</td>\n",
       "    </tr>\n",
       "    <tr>\n",
       "      <th>2</th>\n",
       "      <td>one_shot</td>\n",
       "      <td>85</td>\n",
       "    </tr>\n",
       "    <tr>\n",
       "      <th>3</th>\n",
       "      <td>zero_shot_cot</td>\n",
       "      <td>91</td>\n",
       "    </tr>\n",
       "  </tbody>\n",
       "</table>\n",
       "</div>"
      ],
      "text/plain": [
       "            name  score\n",
       "0          basic     94\n",
       "1      emotional     76\n",
       "2       one_shot     85\n",
       "3  zero_shot_cot     91"
      ]
     },
     "execution_count": 261,
     "metadata": {},
     "output_type": "execute_result"
    }
   ],
   "source": [
    "score_df"
   ]
  }
 ],
 "metadata": {
  "colab": {
   "provenance": []
  },
  "kernelspec": {
   "display_name": "Python 3",
   "language": "python",
   "name": "python3"
  },
  "language_info": {
   "codemirror_mode": {
    "name": "ipython",
    "version": 2
   },
   "file_extension": ".py",
   "mimetype": "text/x-python",
   "name": "python",
   "nbconvert_exporter": "python",
   "pygments_lexer": "ipython2",
   "version": "2.7.6"
  }
 },
 "nbformat": 4,
 "nbformat_minor": 0
}
