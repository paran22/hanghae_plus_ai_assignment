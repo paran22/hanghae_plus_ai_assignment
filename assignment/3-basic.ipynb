{
  "cells": [
    {
      "cell_type": "markdown",
      "metadata": {
        "id": "sbgz49PvHhLt"
      },
      "source": [
        "# [3주차] 기본과제 - DistilBERT로 뉴스 기사 분류 모델 학습하기\n",
        "\n",
        "- [x] AG_News dataset 준비\n",
        "\t- Huggingface dataset의 `fancyzhx/ag_news`를 load\n",
        "\t- `collate_fn` 함수에 다음 수정사항들을 반영\n",
        "    - Truncation과 관련된 부분들을 삭제\n",
        "- [x] Classifier output, loss function, accuracy function 변경\n",
        "\t- 뉴스 기사 분류 문제는 binary classification이 아닌 일반적인 classification 문제입니다. MNIST 과제에서 했던 것 처럼 `nn.CrossEntropyLoss` 를 추가하고 `TextClassifier`의 출력 차원을 잘 조정하여 task를 풀 수 있도록 수정\n",
        "\t- 그리고 정확도를 재는 `accuracy` 함수도 classification에 맞춰 수정\n",
        "- [x]  학습 결과 report\n",
        "    - DistilBERT 실습과 같이 매 epoch 마다의 train loss를 출력하고 최종 모델의 test accuracy를 report 첨부\n",
        "  "
      ]
    },
    {
      "cell_type": "code",
      "execution_count": 1,
      "metadata": {
        "colab": {
          "base_uri": "https://localhost:8080/"
        },
        "collapsed": true,
        "id": "1LqgujQUbv6X",
        "outputId": "de255f47-8d1f-45c6-d7bd-1a209030aea1"
      },
      "outputs": [
        {
          "output_type": "stream",
          "name": "stdout",
          "text": [
            "Requirement already satisfied: tqdm in /usr/local/lib/python3.11/dist-packages (4.67.1)\n",
            "Collecting boto3\n",
            "  Downloading boto3-1.37.29-py3-none-any.whl.metadata (6.7 kB)\n",
            "Requirement already satisfied: requests in /usr/local/lib/python3.11/dist-packages (2.32.3)\n",
            "Requirement already satisfied: regex in /usr/local/lib/python3.11/dist-packages (2024.11.6)\n",
            "Requirement already satisfied: sentencepiece in /usr/local/lib/python3.11/dist-packages (0.2.0)\n",
            "Collecting sacremoses\n",
            "  Downloading sacremoses-0.1.1-py3-none-any.whl.metadata (8.3 kB)\n",
            "Collecting datasets\n",
            "  Downloading datasets-3.5.0-py3-none-any.whl.metadata (19 kB)\n",
            "Collecting botocore<1.38.0,>=1.37.29 (from boto3)\n",
            "  Downloading botocore-1.37.29-py3-none-any.whl.metadata (5.7 kB)\n",
            "Collecting jmespath<2.0.0,>=0.7.1 (from boto3)\n",
            "  Downloading jmespath-1.0.1-py3-none-any.whl.metadata (7.6 kB)\n",
            "Collecting s3transfer<0.12.0,>=0.11.0 (from boto3)\n",
            "  Downloading s3transfer-0.11.4-py3-none-any.whl.metadata (1.7 kB)\n",
            "Requirement already satisfied: charset-normalizer<4,>=2 in /usr/local/lib/python3.11/dist-packages (from requests) (3.4.1)\n",
            "Requirement already satisfied: idna<4,>=2.5 in /usr/local/lib/python3.11/dist-packages (from requests) (3.10)\n",
            "Requirement already satisfied: urllib3<3,>=1.21.1 in /usr/local/lib/python3.11/dist-packages (from requests) (2.3.0)\n",
            "Requirement already satisfied: certifi>=2017.4.17 in /usr/local/lib/python3.11/dist-packages (from requests) (2025.1.31)\n",
            "Requirement already satisfied: click in /usr/local/lib/python3.11/dist-packages (from sacremoses) (8.1.8)\n",
            "Requirement already satisfied: joblib in /usr/local/lib/python3.11/dist-packages (from sacremoses) (1.4.2)\n",
            "Requirement already satisfied: filelock in /usr/local/lib/python3.11/dist-packages (from datasets) (3.18.0)\n",
            "Requirement already satisfied: numpy>=1.17 in /usr/local/lib/python3.11/dist-packages (from datasets) (2.0.2)\n",
            "Requirement already satisfied: pyarrow>=15.0.0 in /usr/local/lib/python3.11/dist-packages (from datasets) (18.1.0)\n",
            "Collecting dill<0.3.9,>=0.3.0 (from datasets)\n",
            "  Downloading dill-0.3.8-py3-none-any.whl.metadata (10 kB)\n",
            "Requirement already satisfied: pandas in /usr/local/lib/python3.11/dist-packages (from datasets) (2.2.2)\n",
            "Collecting xxhash (from datasets)\n",
            "  Downloading xxhash-3.5.0-cp311-cp311-manylinux_2_17_x86_64.manylinux2014_x86_64.whl.metadata (12 kB)\n",
            "Collecting multiprocess<0.70.17 (from datasets)\n",
            "  Downloading multiprocess-0.70.16-py311-none-any.whl.metadata (7.2 kB)\n",
            "Collecting fsspec<=2024.12.0,>=2023.1.0 (from fsspec[http]<=2024.12.0,>=2023.1.0->datasets)\n",
            "  Downloading fsspec-2024.12.0-py3-none-any.whl.metadata (11 kB)\n",
            "Requirement already satisfied: aiohttp in /usr/local/lib/python3.11/dist-packages (from datasets) (3.11.15)\n",
            "Requirement already satisfied: huggingface-hub>=0.24.0 in /usr/local/lib/python3.11/dist-packages (from datasets) (0.30.1)\n",
            "Requirement already satisfied: packaging in /usr/local/lib/python3.11/dist-packages (from datasets) (24.2)\n",
            "Requirement already satisfied: pyyaml>=5.1 in /usr/local/lib/python3.11/dist-packages (from datasets) (6.0.2)\n",
            "Requirement already satisfied: python-dateutil<3.0.0,>=2.1 in /usr/local/lib/python3.11/dist-packages (from botocore<1.38.0,>=1.37.29->boto3) (2.8.2)\n",
            "Requirement already satisfied: aiohappyeyeballs>=2.3.0 in /usr/local/lib/python3.11/dist-packages (from aiohttp->datasets) (2.6.1)\n",
            "Requirement already satisfied: aiosignal>=1.1.2 in /usr/local/lib/python3.11/dist-packages (from aiohttp->datasets) (1.3.2)\n",
            "Requirement already satisfied: attrs>=17.3.0 in /usr/local/lib/python3.11/dist-packages (from aiohttp->datasets) (25.3.0)\n",
            "Requirement already satisfied: frozenlist>=1.1.1 in /usr/local/lib/python3.11/dist-packages (from aiohttp->datasets) (1.5.0)\n",
            "Requirement already satisfied: multidict<7.0,>=4.5 in /usr/local/lib/python3.11/dist-packages (from aiohttp->datasets) (6.2.0)\n",
            "Requirement already satisfied: propcache>=0.2.0 in /usr/local/lib/python3.11/dist-packages (from aiohttp->datasets) (0.3.1)\n",
            "Requirement already satisfied: yarl<2.0,>=1.17.0 in /usr/local/lib/python3.11/dist-packages (from aiohttp->datasets) (1.18.3)\n",
            "Requirement already satisfied: typing-extensions>=3.7.4.3 in /usr/local/lib/python3.11/dist-packages (from huggingface-hub>=0.24.0->datasets) (4.13.1)\n",
            "Requirement already satisfied: pytz>=2020.1 in /usr/local/lib/python3.11/dist-packages (from pandas->datasets) (2025.2)\n",
            "Requirement already satisfied: tzdata>=2022.7 in /usr/local/lib/python3.11/dist-packages (from pandas->datasets) (2025.2)\n",
            "Requirement already satisfied: six>=1.5 in /usr/local/lib/python3.11/dist-packages (from python-dateutil<3.0.0,>=2.1->botocore<1.38.0,>=1.37.29->boto3) (1.17.0)\n",
            "Downloading boto3-1.37.29-py3-none-any.whl (139 kB)\n",
            "\u001b[2K   \u001b[90m━━━━━━━━━━━━━━━━━━━━━━━━━━━━━━━━━━━━━━━━\u001b[0m \u001b[32m139.6/139.6 kB\u001b[0m \u001b[31m6.5 MB/s\u001b[0m eta \u001b[36m0:00:00\u001b[0m\n",
            "\u001b[?25hDownloading sacremoses-0.1.1-py3-none-any.whl (897 kB)\n",
            "\u001b[2K   \u001b[90m━━━━━━━━━━━━━━━━━━━━━━━━━━━━━━━━━━━━━━━━\u001b[0m \u001b[32m897.5/897.5 kB\u001b[0m \u001b[31m38.4 MB/s\u001b[0m eta \u001b[36m0:00:00\u001b[0m\n",
            "\u001b[?25hDownloading datasets-3.5.0-py3-none-any.whl (491 kB)\n",
            "\u001b[2K   \u001b[90m━━━━━━━━━━━━━━━━━━━━━━━━━━━━━━━━━━━━━━━━\u001b[0m \u001b[32m491.2/491.2 kB\u001b[0m \u001b[31m30.4 MB/s\u001b[0m eta \u001b[36m0:00:00\u001b[0m\n",
            "\u001b[?25hDownloading botocore-1.37.29-py3-none-any.whl (13.5 MB)\n",
            "\u001b[2K   \u001b[90m━━━━━━━━━━━━━━━━━━━━━━━━━━━━━━━━━━━━━━━━\u001b[0m \u001b[32m13.5/13.5 MB\u001b[0m \u001b[31m81.5 MB/s\u001b[0m eta \u001b[36m0:00:00\u001b[0m\n",
            "\u001b[?25hDownloading dill-0.3.8-py3-none-any.whl (116 kB)\n",
            "\u001b[2K   \u001b[90m━━━━━━━━━━━━━━━━━━━━━━━━━━━━━━━━━━━━━━━━\u001b[0m \u001b[32m116.3/116.3 kB\u001b[0m \u001b[31m8.5 MB/s\u001b[0m eta \u001b[36m0:00:00\u001b[0m\n",
            "\u001b[?25hDownloading fsspec-2024.12.0-py3-none-any.whl (183 kB)\n",
            "\u001b[2K   \u001b[90m━━━━━━━━━━━━━━━━━━━━━━━━━━━━━━━━━━━━━━━━\u001b[0m \u001b[32m183.9/183.9 kB\u001b[0m \u001b[31m13.2 MB/s\u001b[0m eta \u001b[36m0:00:00\u001b[0m\n",
            "\u001b[?25hDownloading jmespath-1.0.1-py3-none-any.whl (20 kB)\n",
            "Downloading multiprocess-0.70.16-py311-none-any.whl (143 kB)\n",
            "\u001b[2K   \u001b[90m━━━━━━━━━━━━━━━━━━━━━━━━━━━━━━━━━━━━━━━━\u001b[0m \u001b[32m143.5/143.5 kB\u001b[0m \u001b[31m11.7 MB/s\u001b[0m eta \u001b[36m0:00:00\u001b[0m\n",
            "\u001b[?25hDownloading s3transfer-0.11.4-py3-none-any.whl (84 kB)\n",
            "\u001b[2K   \u001b[90m━━━━━━━━━━━━━━━━━━━━━━━━━━━━━━━━━━━━━━━━\u001b[0m \u001b[32m84.4/84.4 kB\u001b[0m \u001b[31m7.8 MB/s\u001b[0m eta \u001b[36m0:00:00\u001b[0m\n",
            "\u001b[?25hDownloading xxhash-3.5.0-cp311-cp311-manylinux_2_17_x86_64.manylinux2014_x86_64.whl (194 kB)\n",
            "\u001b[2K   \u001b[90m━━━━━━━━━━━━━━━━━━━━━━━━━━━━━━━━━━━━━━━━\u001b[0m \u001b[32m194.8/194.8 kB\u001b[0m \u001b[31m17.3 MB/s\u001b[0m eta \u001b[36m0:00:00\u001b[0m\n",
            "\u001b[?25hInstalling collected packages: xxhash, sacremoses, jmespath, fsspec, dill, multiprocess, botocore, s3transfer, datasets, boto3\n",
            "  Attempting uninstall: fsspec\n",
            "    Found existing installation: fsspec 2025.3.2\n",
            "    Uninstalling fsspec-2025.3.2:\n",
            "      Successfully uninstalled fsspec-2025.3.2\n",
            "\u001b[31mERROR: pip's dependency resolver does not currently take into account all the packages that are installed. This behaviour is the source of the following dependency conflicts.\n",
            "torch 2.6.0+cu124 requires nvidia-cublas-cu12==12.4.5.8; platform_system == \"Linux\" and platform_machine == \"x86_64\", but you have nvidia-cublas-cu12 12.5.3.2 which is incompatible.\n",
            "torch 2.6.0+cu124 requires nvidia-cuda-cupti-cu12==12.4.127; platform_system == \"Linux\" and platform_machine == \"x86_64\", but you have nvidia-cuda-cupti-cu12 12.5.82 which is incompatible.\n",
            "torch 2.6.0+cu124 requires nvidia-cuda-nvrtc-cu12==12.4.127; platform_system == \"Linux\" and platform_machine == \"x86_64\", but you have nvidia-cuda-nvrtc-cu12 12.5.82 which is incompatible.\n",
            "torch 2.6.0+cu124 requires nvidia-cuda-runtime-cu12==12.4.127; platform_system == \"Linux\" and platform_machine == \"x86_64\", but you have nvidia-cuda-runtime-cu12 12.5.82 which is incompatible.\n",
            "torch 2.6.0+cu124 requires nvidia-cudnn-cu12==9.1.0.70; platform_system == \"Linux\" and platform_machine == \"x86_64\", but you have nvidia-cudnn-cu12 9.3.0.75 which is incompatible.\n",
            "torch 2.6.0+cu124 requires nvidia-cufft-cu12==11.2.1.3; platform_system == \"Linux\" and platform_machine == \"x86_64\", but you have nvidia-cufft-cu12 11.2.3.61 which is incompatible.\n",
            "torch 2.6.0+cu124 requires nvidia-curand-cu12==10.3.5.147; platform_system == \"Linux\" and platform_machine == \"x86_64\", but you have nvidia-curand-cu12 10.3.6.82 which is incompatible.\n",
            "torch 2.6.0+cu124 requires nvidia-cusolver-cu12==11.6.1.9; platform_system == \"Linux\" and platform_machine == \"x86_64\", but you have nvidia-cusolver-cu12 11.6.3.83 which is incompatible.\n",
            "torch 2.6.0+cu124 requires nvidia-cusparse-cu12==12.3.1.170; platform_system == \"Linux\" and platform_machine == \"x86_64\", but you have nvidia-cusparse-cu12 12.5.1.3 which is incompatible.\n",
            "torch 2.6.0+cu124 requires nvidia-nvjitlink-cu12==12.4.127; platform_system == \"Linux\" and platform_machine == \"x86_64\", but you have nvidia-nvjitlink-cu12 12.5.82 which is incompatible.\n",
            "gcsfs 2025.3.2 requires fsspec==2025.3.2, but you have fsspec 2024.12.0 which is incompatible.\u001b[0m\u001b[31m\n",
            "\u001b[0mSuccessfully installed boto3-1.37.29 botocore-1.37.29 datasets-3.5.0 dill-0.3.8 fsspec-2024.12.0 jmespath-1.0.1 multiprocess-0.70.16 s3transfer-0.11.4 sacremoses-0.1.1 xxhash-3.5.0\n"
          ]
        }
      ],
      "source": [
        "%pip install tqdm boto3 requests regex sentencepiece sacremoses datasets"
      ]
    },
    {
      "cell_type": "markdown",
      "metadata": {
        "id": "6YP3FxG9IF7O"
      },
      "source": [
        "DistilBERT pre-training 때 사용한 tokenizer를 불러온다."
      ]
    },
    {
      "cell_type": "code",
      "execution_count": 2,
      "metadata": {
        "colab": {
          "base_uri": "https://localhost:8080/",
          "height": 321,
          "referenced_widgets": [
            "525c0ce562d545df9b53ca2c8eb2ac59",
            "b90dc080d4524904a183bcf02b941744",
            "38cf39290c4240d99604157bced9688f",
            "f70807a79eba44f18af6acbf1c96fb57",
            "e7278bfcac724af692145dfe6d005e62",
            "a575a2c9428a4011acf1334edcadc2b1",
            "cf7b8050efc149d096145b3dcfe4e7fe",
            "38a9c98e50194f09bc3fe5607809b049",
            "ff1018898dd74827b950648a69180a01",
            "2639b61c51664219b14611f41a090683",
            "5c6bb0624b034ae9873b0a72644b9486",
            "3eb824c645c347828fa01939671e34cd",
            "f6857f30b19e47d19a37f291a8ca9887",
            "c5e05a7e31a64665bc1aeac202811a66",
            "80607f812fa94ca2952952353821382e",
            "1d124d0f8f63484e9c294a4094704e2d",
            "df26f51719794a40991ff9d9cbe5eb5c",
            "35c4f172bb034dde81982402776e4a3d",
            "10f49cf5078e4027a9d3a2495c43eafd",
            "13b823f8dd7c48b8842ca07c046b9533",
            "029132d4ff5b41d0bc8f1a26321129de",
            "e7098dcca7de45ddad9cc93fd94b70c0",
            "93aabc783094419581134d1f7f8c6af7",
            "cfeabedf56f24a739face82873271094",
            "26539f6e1e404e8e8e69478a4839aeb3",
            "d2de3d361a3b49f38ac4a57faae46eed",
            "7d6c8fd0ef964a89972097901e25d959",
            "82587c010aeb4604aa28b0088d09754a",
            "7e657ec87e784cf2a667bd41a8a44a2d",
            "253f3b77e9d14e1aaf6877cca3706657",
            "f360d2d0f7744a9e92f4532387b69b23",
            "f717d3b1c6d84bee99f345d571b4217c",
            "6b7d9714e1a7423bbd2f6269723c763b",
            "06f75501e3f64640b1348d41e01ffa8b",
            "325183d0da5d4b1a8d3981a9260b0b9d",
            "48083a07c5804448b432fb33c056f8bc",
            "f58dd8e8048e49549316b813903c7eac",
            "0aea89a2a9ce4715a8b8f9a618d5b8f1",
            "a6883f8503944f57a3324810312a6067",
            "dc433b6665f24c30834b5e1ef5ea96ae",
            "24055d8063b34e2f825ebf9cd1e0ec44",
            "ae065c5ffd2449afbeed3b78dad9a5d3",
            "0e4a57f2a3c14e83b9ac5c796ac08abe",
            "03abbaba9077420aa28b5cbd93733e69"
          ]
        },
        "id": "6lGiZUoPby6e",
        "outputId": "47e7b413-37f1-4880-859f-c83668bbea98"
      },
      "outputs": [
        {
          "output_type": "stream",
          "name": "stderr",
          "text": [
            "/usr/local/lib/python3.11/dist-packages/torch/hub.py:330: UserWarning: You are about to download and run code from an untrusted repository. In a future release, this won't be allowed. To add the repository to your trusted list, change the command to {calling_fn}(..., trust_repo=False) and a command prompt will appear asking for an explicit confirmation of trust, or load(..., trust_repo=True), which will assume that the prompt is to be answered with 'yes'. You can also use load(..., trust_repo='check') which will only prompt for confirmation if the repo is not already trusted. This will eventually be the default behaviour\n",
            "  warnings.warn(\n",
            "Downloading: \"https://github.com/huggingface/pytorch-transformers/zipball/main\" to /root/.cache/torch/hub/main.zip\n",
            "/usr/local/lib/python3.11/dist-packages/huggingface_hub/utils/_auth.py:94: UserWarning: \n",
            "The secret `HF_TOKEN` does not exist in your Colab secrets.\n",
            "To authenticate with the Hugging Face Hub, create a token in your settings tab (https://huggingface.co/settings/tokens), set it as secret in your Google Colab and restart your session.\n",
            "You will be able to reuse this secret in all of your notebooks.\n",
            "Please note that authentication is recommended but still optional to access public models or datasets.\n",
            "  warnings.warn(\n"
          ]
        },
        {
          "output_type": "display_data",
          "data": {
            "text/plain": [
              "tokenizer_config.json:   0%|          | 0.00/48.0 [00:00<?, ?B/s]"
            ],
            "application/vnd.jupyter.widget-view+json": {
              "version_major": 2,
              "version_minor": 0,
              "model_id": "525c0ce562d545df9b53ca2c8eb2ac59"
            }
          },
          "metadata": {}
        },
        {
          "output_type": "display_data",
          "data": {
            "text/plain": [
              "config.json:   0%|          | 0.00/483 [00:00<?, ?B/s]"
            ],
            "application/vnd.jupyter.widget-view+json": {
              "version_major": 2,
              "version_minor": 0,
              "model_id": "3eb824c645c347828fa01939671e34cd"
            }
          },
          "metadata": {}
        },
        {
          "output_type": "display_data",
          "data": {
            "text/plain": [
              "vocab.txt:   0%|          | 0.00/232k [00:00<?, ?B/s]"
            ],
            "application/vnd.jupyter.widget-view+json": {
              "version_major": 2,
              "version_minor": 0,
              "model_id": "93aabc783094419581134d1f7f8c6af7"
            }
          },
          "metadata": {}
        },
        {
          "output_type": "display_data",
          "data": {
            "text/plain": [
              "tokenizer.json:   0%|          | 0.00/466k [00:00<?, ?B/s]"
            ],
            "application/vnd.jupyter.widget-view+json": {
              "version_major": 2,
              "version_minor": 0,
              "model_id": "06f75501e3f64640b1348d41e01ffa8b"
            }
          },
          "metadata": {}
        }
      ],
      "source": [
        "import torch\n",
        "from datasets import load_dataset\n",
        "from torch.utils.data import DataLoader\n",
        "\n",
        "# DistilBERT 모델용 tokenizer 로드 (pretrained)\n",
        "# 이 tokenizer는 문장을 토큰화해서 모델이 이해할 수 있는 input_ids로 변환해줌\n",
        "tokenizer = torch.hub.load('huggingface/pytorch-transformers', 'tokenizer', 'distilbert-base-uncased')"
      ]
    },
    {
      "cell_type": "markdown",
      "metadata": {
        "id": "Cvfl_uFLIMWO"
      },
      "source": [
        "뉴스 데이터로 Huggingface dataset의 fancyzhx/ag_news를 사용한다.\n",
        "AG News는 World, Sports, Science, Business, Sci/Tech 5개의 카테고리로 분류된다. label은 1부터 4까지의 숫자로 표현된다.\n",
        "\n",
        "truncation=False로 설정하여 텍스트를 자르지 않고, 입력 텍스트가 모델의 최대 길이를 초과하면 오류를 발생시킨다.\n",
        "모델의 최대 길이를 사용하기 위해 max_len을 설정하지 않는다."
      ]
    },
    {
      "cell_type": "code",
      "execution_count": 3,
      "metadata": {
        "id": "rE-y8sY9HuwP",
        "outputId": "078c4315-525f-472a-fd3c-51fe53e5efa2",
        "colab": {
          "base_uri": "https://localhost:8080/",
          "height": 177,
          "referenced_widgets": [
            "ce228fe38d094cabb73fe88a88c1b630",
            "bc6dbb387fb34d8cbce61333256d78b9",
            "3a99982b1b094263af79348a23636455",
            "170c5176b8364d5c86eb62e438a575e7",
            "8ec87f0bc4ee41669066229f6478797b",
            "8ab9ec88d74446f9aceea41895a865c9",
            "e93f4d7c5b1b4b558dfa69ea9d76d359",
            "ee6cd7912b18436b8f7b4a11bc9f2c2f",
            "83ea79842cf54ec5a8b19879924717b6",
            "ac0ec99fa6c848a78d6a6b89b1fff21f",
            "b85c0d0004834c04bc024d83dcdc0f9d",
            "38a76572244f48b9a1c4c4a84bb588da",
            "916650268fa7464496b59c5ded9d70fd",
            "9116c9c4ff484aa5b9876b38c5e9ba1a",
            "7abbdc801a7c4730acf2217c76a1fc6c",
            "d9182914d6bb421ca50d7e92eacae478",
            "c278340a231a4d6bab83913471c50465",
            "1335ea81381e4d518daafaf713cb7b35",
            "cc01f96281c44669aa7254a2e034dbc7",
            "6cc036b82d6741c2b94213716a46f7a4",
            "bd592d9de2d24230958d423917dbe0f7",
            "8e90b584c563483482c68309462c84fd",
            "13b6803c632c4c95a7f9e4122794898f",
            "4c5b1f6aa44e464fa7d8b6558f698c95",
            "bad0b0e470784451b9a5e94134a328dc",
            "72bf79a7a96e4f22978a7e6a889bb6ae",
            "fe7317c87aaf42f988d9b25f8410f22d",
            "b6cd88bbf6ae4890a707c95024297333",
            "cb755d0d1a164cbfa82472eb3874e78d",
            "c835968636d14847bd6b07102c9271a8",
            "eb478b7de38d43c5989ecba656e275fa",
            "bcc63bf42f22487cb377633a34234ad1",
            "1fab74ed5647421a99d117c20ea98ba9",
            "f7e752b7aab54972b4d078c10cf72221",
            "700d26eba464425eb7a649e010b41374",
            "85708fb7b04e494da7a3fea8ee201c0d",
            "efbf5e60f8cd435592a6c1373130be03",
            "86330af6d0674aa09bedb67f8d2ce46d",
            "fd45db1ea4c6419992c868d123fcf1cf",
            "71de2055774b4f9e9c9edeca214e2eff",
            "43b035d0c4714f7e99253f90e558cc0c",
            "57d53e6c1c53422298be9d2d78265a97",
            "da1bfa32b38b4b72ba8153d3954a2bb0",
            "005c654934e642039e71edfab1f52ab1",
            "2acb088a9ffd406ba3e31c3d117f2233",
            "2f7558b0611344e79db9657d0f1f0a02",
            "eed7bae4357f4880ad796f3be351d455",
            "724afdc07fc142d0b876df72db22c261",
            "92b48f566d9a45cdaaaf19d212e0a495",
            "ebba8e0791024752926f8c17d38a3b20",
            "8b29519bf40e41599cbfba7cbf6adb70",
            "593ea75654294fec91e04e684b8c4a80",
            "423a13c75a464e70bc9f6171c417b073",
            "6ea57aca16f4467b9d91bc67085f3bba",
            "abfe4516376b4b0f89ad671ebf89105d"
          ]
        }
      },
      "outputs": [
        {
          "output_type": "display_data",
          "data": {
            "text/plain": [
              "README.md:   0%|          | 0.00/8.07k [00:00<?, ?B/s]"
            ],
            "application/vnd.jupyter.widget-view+json": {
              "version_major": 2,
              "version_minor": 0,
              "model_id": "ce228fe38d094cabb73fe88a88c1b630"
            }
          },
          "metadata": {}
        },
        {
          "output_type": "display_data",
          "data": {
            "text/plain": [
              "train-00000-of-00001.parquet:   0%|          | 0.00/18.6M [00:00<?, ?B/s]"
            ],
            "application/vnd.jupyter.widget-view+json": {
              "version_major": 2,
              "version_minor": 0,
              "model_id": "38a76572244f48b9a1c4c4a84bb588da"
            }
          },
          "metadata": {}
        },
        {
          "output_type": "display_data",
          "data": {
            "text/plain": [
              "test-00000-of-00001.parquet:   0%|          | 0.00/1.23M [00:00<?, ?B/s]"
            ],
            "application/vnd.jupyter.widget-view+json": {
              "version_major": 2,
              "version_minor": 0,
              "model_id": "13b6803c632c4c95a7f9e4122794898f"
            }
          },
          "metadata": {}
        },
        {
          "output_type": "display_data",
          "data": {
            "text/plain": [
              "Generating train split:   0%|          | 0/120000 [00:00<?, ? examples/s]"
            ],
            "application/vnd.jupyter.widget-view+json": {
              "version_major": 2,
              "version_minor": 0,
              "model_id": "f7e752b7aab54972b4d078c10cf72221"
            }
          },
          "metadata": {}
        },
        {
          "output_type": "display_data",
          "data": {
            "text/plain": [
              "Generating test split:   0%|          | 0/7600 [00:00<?, ? examples/s]"
            ],
            "application/vnd.jupyter.widget-view+json": {
              "version_major": 2,
              "version_minor": 0,
              "model_id": "2acb088a9ffd406ba3e31c3d117f2233"
            }
          },
          "metadata": {}
        }
      ],
      "source": [
        "# ag_news 데이터셋의 5%만 로드 (학습 데이터와 테스트 데이터 각각)\n",
        "train_ds = load_dataset(\"fancyzhx/ag_news\", split=\"train[:5%]\")\n",
        "test_ds = load_dataset(\"fancyzhx/ag_news\", split=\"test[:5%]\")\n",
        "\n",
        "# 데이터를 배치로 묶기 위한 함수 정의\n",
        "def collate_fn(batch):\n",
        "    texts, labels = [], []  # 입력 문장들과 라벨들을 저장할 리스트\n",
        "\n",
        "    # 배치 내 각 샘플에 대해 text와 label 추출\n",
        "    for row in batch:\n",
        "        labels.append(row['label'])\n",
        "        texts.append(row['text'])\n",
        "\n",
        "    # tokenizer로 텍스트를 토큰화하고, 최대 길이로 패딩 및 자르기\n",
        "    # tokenizer는 사전에 정의되어 있어야 함 (예: tokenizer = AutoTokenizer.from_pretrained(...))\n",
        "    texts = torch.LongTensor(\n",
        "        tokenizer(texts, padding=True).input_ids\n",
        "    )\n",
        "\n",
        "    # 라벨 리스트를 LongTensor로 변환\n",
        "    labels = torch.LongTensor(labels)\n",
        "\n",
        "    # 모델 학습에 필요한 입력 (토큰화된 문장들)과 정답 라벨 반환\n",
        "    return texts, labels\n",
        "\n",
        "# 학습용 DataLoader 정의 (shuffle=True로 배치 순서 랜덤화)\n",
        "train_loader = DataLoader(\n",
        "    train_ds, batch_size=64, shuffle=True, collate_fn=collate_fn\n",
        ")\n",
        "\n",
        "# 테스트용 DataLoader 정의 (shuffle=False로 배치 순서 고정)\n",
        "test_loader = DataLoader(\n",
        "    test_ds, batch_size=64, shuffle=False, collate_fn=collate_fn\n",
        ")"
      ]
    },
    {
      "cell_type": "markdown",
      "metadata": {
        "id": "bF34XkoYIeEm"
      },
      "source": [
        "DistilBERT를 사용하기 위해 PyTorch hub에서 제공하는 DistilBERT를 불러온다."
      ]
    },
    {
      "cell_type": "code",
      "execution_count": 4,
      "metadata": {
        "colab": {
          "base_uri": "https://localhost:8080/",
          "height": 625,
          "referenced_widgets": [
            "512eb7e96a3f47fab32c074076e0fdd9",
            "e335ab2bac724e53ab6d62530b72df42",
            "31c69791855143ae82714392746f3c2d",
            "b53a96cf47dc4c6bb631325296d7e97a",
            "e70cecbee68c4c94b6ed7a58a3f76e43",
            "7f04c1d550c04dbfa47b21344ad6665a",
            "f8aeacbc3e11445e8ac91024faa5566d",
            "0a755f130ba5428ebd4429a47c0ea954",
            "538092d6433b409594196c2ce3d69e8b",
            "f486c740dc924d26bc1491a6e985df26",
            "bf32a268e9ac46faa46072f1f2100616"
          ]
        },
        "id": "HJaUp2Vob0U-",
        "outputId": "bd4cc102-601c-42a4-b8aa-0789e1f9f57f"
      },
      "outputs": [
        {
          "output_type": "stream",
          "name": "stderr",
          "text": [
            "Using cache found in /root/.cache/torch/hub/huggingface_pytorch-transformers_main\n",
            "Xet Storage is enabled for this repo, but the 'hf_xet' package is not installed. Falling back to regular HTTP download. For better performance, install the package with: `pip install huggingface_hub[hf_xet]` or `pip install hf_xet`\n",
            "WARNING:huggingface_hub.file_download:Xet Storage is enabled for this repo, but the 'hf_xet' package is not installed. Falling back to regular HTTP download. For better performance, install the package with: `pip install huggingface_hub[hf_xet]` or `pip install hf_xet`\n"
          ]
        },
        {
          "output_type": "display_data",
          "data": {
            "text/plain": [
              "model.safetensors:   0%|          | 0.00/268M [00:00<?, ?B/s]"
            ],
            "application/vnd.jupyter.widget-view+json": {
              "version_major": 2,
              "version_minor": 0,
              "model_id": "512eb7e96a3f47fab32c074076e0fdd9"
            }
          },
          "metadata": {}
        },
        {
          "output_type": "execute_result",
          "data": {
            "text/plain": [
              "DistilBertModel(\n",
              "  (embeddings): Embeddings(\n",
              "    (word_embeddings): Embedding(30522, 768, padding_idx=0)\n",
              "    (position_embeddings): Embedding(512, 768)\n",
              "    (LayerNorm): LayerNorm((768,), eps=1e-12, elementwise_affine=True)\n",
              "    (dropout): Dropout(p=0.1, inplace=False)\n",
              "  )\n",
              "  (transformer): Transformer(\n",
              "    (layer): ModuleList(\n",
              "      (0-5): 6 x TransformerBlock(\n",
              "        (attention): DistilBertSdpaAttention(\n",
              "          (dropout): Dropout(p=0.1, inplace=False)\n",
              "          (q_lin): Linear(in_features=768, out_features=768, bias=True)\n",
              "          (k_lin): Linear(in_features=768, out_features=768, bias=True)\n",
              "          (v_lin): Linear(in_features=768, out_features=768, bias=True)\n",
              "          (out_lin): Linear(in_features=768, out_features=768, bias=True)\n",
              "        )\n",
              "        (sa_layer_norm): LayerNorm((768,), eps=1e-12, elementwise_affine=True)\n",
              "        (ffn): FFN(\n",
              "          (dropout): Dropout(p=0.1, inplace=False)\n",
              "          (lin1): Linear(in_features=768, out_features=3072, bias=True)\n",
              "          (lin2): Linear(in_features=3072, out_features=768, bias=True)\n",
              "          (activation): GELUActivation()\n",
              "        )\n",
              "        (output_layer_norm): LayerNorm((768,), eps=1e-12, elementwise_affine=True)\n",
              "      )\n",
              "    )\n",
              "  )\n",
              ")"
            ]
          },
          "metadata": {},
          "execution_count": 4
        }
      ],
      "source": [
        "#DistilBERT 모델을 PyTorch Hub에서 로드 후 model 출력\n",
        "model = torch.hub.load('huggingface/pytorch-transformers', 'model', 'distilbert-base-uncased')\n",
        "model"
      ]
    },
    {
      "cell_type": "markdown",
      "metadata": {
        "id": "uh-tqY8WInQt"
      },
      "source": [
        "AG News는 4개의 카테고리를 가지고 있으므로 출력 차원을 4로 설정한다."
      ]
    },
    {
      "cell_type": "code",
      "execution_count": 5,
      "metadata": {
        "colab": {
          "base_uri": "https://localhost:8080/"
        },
        "id": "xW7ETZQzzNp2",
        "outputId": "5af1edef-d2ef-4209-e931-c1fb877ebad5"
      },
      "outputs": [
        {
          "output_type": "stream",
          "name": "stderr",
          "text": [
            "Using cache found in /root/.cache/torch/hub/huggingface_pytorch-transformers_main\n"
          ]
        }
      ],
      "source": [
        "from torch import nn\n",
        "\n",
        "# 텍스트 분류 모델 정의 (DistilBERT + Linear layer)\n",
        "class TextClassifier(nn.Module):\n",
        "    def __init__(self):\n",
        "        super().__init__()\n",
        "\n",
        "        # 사전학습된 DistilBERT 모델을 encoder로 불러옴 (pretrained transformer)\n",
        "        # 텍스트의 의미를 이해하고 벡터로 변환하는 역할을 한다\n",
        "        self.encoder = torch.hub.load('huggingface/pytorch-transformers', 'model', 'distilbert-base-uncased')\n",
        "\n",
        "        # [CLS] 토큰 분류기 정의\n",
        "        # 768차원의 입력을 받아 1차원으로 출력하는 선형 레이어 -> 뉴스 카테고리 출력\n",
        "        # 768은 DistilBERT의 hidden state 크기\n",
        "        self.classifier = nn.Linear(768, 4)\n",
        "\n",
        "    def forward(self, x):\n",
        "        # encoder에 input_ids 전달\n",
        "        # DistilBERT는 여러 층의 트랜스포머 레이어로 구성되어 있다\n",
        "        # last_hidden_state는 마지막 트랜스포머 레이어의 출력값이다\n",
        "        # 이는 모델이 텍스트를 처리한 최종 문맥 표현(contextual representation)을 담고 있다\n",
        "        x = self.encoder(x)['last_hidden_state']\n",
        "\n",
        "        # [CLS] 토큰 위치 벡터를 classification head에 전달\n",
        "        x = self.classifier(x[:, 0])\n",
        "\n",
        "        # (batch_size, 4) 형태의 logits 반환\n",
        "        return x\n",
        "\n",
        "model = TextClassifier()\n",
        "\n",
        "device = torch.device('cuda' if torch.cuda.is_available() else 'cpu')\n",
        "model = model.to(device)"
      ]
    },
    {
      "cell_type": "markdown",
      "metadata": {
        "id": "_hFvSis0JLju"
      },
      "source": [
        "마지막 classifier layer를 제외한 나머지 부분을 freeze한다."
      ]
    },
    {
      "cell_type": "code",
      "execution_count": 6,
      "metadata": {
        "id": "uyTciaPZ0KYo"
      },
      "outputs": [],
      "source": [
        "for param in model.encoder.parameters():\n",
        "  param.requires_grad = False"
      ]
    },
    {
      "cell_type": "markdown",
      "source": [
        "모델의 성능을 평가하기 위해 정확도를 계산하는 함수를 추가한다."
      ],
      "metadata": {
        "id": "svqGfJaQ81Ht"
      }
    },
    {
      "cell_type": "code",
      "execution_count": 7,
      "metadata": {
        "id": "Foks5u95ZQ1_"
      },
      "outputs": [],
      "source": [
        "def compute_accuracy(model, dataloader):\n",
        "    cnt = 0      # 전체 샘플 수\n",
        "    acc = 0      # 정답 개수 누적\n",
        "\n",
        "    for data in dataloader:\n",
        "        inputs, labels = data\n",
        "        inputs, labels = inputs.to(device), labels.to(device)\n",
        "\n",
        "        preds = model(inputs)  # 로짓(logit) 출력\n",
        "\n",
        "        # argmax 사용하여 가장 높은 확률의 클래스 선택\n",
        "        preds = torch.argmax(preds, dim=-1)\n",
        "\n",
        "        cnt += labels.shape[0]  # 총 샘플 수 누적\n",
        "        acc += (labels == preds).sum().item()  # 예측이 맞은 수 누적\n",
        "\n",
        "    return acc / cnt  # 정확도 반환\n",
        "\n",
        "# 모델 성능 평가\n",
        "def evaluate(model, train_loader, test_loader, title_prefix=\"\"):\n",
        "    # 정확도 계산\n",
        "    train_acc = compute_accuracy(model, train_loader)\n",
        "    test_acc = compute_accuracy(model, test_loader)\n",
        "\n",
        "    print(f\"\\n=== {title_prefix} 모델 성능 ===\")\n",
        "    print(f\"Train Accuracy: {train_acc:.4f}\")\n",
        "    print(f\"Test Accuracy: {test_acc:.4f}\")\n",
        "\n",
        "    return train_acc, test_acc"
      ]
    },
    {
      "cell_type": "markdown",
      "metadata": {
        "id": "FzXjPA3z4pgJ"
      },
      "source": [
        "분류 문제이므로 CrossEntropyLoss 사용한다."
      ]
    },
    {
      "cell_type": "code",
      "execution_count": 8,
      "metadata": {
        "colab": {
          "base_uri": "https://localhost:8080/",
          "height": 1000
        },
        "id": "XvvaAEwCznt-",
        "outputId": "32b913d7-348b-45e7-ab88-d46ed947faee"
      },
      "outputs": [
        {
          "output_type": "stream",
          "name": "stderr",
          "text": [
            "We strongly recommend passing in an `attention_mask` since your input_ids may be padded. See https://huggingface.co/docs/transformers/troubleshooting#incorrect-output-when-padding-tokens-arent-masked.\n"
          ]
        },
        {
          "output_type": "stream",
          "name": "stdout",
          "text": [
            "\n",
            "Epoch 1/10\n",
            "Total Loss: 99.6432\n",
            "Average Loss: 1.0600\n",
            "Train Accuracy: 0.7917\n",
            "Test Accuracy: 0.8211\n",
            "\n",
            "\n",
            "Epoch 2/10\n",
            "Total Loss: 69.0033\n",
            "Average Loss: 0.7341\n",
            "Train Accuracy: 0.8128\n",
            "Test Accuracy: 0.8289\n",
            "\n",
            "\n",
            "Epoch 3/10\n",
            "Total Loss: 60.3486\n",
            "Average Loss: 0.6420\n",
            "Train Accuracy: 0.8365\n",
            "Test Accuracy: 0.8237\n",
            "\n",
            "\n",
            "Epoch 4/10\n",
            "Total Loss: 53.8779\n",
            "Average Loss: 0.5732\n",
            "Train Accuracy: 0.8223\n",
            "Test Accuracy: 0.8316\n",
            "\n",
            "\n",
            "Epoch 5/10\n",
            "Total Loss: 51.3682\n",
            "Average Loss: 0.5465\n",
            "Train Accuracy: 0.8342\n",
            "Test Accuracy: 0.8342\n",
            "\n",
            "\n",
            "Epoch 6/10\n",
            "Total Loss: 49.4005\n",
            "Average Loss: 0.5255\n",
            "Train Accuracy: 0.8322\n",
            "Test Accuracy: 0.8184\n",
            "\n",
            "\n",
            "Epoch 7/10\n",
            "Total Loss: 47.4321\n",
            "Average Loss: 0.5046\n",
            "Train Accuracy: 0.8425\n",
            "Test Accuracy: 0.8605\n",
            "\n",
            "\n",
            "Epoch 8/10\n",
            "Total Loss: 46.5706\n",
            "Average Loss: 0.4954\n",
            "Train Accuracy: 0.8473\n",
            "Test Accuracy: 0.8605\n",
            "\n",
            "\n",
            "Epoch 9/10\n",
            "Total Loss: 45.6679\n",
            "Average Loss: 0.4858\n",
            "Train Accuracy: 0.8482\n",
            "Test Accuracy: 0.8553\n",
            "\n",
            "\n",
            "Epoch 10/10\n",
            "Total Loss: 44.6820\n",
            "Average Loss: 0.4753\n",
            "Train Accuracy: 0.8460\n",
            "Test Accuracy: 0.8526\n",
            "\n",
            "\n",
            "=== fine tuning 후 모델 성능 ===\n",
            "Train Accuracy: 0.8438\n",
            "Test Accuracy: 0.8553\n"
          ]
        },
        {
          "output_type": "display_data",
          "data": {
            "text/plain": [
              "<Figure size 1500x500 with 2 Axes>"
            ],
            "image/png": "[encoded data removed]"
          },
          "metadata": {}
        }
      ],
      "source": [
        "from torch.optim import Adam\n",
        "import numpy as np\n",
        "import matplotlib.pyplot as plt\n",
        "\n",
        "# 학습 설정\n",
        "lr = 0.001\n",
        "# 분류 문제이므로 CrossEntropyLoss 사용\n",
        "loss_fn = nn.CrossEntropyLoss()\n",
        "\n",
        "optimizer = Adam(model.parameters(), lr=lr)\n",
        "n_epochs = 10\n",
        "\n",
        "# AG News 클래스 레이블\n",
        "classes = {\n",
        "    0: \"World\",\n",
        "    1: \"Sports\",\n",
        "    2: \"Business\",\n",
        "    3: \"Sci/Tech\"\n",
        "}\n",
        "\n",
        "train_losses = []\n",
        "train_accs = []\n",
        "test_accs = []\n",
        "\n",
        "# 학습 루프\n",
        "for epoch in range(n_epochs):\n",
        "    total_loss = 0.\n",
        "    model.train()  # 학습 모드 설정\n",
        "\n",
        "    for data in train_loader:\n",
        "        model.zero_grad()  # 이전 gradient 초기화\n",
        "\n",
        "        inputs, labels = data\n",
        "        inputs, labels = inputs.to(device), labels.to(device)\n",
        "\n",
        "        preds = model(inputs)\n",
        "\n",
        "        loss = loss_fn(preds, labels)  # 손실 계산\n",
        "        total_loss += loss.item()  # loss 누적\n",
        "\n",
        "        loss.backward()  # 역전파\n",
        "        optimizer.step()  # 파라미터 업데이트\n",
        "\n",
        "    avg_loss = total_loss / len(train_loader)\n",
        "    train_losses.append(avg_loss)\n",
        "\n",
        "    # 에폭마다 정확도 계산\n",
        "    train_acc = compute_accuracy(model, train_loader)\n",
        "    test_acc = compute_accuracy(model, test_loader)\n",
        "    train_accs.append(train_acc)\n",
        "    test_accs.append(test_acc)\n",
        "\n",
        "    print(f\"\\nEpoch {epoch + 1}/{n_epochs}\")\n",
        "    print(f\"Total Loss: {total_loss:.4f}\")\n",
        "    print(f\"Average Loss: {avg_loss:.4f}\")\n",
        "    print(f\"Train Accuracy: {train_acc:.4f}\")\n",
        "    print(f\"Test Accuracy: {test_acc:.4f}\\n\")\n",
        "\n",
        "\n",
        "\n",
        "train_acc = compute_accuracy(model, train_loader)\n",
        "test_acc = compute_accuracy(model, test_loader)\n",
        "\n",
        "print(f\"\\n=== fine tuning 후 모델 성능 ===\")\n",
        "print(f\"Train Accuracy: {train_acc:.4f}\")\n",
        "print(f\"Test Accuracy: {test_acc:.4f}\")\n",
        "\n",
        "plt.figure(figsize=(15, 5))\n",
        "\n",
        "# 학습 중 손실 그래프\n",
        "plt.subplot(1, 2, 1)\n",
        "plt.plot(train_losses, label='Training Loss')\n",
        "plt.title('Training Loss Over Epochs')\n",
        "plt.xlabel('Epoch')\n",
        "plt.ylabel('Loss')\n",
        "plt.legend()\n",
        "\n",
        "# 정확도 비교 그래프\n",
        "plt.subplot(1, 2, 2)\n",
        "plt.plot(train_accs, label='Train Accuracy')\n",
        "plt.plot(test_accs, label='Test Accuracy')\n",
        "plt.xlabel('Epoch')\n",
        "plt.ylabel('Accuracy')\n",
        "plt.legend()\n",
        "\n",
        "plt.tight_layout()\n",
        "plt.show()\n"
      ]
    },
    {
      "cell_type": "code",
      "source": [
        "def visualize_predictions(model, dataloader, num_samples):\n",
        "    model.eval()  # 평가 모드로 설정\n",
        "\n",
        "    # AG News 클래스 레이블\n",
        "    classes = {\n",
        "        0: \"World\",\n",
        "        1: \"Sports\",\n",
        "        2: \"Business\",\n",
        "        3: \"Sci/Tech\"\n",
        "    }\n",
        "\n",
        "    with torch.no_grad():\n",
        "        # 데이터로더에서 배치 하나를 가져온다\n",
        "        texts, labels = next(iter(dataloader))\n",
        "        texts, labels = texts.to(device), labels.to(device)\n",
        "\n",
        "        # 예측 수행\n",
        "        outputs = model(texts)\n",
        "        _, predicted = torch.max(outputs, 1)\n",
        "\n",
        "        # num_samples 개수만큼 결과 출력\n",
        "        print(\"\\n=== 예측 결과 ===\")\n",
        "        for idx in range(min(num_samples, len(texts))):\n",
        "            print(f\"\\n샘플 {idx+1}\")\n",
        "            print(f\"예측 클래스: {classes[predicted[idx].item()]}\")\n",
        "            print(f\"실제 클래스: {classes[labels[idx].item()]}\")\n",
        "            print(f\"예측 결과: {'정답' if predicted[idx] == labels[idx] else '오답'}\")\n",
        "            print(\"-\" * 50)\n",
        "\n",
        "# 예측 결과 확인\n",
        "visualize_predictions(model, test_loader, 10)"
      ],
      "metadata": {
        "id": "V_g5ubbSo7xf",
        "outputId": "34247351-0ecf-42bf-e8f1-14051fbcb059",
        "colab": {
          "base_uri": "https://localhost:8080/"
        }
      },
      "execution_count": 9,
      "outputs": [
        {
          "output_type": "stream",
          "name": "stdout",
          "text": [
            "\n",
            "=== 예측 결과 ===\n",
            "\n",
            "샘플 1\n",
            "예측 클래스: Business\n",
            "실제 클래스: Business\n",
            "예측 결과: 정답\n",
            "--------------------------------------------------\n",
            "\n",
            "샘플 2\n",
            "예측 클래스: Sci/Tech\n",
            "실제 클래스: Sci/Tech\n",
            "예측 결과: 정답\n",
            "--------------------------------------------------\n",
            "\n",
            "샘플 3\n",
            "예측 클래스: Sci/Tech\n",
            "실제 클래스: Sci/Tech\n",
            "예측 결과: 정답\n",
            "--------------------------------------------------\n",
            "\n",
            "샘플 4\n",
            "예측 클래스: Sci/Tech\n",
            "실제 클래스: Sci/Tech\n",
            "예측 결과: 정답\n",
            "--------------------------------------------------\n",
            "\n",
            "샘플 5\n",
            "예측 클래스: Sci/Tech\n",
            "실제 클래스: Sci/Tech\n",
            "예측 결과: 정답\n",
            "--------------------------------------------------\n",
            "\n",
            "샘플 6\n",
            "예측 클래스: Sci/Tech\n",
            "실제 클래스: Sci/Tech\n",
            "예측 결과: 정답\n",
            "--------------------------------------------------\n",
            "\n",
            "샘플 7\n",
            "예측 클래스: Sci/Tech\n",
            "실제 클래스: Sci/Tech\n",
            "예측 결과: 정답\n",
            "--------------------------------------------------\n",
            "\n",
            "샘플 8\n",
            "예측 클래스: Sci/Tech\n",
            "실제 클래스: Sci/Tech\n",
            "예측 결과: 정답\n",
            "--------------------------------------------------\n",
            "\n",
            "샘플 9\n",
            "예측 클래스: World\n",
            "실제 클래스: Sci/Tech\n",
            "예측 결과: 오답\n",
            "--------------------------------------------------\n",
            "\n",
            "샘플 10\n",
            "예측 클래스: Sci/Tech\n",
            "실제 클래스: Sci/Tech\n",
            "예측 결과: 정답\n",
            "--------------------------------------------------\n"
          ]
        }
      ]
    }
  ],
  "metadata": {
    "accelerator": "GPU",
    "colab": {
      "gpuType": "T4",
      "provenance": []
    },
    "kernelspec": {
      "display_name": "Python 3",
      "name": "python3"
    },
    "language_info": {
      "codemirror_mode": {
        "name": "ipython",
        "version": 3
      },
      "file_extension": ".py",
      "mimetype": "text/x-python",
      "name": "python",
      "nbconvert_exporter": "python",
      "pygments_lexer": "ipython3",
      "version": "3.12.9"
    }
  },
  "nbformat": 4,
  "nbformat_minor": 0
}