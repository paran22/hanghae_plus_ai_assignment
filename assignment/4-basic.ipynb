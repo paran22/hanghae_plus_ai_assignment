{
  "cells": [
    {
      "cell_type": "markdown",
      "metadata": {
        "id": "5MpmagxywFxb"
      },
      "source": [
        "## [4주차] 기본과제 - HuggingFace로 두 문장의 논리적 모순 분류하기\n",
        "\n",
        "MNLI는 두 문장이 주어졌을 때 논리적으로 연결이 되어 있는지, 서로 모순되는지, 아니면 아예 무관한지 분류하는 문제이다.\n",
        "\n",
        "- **입력**: premise에 해당하는 문장과 hypothesis에 해당하는 문장 두 개가 입력으로 들어옵니다.\n",
        "- **출력:** 분류 문제로, 두 문장이 들어왔을 때 다음 세 가지를 예측하시면 됩니다.\n",
        "    - **Entailment:** 두 문장에 논리적 모순이 없습니다.\n",
        "    - **Neutral:** 두 문장은 논리적으로 관련이 없습니다.\n",
        "    - **Contradiction:** 두 문장 사이에 논리적 모순이 존재합니다."
      ]
    },
    {
      "cell_type": "code",
      "execution_count": 1,
      "metadata": {
        "colab": {
          "base_uri": "https://localhost:8080/"
        },
        "id": "_mdPFPzJwFxc",
        "outputId": "ab0af908-1d27-44f9-ceb4-da1a56aedd68"
      },
      "outputs": [
        {
          "name": "stdout",
          "output_type": "stream",
          "text": [
            "Requirement already satisfied: transformers in /usr/local/lib/python3.11/dist-packages (4.50.3)\n",
            "Requirement already satisfied: datasets in /usr/local/lib/python3.11/dist-packages (3.5.0)\n",
            "Requirement already satisfied: numpy in /usr/local/lib/python3.11/dist-packages (2.0.2)\n",
            "Requirement already satisfied: matplotlib in /usr/local/lib/python3.11/dist-packages (3.10.0)\n",
            "Requirement already satisfied: evaluate in /usr/local/lib/python3.11/dist-packages (0.4.3)\n",
            "Requirement already satisfied: filelock in /usr/local/lib/python3.11/dist-packages (from transformers) (3.18.0)\n",
            "Requirement already satisfied: huggingface-hub<1.0,>=0.26.0 in /usr/local/lib/python3.11/dist-packages (from transformers) (0.30.1)\n",
            "Requirement already satisfied: packaging>=20.0 in /usr/local/lib/python3.11/dist-packages (from transformers) (24.2)\n",
            "Requirement already satisfied: pyyaml>=5.1 in /usr/local/lib/python3.11/dist-packages (from transformers) (6.0.2)\n",
            "Requirement already satisfied: regex!=2019.12.17 in /usr/local/lib/python3.11/dist-packages (from transformers) (2024.11.6)\n",
            "Requirement already satisfied: requests in /usr/local/lib/python3.11/dist-packages (from transformers) (2.32.3)\n",
            "Requirement already satisfied: tokenizers<0.22,>=0.21 in /usr/local/lib/python3.11/dist-packages (from transformers) (0.21.1)\n",
            "Requirement already satisfied: safetensors>=0.4.3 in /usr/local/lib/python3.11/dist-packages (from transformers) (0.5.3)\n",
            "Requirement already satisfied: tqdm>=4.27 in /usr/local/lib/python3.11/dist-packages (from transformers) (4.67.1)\n",
            "Requirement already satisfied: pyarrow>=15.0.0 in /usr/local/lib/python3.11/dist-packages (from datasets) (18.1.0)\n",
            "Requirement already satisfied: dill<0.3.9,>=0.3.0 in /usr/local/lib/python3.11/dist-packages (from datasets) (0.3.8)\n",
            "Requirement already satisfied: pandas in /usr/local/lib/python3.11/dist-packages (from datasets) (2.2.2)\n",
            "Requirement already satisfied: xxhash in /usr/local/lib/python3.11/dist-packages (from datasets) (3.5.0)\n",
            "Requirement already satisfied: multiprocess<0.70.17 in /usr/local/lib/python3.11/dist-packages (from datasets) (0.70.16)\n",
            "Requirement already satisfied: fsspec<=2024.12.0,>=2023.1.0 in /usr/local/lib/python3.11/dist-packages (from fsspec[http]<=2024.12.0,>=2023.1.0->datasets) (2024.12.0)\n",
            "Requirement already satisfied: aiohttp in /usr/local/lib/python3.11/dist-packages (from datasets) (3.11.15)\n",
            "Requirement already satisfied: contourpy>=1.0.1 in /usr/local/lib/python3.11/dist-packages (from matplotlib) (1.3.1)\n",
            "Requirement already satisfied: cycler>=0.10 in /usr/local/lib/python3.11/dist-packages (from matplotlib) (0.12.1)\n",
            "Requirement already satisfied: fonttools>=4.22.0 in /usr/local/lib/python3.11/dist-packages (from matplotlib) (4.57.0)\n",
            "Requirement already satisfied: kiwisolver>=1.3.1 in /usr/local/lib/python3.11/dist-packages (from matplotlib) (1.4.8)\n",
            "Requirement already satisfied: pillow>=8 in /usr/local/lib/python3.11/dist-packages (from matplotlib) (11.1.0)\n",
            "Requirement already satisfied: pyparsing>=2.3.1 in /usr/local/lib/python3.11/dist-packages (from matplotlib) (3.2.3)\n",
            "Requirement already satisfied: python-dateutil>=2.7 in /usr/local/lib/python3.11/dist-packages (from matplotlib) (2.8.2)\n",
            "Requirement already satisfied: aiohappyeyeballs>=2.3.0 in /usr/local/lib/python3.11/dist-packages (from aiohttp->datasets) (2.6.1)\n",
            "Requirement already satisfied: aiosignal>=1.1.2 in /usr/local/lib/python3.11/dist-packages (from aiohttp->datasets) (1.3.2)\n",
            "Requirement already satisfied: attrs>=17.3.0 in /usr/local/lib/python3.11/dist-packages (from aiohttp->datasets) (25.3.0)\n",
            "Requirement already satisfied: frozenlist>=1.1.1 in /usr/local/lib/python3.11/dist-packages (from aiohttp->datasets) (1.5.0)\n",
            "Requirement already satisfied: multidict<7.0,>=4.5 in /usr/local/lib/python3.11/dist-packages (from aiohttp->datasets) (6.3.2)\n",
            "Requirement already satisfied: propcache>=0.2.0 in /usr/local/lib/python3.11/dist-packages (from aiohttp->datasets) (0.3.1)\n",
            "Requirement already satisfied: yarl<2.0,>=1.17.0 in /usr/local/lib/python3.11/dist-packages (from aiohttp->datasets) (1.18.3)\n",
            "Requirement already satisfied: typing-extensions>=3.7.4.3 in /usr/local/lib/python3.11/dist-packages (from huggingface-hub<1.0,>=0.26.0->transformers) (4.13.1)\n",
            "Requirement already satisfied: six>=1.5 in /usr/local/lib/python3.11/dist-packages (from python-dateutil>=2.7->matplotlib) (1.17.0)\n",
            "Requirement already satisfied: charset-normalizer<4,>=2 in /usr/local/lib/python3.11/dist-packages (from requests->transformers) (3.4.1)\n",
            "Requirement already satisfied: idna<4,>=2.5 in /usr/local/lib/python3.11/dist-packages (from requests->transformers) (3.10)\n",
            "Requirement already satisfied: urllib3<3,>=1.21.1 in /usr/local/lib/python3.11/dist-packages (from requests->transformers) (2.3.0)\n",
            "Requirement already satisfied: certifi>=2017.4.17 in /usr/local/lib/python3.11/dist-packages (from requests->transformers) (2025.1.31)\n",
            "Requirement already satisfied: pytz>=2020.1 in /usr/local/lib/python3.11/dist-packages (from pandas->datasets) (2025.2)\n",
            "Requirement already satisfied: tzdata>=2022.7 in /usr/local/lib/python3.11/dist-packages (from pandas->datasets) (2025.2)\n"
          ]
        }
      ],
      "source": [
        "%pip install transformers datasets numpy matplotlib evaluate"
      ]
    },
    {
      "cell_type": "code",
      "execution_count": 2,
      "metadata": {
        "id": "QULxGk_TwFxc"
      },
      "outputs": [],
      "source": [
        "from datasets import load_dataset"
      ]
    },
    {
      "cell_type": "markdown",
      "metadata": {
        "id": "wfzjMn2nwFxd"
      },
      "source": [
        "## Dataset 준비"
      ]
    },
    {
      "cell_type": "markdown",
      "metadata": {
        "id": "KYcaluiZwFxd"
      },
      "source": [
        "허깅페이스를 통해 mnli 데이터셋을 로드한다.\n",
        "\n",
        "- train: 모델 학습을 위한 주 데이터셋으로, 다양한 장르의 텍스트로 구성\n",
        "- validation_matched: 모델 성능 평가를 위한 검증 데이터셋으로, 학습의 데이터와 같은 장르의 텍스트로 구성된다. 모델이 학습한 도메인에서 얼마나 잘 작동하는지 평가한다.\n",
        "- validation_mismatched: 모델 성능 평가를 위한 검증 데이터셋으로, 학습 데이터와 다른 장르의 텍스트로 구성된다. 모델이 새로운 도메인에서 얼마나 잘 작동하는지 평가한다.\n",
        "- test_matched: 최종 테스트용 데이터셋으로, 학습 데이터와 같은 장르의 텍스트로 구성된다.\n",
        "- test_mismatched: 최종 테스트용 데이터셋으로, 학습 데이터와 다른 장르의 텍스트로 구성된다.\n",
        "\n",
        "학습에 사용한 train 데이터는 392702개, 검증에 사용한 validation_matched 데이터는 9815개이다."
      ]
    },
    {
      "cell_type": "code",
      "execution_count": 3,
      "metadata": {
        "colab": {
          "base_uri": "https://localhost:8080/"
        },
        "id": "ccYLeuTSwFxd",
        "outputId": "21935170-9093-475a-9426-6bb6b0eb6661"
      },
      "outputs": [
        {
          "name": "stderr",
          "output_type": "stream",
          "text": [
            "/usr/local/lib/python3.11/dist-packages/huggingface_hub/utils/_auth.py:94: UserWarning: \n",
            "The secret `HF_TOKEN` does not exist in your Colab secrets.\n",
            "To authenticate with the Hugging Face Hub, create a token in your settings tab (https://huggingface.co/settings/tokens), set it as secret in your Google Colab and restart your session.\n",
            "You will be able to reuse this secret in all of your notebooks.\n",
            "Please note that authentication is recommended but still optional to access public models or datasets.\n",
            "  warnings.warn(\n"
          ]
        },
        {
          "data": {
            "text/plain": [
              "DatasetDict({\n",
              "    train: Dataset({\n",
              "        features: ['premise', 'hypothesis', 'label', 'idx'],\n",
              "        num_rows: 392702\n",
              "    })\n",
              "    validation_matched: Dataset({\n",
              "        features: ['premise', 'hypothesis', 'label', 'idx'],\n",
              "        num_rows: 9815\n",
              "    })\n",
              "    validation_mismatched: Dataset({\n",
              "        features: ['premise', 'hypothesis', 'label', 'idx'],\n",
              "        num_rows: 9832\n",
              "    })\n",
              "    test_matched: Dataset({\n",
              "        features: ['premise', 'hypothesis', 'label', 'idx'],\n",
              "        num_rows: 9796\n",
              "    })\n",
              "    test_mismatched: Dataset({\n",
              "        features: ['premise', 'hypothesis', 'label', 'idx'],\n",
              "        num_rows: 9847\n",
              "    })\n",
              "})"
            ]
          },
          "execution_count": 3,
          "metadata": {},
          "output_type": "execute_result"
        }
      ],
      "source": [
        "mnli = load_dataset(\"nyu-mll/glue\", \"mnli\")\n",
        "mnli"
      ]
    },
    {
      "cell_type": "code",
      "execution_count": 4,
      "metadata": {
        "colab": {
          "base_uri": "https://localhost:8080/"
        },
        "id": "ssvYxbQWwFxd",
        "outputId": "edbe9a98-d735-40c7-f0e9-3e5997911f02"
      },
      "outputs": [
        {
          "data": {
            "text/plain": [
              "{'premise': 'Conceptually cream skimming has two basic dimensions - product and geography.',\n",
              " 'hypothesis': 'Product and geography are what make cream skimming work. ',\n",
              " 'label': 1,\n",
              " 'idx': 0}"
            ]
          },
          "execution_count": 4,
          "metadata": {},
          "output_type": "execute_result"
        }
      ],
      "source": [
        "mnli['train'][0]"
      ]
    },
    {
      "cell_type": "markdown",
      "metadata": {
        "id": "EWEur2KGwFxd"
      },
      "source": [
        "RoBERTa 토크나이저를 로드하여 데이터셋에 적용한다.\n",
        "\n",
        "학습에 사용한 데이터셋은 전체의 5%로만 사용한다."
      ]
    },
    {
      "cell_type": "code",
      "execution_count": 5,
      "metadata": {
        "id": "mm7Pn7E0wFxd"
      },
      "outputs": [],
      "source": [
        "from transformers import AutoTokenizer\n",
        "\n",
        "import os\n",
        "os.environ[\"TOKENIZERS_PARALLELISM\"] = \"false\"\n",
        "\n",
        "# RoBERTa 토크나이저 로드\n",
        "tokenizer = AutoTokenizer.from_pretrained('roberta-base')\n",
        "\n",
        "# MNLI 데이터셋을 위한 전처리 함수\n",
        "def preprocess_function(data):\n",
        "    return tokenizer(\n",
        "        data['premise'],\n",
        "        data['hypothesis'],\n",
        "        truncation=True,\n",
        "        max_length=128,\n",
        "        padding='max_length',\n",
        "        return_tensors=None\n",
        "    )\n",
        "\n",
        "# 데이터셋 토크나이징\n",
        "tokenized_mnli = mnli['train'].map(preprocess_function, batched=True)\n",
        "tokenized_validation_matched = mnli['validation_matched'].map(preprocess_function, batched=True)\n",
        "\n",
        "# 데이터셋의 5%만 사용\n",
        "train_size = len(tokenized_mnli) // 20    # 약 19,635개\n",
        "val_size = len(tokenized_validation_matched) // 20   # 약 490개\n",
        "\n",
        "train_dataset = tokenized_mnli.shuffle(seed=42).select(range(train_size))\n",
        "validation_dataset = tokenized_validation_matched.shuffle(seed=42).select(range(val_size))"
      ]
    },
    {
      "cell_type": "markdown",
      "metadata": {
        "id": "3bPBOWPGwFxd"
      },
      "source": [
        "토크나이징한 결과 input_ids와 attention_mask가 추가된 것을 확인할 수 있다."
      ]
    },
    {
      "cell_type": "code",
      "execution_count": 6,
      "metadata": {
        "colab": {
          "base_uri": "https://localhost:8080/"
        },
        "id": "omJXl4GIwFxd",
        "outputId": "91978cb4-cdc8-4a03-e090-8cc7dd834954"
      },
      "outputs": [
        {
          "data": {
            "text/plain": [
              "dict_keys(['premise', 'hypothesis', 'label', 'idx', 'input_ids', 'attention_mask'])"
            ]
          },
          "execution_count": 6,
          "metadata": {},
          "output_type": "execute_result"
        }
      ],
      "source": [
        "tokenized_mnli[0].keys()"
      ]
    },
    {
      "cell_type": "markdown",
      "metadata": {
        "id": "xSPABPqpwFxd"
      },
      "source": [
        "## Model 정의와 학습"
      ]
    },
    {
      "cell_type": "markdown",
      "metadata": {
        "id": "B-QvzkhKwFxd"
      },
      "source": [
        "모델을 평가할 메트릭을 정의한다."
      ]
    },
    {
      "cell_type": "code",
      "execution_count": 7,
      "metadata": {
        "colab": {
          "base_uri": "https://localhost:8080/"
        },
        "id": "Qr5kX7pfwFxd",
        "outputId": "3c8ba9e4-a8e7-4f26-8d4f-9d48485f05a1"
      },
      "outputs": [
        {
          "name": "stderr",
          "output_type": "stream",
          "text": [
            "Some weights of RobertaForSequenceClassification were not initialized from the model checkpoint at roberta-base and are newly initialized: ['classifier.dense.bias', 'classifier.dense.weight', 'classifier.out_proj.bias', 'classifier.out_proj.weight']\n",
            "You should probably TRAIN this model on a down-stream task to be able to use it for predictions and inference.\n"
          ]
        }
      ],
      "source": [
        "from transformers import AutoModelForSequenceClassification\n",
        "import numpy as np\n",
        "from evaluate import load\n",
        "\n",
        "# entailment, contradiction, neutral\n",
        "num_labels = 3\n",
        "\n",
        "# RoBERTa 모델 로드\n",
        "model = AutoModelForSequenceClassification.from_pretrained(\n",
        "    'roberta-base',\n",
        "    num_labels=num_labels\n",
        ")\n",
        "\n",
        "# 분류기(classifier)를 제외한 모든 레이어 동결\n",
        "for param in model.roberta.parameters():\n",
        "    param.requires_grad = False\n",
        "for param in model.classifier.parameters():\n",
        "    param.requires_grad = True\n",
        "\n",
        "accuracy = load(\"accuracy\")\n",
        "\n",
        "# 평가 메트릭 정의\n",
        "def compute_metrics(eval_pred):\n",
        "    logits, labels = eval_pred\n",
        "    predictions = np.argmax(logits, axis=-1)\n",
        "\n",
        "    metrics = accuracy.compute(predictions=predictions, references=labels)\n",
        "\n",
        "    return metrics\n"
      ]
    },
    {
      "cell_type": "markdown",
      "metadata": {
        "id": "tPol4efSwFxd"
      },
      "source": [
        "학습할 때 early stopping을 사용하기 위해 callback을 정의한다."
      ]
    },
    {
      "cell_type": "code",
      "execution_count": 8,
      "metadata": {
        "id": "bFa_jgtswFxe"
      },
      "outputs": [],
      "source": [
        "from transformers import EarlyStoppingCallback\n",
        "\n",
        "# EarlyStopping 콜백 정의\n",
        "early_stopping_callback = EarlyStoppingCallback(\n",
        "    early_stopping_patience=2,        # 2번의 에포크 동안 성능 향상이 없으면 중단\n",
        "    early_stopping_threshold=0.0,     # 성능 향상으로 간주할 최소 차이값\n",
        ")"
      ]
    },
    {
      "cell_type": "markdown",
      "metadata": {
        "id": "-oMxMDJtwFxe"
      },
      "source": [
        "학습 과정을 시각화하기 위한 callback을 정의한다."
      ]
    },
    {
      "cell_type": "code",
      "execution_count": 9,
      "metadata": {
        "id": "uH7BnIOowFxe"
      },
      "outputs": [],
      "source": [
        "from transformers import TrainerCallback\n",
        "import matplotlib.pyplot as plt\n",
        "from IPython.display import clear_output\n",
        "\n",
        "class VisualizationCallback(TrainerCallback):\n",
        "    def __init__(self):\n",
        "        self.train_losses = []\n",
        "        self.eval_accuracies = []\n",
        "        self.last_eval_results = None\n",
        "        self.learning_rate = None\n",
        "        self.batch_size = None\n",
        "\n",
        "    def on_train_begin(self, args, state, control, **kwargs):\n",
        "        # 학습 시작시 learning rate와 batch size 저장\n",
        "        self.learning_rate = args.learning_rate\n",
        "        self.batch_size = args.per_device_train_batch_size\n",
        "\n",
        "    def on_evaluate(self, args, state, control, metrics, **kwargs):\n",
        "        # 데이터만 저장하고 시각화는 하지 않음\n",
        "        if state.epoch is not None:\n",
        "            # validation accuracy 저장\n",
        "            self.eval_accuracies.append(metrics.get('eval_accuracy', 0))\n",
        "            self.last_eval_results = metrics\n",
        "\n",
        "            # train loss 저장\n",
        "            if len(state.log_history) > 0:\n",
        "                for entry in reversed(state.log_history):\n",
        "                    if 'loss' in entry and 'epoch' in entry and entry['epoch'] == state.epoch:\n",
        "                        self.train_losses.append(entry['loss'])\n",
        "                        break\n",
        "\n",
        "    def plot_progress(self):\n",
        "        print(f\"\\n{'='*50}\")\n",
        "        print(f\"실험 설정: learning_rate={self.learning_rate}, batch_size={self.batch_size}\")\n",
        "        print(f\"{'='*50}\")\n",
        "\n",
        "        fig, (ax1, ax2) = plt.subplots(1, 2, figsize=(15, 5))\n",
        "\n",
        "        # Loss 그래프\n",
        "        ax1.plot(self.train_losses, label=f'LR={self.learning_rate}, BS={self.batch_size}', marker='o')\n",
        "        ax1.set_title('Training Loss')\n",
        "        ax1.set_xlabel('Epoch')\n",
        "        ax1.set_ylabel('Loss')\n",
        "        ax1.legend()\n",
        "        ax1.grid(True)\n",
        "\n",
        "        # Accuracy 그래프\n",
        "        ax2.plot(self.eval_accuracies, label=f'LR={self.learning_rate}, BS={self.batch_size}', marker='o')\n",
        "        ax2.set_title(' Validation Accuracy')\n",
        "        ax2.set_xlabel('Epoch')\n",
        "        ax2.set_ylabel('Accuracy')\n",
        "        ax2.legend()\n",
        "        ax2.grid(True)\n",
        "\n",
        "        plt.tight_layout()\n",
        "        plt.show()\n",
        "\n",
        "        print(f\"\\n=== 최종 성능 지표 ===\")\n",
        "        print(f\"최종 학습 손실: {self.train_losses[-1]:.4f}\")\n",
        "        print(f\"최종 검증 정확도: {self.eval_accuracies[-1]:.4f}\")\n",
        "\n",
        "        if self.last_eval_results:\n",
        "          print(f\"\\n=== 추가 평가 지표 ===\")\n",
        "          for key, value in self.last_eval_results.items():\n",
        "              if key not in ['eval_accuracy']:  # 이미 출력한 정확도는 제외\n",
        "                  if isinstance(value, float):\n",
        "                      print(f\"{key}: {value:.4f}\")\n",
        "                  else:\n",
        "                      print(f\"{key}: {value}\")\n",
        "        print(f\"\\n{'='*50}\\n\")\n",
        "\n",
        "# Trainer 설정 업데이트\n",
        "visualization_callback = VisualizationCallback()"
      ]
    },
    {
      "cell_type": "markdown",
      "metadata": {
        "id": "YHQv2PKQwFxe"
      },
      "source": [
        "하이퍼파라미터에 따른 변화를 비교하기 위해 학습 함수를 정의한다."
      ]
    },
    {
      "cell_type": "code",
      "execution_count": 11,
      "metadata": {
        "id": "zNhn-NQpwFxe"
      },
      "outputs": [],
      "source": [
        "from transformers import TrainingArguments, Trainer\n",
        "\n",
        "import torch\n",
        "\n",
        "# GPU 사용 가능 여부 확인 (CUDA와 MPS 모두 체크)\n",
        "if torch.cuda.is_available():\n",
        "    device = torch.device(\"cuda\")\n",
        "elif torch.backends.mps.is_available():\n",
        "    device = torch.device(\"mps\")\n",
        "else:\n",
        "    device = torch.device(\"cpu\")\n",
        "\n",
        "def model_experiments(learning_rate, batch_size):\n",
        "    # 실험 결과를 저장할 딕셔너리\n",
        "    experiment_name = f\"lr: {learning_rate} batch_size: {batch_size}\"\n",
        "\n",
        "    # TrainingArguments 설정\n",
        "    training_args = TrainingArguments(\n",
        "        output_dir=f\"./results_{experiment_name}\",\n",
        "        learning_rate=learning_rate,\n",
        "        per_device_train_batch_size=batch_size,\n",
        "        per_device_eval_batch_size=batch_size,\n",
        "        num_train_epochs=50,\n",
        "        weight_decay=0.01,\n",
        "        eval_strategy=\"epoch\",\n",
        "        save_strategy=\"epoch\",\n",
        "        save_total_limit=1,           # 저장할 체크포인트 수 제한\n",
        "        load_best_model_at_end=True,\n",
        "        metric_for_best_model=\"eval_accuracy\",\n",
        "        greater_is_better=True,\n",
        "        logging_strategy=\"epoch\",\n",
        "        logging_dir=f\"./logs_{experiment_name}\",\n",
        "        report_to=\"none\",\n",
        "        # Device 관련 설정\n",
        "        dataloader_num_workers=2,         # 데이터 로더 병렬 처리\n",
        "        fp16=device.type==\"cuda\",         # CUDA에서만 fp16 사용\n",
        "    )\n",
        "\n",
        "    # 모델 초기화\n",
        "    model = AutoModelForSequenceClassification.from_pretrained(\n",
        "        'roberta-base',\n",
        "        num_labels=num_labels\n",
        "    )\n",
        "\n",
        "    # RoBERTa 동결\n",
        "    for param in model.roberta.parameters():\n",
        "        param.requires_grad = False\n",
        "\n",
        "    model = model.to(device)\n",
        "\n",
        "    # 시각화 콜백 초기화\n",
        "    visualization_callback = VisualizationCallback()\n",
        "\n",
        "    # Trainer 설정\n",
        "    trainer = Trainer(\n",
        "        model=model,\n",
        "        args=training_args,\n",
        "        train_dataset=train_dataset,\n",
        "        eval_dataset=validation_dataset,\n",
        "        compute_metrics=compute_metrics,\n",
        "        callbacks=[early_stopping_callback, visualization_callback]\n",
        "    )\n",
        "\n",
        "    # 학습\n",
        "    trainer.train()\n",
        "\n",
        "    # 평가\n",
        "    eval_results = trainer.evaluate()\n",
        "\n",
        "    # 시각화\n",
        "    visualization_callback.plot_progress()\n",
        "\n",
        "    # 결과 저장\n",
        "    results = {\n",
        "        'learning_rate': learning_rate,\n",
        "        'batch_size': batch_size,\n",
        "        'validation_results': eval_results,\n",
        "        'train_losses': visualization_callback.train_losses,\n",
        "        'eval_accuracies': visualization_callback.eval_accuracies,\n",
        "    }\n",
        "\n",
        "    return results\n",
        "\n"
      ]
    },
    {
      "cell_type": "markdown",
      "metadata": {
        "id": "yQ1Jdp0hwFxe"
      },
      "source": [
        "학습율과 batch size를 변경하며 학습을 진행한다."
      ]
    },
    {
      "cell_type": "code",
      "execution_count": 12,
      "metadata": {
        "colab": {
          "base_uri": "https://localhost:8080/",
          "height": 739
        },
        "id": "9yyTPyOKwFxe",
        "outputId": "0b8362f7-0dc3-4c61-e6b1-5a9bd5fed148"
      },
      "outputs": [
        {
          "name": "stdout",
          "output_type": "stream",
          "text": [
            "\n",
            "실험 설정: learning_rate=0.001, batch_size=32\n"
          ]
        },
        {
          "data": {
            "image/png": "[encoded data removed]",
            "text/plain": [
              "<Figure size 1500x500 with 2 Axes>"
            ]
          },
          "metadata": {},
          "output_type": "display_data"
        },
        {
          "name": "stdout",
          "output_type": "stream",
          "text": [
            "\n",
            "=== 최종 성능 지표 ===\n",
            "최종 학습 손실: 1.0553\n",
            "최종 검증 정확도: 0.4857\n",
            "\n",
            "=== 추가 평가 지표 ===\n",
            "eval_loss: 1.0293\n",
            "eval_runtime: 1.2882\n",
            "eval_samples_per_second: 380.3790\n",
            "eval_steps_per_second: 12.4210\n",
            "epoch: 4.0000\n"
          ]
        }
      ],
      "source": [
        "# 실험 실행\n",
        "results = []\n",
        "learning_rates = [2e-5, 5e-5, 1e-3]\n",
        "batch_size_list = [16, 32]\n",
        "\n",
        "for lr in learning_rates:\n",
        "    for batch_size in batch_size_list:\n",
        "        print(f\"\\n실험 시작: learning_rate={lr}, batch_size={batch_size}\")\n",
        "        result = model_experiments(lr, batch_size)\n",
        "        results.append(result)  # 결과 저장"
      ]
    }
  ],
  "metadata": {
    "accelerator": "GPU",
    "colab": {
      "gpuType": "T4",
      "provenance": []
    },
    "kernelspec": {
      "display_name": "Python 3",
      "name": "python3"
    },
    "language_info": {
      "codemirror_mode": {
        "name": "ipython",
        "version": 3
      },
      "file_extension": ".py",
      "mimetype": "text/x-python",
      "name": "python",
      "nbconvert_exporter": "python",
      "pygments_lexer": "ipython3",
      "version": "3.12.9"
    }
  },
  "nbformat": 4,
  "nbformat_minor": 0
}
