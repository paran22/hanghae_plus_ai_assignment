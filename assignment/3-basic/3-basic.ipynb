{
  "cells": [
    {
      "cell_type": "markdown",
      "metadata": {
        "id": "sbgz49PvHhLt"
      },
      "source": [
        "# [3주차] 기본과제 - DistilBERT로 뉴스 기사 분류 모델 학습하기\n",
        "\n",
        "- [x] AG_News dataset 준비\n",
        "\t- Huggingface dataset의 `fancyzhx/ag_news`를 load\n",
        "\t- `collate_fn` 함수에 다음 수정사항들을 반영\n",
        "    - Truncation과 관련된 부분들을 삭제\n",
        "- [x] Classifier output, loss function, accuracy function 변경\n",
        "\t- 뉴스 기사 분류 문제는 binary classification이 아닌 일반적인 classification 문제입니다. MNIST 과제에서 했던 것 처럼 `nn.CrossEntropyLoss` 를 추가하고 `TextClassifier`의 출력 차원을 잘 조정하여 task를 풀 수 있도록 수정\n",
        "\t- 그리고 정확도를 재는 `accuracy` 함수도 classification에 맞춰 수정\n",
        "- [x]  학습 결과 report\n",
        "    - DistilBERT 실습과 같이 매 epoch 마다의 train loss를 출력하고 최종 모델의 test accuracy를 report 첨부\n",
        "  "
      ]
    },
    {
      "cell_type": "code",
      "execution_count": 1,
      "metadata": {
        "colab": {
          "base_uri": "https://localhost:8080/"
        },
        "collapsed": true,
        "id": "1LqgujQUbv6X",
        "outputId": "bbc989e4-26e6-4a78-e5fa-ef13685a2a18"
      },
      "outputs": [
        {
          "output_type": "stream",
          "name": "stdout",
          "text": [
            "Requirement already satisfied: tqdm in /usr/local/lib/python3.11/dist-packages (4.67.1)\n",
            "Collecting boto3\n",
            "  Downloading boto3-1.37.29-py3-none-any.whl.metadata (6.7 kB)\n",
            "Requirement already satisfied: requests in /usr/local/lib/python3.11/dist-packages (2.32.3)\n",
            "Requirement already satisfied: regex in /usr/local/lib/python3.11/dist-packages (2024.11.6)\n",
            "Requirement already satisfied: sentencepiece in /usr/local/lib/python3.11/dist-packages (0.2.0)\n",
            "Collecting sacremoses\n",
            "  Downloading sacremoses-0.1.1-py3-none-any.whl.metadata (8.3 kB)\n",
            "Collecting datasets\n",
            "  Downloading datasets-3.5.0-py3-none-any.whl.metadata (19 kB)\n",
            "Collecting botocore<1.38.0,>=1.37.29 (from boto3)\n",
            "  Downloading botocore-1.37.29-py3-none-any.whl.metadata (5.7 kB)\n",
            "Collecting jmespath<2.0.0,>=0.7.1 (from boto3)\n",
            "  Downloading jmespath-1.0.1-py3-none-any.whl.metadata (7.6 kB)\n",
            "Collecting s3transfer<0.12.0,>=0.11.0 (from boto3)\n",
            "  Downloading s3transfer-0.11.4-py3-none-any.whl.metadata (1.7 kB)\n",
            "Requirement already satisfied: charset-normalizer<4,>=2 in /usr/local/lib/python3.11/dist-packages (from requests) (3.4.1)\n",
            "Requirement already satisfied: idna<4,>=2.5 in /usr/local/lib/python3.11/dist-packages (from requests) (3.10)\n",
            "Requirement already satisfied: urllib3<3,>=1.21.1 in /usr/local/lib/python3.11/dist-packages (from requests) (2.3.0)\n",
            "Requirement already satisfied: certifi>=2017.4.17 in /usr/local/lib/python3.11/dist-packages (from requests) (2025.1.31)\n",
            "Requirement already satisfied: click in /usr/local/lib/python3.11/dist-packages (from sacremoses) (8.1.8)\n",
            "Requirement already satisfied: joblib in /usr/local/lib/python3.11/dist-packages (from sacremoses) (1.4.2)\n",
            "Requirement already satisfied: filelock in /usr/local/lib/python3.11/dist-packages (from datasets) (3.18.0)\n",
            "Requirement already satisfied: numpy>=1.17 in /usr/local/lib/python3.11/dist-packages (from datasets) (2.0.2)\n",
            "Requirement already satisfied: pyarrow>=15.0.0 in /usr/local/lib/python3.11/dist-packages (from datasets) (18.1.0)\n",
            "Collecting dill<0.3.9,>=0.3.0 (from datasets)\n",
            "  Downloading dill-0.3.8-py3-none-any.whl.metadata (10 kB)\n",
            "Requirement already satisfied: pandas in /usr/local/lib/python3.11/dist-packages (from datasets) (2.2.2)\n",
            "Collecting xxhash (from datasets)\n",
            "  Downloading xxhash-3.5.0-cp311-cp311-manylinux_2_17_x86_64.manylinux2014_x86_64.whl.metadata (12 kB)\n",
            "Collecting multiprocess<0.70.17 (from datasets)\n",
            "  Downloading multiprocess-0.70.16-py311-none-any.whl.metadata (7.2 kB)\n",
            "Collecting fsspec<=2024.12.0,>=2023.1.0 (from fsspec[http]<=2024.12.0,>=2023.1.0->datasets)\n",
            "  Downloading fsspec-2024.12.0-py3-none-any.whl.metadata (11 kB)\n",
            "Requirement already satisfied: aiohttp in /usr/local/lib/python3.11/dist-packages (from datasets) (3.11.15)\n",
            "Requirement already satisfied: huggingface-hub>=0.24.0 in /usr/local/lib/python3.11/dist-packages (from datasets) (0.30.1)\n",
            "Requirement already satisfied: packaging in /usr/local/lib/python3.11/dist-packages (from datasets) (24.2)\n",
            "Requirement already satisfied: pyyaml>=5.1 in /usr/local/lib/python3.11/dist-packages (from datasets) (6.0.2)\n",
            "Requirement already satisfied: python-dateutil<3.0.0,>=2.1 in /usr/local/lib/python3.11/dist-packages (from botocore<1.38.0,>=1.37.29->boto3) (2.8.2)\n",
            "Requirement already satisfied: aiohappyeyeballs>=2.3.0 in /usr/local/lib/python3.11/dist-packages (from aiohttp->datasets) (2.6.1)\n",
            "Requirement already satisfied: aiosignal>=1.1.2 in /usr/local/lib/python3.11/dist-packages (from aiohttp->datasets) (1.3.2)\n",
            "Requirement already satisfied: attrs>=17.3.0 in /usr/local/lib/python3.11/dist-packages (from aiohttp->datasets) (25.3.0)\n",
            "Requirement already satisfied: frozenlist>=1.1.1 in /usr/local/lib/python3.11/dist-packages (from aiohttp->datasets) (1.5.0)\n",
            "Requirement already satisfied: multidict<7.0,>=4.5 in /usr/local/lib/python3.11/dist-packages (from aiohttp->datasets) (6.2.0)\n",
            "Requirement already satisfied: propcache>=0.2.0 in /usr/local/lib/python3.11/dist-packages (from aiohttp->datasets) (0.3.1)\n",
            "Requirement already satisfied: yarl<2.0,>=1.17.0 in /usr/local/lib/python3.11/dist-packages (from aiohttp->datasets) (1.18.3)\n",
            "Requirement already satisfied: typing-extensions>=3.7.4.3 in /usr/local/lib/python3.11/dist-packages (from huggingface-hub>=0.24.0->datasets) (4.13.1)\n",
            "Requirement already satisfied: pytz>=2020.1 in /usr/local/lib/python3.11/dist-packages (from pandas->datasets) (2025.2)\n",
            "Requirement already satisfied: tzdata>=2022.7 in /usr/local/lib/python3.11/dist-packages (from pandas->datasets) (2025.2)\n",
            "Requirement already satisfied: six>=1.5 in /usr/local/lib/python3.11/dist-packages (from python-dateutil<3.0.0,>=2.1->botocore<1.38.0,>=1.37.29->boto3) (1.17.0)\n",
            "Downloading boto3-1.37.29-py3-none-any.whl (139 kB)\n",
            "\u001b[2K   \u001b[90m━━━━━━━━━━━━━━━━━━━━━━━━━━━━━━━━━━━━━━━━\u001b[0m \u001b[32m139.6/139.6 kB\u001b[0m \u001b[31m3.3 MB/s\u001b[0m eta \u001b[36m0:00:00\u001b[0m\n",
            "\u001b[?25hDownloading sacremoses-0.1.1-py3-none-any.whl (897 kB)\n",
            "\u001b[2K   \u001b[90m━━━━━━━━━━━━━━━━━━━━━━━━━━━━━━━━━━━━━━━━\u001b[0m \u001b[32m897.5/897.5 kB\u001b[0m \u001b[31m16.9 MB/s\u001b[0m eta \u001b[36m0:00:00\u001b[0m\n",
            "\u001b[?25hDownloading datasets-3.5.0-py3-none-any.whl (491 kB)\n",
            "\u001b[2K   \u001b[90m━━━━━━━━━━━━━━━━━━━━━━━━━━━━━━━━━━━━━━━━\u001b[0m \u001b[32m491.2/491.2 kB\u001b[0m \u001b[31m25.9 MB/s\u001b[0m eta \u001b[36m0:00:00\u001b[0m\n",
            "\u001b[?25hDownloading botocore-1.37.29-py3-none-any.whl (13.5 MB)\n",
            "\u001b[2K   \u001b[90m━━━━━━━━━━━━━━━━━━━━━━━━━━━━━━━━━━━━━━━━\u001b[0m \u001b[32m13.5/13.5 MB\u001b[0m \u001b[31m58.7 MB/s\u001b[0m eta \u001b[36m0:00:00\u001b[0m\n",
            "\u001b[?25hDownloading dill-0.3.8-py3-none-any.whl (116 kB)\n",
            "\u001b[2K   \u001b[90m━━━━━━━━━━━━━━━━━━━━━━━━━━━━━━━━━━━━━━━━\u001b[0m \u001b[32m116.3/116.3 kB\u001b[0m \u001b[31m3.7 MB/s\u001b[0m eta \u001b[36m0:00:00\u001b[0m\n",
            "\u001b[?25hDownloading fsspec-2024.12.0-py3-none-any.whl (183 kB)\n",
            "\u001b[2K   \u001b[90m━━━━━━━━━━━━━━━━━━━━━━━━━━━━━━━━━━━━━━━━\u001b[0m \u001b[32m183.9/183.9 kB\u001b[0m \u001b[31m3.9 MB/s\u001b[0m eta \u001b[36m0:00:00\u001b[0m\n",
            "\u001b[?25hDownloading jmespath-1.0.1-py3-none-any.whl (20 kB)\n",
            "Downloading multiprocess-0.70.16-py311-none-any.whl (143 kB)\n",
            "\u001b[2K   \u001b[90m━━━━━━━━━━━━━━━━━━━━━━━━━━━━━━━━━━━━━━━━\u001b[0m \u001b[32m143.5/143.5 kB\u001b[0m \u001b[31m11.0 MB/s\u001b[0m eta \u001b[36m0:00:00\u001b[0m\n",
            "\u001b[?25hDownloading s3transfer-0.11.4-py3-none-any.whl (84 kB)\n",
            "\u001b[2K   \u001b[90m━━━━━━━━━━━━━━━━━━━━━━━━━━━━━━━━━━━━━━━━\u001b[0m \u001b[32m84.4/84.4 kB\u001b[0m \u001b[31m4.8 MB/s\u001b[0m eta \u001b[36m0:00:00\u001b[0m\n",
            "\u001b[?25hDownloading xxhash-3.5.0-cp311-cp311-manylinux_2_17_x86_64.manylinux2014_x86_64.whl (194 kB)\n",
            "\u001b[2K   \u001b[90m━━━━━━━━━━━━━━━━━━━━━━━━━━━━━━━━━━━━━━━━\u001b[0m \u001b[32m194.8/194.8 kB\u001b[0m \u001b[31m12.8 MB/s\u001b[0m eta \u001b[36m0:00:00\u001b[0m\n",
            "\u001b[?25hInstalling collected packages: xxhash, sacremoses, jmespath, fsspec, dill, multiprocess, botocore, s3transfer, datasets, boto3\n",
            "  Attempting uninstall: fsspec\n",
            "    Found existing installation: fsspec 2025.3.2\n",
            "    Uninstalling fsspec-2025.3.2:\n",
            "      Successfully uninstalled fsspec-2025.3.2\n",
            "\u001b[31mERROR: pip's dependency resolver does not currently take into account all the packages that are installed. This behaviour is the source of the following dependency conflicts.\n",
            "torch 2.6.0+cu124 requires nvidia-cublas-cu12==12.4.5.8; platform_system == \"Linux\" and platform_machine == \"x86_64\", but you have nvidia-cublas-cu12 12.5.3.2 which is incompatible.\n",
            "torch 2.6.0+cu124 requires nvidia-cuda-cupti-cu12==12.4.127; platform_system == \"Linux\" and platform_machine == \"x86_64\", but you have nvidia-cuda-cupti-cu12 12.5.82 which is incompatible.\n",
            "torch 2.6.0+cu124 requires nvidia-cuda-nvrtc-cu12==12.4.127; platform_system == \"Linux\" and platform_machine == \"x86_64\", but you have nvidia-cuda-nvrtc-cu12 12.5.82 which is incompatible.\n",
            "torch 2.6.0+cu124 requires nvidia-cuda-runtime-cu12==12.4.127; platform_system == \"Linux\" and platform_machine == \"x86_64\", but you have nvidia-cuda-runtime-cu12 12.5.82 which is incompatible.\n",
            "torch 2.6.0+cu124 requires nvidia-cudnn-cu12==9.1.0.70; platform_system == \"Linux\" and platform_machine == \"x86_64\", but you have nvidia-cudnn-cu12 9.3.0.75 which is incompatible.\n",
            "torch 2.6.0+cu124 requires nvidia-cufft-cu12==11.2.1.3; platform_system == \"Linux\" and platform_machine == \"x86_64\", but you have nvidia-cufft-cu12 11.2.3.61 which is incompatible.\n",
            "torch 2.6.0+cu124 requires nvidia-curand-cu12==10.3.5.147; platform_system == \"Linux\" and platform_machine == \"x86_64\", but you have nvidia-curand-cu12 10.3.6.82 which is incompatible.\n",
            "torch 2.6.0+cu124 requires nvidia-cusolver-cu12==11.6.1.9; platform_system == \"Linux\" and platform_machine == \"x86_64\", but you have nvidia-cusolver-cu12 11.6.3.83 which is incompatible.\n",
            "torch 2.6.0+cu124 requires nvidia-cusparse-cu12==12.3.1.170; platform_system == \"Linux\" and platform_machine == \"x86_64\", but you have nvidia-cusparse-cu12 12.5.1.3 which is incompatible.\n",
            "torch 2.6.0+cu124 requires nvidia-nvjitlink-cu12==12.4.127; platform_system == \"Linux\" and platform_machine == \"x86_64\", but you have nvidia-nvjitlink-cu12 12.5.82 which is incompatible.\n",
            "gcsfs 2025.3.2 requires fsspec==2025.3.2, but you have fsspec 2024.12.0 which is incompatible.\u001b[0m\u001b[31m\n",
            "\u001b[0mSuccessfully installed boto3-1.37.29 botocore-1.37.29 datasets-3.5.0 dill-0.3.8 fsspec-2024.12.0 jmespath-1.0.1 multiprocess-0.70.16 s3transfer-0.11.4 sacremoses-0.1.1 xxhash-3.5.0\n"
          ]
        }
      ],
      "source": [
        "%pip install tqdm boto3 requests regex sentencepiece sacremoses datasets"
      ]
    },
    {
      "cell_type": "markdown",
      "metadata": {
        "id": "6YP3FxG9IF7O"
      },
      "source": [
        "DistilBERT pre-training 때 사용한 tokenizer를 불러온다."
      ]
    },
    {
      "cell_type": "code",
      "execution_count": 2,
      "metadata": {
        "colab": {
          "base_uri": "https://localhost:8080/",
          "height": 321,
          "referenced_widgets": [
            "b3217088a8b64967a9f791841c11c3ef",
            "03fb69284f6f4c25bc07253e555666ca",
            "60581a104eaf41d9a0e9971f18f65e7c",
            "8e0239a7ff9a48d3874a4d47ecad351f",
            "7ed0e4ed7d214e25aa28d1b9487ee832",
            "8ab609b7f1184b19b765946cb09b9b45",
            "8ab19bf25eec46c09ad70430a361f627",
            "3ef6d0036c4e49f5ad653985c20b2877",
            "96ed34c72d544641b3e2d6620a61b042",
            "301d67650a644bdcb3b6f8c29b5b44d8",
            "2034709f02984dc098a5fac6ab16ff3f",
            "98ebf11869df4eeb82e72fe04da3aab0",
            "8842b2f3753b405380bfecf45c58f87b",
            "4baa3a5a784043339c5a2215ff7b98ad",
            "0f4e3fe39b804a8f80871d6f6c65dc94",
            "336ee52f666341968f3a0e4c36010f27",
            "b53719a5da294f079304240da78c854b",
            "bb68c62638734ad49b76043c82e252f9",
            "33a6d78bce124b01bc888ba242c97ccd",
            "b1266ee236114507a5abac86ccf15dd1",
            "fa485832691f4abdb798868fe11ef71f",
            "34ad480e996c45ceafd2b0889551b704",
            "b2ddd547def24083b23817f789994379",
            "cca949f3c13042c8a74703b9ba26aba0",
            "af68288731de4fa7bad54a72e1be5414",
            "feba63aa643a4b13a9ac49eac9995834",
            "9dc0543ea78c4f43942a27726ef1bcf3",
            "f7056b2af6ba49f481323d0af2c0c937",
            "2492c59b2e7c490b84a18d3519f7d4a2",
            "d4193aff534b4d7e8a8b96f77c9da8fc",
            "e5ef215bf3854880906923dfb4690468",
            "a8f6078f0b61474db8ff4b047c408396",
            "a059f41462f44dfdb32a886bc4ac308f",
            "41061881632a481a8a1bca6a924e8433",
            "f91157e91a8c4871a8a7e404749c6403",
            "60c4477f38c2468e88755071785d63b3",
            "c912b9e8c7fe4a139478505133efdd6d",
            "f9907e688a764115bd98e992216213cb",
            "5e719f524b884619ac2442fe52a4a6cb",
            "ab42658756c145819286e4502be135cb",
            "933666210e654867a232b936230203ed",
            "a9a6f37302944dc99e65c8e4419abf99",
            "ce28f9d7289842e0a7230f5994ed325f",
            "aad5f28a3b7a4875bcedde00c0b28c58"
          ]
        },
        "id": "6lGiZUoPby6e",
        "outputId": "bd6ad231-40d2-4079-85fa-4590cbec28bd"
      },
      "outputs": [
        {
          "output_type": "stream",
          "name": "stderr",
          "text": [
            "/usr/local/lib/python3.11/dist-packages/torch/hub.py:330: UserWarning: You are about to download and run code from an untrusted repository. In a future release, this won't be allowed. To add the repository to your trusted list, change the command to {calling_fn}(..., trust_repo=False) and a command prompt will appear asking for an explicit confirmation of trust, or load(..., trust_repo=True), which will assume that the prompt is to be answered with 'yes'. You can also use load(..., trust_repo='check') which will only prompt for confirmation if the repo is not already trusted. This will eventually be the default behaviour\n",
            "  warnings.warn(\n",
            "Downloading: \"https://github.com/huggingface/pytorch-transformers/zipball/main\" to /root/.cache/torch/hub/main.zip\n",
            "/usr/local/lib/python3.11/dist-packages/huggingface_hub/utils/_auth.py:94: UserWarning: \n",
            "The secret `HF_TOKEN` does not exist in your Colab secrets.\n",
            "To authenticate with the Hugging Face Hub, create a token in your settings tab (https://huggingface.co/settings/tokens), set it as secret in your Google Colab and restart your session.\n",
            "You will be able to reuse this secret in all of your notebooks.\n",
            "Please note that authentication is recommended but still optional to access public models or datasets.\n",
            "  warnings.warn(\n"
          ]
        },
        {
          "output_type": "display_data",
          "data": {
            "text/plain": [
              "tokenizer_config.json:   0%|          | 0.00/48.0 [00:00<?, ?B/s]"
            ],
            "application/vnd.jupyter.widget-view+json": {
              "version_major": 2,
              "version_minor": 0,
              "model_id": "b3217088a8b64967a9f791841c11c3ef"
            }
          },
          "metadata": {}
        },
        {
          "output_type": "display_data",
          "data": {
            "text/plain": [
              "config.json:   0%|          | 0.00/483 [00:00<?, ?B/s]"
            ],
            "application/vnd.jupyter.widget-view+json": {
              "version_major": 2,
              "version_minor": 0,
              "model_id": "98ebf11869df4eeb82e72fe04da3aab0"
            }
          },
          "metadata": {}
        },
        {
          "output_type": "display_data",
          "data": {
            "text/plain": [
              "vocab.txt:   0%|          | 0.00/232k [00:00<?, ?B/s]"
            ],
            "application/vnd.jupyter.widget-view+json": {
              "version_major": 2,
              "version_minor": 0,
              "model_id": "b2ddd547def24083b23817f789994379"
            }
          },
          "metadata": {}
        },
        {
          "output_type": "display_data",
          "data": {
            "text/plain": [
              "tokenizer.json:   0%|          | 0.00/466k [00:00<?, ?B/s]"
            ],
            "application/vnd.jupyter.widget-view+json": {
              "version_major": 2,
              "version_minor": 0,
              "model_id": "41061881632a481a8a1bca6a924e8433"
            }
          },
          "metadata": {}
        }
      ],
      "source": [
        "import torch\n",
        "from datasets import load_dataset\n",
        "from torch.utils.data import DataLoader\n",
        "\n",
        "# DistilBERT 모델용 tokenizer 로드 (pretrained)\n",
        "# 이 tokenizer는 문장을 토큰화해서 모델이 이해할 수 있는 input_ids로 변환해줌\n",
        "tokenizer = torch.hub.load('huggingface/pytorch-transformers', 'tokenizer', 'distilbert-base-uncased')"
      ]
    },
    {
      "cell_type": "markdown",
      "metadata": {
        "id": "Cvfl_uFLIMWO"
      },
      "source": [
        "뉴스 데이터로 Huggingface dataset의 fancyzhx/ag_news를 사용한다.\n",
        "AG News는 World, Sports, Science, Business, Sci/Tech 5개의 카테고리로 분류된다. label은 1부터 4까지의 숫자로 표현된다.\n",
        "\n",
        "truncation=False로 설정하여 텍스트를 자르지 않고, 입력 텍스트가 모델의 최대 길이를 초과하면 오류를 발생시킨다.\n",
        "모델의 최대 길이를 사용하기 위해 max_len을 설정하지 않는다."
      ]
    },
    {
      "cell_type": "code",
      "execution_count": 3,
      "metadata": {
        "id": "rE-y8sY9HuwP",
        "outputId": "8e4926d7-0c8e-4c17-a222-95e637da012f",
        "colab": {
          "base_uri": "https://localhost:8080/",
          "height": 177,
          "referenced_widgets": [
            "7fc435946eb54691a9737789a0afd34c",
            "b2e9bf2c7c1e4a8db6e8c11be25703cf",
            "55da008d80b94e5b94588ad72c9bcaf4",
            "bdccff5e89b14bb7a894b55c522d6d28",
            "c73bde20a1d7431cbf67cf30f4699935",
            "472636f14470468c8ffe4ed76cf2425c",
            "360f7fc9187c4f0099489642944b8b74",
            "36de762349854f2c9863cba0a4e977fc",
            "fb0b907cbd8d4596ab1d9c6d6269430e",
            "d8521630bffc4e5ca88d909f80faa86a",
            "299e6105c21b42428ed9c2878ad9525b",
            "2f8867b3e55f45afa3af5026dce8333a",
            "f0941371030f43a1b194cb0ca5e688ae",
            "6f6b65f94d064f38a59c4063fd563f9e",
            "aa1cfbbc4e8a4f2cb6cbe3b038bd609d",
            "859184c0168b4ce1ba8c06781d647db6",
            "c3928dbcbb1d49c4bbd339578fd8e26b",
            "e74985930030426b957f0945492ef6bc",
            "8fc0a895890f41059a8779f201889711",
            "d7c84e15d1274d9f8132f35669673ec0",
            "0d3d2aeb513b4152b9b90056a23501cd",
            "729fe7f969b04aa8be2a969721ec6345",
            "a00fbb44a2304d6fa127eb2c7fd1f321",
            "1294cc39ba9c4f7c92b33486768babf0",
            "308797e9314d4c28b09ee5f538c8ebe8",
            "3d5555da2e394af29423e71a00dfd963",
            "e52bece0629649ab9d41d1f7d4baf834",
            "ac5c54777f4643c8b64f0c15b9191dd1",
            "cf4d11f6d57b47e894fac3663ab874ee",
            "24af9e3e53db4135b36c2fdacbfe51b8",
            "2bc2be8fe54a407da9794fae70e15889",
            "c2b86dbae3dd4ecbb4af114c0acae6c7",
            "cf53553530cd48ac8510efde7da0f830",
            "b7dd84eec6bc40558845d12fe4242b0a",
            "cccd3a0e3eb14a44910f73f2fa07c5fd",
            "a76a946e1ecb4b758c7a7d3ee5c940ba",
            "8b55e510a901432aa94e608e6051160d",
            "b4a2a9c08c524d8187873cab19a40bd9",
            "af7b5074654441cdb2a705fa67075ffb",
            "3c695a554f02411aafcd3b73acae2eea",
            "a258a3b34e1f49439d5acfc67b4c69c9",
            "d55e9b4efa064979bb03ea73363bae7a",
            "4802813d05294f27a2043e763fe209ed",
            "d8280496d6c540efbcec649e77f58acc",
            "9621e96d4b2647e2af6f208a77fb1bbc",
            "b27711429da84c6f9556fc7049f9935f",
            "ec1a36153e964dfbbea44a1178e5df94",
            "8846fda271cb4370b1adb19fe18cfbc9",
            "2f86403ba00947deac0afcd08619fab5",
            "7c5b8ea791884d8ab1c6774a62a36bd7",
            "c5f15b480ddf41db81afc5b2f0c9b64a",
            "b0c7168230964ea6bbee9e2246ebb7e1",
            "3eccf301961446d5a68b0de025d190e3",
            "a916f100c50344ec94b8b47257324191",
            "6737d3a3e4024bbd837cc6dcd01dd066"
          ]
        }
      },
      "outputs": [
        {
          "output_type": "display_data",
          "data": {
            "text/plain": [
              "README.md:   0%|          | 0.00/8.07k [00:00<?, ?B/s]"
            ],
            "application/vnd.jupyter.widget-view+json": {
              "version_major": 2,
              "version_minor": 0,
              "model_id": "7fc435946eb54691a9737789a0afd34c"
            }
          },
          "metadata": {}
        },
        {
          "output_type": "display_data",
          "data": {
            "text/plain": [
              "train-00000-of-00001.parquet:   0%|          | 0.00/18.6M [00:00<?, ?B/s]"
            ],
            "application/vnd.jupyter.widget-view+json": {
              "version_major": 2,
              "version_minor": 0,
              "model_id": "2f8867b3e55f45afa3af5026dce8333a"
            }
          },
          "metadata": {}
        },
        {
          "output_type": "display_data",
          "data": {
            "text/plain": [
              "test-00000-of-00001.parquet:   0%|          | 0.00/1.23M [00:00<?, ?B/s]"
            ],
            "application/vnd.jupyter.widget-view+json": {
              "version_major": 2,
              "version_minor": 0,
              "model_id": "a00fbb44a2304d6fa127eb2c7fd1f321"
            }
          },
          "metadata": {}
        },
        {
          "output_type": "display_data",
          "data": {
            "text/plain": [
              "Generating train split:   0%|          | 0/120000 [00:00<?, ? examples/s]"
            ],
            "application/vnd.jupyter.widget-view+json": {
              "version_major": 2,
              "version_minor": 0,
              "model_id": "b7dd84eec6bc40558845d12fe4242b0a"
            }
          },
          "metadata": {}
        },
        {
          "output_type": "display_data",
          "data": {
            "text/plain": [
              "Generating test split:   0%|          | 0/7600 [00:00<?, ? examples/s]"
            ],
            "application/vnd.jupyter.widget-view+json": {
              "version_major": 2,
              "version_minor": 0,
              "model_id": "9621e96d4b2647e2af6f208a77fb1bbc"
            }
          },
          "metadata": {}
        }
      ],
      "source": [
        "# ag_news 데이터셋의 5%만 로드 (학습 데이터와 테스트 데이터 각각)\n",
        "train_ds = load_dataset(\"fancyzhx/ag_news\", split=\"train[:5%]\")\n",
        "test_ds = load_dataset(\"fancyzhx/ag_news\", split=\"test[:5%]\")\n",
        "\n",
        "# 데이터를 배치로 묶기 위한 함수 정의\n",
        "def collate_fn(batch):\n",
        "    texts, labels = [], []  # 입력 문장들과 라벨들을 저장할 리스트\n",
        "\n",
        "    # 배치 내 각 샘플에 대해 text와 label 추출\n",
        "    for row in batch:\n",
        "        labels.append(row['label'])\n",
        "        texts.append(row['text'])\n",
        "\n",
        "    # tokenizer로 텍스트를 토큰화하고, 최대 길이로 패딩 및 자르기\n",
        "    # tokenizer는 사전에 정의되어 있어야 함 (예: tokenizer = AutoTokenizer.from_pretrained(...))\n",
        "    texts = torch.LongTensor(\n",
        "        tokenizer(texts, padding=True).input_ids\n",
        "    )\n",
        "\n",
        "    # 라벨 리스트를 LongTensor로 변환\n",
        "    labels = torch.LongTensor(labels)\n",
        "\n",
        "    # 모델 학습에 필요한 입력 (토큰화된 문장들)과 정답 라벨 반환\n",
        "    return texts, labels\n",
        "\n",
        "# 학습용 DataLoader 정의 (shuffle=True로 배치 순서 랜덤화)\n",
        "train_loader = DataLoader(\n",
        "    train_ds, batch_size=64, shuffle=True, collate_fn=collate_fn\n",
        ")\n",
        "\n",
        "# 테스트용 DataLoader 정의 (shuffle=False로 배치 순서 고정)\n",
        "test_loader = DataLoader(\n",
        "    test_ds, batch_size=64, shuffle=False, collate_fn=collate_fn\n",
        ")"
      ]
    },
    {
      "cell_type": "markdown",
      "metadata": {
        "id": "bF34XkoYIeEm"
      },
      "source": [
        "DistilBERT를 사용하기 위해 PyTorch hub에서 제공하는 DistilBERT를 불러온다."
      ]
    },
    {
      "cell_type": "code",
      "execution_count": 4,
      "metadata": {
        "colab": {
          "base_uri": "https://localhost:8080/",
          "height": 625,
          "referenced_widgets": [
            "3f397813e0ba49f7bc45065ac776a8f8",
            "95d8266ebe504eafb08e77c1f981bfb9",
            "e974186746ef40bd831ead984692a5a1",
            "b89d3efa9e094488a8a1ffc4363c1bfa",
            "41295c911569488ebba565334156e494",
            "14fa7eef4c3b4594902f938bfdee29ca",
            "0f641fb392d047d9a11484d1ac65be85",
            "775beaefdef244b881780d6ee3b19c87",
            "bb4c604a68d24624a302ca66b76db422",
            "e4d1eebb654145629f7c0adc9838f969",
            "89d3711f7bd24b0dbbb45523fc6d8d48"
          ]
        },
        "id": "HJaUp2Vob0U-",
        "outputId": "92d7b6fc-ca19-4174-f047-e201fe3f9333"
      },
      "outputs": [
        {
          "output_type": "stream",
          "name": "stderr",
          "text": [
            "Using cache found in /root/.cache/torch/hub/huggingface_pytorch-transformers_main\n",
            "Xet Storage is enabled for this repo, but the 'hf_xet' package is not installed. Falling back to regular HTTP download. For better performance, install the package with: `pip install huggingface_hub[hf_xet]` or `pip install hf_xet`\n",
            "WARNING:huggingface_hub.file_download:Xet Storage is enabled for this repo, but the 'hf_xet' package is not installed. Falling back to regular HTTP download. For better performance, install the package with: `pip install huggingface_hub[hf_xet]` or `pip install hf_xet`\n"
          ]
        },
        {
          "output_type": "display_data",
          "data": {
            "text/plain": [
              "model.safetensors:   0%|          | 0.00/268M [00:00<?, ?B/s]"
            ],
            "application/vnd.jupyter.widget-view+json": {
              "version_major": 2,
              "version_minor": 0,
              "model_id": "3f397813e0ba49f7bc45065ac776a8f8"
            }
          },
          "metadata": {}
        },
        {
          "output_type": "execute_result",
          "data": {
            "text/plain": [
              "DistilBertModel(\n",
              "  (embeddings): Embeddings(\n",
              "    (word_embeddings): Embedding(30522, 768, padding_idx=0)\n",
              "    (position_embeddings): Embedding(512, 768)\n",
              "    (LayerNorm): LayerNorm((768,), eps=1e-12, elementwise_affine=True)\n",
              "    (dropout): Dropout(p=0.1, inplace=False)\n",
              "  )\n",
              "  (transformer): Transformer(\n",
              "    (layer): ModuleList(\n",
              "      (0-5): 6 x TransformerBlock(\n",
              "        (attention): DistilBertSdpaAttention(\n",
              "          (dropout): Dropout(p=0.1, inplace=False)\n",
              "          (q_lin): Linear(in_features=768, out_features=768, bias=True)\n",
              "          (k_lin): Linear(in_features=768, out_features=768, bias=True)\n",
              "          (v_lin): Linear(in_features=768, out_features=768, bias=True)\n",
              "          (out_lin): Linear(in_features=768, out_features=768, bias=True)\n",
              "        )\n",
              "        (sa_layer_norm): LayerNorm((768,), eps=1e-12, elementwise_affine=True)\n",
              "        (ffn): FFN(\n",
              "          (dropout): Dropout(p=0.1, inplace=False)\n",
              "          (lin1): Linear(in_features=768, out_features=3072, bias=True)\n",
              "          (lin2): Linear(in_features=3072, out_features=768, bias=True)\n",
              "          (activation): GELUActivation()\n",
              "        )\n",
              "        (output_layer_norm): LayerNorm((768,), eps=1e-12, elementwise_affine=True)\n",
              "      )\n",
              "    )\n",
              "  )\n",
              ")"
            ]
          },
          "metadata": {},
          "execution_count": 4
        }
      ],
      "source": [
        "#DistilBERT 모델을 PyTorch Hub에서 로드 후 model 출력\n",
        "model = torch.hub.load('huggingface/pytorch-transformers', 'model', 'distilbert-base-uncased')\n",
        "model"
      ]
    },
    {
      "cell_type": "markdown",
      "metadata": {
        "id": "uh-tqY8WInQt"
      },
      "source": [
        "AG News는 4개의 카테고리를 가지고 있으므로 출력 차원을 4로 설정한다."
      ]
    },
    {
      "cell_type": "code",
      "execution_count": 5,
      "metadata": {
        "colab": {
          "base_uri": "https://localhost:8080/"
        },
        "id": "xW7ETZQzzNp2",
        "outputId": "6feac462-d849-4d85-eab6-a56eaf67a356"
      },
      "outputs": [
        {
          "output_type": "stream",
          "name": "stderr",
          "text": [
            "Using cache found in /root/.cache/torch/hub/huggingface_pytorch-transformers_main\n"
          ]
        }
      ],
      "source": [
        "from torch import nn\n",
        "\n",
        "# 텍스트 분류 모델 정의 (DistilBERT + Linear layer)\n",
        "class TextClassifier(nn.Module):\n",
        "    def __init__(self):\n",
        "        super().__init__()\n",
        "\n",
        "        # 사전학습된 DistilBERT 모델을 encoder로 불러옴 (pretrained transformer)\n",
        "        # 텍스트의 의미를 이해하고 벡터로 변환하는 역할을 한다\n",
        "        self.encoder = torch.hub.load('huggingface/pytorch-transformers', 'model', 'distilbert-base-uncased')\n",
        "\n",
        "        # [CLS] 토큰 분류기 정의\n",
        "        # 768차원의 입력을 받아 1차원으로 출력하는 선형 레이어 -> 뉴스 카테고리 출력\n",
        "        # 768은 DistilBERT의 hidden state 크기\n",
        "        self.classifier = nn.Linear(768, 4)\n",
        "\n",
        "    def forward(self, x):\n",
        "        # encoder에 input_ids 전달\n",
        "        # DistilBERT는 여러 층의 트랜스포머 레이어로 구성되어 있다\n",
        "        # last_hidden_state는 마지막 트랜스포머 레이어의 출력값이다\n",
        "        # 이는 모델이 텍스트를 처리한 최종 문맥 표현(contextual representation)을 담고 있다\n",
        "        x = self.encoder(x)['last_hidden_state']\n",
        "\n",
        "        # [CLS] 토큰 위치 벡터를 classification head에 전달\n",
        "        x = self.classifier(x[:, 0])\n",
        "\n",
        "        # (batch_size, 4) 형태의 logits 반환\n",
        "        return x\n",
        "\n",
        "model = TextClassifier()\n",
        "\n",
        "device = torch.device('cuda' if torch.cuda.is_available() else 'cpu')\n",
        "model = model.to(device)"
      ]
    },
    {
      "cell_type": "markdown",
      "metadata": {
        "id": "_hFvSis0JLju"
      },
      "source": [
        "마지막 classifier layer를 제외한 나머지 부분을 freeze한다."
      ]
    },
    {
      "cell_type": "code",
      "execution_count": 6,
      "metadata": {
        "id": "uyTciaPZ0KYo"
      },
      "outputs": [],
      "source": [
        "for param in model.encoder.parameters():\n",
        "  param.requires_grad = False"
      ]
    },
    {
      "cell_type": "markdown",
      "source": [
        "모델의 성능을 평가하기 위해 정확도를 계산하는 함수를 추가한다."
      ],
      "metadata": {
        "id": "svqGfJaQ81Ht"
      }
    },
    {
      "cell_type": "code",
      "execution_count": 7,
      "metadata": {
        "id": "Foks5u95ZQ1_"
      },
      "outputs": [],
      "source": [
        "def compute_accuracy(model, dataloader):\n",
        "    cnt = 0      # 전체 샘플 수\n",
        "    acc = 0      # 정답 개수 누적\n",
        "\n",
        "    for data in dataloader:\n",
        "        inputs, labels = data\n",
        "        inputs, labels = inputs.to(device), labels.to(device)\n",
        "\n",
        "        preds = model(inputs)  # 로짓(logit) 출력\n",
        "\n",
        "        # argmax 사용하여 가장 높은 확률의 클래스 선택\n",
        "        preds = torch.argmax(preds, dim=-1)\n",
        "\n",
        "        cnt += labels.shape[0]  # 총 샘플 수 누적\n",
        "        acc += (labels == preds).sum().item()  # 예측이 맞은 수 누적\n",
        "\n",
        "    return acc / cnt  # 정확도 반환\n",
        "\n",
        "# 모델 성능 평가\n",
        "def evaluate(model, train_loader, test_loader, title_prefix=\"\"):\n",
        "    # 정확도 계산\n",
        "    train_acc = compute_accuracy(model, train_loader)\n",
        "    test_acc = compute_accuracy(model, test_loader)\n",
        "\n",
        "    print(f\"\\n=== {title_prefix} 모델 성능 ===\")\n",
        "    print(f\"Train Accuracy: {train_acc:.4f}\")\n",
        "    print(f\"Test Accuracy: {test_acc:.4f}\")\n",
        "\n",
        "    return train_acc, test_acc"
      ]
    },
    {
      "cell_type": "markdown",
      "metadata": {
        "id": "FzXjPA3z4pgJ"
      },
      "source": [
        "분류 문제이므로 CrossEntropyLoss 사용한다."
      ]
    },
    {
      "cell_type": "code",
      "execution_count": 8,
      "metadata": {
        "colab": {
          "base_uri": "https://localhost:8080/",
          "height": 1000
        },
        "id": "XvvaAEwCznt-",
        "outputId": "da785f65-8bbf-4fba-ed9d-e456d89f9725"
      },
      "outputs": [
        {
          "output_type": "stream",
          "name": "stderr",
          "text": [
            "We strongly recommend passing in an `attention_mask` since your input_ids may be padded. See https://huggingface.co/docs/transformers/troubleshooting#incorrect-output-when-padding-tokens-arent-masked.\n"
          ]
        },
        {
          "output_type": "stream",
          "name": "stdout",
          "text": [
            "\n",
            "Epoch 1/10\n",
            "Total Loss: 102.1482\n",
            "Average Loss: 1.0867\n",
            "Train Accuracy: 0.7783\n",
            "Test Accuracy: 0.7974\n",
            "\n",
            "\n",
            "Epoch 2/10\n",
            "Total Loss: 71.0302\n",
            "Average Loss: 0.7556\n",
            "Train Accuracy: 0.8138\n",
            "Test Accuracy: 0.8237\n",
            "\n",
            "\n",
            "Epoch 3/10\n",
            "Total Loss: 59.8848\n",
            "Average Loss: 0.6371\n",
            "Train Accuracy: 0.8147\n",
            "Test Accuracy: 0.8395\n",
            "\n",
            "\n",
            "Epoch 4/10\n",
            "Total Loss: 55.3902\n",
            "Average Loss: 0.5893\n",
            "Train Accuracy: 0.8308\n",
            "Test Accuracy: 0.8316\n",
            "\n",
            "\n",
            "Epoch 5/10\n",
            "Total Loss: 52.0129\n",
            "Average Loss: 0.5533\n",
            "Train Accuracy: 0.8330\n",
            "Test Accuracy: 0.8316\n",
            "\n",
            "\n",
            "Epoch 6/10\n",
            "Total Loss: 49.4421\n",
            "Average Loss: 0.5260\n",
            "Train Accuracy: 0.8322\n",
            "Test Accuracy: 0.8395\n",
            "\n",
            "\n",
            "Epoch 7/10\n",
            "Total Loss: 48.5722\n",
            "Average Loss: 0.5167\n",
            "Train Accuracy: 0.8445\n",
            "Test Accuracy: 0.8447\n",
            "\n",
            "\n",
            "Epoch 8/10\n",
            "Total Loss: 46.4610\n",
            "Average Loss: 0.4943\n",
            "Train Accuracy: 0.8382\n",
            "Test Accuracy: 0.8500\n",
            "\n",
            "\n",
            "Epoch 9/10\n",
            "Total Loss: 46.6685\n",
            "Average Loss: 0.4965\n",
            "Train Accuracy: 0.8403\n",
            "Test Accuracy: 0.8500\n",
            "\n",
            "\n",
            "Epoch 10/10\n",
            "Total Loss: 44.9633\n",
            "Average Loss: 0.4783\n",
            "Train Accuracy: 0.8475\n",
            "Test Accuracy: 0.8605\n",
            "\n",
            "\n",
            "=== fine tuning 후 모델 성능 ===\n",
            "Train Accuracy: 0.8468\n",
            "Test Accuracy: 0.8605\n"
          ]
        },
        {
          "output_type": "display_data",
          "data": {
            "text/plain": [
              "<Figure size 1500x500 with 2 Axes>"
            ],
            "image/png": "[encoded data removed]"
          },
          "metadata": {}
        }
      ],
      "source": [
        "from torch.optim import AdamW\n",
        "import numpy as np\n",
        "import matplotlib.pyplot as plt\n",
        "\n",
        "# 학습 설정\n",
        "lr = 0.001\n",
        "# 분류 문제이므로 CrossEntropyLoss 사용\n",
        "loss_fn = nn.CrossEntropyLoss()\n",
        "\n",
        "optimizer = AdamW(model.parameters(), lr=lr)\n",
        "n_epochs = 10\n",
        "\n",
        "# AG News 클래스 레이블\n",
        "classes = {\n",
        "    0: \"World\",\n",
        "    1: \"Sports\",\n",
        "    2: \"Business\",\n",
        "    3: \"Sci/Tech\"\n",
        "}\n",
        "\n",
        "train_losses = []\n",
        "train_accs = []\n",
        "test_accs = []\n",
        "\n",
        "# 학습 루프\n",
        "for epoch in range(n_epochs):\n",
        "    total_loss = 0.\n",
        "    model.train()  # 학습 모드 설정\n",
        "\n",
        "    for data in train_loader:\n",
        "        model.zero_grad()  # 이전 gradient 초기화\n",
        "\n",
        "        inputs, labels = data\n",
        "        inputs, labels = inputs.to(device), labels.to(device)\n",
        "\n",
        "        preds = model(inputs)\n",
        "\n",
        "        loss = loss_fn(preds, labels)  # 손실 계산\n",
        "        total_loss += loss.item()  # loss 누적\n",
        "\n",
        "        loss.backward()  # 역전파\n",
        "        optimizer.step()  # 파라미터 업데이트\n",
        "\n",
        "    avg_loss = total_loss / len(train_loader)\n",
        "    train_losses.append(avg_loss)\n",
        "\n",
        "    # 에폭마다 정확도 계산\n",
        "    train_acc = compute_accuracy(model, train_loader)\n",
        "    test_acc = compute_accuracy(model, test_loader)\n",
        "    train_accs.append(train_acc)\n",
        "    test_accs.append(test_acc)\n",
        "\n",
        "    print(f\"\\nEpoch {epoch + 1}/{n_epochs}\")\n",
        "    print(f\"Total Loss: {total_loss:.4f}\")\n",
        "    print(f\"Average Loss: {avg_loss:.4f}\")\n",
        "    print(f\"Train Accuracy: {train_acc:.4f}\")\n",
        "    print(f\"Test Accuracy: {test_acc:.4f}\\n\")\n",
        "\n",
        "\n",
        "\n",
        "train_acc = compute_accuracy(model, train_loader)\n",
        "test_acc = compute_accuracy(model, test_loader)\n",
        "\n",
        "print(f\"\\n=== fine tuning 후 모델 성능 ===\")\n",
        "print(f\"Train Accuracy: {train_acc:.4f}\")\n",
        "print(f\"Test Accuracy: {test_acc:.4f}\")\n",
        "\n",
        "plt.figure(figsize=(15, 5))\n",
        "\n",
        "# 학습 중 손실 그래프\n",
        "plt.subplot(1, 2, 1)\n",
        "plt.plot(train_losses, label='Training Loss')\n",
        "plt.title('Training Loss Over Epochs')\n",
        "plt.xlabel('Epoch')\n",
        "plt.ylabel('Loss')\n",
        "plt.legend()\n",
        "\n",
        "# 정확도 비교 그래프\n",
        "plt.subplot(1, 2, 2)\n",
        "plt.plot(train_accs, label='Train Accuracy')\n",
        "plt.plot(test_accs, label='Test Accuracy')\n",
        "plt.xlabel('Epoch')\n",
        "plt.ylabel('Accuracy')\n",
        "plt.legend()\n",
        "\n",
        "plt.tight_layout()\n",
        "plt.show()\n"
      ]
    },
    {
      "cell_type": "code",
      "source": [
        "def visualize_predictions(model, dataloader, num_samples):\n",
        "    model.eval()  # 평가 모드로 설정\n",
        "\n",
        "    # AG News 클래스 레이블\n",
        "    classes = {\n",
        "        0: \"World\",\n",
        "        1: \"Sports\",\n",
        "        2: \"Business\",\n",
        "        3: \"Sci/Tech\"\n",
        "    }\n",
        "\n",
        "    with torch.no_grad():\n",
        "        # 데이터로더에서 배치 하나를 가져온다\n",
        "        texts, labels = next(iter(dataloader))\n",
        "        texts, labels = texts.to(device), labels.to(device)\n",
        "\n",
        "        # 예측 수행\n",
        "        outputs = model(texts)\n",
        "        _, predicted = torch.max(outputs, 1)\n",
        "\n",
        "        # num_samples 개수만큼 결과 출력\n",
        "        print(\"\\n=== 예측 결과 ===\")\n",
        "        for idx in range(min(num_samples, len(texts))):\n",
        "            print(f\"\\n샘플 {idx+1}\")\n",
        "            print(f\"예측 클래스: {classes[predicted[idx].item()]}\")\n",
        "            print(f\"실제 클래스: {classes[labels[idx].item()]}\")\n",
        "            print(f\"예측 결과: {'정답' if predicted[idx] == labels[idx] else '오답'}\")\n",
        "            print(\"-\" * 50)\n",
        "\n",
        "# 예측 결과 확인\n",
        "visualize_predictions(model, test_loader, 10)"
      ],
      "metadata": {
        "id": "V_g5ubbSo7xf",
        "outputId": "a2cd1b91-e334-4182-a327-260eb6b2969e",
        "colab": {
          "base_uri": "https://localhost:8080/"
        }
      },
      "execution_count": 9,
      "outputs": [
        {
          "output_type": "stream",
          "name": "stdout",
          "text": [
            "\n",
            "=== 예측 결과 ===\n",
            "\n",
            "샘플 1\n",
            "예측 클래스: Business\n",
            "실제 클래스: Business\n",
            "예측 결과: 정답\n",
            "--------------------------------------------------\n",
            "\n",
            "샘플 2\n",
            "예측 클래스: Sci/Tech\n",
            "실제 클래스: Sci/Tech\n",
            "예측 결과: 정답\n",
            "--------------------------------------------------\n",
            "\n",
            "샘플 3\n",
            "예측 클래스: Sci/Tech\n",
            "실제 클래스: Sci/Tech\n",
            "예측 결과: 정답\n",
            "--------------------------------------------------\n",
            "\n",
            "샘플 4\n",
            "예측 클래스: Sci/Tech\n",
            "실제 클래스: Sci/Tech\n",
            "예측 결과: 정답\n",
            "--------------------------------------------------\n",
            "\n",
            "샘플 5\n",
            "예측 클래스: Sci/Tech\n",
            "실제 클래스: Sci/Tech\n",
            "예측 결과: 정답\n",
            "--------------------------------------------------\n",
            "\n",
            "샘플 6\n",
            "예측 클래스: Sci/Tech\n",
            "실제 클래스: Sci/Tech\n",
            "예측 결과: 정답\n",
            "--------------------------------------------------\n",
            "\n",
            "샘플 7\n",
            "예측 클래스: Sci/Tech\n",
            "실제 클래스: Sci/Tech\n",
            "예측 결과: 정답\n",
            "--------------------------------------------------\n",
            "\n",
            "샘플 8\n",
            "예측 클래스: Sci/Tech\n",
            "실제 클래스: Sci/Tech\n",
            "예측 결과: 정답\n",
            "--------------------------------------------------\n",
            "\n",
            "샘플 9\n",
            "예측 클래스: Sci/Tech\n",
            "실제 클래스: Sci/Tech\n",
            "예측 결과: 정답\n",
            "--------------------------------------------------\n",
            "\n",
            "샘플 10\n",
            "예측 클래스: Sci/Tech\n",
            "실제 클래스: Sci/Tech\n",
            "예측 결과: 정답\n",
            "--------------------------------------------------\n"
          ]
        }
      ]
    }
  ],
  "metadata": {
    "accelerator": "GPU",
    "colab": {
      "gpuType": "T4",
      "provenance": []
    },
    "kernelspec": {
      "display_name": "Python 3",
      "name": "python3"
    },
    "language_info": {
      "codemirror_mode": {
        "name": "ipython",
        "version": 3
      },
      "file_extension": ".py",
      "mimetype": "text/x-python",
      "name": "python",
      "nbconvert_exporter": "python",
      "pygments_lexer": "ipython3",
      "version": "3.12.9"
    }
  },
  "nbformat": 4,
  "nbformat_minor": 0
}