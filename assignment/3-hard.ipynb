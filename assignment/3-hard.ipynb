{
  "cells": [
    {
      "cell_type": "markdown",
      "metadata": {
        "id": "DEolFCkfLT84"
      },
      "source": [
        "# [3주차] 심화과제 - Pre-trained 모델로 효율적인 NLP 모델 학습하기\n",
        "\n",
        "#### Q1) 어떤 task를 선택하셨나요?\n",
        "- MNLI task\n",
        "- MNLI는 두 문장이 주어졌을 때 논리적으로 연결이 되어 있는지, 서로 모순되는지, 아니면 아예 무관한지 분류하는 문제이다.\n",
        "- BERT는 sentence pair classification에 특화되어 있어 MNLI와 같이 두 문장 간의 복잡한 의미 관계를 파악하는데 효과적이다. BERT와 비슷한 성능을 가지면서 사이즈는 작은 DistilBERT를 사용하였다.\n",
        "\n",
        "#### Q2) 모델은 어떻게 설계하셨나요? 설계한 모델의 입력과 출력 형태가 어떻게 되나요?\n",
        "- 아래 출력 포함\n",
        "\n",
        "\n",
        "#### Q3) 실제로 pre-trained 모델을 fine-tuning했을 때 loss curve은 어떻게 그려지나요? 그리고 pre-train 하지 않은 Transformer를 학습했을 때와 어떤 차이가 있나요?\n",
        "\n",
        "\n"
      ]
    },
    {
      "cell_type": "code",
      "execution_count": 1,
      "metadata": {
        "vscode": {
          "languageId": "plaintext"
        },
        "colab": {
          "base_uri": "https://localhost:8080/"
        },
        "id": "sU6syw9-LT86",
        "outputId": "c92d32bc-a61c-463a-983b-cfcb98de44d6"
      },
      "outputs": [
        {
          "output_type": "stream",
          "name": "stdout",
          "text": [
            "Requirement already satisfied: tqdm in /usr/local/lib/python3.11/dist-packages (4.67.1)\n",
            "Requirement already satisfied: boto3 in /usr/local/lib/python3.11/dist-packages (1.37.28)\n",
            "Requirement already satisfied: requests in /usr/local/lib/python3.11/dist-packages (2.32.3)\n",
            "Requirement already satisfied: regex in /usr/local/lib/python3.11/dist-packages (2024.11.6)\n",
            "Requirement already satisfied: sentencepiece in /usr/local/lib/python3.11/dist-packages (0.2.0)\n",
            "Requirement already satisfied: sacremoses in /usr/local/lib/python3.11/dist-packages (0.1.1)\n",
            "Requirement already satisfied: datasets in /usr/local/lib/python3.11/dist-packages (3.5.0)\n",
            "Requirement already satisfied: botocore<1.38.0,>=1.37.28 in /usr/local/lib/python3.11/dist-packages (from boto3) (1.37.28)\n",
            "Requirement already satisfied: jmespath<2.0.0,>=0.7.1 in /usr/local/lib/python3.11/dist-packages (from boto3) (1.0.1)\n",
            "Requirement already satisfied: s3transfer<0.12.0,>=0.11.0 in /usr/local/lib/python3.11/dist-packages (from boto3) (0.11.4)\n",
            "Requirement already satisfied: charset-normalizer<4,>=2 in /usr/local/lib/python3.11/dist-packages (from requests) (3.4.1)\n",
            "Requirement already satisfied: idna<4,>=2.5 in /usr/local/lib/python3.11/dist-packages (from requests) (3.10)\n",
            "Requirement already satisfied: urllib3<3,>=1.21.1 in /usr/local/lib/python3.11/dist-packages (from requests) (2.3.0)\n",
            "Requirement already satisfied: certifi>=2017.4.17 in /usr/local/lib/python3.11/dist-packages (from requests) (2025.1.31)\n",
            "Requirement already satisfied: click in /usr/local/lib/python3.11/dist-packages (from sacremoses) (8.1.8)\n",
            "Requirement already satisfied: joblib in /usr/local/lib/python3.11/dist-packages (from sacremoses) (1.4.2)\n",
            "Requirement already satisfied: filelock in /usr/local/lib/python3.11/dist-packages (from datasets) (3.18.0)\n",
            "Requirement already satisfied: numpy>=1.17 in /usr/local/lib/python3.11/dist-packages (from datasets) (2.0.2)\n",
            "Requirement already satisfied: pyarrow>=15.0.0 in /usr/local/lib/python3.11/dist-packages (from datasets) (18.1.0)\n",
            "Requirement already satisfied: dill<0.3.9,>=0.3.0 in /usr/local/lib/python3.11/dist-packages (from datasets) (0.3.8)\n",
            "Requirement already satisfied: pandas in /usr/local/lib/python3.11/dist-packages (from datasets) (2.2.2)\n",
            "Requirement already satisfied: xxhash in /usr/local/lib/python3.11/dist-packages (from datasets) (3.5.0)\n",
            "Requirement already satisfied: multiprocess<0.70.17 in /usr/local/lib/python3.11/dist-packages (from datasets) (0.70.16)\n",
            "Requirement already satisfied: fsspec<=2024.12.0,>=2023.1.0 in /usr/local/lib/python3.11/dist-packages (from fsspec[http]<=2024.12.0,>=2023.1.0->datasets) (2024.12.0)\n",
            "Requirement already satisfied: aiohttp in /usr/local/lib/python3.11/dist-packages (from datasets) (3.11.15)\n",
            "Requirement already satisfied: huggingface-hub>=0.24.0 in /usr/local/lib/python3.11/dist-packages (from datasets) (0.30.1)\n",
            "Requirement already satisfied: packaging in /usr/local/lib/python3.11/dist-packages (from datasets) (24.2)\n",
            "Requirement already satisfied: pyyaml>=5.1 in /usr/local/lib/python3.11/dist-packages (from datasets) (6.0.2)\n",
            "Requirement already satisfied: python-dateutil<3.0.0,>=2.1 in /usr/local/lib/python3.11/dist-packages (from botocore<1.38.0,>=1.37.28->boto3) (2.8.2)\n",
            "Requirement already satisfied: aiohappyeyeballs>=2.3.0 in /usr/local/lib/python3.11/dist-packages (from aiohttp->datasets) (2.6.1)\n",
            "Requirement already satisfied: aiosignal>=1.1.2 in /usr/local/lib/python3.11/dist-packages (from aiohttp->datasets) (1.3.2)\n",
            "Requirement already satisfied: attrs>=17.3.0 in /usr/local/lib/python3.11/dist-packages (from aiohttp->datasets) (25.3.0)\n",
            "Requirement already satisfied: frozenlist>=1.1.1 in /usr/local/lib/python3.11/dist-packages (from aiohttp->datasets) (1.5.0)\n",
            "Requirement already satisfied: multidict<7.0,>=4.5 in /usr/local/lib/python3.11/dist-packages (from aiohttp->datasets) (6.3.1)\n",
            "Requirement already satisfied: propcache>=0.2.0 in /usr/local/lib/python3.11/dist-packages (from aiohttp->datasets) (0.3.1)\n",
            "Requirement already satisfied: yarl<2.0,>=1.17.0 in /usr/local/lib/python3.11/dist-packages (from aiohttp->datasets) (1.18.3)\n",
            "Requirement already satisfied: typing-extensions>=3.7.4.3 in /usr/local/lib/python3.11/dist-packages (from huggingface-hub>=0.24.0->datasets) (4.13.0)\n",
            "Requirement already satisfied: pytz>=2020.1 in /usr/local/lib/python3.11/dist-packages (from pandas->datasets) (2025.2)\n",
            "Requirement already satisfied: tzdata>=2022.7 in /usr/local/lib/python3.11/dist-packages (from pandas->datasets) (2025.2)\n",
            "Requirement already satisfied: six>=1.5 in /usr/local/lib/python3.11/dist-packages (from python-dateutil<3.0.0,>=2.1->botocore<1.38.0,>=1.37.28->boto3) (1.17.0)\n"
          ]
        }
      ],
      "source": [
        "%pip install tqdm boto3 requests regex sentencepiece sacremoses datasets"
      ]
    },
    {
      "cell_type": "markdown",
      "source": [
        "### 1. 데이터셋 준비"
      ],
      "metadata": {
        "id": "tFFH4Y2imR2L"
      }
    },
    {
      "cell_type": "markdown",
      "metadata": {
        "id": "CpdgAA5yLT88"
      },
      "source": [
        "Kaggle 데이터셋을 다운로드 받는다."
      ]
    },
    {
      "cell_type": "code",
      "execution_count": 2,
      "metadata": {
        "colab": {
          "base_uri": "https://localhost:8080/"
        },
        "id": "aeSNRcFnLT88",
        "outputId": "468182b5-257b-4831-d0b6-0847cd90beeb"
      },
      "outputs": [
        {
          "output_type": "stream",
          "name": "stdout",
          "text": [
            "Path to dataset files: /root/.cache/kagglehub/datasets/thedevastator/unlocking-language-understanding-with-the-multin/versions/2\n"
          ]
        }
      ],
      "source": [
        "import kagglehub\n",
        "\n",
        "# Download latest version\n",
        "path = kagglehub.dataset_download(\"thedevastator/unlocking-language-understanding-with-the-multin\")\n",
        "\n",
        "print(\"Path to dataset files:\", path)"
      ]
    },
    {
      "cell_type": "markdown",
      "source": [
        "kaggle 데이터셋은 다음과 같이 구성되어 있다.\n",
        "- premise: 기준이 되는 첫 번째 문장\n",
        "- hypothesis: 두 번째 문장\n",
        "- label: 두 문장의 관계\n",
        "  - entailment: 논리적 연결(0)\n",
        "  - contradiction: 모순 관계(1)\n",
        "  - neutral: 무관한 관계(2)"
      ],
      "metadata": {
        "id": "T57GnFU7mxty"
      }
    },
    {
      "cell_type": "code",
      "source": [
        "import random\n",
        "import pandas as pd\n",
        "\n",
        "def load_data(path, nrows=None):\n",
        "  df = pd.read_csv(path, nrows=nrows, keep_default_na=False)\n",
        "  data = []\n",
        "  for _, row in df.iterrows():\n",
        "    if len(row['premise']) * len(row['hypothesis']) != 0:\n",
        "      data.append({'premise': row['premise'], 'hypothesis': row['hypothesis'], 'label': row['label']})\n",
        "\n",
        "  return data\n",
        "\n",
        "# 경로 : load_data(path + '/불러올파일명.csv', nrows=1000)\n",
        "train_data = load_data(path+'/train.csv', nrows=1000)\n",
        "test_data = load_data(path+'/validation_matched.csv', nrows=1000)"
      ],
      "metadata": {
        "id": "nrS1sSdvjfZd"
      },
      "execution_count": 3,
      "outputs": []
    },
    {
      "cell_type": "markdown",
      "metadata": {
        "id": "XNSsf6MCLT87"
      },
      "source": [
        "DistilBERT 모델용 tokenizer를 불러온다."
      ]
    },
    {
      "cell_type": "code",
      "execution_count": 4,
      "metadata": {
        "colab": {
          "base_uri": "https://localhost:8080/"
        },
        "id": "QOunVrt9LT87",
        "outputId": "668eeef3-2247-4a0a-a898-cd65d9565793"
      },
      "outputs": [
        {
          "output_type": "stream",
          "name": "stderr",
          "text": [
            "Using cache found in /root/.cache/torch/hub/huggingface_pytorch-transformers_main\n",
            "/usr/local/lib/python3.11/dist-packages/huggingface_hub/utils/_auth.py:94: UserWarning: \n",
            "The secret `HF_TOKEN` does not exist in your Colab secrets.\n",
            "To authenticate with the Hugging Face Hub, create a token in your settings tab (https://huggingface.co/settings/tokens), set it as secret in your Google Colab and restart your session.\n",
            "You will be able to reuse this secret in all of your notebooks.\n",
            "Please note that authentication is recommended but still optional to access public models or datasets.\n",
            "  warnings.warn(\n"
          ]
        }
      ],
      "source": [
        "import torch\n",
        "from datasets import load_dataset\n",
        "from torch.utils.data import DataLoader\n",
        "\n",
        "# DistilBERT 모델용 tokenizer 로드 (pretrained)\n",
        "# 이 tokenizer는 문장을 토큰화해서 모델이 이해할 수 있는 input_ids로 변환해줌\n",
        "tokenizer = torch.hub.load('huggingface/pytorch-transformers', 'tokenizer', 'distilbert-base-uncased')"
      ]
    },
    {
      "cell_type": "markdown",
      "source": [
        "max length를 설정하기 위해 문장의 길이 분포를 확인한다.\n",
        "\n",
        "train data의 99% 이상이 103 이하이고, test data의 99% 이상이 94 이하이다.\n",
        "\n",
        "트랜스포머 모델은 8의 배수로 처리할 때 효율적이므로 8 X 103 = 104를 max length로 설정한다."
      ],
      "metadata": {
        "id": "NIDG-sf_naRA"
      }
    },
    {
      "cell_type": "code",
      "source": [
        "# 문장 길이 분포 확인\n",
        "def analyze_length_distribution(data):\n",
        "    premise_lengths = []\n",
        "    hypothesis_lengths = []\n",
        "    total_lengths = []\n",
        "\n",
        "    # 각 문장을 토큰화하여 길이 계산\n",
        "    for item in data:\n",
        "        premise_tokens = tokenizer(item['premise'])['input_ids']\n",
        "        hypothesis_tokens = tokenizer(item['hypothesis'])['input_ids']\n",
        "\n",
        "        premise_len = len(premise_tokens)\n",
        "        hypothesis_len = len(hypothesis_tokens)\n",
        "        # BERT/DistilBERT는 두 문장을 [CLS] premise [SEP] hypothesis [SEP] 형태로 결합\n",
        "        # 따라서 총 길이는 premise + hypothesis + 3 ([CLS]와 [SEP] 토큰)\n",
        "        total_len = premise_len + hypothesis_len + 3\n",
        "\n",
        "        premise_lengths.append(premise_len)\n",
        "        hypothesis_lengths.append(hypothesis_len)\n",
        "        total_lengths.append(total_len)\n",
        "\n",
        "    print(f\"=== 길이 통계 ===\")\n",
        "    print(f\"Premise 평균 길이: {sum(premise_lengths)/len(premise_lengths):.1f}\")\n",
        "    print(f\"Premise 최대 길이: {max(premise_lengths)}\")\n",
        "    print(f\"Hypothesis 평균 길이: {sum(hypothesis_lengths)/len(hypothesis_lengths):.1f}\")\n",
        "    print(f\"Hypothesis 최대 길이: {max(hypothesis_lengths)}\")\n",
        "    print(f\"전체 시퀀스 평균 길이: {sum(total_lengths)/len(total_lengths):.1f}\")\n",
        "    print(f\"전체 시퀀스 최대 길이: {max(total_lengths)}\")\n",
        "\n",
        "    # 90, 95, 99 퍼센타일 계산\n",
        "    percentiles = [90, 95, 99]\n",
        "    for p in percentiles:\n",
        "        threshold = sorted(total_lengths)[int(len(total_lengths) * p/100)]\n",
        "        print(f\"{p}% 문장의 길이: {threshold} 이하\")\n",
        "\n",
        "print(\"Training Data 분석:\")\n",
        "analyze_length_distribution(train_data)\n",
        "print(\"\\nTest Data 분석:\")\n",
        "analyze_length_distribution(test_data)"
      ],
      "metadata": {
        "colab": {
          "base_uri": "https://localhost:8080/"
        },
        "id": "FcgTBO6Olo68",
        "outputId": "d41de7df-bec8-4773-bd9c-f4ae705cd1e0"
      },
      "execution_count": 5,
      "outputs": [
        {
          "output_type": "stream",
          "name": "stdout",
          "text": [
            "Training Data 분석:\n",
            "=== 길이 통계 ===\n",
            "Premise 평균 길이: 26.9\n",
            "Premise 최대 길이: 189\n",
            "Hypothesis 평균 길이: 14.1\n",
            "Hypothesis 최대 길이: 49\n",
            "전체 시퀀스 평균 길이: 44.1\n",
            "전체 시퀀스 최대 길이: 215\n",
            "90% 문장의 길이: 67 이하\n",
            "95% 문장의 길이: 77 이하\n",
            "99% 문장의 길이: 103 이하\n",
            "\n",
            "Test Data 분석:\n",
            "=== 길이 통계 ===\n",
            "Premise 평균 길이: 25.4\n",
            "Premise 최대 길이: 138\n",
            "Hypothesis 평균 길이: 14.1\n",
            "Hypothesis 최대 길이: 46\n",
            "전체 시퀀스 평균 길이: 42.5\n",
            "전체 시퀀스 최대 길이: 165\n",
            "90% 문장의 길이: 65 이하\n",
            "95% 문장의 길이: 74 이하\n",
            "99% 문장의 길이: 94 이하\n"
          ]
        }
      ]
    },
    {
      "cell_type": "code",
      "source": [
        "from transformers import AutoTokenizer\n",
        "import torch\n",
        "from torch.utils.data import DataLoader\n",
        "\n",
        "\n",
        "def collate_fn(batch):\n",
        "    premises, hypotheses, labels = [], [], []\n",
        "\n",
        "    # 배치 내 각 샘플에서 premise, hypothesis, label 추출\n",
        "    for row in batch:\n",
        "        premises.append(row['premise'])\n",
        "        hypotheses.append(row['hypothesis'])\n",
        "        labels.append(row['label'])\n",
        "\n",
        "    # tokenizer로 두 문장을 함께 토큰화\n",
        "    encoded = tokenizer(\n",
        "        premises,\n",
        "        hypotheses,\n",
        "        padding=True,\n",
        "        truncation=True,\n",
        "        max_length=104,\n",
        "        # PyTorch 텐서로 변환하여 반환한다.\n",
        "        return_tensors='pt'\n",
        "    )\n",
        "\n",
        "    # label을 텐서로 변환한다\n",
        "    labels = torch.LongTensor(labels)\n",
        "\n",
        "    # 모델 입력에 필요한 모든 정보 반환\n",
        "    return {\n",
        "        'input_ids': encoded['input_ids'],\n",
        "        'attention_mask': encoded['attention_mask'],\n",
        "        'labels': labels\n",
        "    }\n",
        "\n",
        "# DataLoader 설정\n",
        "train_loader = DataLoader(\n",
        "    train_data,\n",
        "    batch_size=32,\n",
        "    shuffle=True,\n",
        "    collate_fn=collate_fn\n",
        ")\n",
        "\n",
        "test_loader = DataLoader(\n",
        "    test_data,\n",
        "    batch_size=32,\n",
        "    shuffle=False,\n",
        "    collate_fn=collate_fn\n",
        ")\n",
        "\n",
        "# 데이터 형태 확인\n",
        "for batch in train_loader:\n",
        "    print(\"배치 크기:\", batch['input_ids'].shape)\n",
        "    print(\"어텐션 마스크 크기:\", batch['attention_mask'].shape)\n",
        "    print(\"라벨 크기:\", batch['labels'].shape)\n",
        "    print(\"\\n첫 번째 배치 예시:\")\n",
        "    print(\"입력 ID:\", batch['input_ids'][0])\n",
        "    print(\"라벨:\", batch['labels'][0])\n",
        "    break"
      ],
      "metadata": {
        "colab": {
          "base_uri": "https://localhost:8080/"
        },
        "id": "B0BlAWQsluC6",
        "outputId": "733470ce-ffd2-4a3e-dfcd-2e45685eab19"
      },
      "execution_count": 6,
      "outputs": [
        {
          "output_type": "stream",
          "name": "stdout",
          "text": [
            "배치 크기: torch.Size([32, 104])\n",
            "어텐션 마스크 크기: torch.Size([32, 104])\n",
            "라벨 크기: torch.Size([32])\n",
            "\n",
            "첫 번째 배치 예시:\n",
            "입력 ID: tensor([ 101, 2821, 3398, 2008, 3398, 2027, 2027, 2074, 2448, 2035, 2058, 1996,\n",
            "        2173, 2123, 1005, 1056, 2027,  102, 2123, 1005, 1056, 2027, 2074, 2448,\n",
            "        2035, 2058, 1996, 2173, 1029,  102,    0,    0,    0,    0,    0,    0,\n",
            "           0,    0,    0,    0,    0,    0,    0,    0,    0,    0,    0,    0,\n",
            "           0,    0,    0,    0,    0,    0,    0,    0,    0,    0,    0,    0,\n",
            "           0,    0,    0,    0,    0,    0,    0,    0,    0,    0,    0,    0,\n",
            "           0,    0,    0,    0,    0,    0,    0,    0,    0,    0,    0,    0,\n",
            "           0,    0,    0,    0,    0,    0,    0,    0,    0,    0,    0,    0,\n",
            "           0,    0,    0,    0,    0,    0,    0,    0])\n",
            "라벨: tensor(0)\n"
          ]
        }
      ]
    },
    {
      "cell_type": "markdown",
      "source": [
        "### 2. 모델 정의\n",
        "\n",
        "MNLI task를 위해 시퀀스 분류용 모델 DistilBertForSequenceClassification을 불러온다.\n",
        "\n",
        "DistilBertForSequenceClassification은 기본 DistillBERT에 분류를 위한 선형 레이어가 추가되어 있다."
      ],
      "metadata": {
        "id": "6GWhKcdpo9XV"
      }
    },
    {
      "cell_type": "code",
      "source": [
        "from transformers import DistilBertForSequenceClassification\n",
        "\n",
        "model = DistilBertForSequenceClassification.from_pretrained(\n",
        "    'distilbert-base-uncased',\n",
        "    num_labels=3 # entailment, contradiction, neutral\n",
        ")\n",
        "\n",
        "# GPU를 사용하기 위한 옵션\n",
        "device = torch.device('cuda' if torch.cuda.is_available() else 'cpu')\n",
        "model = model.to(device)"
      ],
      "metadata": {
        "colab": {
          "base_uri": "https://localhost:8080/"
        },
        "id": "tsdJHFnFj5PU",
        "outputId": "fd3aec21-50ec-4d39-ece0-6f2910d978bc"
      },
      "execution_count": 7,
      "outputs": [
        {
          "output_type": "stream",
          "name": "stderr",
          "text": [
            "Some weights of DistilBertForSequenceClassification were not initialized from the model checkpoint at distilbert-base-uncased and are newly initialized: ['classifier.bias', 'classifier.weight', 'pre_classifier.bias', 'pre_classifier.weight']\n",
            "You should probably TRAIN this model on a down-stream task to be able to use it for predictions and inference.\n"
          ]
        }
      ]
    },
    {
      "cell_type": "markdown",
      "source": [
        "모델의 입력과 출력, 예측 결과 형태를 확인한다."
      ],
      "metadata": {
        "id": "qmtygJX3pn6j"
      }
    },
    {
      "cell_type": "code",
      "source": [
        "# 예시 데이터\n",
        "premise = \"Conceptually cream skimming has two basic dimensions - product and geography.\"\n",
        "hypothesis = \"Product and geography are what make cream skimming work.\"\n",
        "\n",
        "# 입력 형태\n",
        "encoded = tokenizer(\n",
        "    premise,\n",
        "    hypothesis,\n",
        "    padding=True,\n",
        "    truncation=True,\n",
        "    max_length=104,\n",
        "    return_tensors='pt'\n",
        ")\n",
        "\n",
        "print(\"=== 입력 형태 ===\")\n",
        "print(\"input_ids 형태:\", encoded['input_ids'].shape)\n",
        "print(\"attention_mask 형태:\", encoded['attention_mask'].shape)\n",
        "\n",
        "# 모델 출력\n",
        "outputs = model(**encoded)\n",
        "print(\"\\n=== 출력 형태 ===\")\n",
        "print(\"로짓 형태:\", outputs.logits.shape)  # [batch_size, 3] - 3개 클래스에 대한 점수\n",
        "\n",
        "# 예측 클래스\n",
        "predicted_class = torch.argmax(outputs.logits, dim=1)\n",
        "print(\"\\n=== 예측 결과 ===\")\n",
        "print(\"예측 클래스:\", predicted_class.item())  # 0: entailment, 1: contradiction, 2: neutral\n",
        "\n",
        "# 레이블과 예측값 매핑\n",
        "label_map = {0: 'entailment', 1: 'contradiction', 2: 'neutral'}\n",
        "print(\"예측 결과:\", label_map[predicted_class.item()])"
      ],
      "metadata": {
        "colab": {
          "base_uri": "https://localhost:8080/"
        },
        "id": "RllxpNGTlXOv",
        "outputId": "d48246d7-c5eb-4d9f-a9df-79129049e714"
      },
      "execution_count": 8,
      "outputs": [
        {
          "output_type": "stream",
          "name": "stdout",
          "text": [
            "=== 입력 형태 ===\n",
            "input_ids 형태: torch.Size([1, 28])\n",
            "attention_mask 형태: torch.Size([1, 28])\n",
            "\n",
            "=== 출력 형태 ===\n",
            "로짓 형태: torch.Size([1, 3])\n",
            "\n",
            "=== 예측 결과 ===\n",
            "예측 클래스: 2\n",
            "예측 결과: neutral\n"
          ]
        }
      ]
    },
    {
      "cell_type": "markdown",
      "source": [
        "### 3. Fine tuning"
      ],
      "metadata": {
        "id": "pYQjFnYNqGsC"
      }
    },
    {
      "cell_type": "markdown",
      "source": [
        "fine tuning 전/후를 비교하기 위해 정확도를 계산하고 모델의 성능을 평가하는 함수를 추가한다."
      ],
      "metadata": {
        "id": "hT7pFzHlqJ80"
      }
    },
    {
      "cell_type": "code",
      "source": [
        "# 정확도 계산 함수\n",
        "def compute_accuracy(model, data_loader):\n",
        "    model.eval()\n",
        "    correct = 0\n",
        "    total = 0\n",
        "\n",
        "    with torch.no_grad():\n",
        "        for batch in data_loader:\n",
        "            input_ids = batch['input_ids'].to(device)\n",
        "            attention_mask = batch['attention_mask'].to(device)\n",
        "            labels = batch['labels'].to(device)\n",
        "\n",
        "            outputs = model(input_ids, attention_mask=attention_mask)\n",
        "            predictions = torch.argmax(outputs.logits, dim=1)\n",
        "\n",
        "            correct += (predictions == labels).sum().item()\n",
        "            total += labels.size(0)\n",
        "\n",
        "    return correct / total\n",
        "\n",
        "# 모델 성능 평가 및 시각화 함수\n",
        "def evaluate_and_visualize(model, train_loader, test_loader, title_prefix=\"\"):\n",
        "    # 정확도 계산\n",
        "    train_acc = compute_accuracy(model, train_loader)\n",
        "    test_acc = compute_accuracy(model, test_loader)\n",
        "\n",
        "    print(f\"\\n=== {title_prefix} 모델 성능 ===\")\n",
        "    print(f\"Train Accuracy: {train_acc:.4f}\")\n",
        "    print(f\"Test Accuracy: {test_acc:.4f}\")\n",
        "\n",
        "    return train_acc, test_acc"
      ],
      "metadata": {
        "id": "9pJC8ujVkURN"
      },
      "execution_count": 9,
      "outputs": []
    },
    {
      "cell_type": "markdown",
      "source": [
        "학습 함수를 정의한다."
      ],
      "metadata": {
        "id": "vVvEMscDqj_n"
      }
    },
    {
      "cell_type": "code",
      "source": [
        "import torch\n",
        "from torch.optim import AdamW\n",
        "import numpy as np\n",
        "import matplotlib.pyplot as plt\n",
        "from tqdm import tqdm\n",
        "\n",
        "# 학습 함수\n",
        "def train_model(model, train_loader, test_loader):\n",
        "    model = model.to(device)\n",
        "\n",
        "    # transformer 미세조정에 적합한 learning rate\n",
        "    lr = 2e-5\n",
        "    n_epochs = 5\n",
        "\n",
        "    # AdamW 옵티마이저 사용 (트랜스포머 모델에 더 적합)\n",
        "    optimizer = AdamW(model.parameters(), lr=lr)\n",
        "\n",
        "    train_losses = []\n",
        "    train_accs = []\n",
        "    test_accs = []\n",
        "\n",
        "    for epoch in range(n_epochs):\n",
        "        model.train()\n",
        "        total_loss = 0\n",
        "        progress_bar = tqdm(train_loader, desc=f'Epoch {epoch + 1}/{n_epochs}')\n",
        "\n",
        "        for batch in progress_bar:\n",
        "            input_ids = batch['input_ids'].to(device)\n",
        "            attention_mask = batch['attention_mask'].to(device)\n",
        "            labels = batch['labels'].to(device)\n",
        "\n",
        "            optimizer.zero_grad()\n",
        "            outputs = model(\n",
        "                input_ids=input_ids,\n",
        "                attention_mask=attention_mask,\n",
        "                labels=labels\n",
        "            )\n",
        "\n",
        "            loss = outputs.loss\n",
        "            total_loss += loss.item()\n",
        "\n",
        "            loss.backward()\n",
        "            optimizer.step()\n",
        "\n",
        "            progress_bar.set_postfix({'loss': loss.item()})\n",
        "\n",
        "        avg_loss = total_loss / len(train_loader)\n",
        "        train_losses.append(avg_loss)\n",
        "\n",
        "        # 에폭마다 정확도 계산\n",
        "        train_acc = compute_accuracy(model, train_loader)\n",
        "        test_acc = compute_accuracy(model, test_loader)\n",
        "        train_accs.append(train_acc)\n",
        "        test_accs.append(test_acc)\n",
        "\n",
        "        print(f\"\\nEpoch {epoch + 1}/{n_epochs}\")\n",
        "        print(f\"Total Loss: {total_loss:.4f}\")\n",
        "        print(f\"Average Loss: {avg_loss:.4f}\")\n",
        "        print(f\"Train Accuracy: {train_acc:.4f}\")\n",
        "        print(f\"Test Accuracy: {test_acc:.4f}\\n\")\n",
        "\n",
        "    return train_losses, train_accs, test_accs"
      ],
      "metadata": {
        "id": "fBcmmsiwkFVe"
      },
      "execution_count": 10,
      "outputs": []
    },
    {
      "cell_type": "markdown",
      "source": [
        "fine tuning 전/후 성능을 측정한다."
      ],
      "metadata": {
        "id": "LTx24yMgqrk9"
      }
    },
    {
      "cell_type": "code",
      "source": [
        "# 1. Fine-tuning 전 성능 평가\n",
        "before_train_acc, before_test_acc = evaluate_and_visualize(\n",
        "    model, train_loader, test_loader, \"Fine-tuning 전\"\n",
        ")\n",
        "\n",
        "# 2. Fine-tuning 수행\n",
        "print(\"\\n=== Fine-tuning 시작 ===\")\n",
        "for param in model.distilbert.parameters():\n",
        "    param.requires_grad = False\n",
        "\n",
        "train_losses, train_accs, test_accs = train_model(\n",
        "    model, train_loader, test_loader\n",
        ")\n",
        "\n",
        "# 3. Fine-tuning 후 성능 평가\n",
        "after_train_acc, after_test_acc = evaluate_and_visualize(\n",
        "    model, train_loader, test_loader, \"Fine-tuning 후\"\n",
        ")\n",
        "\n",
        "# 4. 결과 시각화\n",
        "plt.figure(figsize=(15, 5))\n",
        "\n",
        "# 학습 중 손실 그래프\n",
        "plt.subplot(1, 2, 1)\n",
        "plt.plot(train_losses, label='Training Loss')\n",
        "plt.title('Training Loss Over Epochs')\n",
        "plt.xlabel('Epoch')\n",
        "plt.ylabel('Loss')\n",
        "plt.legend()\n",
        "\n",
        "# 정확도 비교 그래프\n",
        "plt.subplot(1, 2, 2)\n",
        "plt.plot(train_accs, label='Train Accuracy')\n",
        "plt.plot(test_accs, label='Test Accuracy')\n",
        "plt.axhline(y=before_train_acc, color='r', linestyle='--', label='Before Fine-tuning (Train)')\n",
        "plt.axhline(y=before_test_acc, color='g', linestyle='--', label='Before Fine-tuning (Test)')\n",
        "plt.title('Accuracy Comparison')\n",
        "plt.xlabel('Epoch')\n",
        "plt.ylabel('Accuracy')\n",
        "plt.legend()\n",
        "\n",
        "plt.tight_layout()\n",
        "plt.show()\n",
        "\n",
        "# 성능 향상 출력\n",
        "print(\"\\n=== 성능 향상 분석 ===\")\n",
        "print(f\"Train Accuracy 향상: {(after_train_acc - before_train_acc)*100:.2f}%\")\n",
        "print(f\"Test Accuracy 향상: {(after_test_acc - before_test_acc)*100:.2f}%\")"
      ],
      "metadata": {
        "colab": {
          "base_uri": "https://localhost:8080/",
          "height": 1000
        },
        "id": "pW7IdQK8jwnY",
        "outputId": "31776e8b-7d61-42b0-b60b-3b75a2c18fff"
      },
      "execution_count": 11,
      "outputs": [
        {
          "output_type": "stream",
          "name": "stdout",
          "text": [
            "\n",
            "=== Fine-tuning 전 모델 성능 ===\n",
            "Train Accuracy: 0.3220\n",
            "Test Accuracy: 0.3370\n",
            "\n",
            "=== Fine-tuning 전 모델 상태 ===\n"
          ]
        },
        {
          "output_type": "stream",
          "name": "stderr",
          "text": [
            "Epoch 1/5: 100%|██████████| 32/32 [02:28<00:00,  4.65s/it, loss=1.05]\n"
          ]
        },
        {
          "output_type": "stream",
          "name": "stdout",
          "text": [
            "\n",
            "Epoch 1/5\n",
            "Total Loss: 35.0152\n",
            "Average Loss: 1.0942\n",
            "Train Accuracy: 0.3810\n",
            "Test Accuracy: 0.3310\n",
            "\n"
          ]
        },
        {
          "output_type": "stream",
          "name": "stderr",
          "text": [
            "Epoch 2/5: 100%|██████████| 32/32 [02:22<00:00,  4.44s/it, loss=1.06]\n"
          ]
        },
        {
          "output_type": "stream",
          "name": "stdout",
          "text": [
            "\n",
            "Epoch 2/5\n",
            "Total Loss: 34.9207\n",
            "Average Loss: 1.0913\n",
            "Train Accuracy: 0.3840\n",
            "Test Accuracy: 0.3390\n",
            "\n"
          ]
        },
        {
          "output_type": "stream",
          "name": "stderr",
          "text": [
            "Epoch 3/5: 100%|██████████| 32/32 [02:20<00:00,  4.40s/it, loss=1.09]\n"
          ]
        },
        {
          "output_type": "stream",
          "name": "stdout",
          "text": [
            "\n",
            "Epoch 3/5\n",
            "Total Loss: 34.8284\n",
            "Average Loss: 1.0884\n",
            "Train Accuracy: 0.4060\n",
            "Test Accuracy: 0.3430\n",
            "\n"
          ]
        },
        {
          "output_type": "stream",
          "name": "stderr",
          "text": [
            "Epoch 4/5: 100%|██████████| 32/32 [02:27<00:00,  4.61s/it, loss=1.08]\n"
          ]
        },
        {
          "output_type": "stream",
          "name": "stdout",
          "text": [
            "\n",
            "Epoch 4/5\n",
            "Total Loss: 34.7796\n",
            "Average Loss: 1.0869\n",
            "Train Accuracy: 0.4150\n",
            "Test Accuracy: 0.3410\n",
            "\n"
          ]
        },
        {
          "output_type": "stream",
          "name": "stderr",
          "text": [
            "Epoch 5/5: 100%|██████████| 32/32 [02:25<00:00,  4.55s/it, loss=1.19]\n"
          ]
        },
        {
          "output_type": "stream",
          "name": "stdout",
          "text": [
            "\n",
            "Epoch 5/5\n",
            "Total Loss: 34.7992\n",
            "Average Loss: 1.0875\n",
            "Train Accuracy: 0.4150\n",
            "Test Accuracy: 0.3440\n",
            "\n",
            "\n",
            "=== Fine-tuning 후 모델 성능 ===\n",
            "Train Accuracy: 0.4150\n",
            "Test Accuracy: 0.3440\n"
          ]
        },
        {
          "output_type": "display_data",
          "data": {
            "text/plain": [
              "<Figure size 1500x500 with 2 Axes>"
            ],
            "image/png": "[encoded data removed]"
          },
          "metadata": {}
        },
        {
          "output_type": "stream",
          "name": "stdout",
          "text": [
            "\n",
            "=== 성능 향상 분석 ===\n",
            "Train Accuracy 향상: 9.30%\n",
            "Test Accuracy 향상: 0.70%\n"
          ]
        }
      ]
    }
  ],
  "metadata": {
    "language_info": {
      "name": "python"
    },
    "colab": {
      "provenance": []
    },
    "kernelspec": {
      "name": "python3",
      "display_name": "Python 3"
    }
  },
  "nbformat": 4,
  "nbformat_minor": 0
}