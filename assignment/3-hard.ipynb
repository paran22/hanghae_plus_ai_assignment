{
  "cells": [
    {
      "cell_type": "markdown",
      "metadata": {
        "id": "DEolFCkfLT84"
      },
      "source": [
        "# [3주차] 심화과제 - Pre-trained 모델로 효율적인 NLP 모델 학습하기\n",
        "\n",
        "#### Q1) 어떤 task를 선택하셨나요?\n",
        "- MNLI task\n",
        "- MNLI는 두 문장이 주어졌을 때 논리적으로 연결이 되어 있는지, 서로 모순되는지, 아니면 아예 무관한지 분류하는 문제이다.\n",
        "- BERT는 sentence pair classification에 특화되어 있어 MNLI와 같이 두 문장 간의 복잡한 의미 관계를 파악하는데 효과적이다. BERT와 비슷한 성능을 가지면서 사이즈는 작은 DistilBERT를 사용하였다.\n",
        "\n",
        "#### Q2) 모델은 어떻게 설계하셨나요? 설계한 모델의 입력과 출력 형태가 어떻게 되나요?\n",
        "- 아래 출력 포함\n",
        "\n",
        "\n",
        "#### Q3) 실제로 pre-trained 모델을 fine-tuning했을 때 loss curve은 어떻게 그려지나요? 그리고 pre-train 하지 않은 Transformer를 학습했을 때와 어떤 차이가 있나요?\n",
        "\n",
        "\n"
      ]
    },
    {
      "cell_type": "code",
      "execution_count": 1,
      "metadata": {
        "vscode": {
          "languageId": "plaintext"
        },
        "colab": {
          "base_uri": "https://localhost:8080/"
        },
        "id": "sU6syw9-LT86",
        "outputId": "dbda89fb-5617-4595-ea71-c6e9c361d036"
      },
      "outputs": [
        {
          "output_type": "stream",
          "name": "stdout",
          "text": [
            "Requirement already satisfied: tqdm in /usr/local/lib/python3.11/dist-packages (4.67.1)\n",
            "Requirement already satisfied: boto3 in /usr/local/lib/python3.11/dist-packages (1.37.29)\n",
            "Requirement already satisfied: requests in /usr/local/lib/python3.11/dist-packages (2.32.3)\n",
            "Requirement already satisfied: regex in /usr/local/lib/python3.11/dist-packages (2024.11.6)\n",
            "Requirement already satisfied: sentencepiece in /usr/local/lib/python3.11/dist-packages (0.2.0)\n",
            "Requirement already satisfied: sacremoses in /usr/local/lib/python3.11/dist-packages (0.1.1)\n",
            "Requirement already satisfied: datasets in /usr/local/lib/python3.11/dist-packages (3.5.0)\n",
            "Requirement already satisfied: botocore<1.38.0,>=1.37.29 in /usr/local/lib/python3.11/dist-packages (from boto3) (1.37.29)\n",
            "Requirement already satisfied: jmespath<2.0.0,>=0.7.1 in /usr/local/lib/python3.11/dist-packages (from boto3) (1.0.1)\n",
            "Requirement already satisfied: s3transfer<0.12.0,>=0.11.0 in /usr/local/lib/python3.11/dist-packages (from boto3) (0.11.4)\n",
            "Requirement already satisfied: charset-normalizer<4,>=2 in /usr/local/lib/python3.11/dist-packages (from requests) (3.4.1)\n",
            "Requirement already satisfied: idna<4,>=2.5 in /usr/local/lib/python3.11/dist-packages (from requests) (3.10)\n",
            "Requirement already satisfied: urllib3<3,>=1.21.1 in /usr/local/lib/python3.11/dist-packages (from requests) (2.3.0)\n",
            "Requirement already satisfied: certifi>=2017.4.17 in /usr/local/lib/python3.11/dist-packages (from requests) (2025.1.31)\n",
            "Requirement already satisfied: click in /usr/local/lib/python3.11/dist-packages (from sacremoses) (8.1.8)\n",
            "Requirement already satisfied: joblib in /usr/local/lib/python3.11/dist-packages (from sacremoses) (1.4.2)\n",
            "Requirement already satisfied: filelock in /usr/local/lib/python3.11/dist-packages (from datasets) (3.18.0)\n",
            "Requirement already satisfied: numpy>=1.17 in /usr/local/lib/python3.11/dist-packages (from datasets) (2.0.2)\n",
            "Requirement already satisfied: pyarrow>=15.0.0 in /usr/local/lib/python3.11/dist-packages (from datasets) (18.1.0)\n",
            "Requirement already satisfied: dill<0.3.9,>=0.3.0 in /usr/local/lib/python3.11/dist-packages (from datasets) (0.3.8)\n",
            "Requirement already satisfied: pandas in /usr/local/lib/python3.11/dist-packages (from datasets) (2.2.2)\n",
            "Requirement already satisfied: xxhash in /usr/local/lib/python3.11/dist-packages (from datasets) (3.5.0)\n",
            "Requirement already satisfied: multiprocess<0.70.17 in /usr/local/lib/python3.11/dist-packages (from datasets) (0.70.16)\n",
            "Requirement already satisfied: fsspec<=2024.12.0,>=2023.1.0 in /usr/local/lib/python3.11/dist-packages (from fsspec[http]<=2024.12.0,>=2023.1.0->datasets) (2024.12.0)\n",
            "Requirement already satisfied: aiohttp in /usr/local/lib/python3.11/dist-packages (from datasets) (3.11.15)\n",
            "Requirement already satisfied: huggingface-hub>=0.24.0 in /usr/local/lib/python3.11/dist-packages (from datasets) (0.30.1)\n",
            "Requirement already satisfied: packaging in /usr/local/lib/python3.11/dist-packages (from datasets) (24.2)\n",
            "Requirement already satisfied: pyyaml>=5.1 in /usr/local/lib/python3.11/dist-packages (from datasets) (6.0.2)\n",
            "Requirement already satisfied: python-dateutil<3.0.0,>=2.1 in /usr/local/lib/python3.11/dist-packages (from botocore<1.38.0,>=1.37.29->boto3) (2.8.2)\n",
            "Requirement already satisfied: aiohappyeyeballs>=2.3.0 in /usr/local/lib/python3.11/dist-packages (from aiohttp->datasets) (2.6.1)\n",
            "Requirement already satisfied: aiosignal>=1.1.2 in /usr/local/lib/python3.11/dist-packages (from aiohttp->datasets) (1.3.2)\n",
            "Requirement already satisfied: attrs>=17.3.0 in /usr/local/lib/python3.11/dist-packages (from aiohttp->datasets) (25.3.0)\n",
            "Requirement already satisfied: frozenlist>=1.1.1 in /usr/local/lib/python3.11/dist-packages (from aiohttp->datasets) (1.5.0)\n",
            "Requirement already satisfied: multidict<7.0,>=4.5 in /usr/local/lib/python3.11/dist-packages (from aiohttp->datasets) (6.2.0)\n",
            "Requirement already satisfied: propcache>=0.2.0 in /usr/local/lib/python3.11/dist-packages (from aiohttp->datasets) (0.3.1)\n",
            "Requirement already satisfied: yarl<2.0,>=1.17.0 in /usr/local/lib/python3.11/dist-packages (from aiohttp->datasets) (1.18.3)\n",
            "Requirement already satisfied: typing-extensions>=3.7.4.3 in /usr/local/lib/python3.11/dist-packages (from huggingface-hub>=0.24.0->datasets) (4.13.1)\n",
            "Requirement already satisfied: pytz>=2020.1 in /usr/local/lib/python3.11/dist-packages (from pandas->datasets) (2025.2)\n",
            "Requirement already satisfied: tzdata>=2022.7 in /usr/local/lib/python3.11/dist-packages (from pandas->datasets) (2025.2)\n",
            "Requirement already satisfied: six>=1.5 in /usr/local/lib/python3.11/dist-packages (from python-dateutil<3.0.0,>=2.1->botocore<1.38.0,>=1.37.29->boto3) (1.17.0)\n"
          ]
        }
      ],
      "source": [
        "%pip install tqdm boto3 requests regex sentencepiece sacremoses datasets"
      ]
    },
    {
      "cell_type": "markdown",
      "source": [
        "### 1. 데이터셋 준비"
      ],
      "metadata": {
        "id": "tFFH4Y2imR2L"
      }
    },
    {
      "cell_type": "markdown",
      "metadata": {
        "id": "CpdgAA5yLT88"
      },
      "source": [
        "Kaggle 데이터셋을 다운로드 받는다."
      ]
    },
    {
      "cell_type": "code",
      "execution_count": 2,
      "metadata": {
        "colab": {
          "base_uri": "https://localhost:8080/"
        },
        "id": "aeSNRcFnLT88",
        "outputId": "d009ddae-e4ad-46ba-a280-998d715acdd4"
      },
      "outputs": [
        {
          "output_type": "stream",
          "name": "stdout",
          "text": [
            "Path to dataset files: /kaggle/input/unlocking-language-understanding-with-the-multin\n"
          ]
        }
      ],
      "source": [
        "import kagglehub\n",
        "\n",
        "# Download latest version\n",
        "path = kagglehub.dataset_download(\"thedevastator/unlocking-language-understanding-with-the-multin\")\n",
        "\n",
        "print(\"Path to dataset files:\", path)"
      ]
    },
    {
      "cell_type": "markdown",
      "source": [
        "kaggle 데이터셋은 다음과 같이 구성되어 있다.\n",
        "- premise: 기준이 되는 첫 번째 문장\n",
        "- hypothesis: 두 번째 문장\n",
        "- label: 두 문장의 관계\n",
        "  - entailment: 논리적 연결(0)\n",
        "  - contradiction: 모순 관계(1)\n",
        "  - neutral: 무관한 관계(2)"
      ],
      "metadata": {
        "id": "T57GnFU7mxty"
      }
    },
    {
      "cell_type": "code",
      "source": [
        "import random\n",
        "import pandas as pd\n",
        "\n",
        "def load_data(path, nrows=None):\n",
        "  df = pd.read_csv(path, nrows=nrows, keep_default_na=False)\n",
        "  data = []\n",
        "  for _, row in df.iterrows():\n",
        "    if len(row['premise']) * len(row['hypothesis']) != 0:\n",
        "      data.append({'premise': row['premise'], 'hypothesis': row['hypothesis'], 'label': row['label']})\n",
        "\n",
        "  return data\n",
        "\n",
        "# 경로 : load_data(path + '/불러올파일명.csv', nrows=1000)\n",
        "train_data = load_data(path+'/train.csv', nrows=1000)\n",
        "test_data = load_data(path+'/validation_matched.csv', nrows=1000)"
      ],
      "metadata": {
        "id": "nrS1sSdvjfZd"
      },
      "execution_count": 3,
      "outputs": []
    },
    {
      "cell_type": "markdown",
      "metadata": {
        "id": "XNSsf6MCLT87"
      },
      "source": [
        "DistilBERT 모델용 tokenizer를 불러온다."
      ]
    },
    {
      "cell_type": "code",
      "execution_count": 4,
      "metadata": {
        "colab": {
          "base_uri": "https://localhost:8080/"
        },
        "id": "QOunVrt9LT87",
        "outputId": "25db612c-6936-41df-d11f-938688cb9caa"
      },
      "outputs": [
        {
          "output_type": "stream",
          "name": "stderr",
          "text": [
            "Using cache found in /root/.cache/torch/hub/huggingface_pytorch-transformers_main\n",
            "/usr/local/lib/python3.11/dist-packages/huggingface_hub/utils/_auth.py:94: UserWarning: \n",
            "The secret `HF_TOKEN` does not exist in your Colab secrets.\n",
            "To authenticate with the Hugging Face Hub, create a token in your settings tab (https://huggingface.co/settings/tokens), set it as secret in your Google Colab and restart your session.\n",
            "You will be able to reuse this secret in all of your notebooks.\n",
            "Please note that authentication is recommended but still optional to access public models or datasets.\n",
            "  warnings.warn(\n"
          ]
        }
      ],
      "source": [
        "import torch\n",
        "from datasets import load_dataset\n",
        "from torch.utils.data import DataLoader\n",
        "\n",
        "# DistilBERT 모델용 tokenizer 로드 (pretrained)\n",
        "# 이 tokenizer는 문장을 토큰화해서 모델이 이해할 수 있는 input_ids로 변환해줌\n",
        "tokenizer = torch.hub.load('huggingface/pytorch-transformers', 'tokenizer', 'distilbert-base-uncased')"
      ]
    },
    {
      "cell_type": "markdown",
      "source": [
        "max length를 설정하기 위해 문장의 길이 분포를 확인한다.\n",
        "\n",
        "train data의 99% 이상이 103 이하이고, test data의 99% 이상이 94 이하이다.\n",
        "\n",
        "트랜스포머 모델은 8의 배수로 처리할 때 효율적이므로 8 X 103 = 104를 max length로 설정한다."
      ],
      "metadata": {
        "id": "NIDG-sf_naRA"
      }
    },
    {
      "cell_type": "code",
      "source": [
        "# 문장 길이 분포 확인\n",
        "def analyze_length_distribution(data):\n",
        "    premise_lengths = []\n",
        "    hypothesis_lengths = []\n",
        "    total_lengths = []\n",
        "\n",
        "    # 각 문장을 토큰화하여 길이 계산\n",
        "    for item in data:\n",
        "        premise_tokens = tokenizer(item['premise'])['input_ids']\n",
        "        hypothesis_tokens = tokenizer(item['hypothesis'])['input_ids']\n",
        "\n",
        "        premise_len = len(premise_tokens)\n",
        "        hypothesis_len = len(hypothesis_tokens)\n",
        "        # BERT/DistilBERT는 두 문장을 [CLS] premise [SEP] hypothesis [SEP] 형태로 결합\n",
        "        # 따라서 총 길이는 premise + hypothesis + 3 ([CLS]와 [SEP] 토큰)\n",
        "        total_len = premise_len + hypothesis_len + 3\n",
        "\n",
        "        premise_lengths.append(premise_len)\n",
        "        hypothesis_lengths.append(hypothesis_len)\n",
        "        total_lengths.append(total_len)\n",
        "\n",
        "    print(f\"=== 길이 통계 ===\")\n",
        "    print(f\"Premise 평균 길이: {sum(premise_lengths)/len(premise_lengths):.1f}\")\n",
        "    print(f\"Premise 최대 길이: {max(premise_lengths)}\")\n",
        "    print(f\"Hypothesis 평균 길이: {sum(hypothesis_lengths)/len(hypothesis_lengths):.1f}\")\n",
        "    print(f\"Hypothesis 최대 길이: {max(hypothesis_lengths)}\")\n",
        "    print(f\"전체 시퀀스 평균 길이: {sum(total_lengths)/len(total_lengths):.1f}\")\n",
        "    print(f\"전체 시퀀스 최대 길이: {max(total_lengths)}\")\n",
        "\n",
        "    # 90, 95, 99 퍼센타일 계산\n",
        "    percentiles = [90, 95, 99]\n",
        "    for p in percentiles:\n",
        "        threshold = sorted(total_lengths)[int(len(total_lengths) * p/100)]\n",
        "        print(f\"{p}% 문장의 길이: {threshold} 이하\")\n",
        "\n",
        "print(\"Training Data 분석:\")\n",
        "analyze_length_distribution(train_data)\n",
        "print(\"\\nTest Data 분석:\")\n",
        "analyze_length_distribution(test_data)"
      ],
      "metadata": {
        "colab": {
          "base_uri": "https://localhost:8080/"
        },
        "id": "FcgTBO6Olo68",
        "outputId": "0b45b121-76db-454c-f588-9b8adb5c1c9c"
      },
      "execution_count": 5,
      "outputs": [
        {
          "output_type": "stream",
          "name": "stdout",
          "text": [
            "Training Data 분석:\n",
            "=== 길이 통계 ===\n",
            "Premise 평균 길이: 26.9\n",
            "Premise 최대 길이: 189\n",
            "Hypothesis 평균 길이: 14.1\n",
            "Hypothesis 최대 길이: 49\n",
            "전체 시퀀스 평균 길이: 44.1\n",
            "전체 시퀀스 최대 길이: 215\n",
            "90% 문장의 길이: 67 이하\n",
            "95% 문장의 길이: 77 이하\n",
            "99% 문장의 길이: 103 이하\n",
            "\n",
            "Test Data 분석:\n",
            "=== 길이 통계 ===\n",
            "Premise 평균 길이: 25.4\n",
            "Premise 최대 길이: 138\n",
            "Hypothesis 평균 길이: 14.1\n",
            "Hypothesis 최대 길이: 46\n",
            "전체 시퀀스 평균 길이: 42.5\n",
            "전체 시퀀스 최대 길이: 165\n",
            "90% 문장의 길이: 65 이하\n",
            "95% 문장의 길이: 74 이하\n",
            "99% 문장의 길이: 94 이하\n"
          ]
        }
      ]
    },
    {
      "cell_type": "code",
      "source": [
        "from transformers import AutoTokenizer\n",
        "import torch\n",
        "from torch.utils.data import DataLoader\n",
        "\n",
        "\n",
        "def collate_fn(batch):\n",
        "    premises, hypotheses, labels = [], [], []\n",
        "\n",
        "    # 배치 내 각 샘플에서 premise, hypothesis, label 추출\n",
        "    for row in batch:\n",
        "        premises.append(row['premise'])\n",
        "        hypotheses.append(row['hypothesis'])\n",
        "        labels.append(row['label'])\n",
        "\n",
        "    # tokenizer로 두 문장을 함께 토큰화\n",
        "    encoded = tokenizer(\n",
        "        premises,\n",
        "        hypotheses,\n",
        "        padding=True,\n",
        "        truncation=True,\n",
        "        max_length=104,\n",
        "        # PyTorch 텐서로 변환하여 반환한다.\n",
        "        return_tensors='pt'\n",
        "    )\n",
        "\n",
        "    # label을 텐서로 변환한다\n",
        "    labels = torch.LongTensor(labels)\n",
        "\n",
        "    # 모델 입력에 필요한 모든 정보 반환\n",
        "    return {\n",
        "        'input_ids': encoded['input_ids'],\n",
        "        'attention_mask': encoded['attention_mask'],\n",
        "        'labels': labels\n",
        "    }\n",
        "\n",
        "batch_size = 16\n",
        "\n",
        "# DataLoader 설정\n",
        "train_loader = DataLoader(\n",
        "    train_data,\n",
        "    batch_size=batch_size,\n",
        "    shuffle=True,\n",
        "    collate_fn=collate_fn\n",
        ")\n",
        "\n",
        "test_loader = DataLoader(\n",
        "    test_data,\n",
        "    batch_size=batch_size,\n",
        "    shuffle=False,\n",
        "    collate_fn=collate_fn\n",
        ")\n",
        "\n",
        "# 데이터 형태 확인\n",
        "for batch in train_loader:\n",
        "    print(\"배치 크기:\", batch['input_ids'].shape)\n",
        "    print(\"어텐션 마스크 크기:\", batch['attention_mask'].shape)\n",
        "    print(\"라벨 크기:\", batch['labels'].shape)\n",
        "    print(\"\\n첫 번째 배치 예시:\")\n",
        "    print(\"입력 ID:\", batch['input_ids'][0])\n",
        "    print(\"라벨:\", batch['labels'][0])\n",
        "    break"
      ],
      "metadata": {
        "colab": {
          "base_uri": "https://localhost:8080/"
        },
        "id": "B0BlAWQsluC6",
        "outputId": "41d8c943-5ebc-490f-d5fa-3c1492072cc6"
      },
      "execution_count": 6,
      "outputs": [
        {
          "output_type": "stream",
          "name": "stdout",
          "text": [
            "배치 크기: torch.Size([16, 60])\n",
            "어텐션 마스크 크기: torch.Size([16, 60])\n",
            "라벨 크기: torch.Size([16])\n",
            "\n",
            "첫 번째 배치 예시:\n",
            "입력 ID: tensor([  101,  1037, 24286,  3623,  1999,  1996, 20015,  1997,  3274,  6095,\n",
            "         2011,  3911,  2058,  1996,  2607,  1997,  1037,  2309,  2095,  1012,\n",
            "          102,  3274,  6095,  2011,  3911,  2788,  7457,  1999,  1037,  2095,\n",
            "         1012,   102,     0,     0,     0,     0,     0,     0,     0,     0,\n",
            "            0,     0,     0,     0,     0,     0,     0,     0,     0,     0,\n",
            "            0,     0,     0,     0,     0,     0,     0,     0,     0,     0])\n",
            "라벨: tensor(0)\n"
          ]
        }
      ]
    },
    {
      "cell_type": "markdown",
      "source": [
        "### 2. 모델 정의\n",
        "\n",
        "MNLI task를 위해 시퀀스 분류용 모델 DistilBertForSequenceClassification을 불러온다.\n",
        "\n",
        "DistilBertForSequenceClassification은 기본 DistillBERT에 분류를 위한 선형 레이어가 추가되어 있다."
      ],
      "metadata": {
        "id": "6GWhKcdpo9XV"
      }
    },
    {
      "cell_type": "code",
      "source": [
        "from transformers import DistilBertForSequenceClassification\n",
        "\n",
        "model = DistilBertForSequenceClassification.from_pretrained(\n",
        "    'distilbert-base-uncased',\n",
        "    num_labels=3, # entailment, contradiction, neutral\n",
        "    dropout=0.3\n",
        ")\n",
        "\n",
        "# GPU를 사용하기 위한 옵션\n",
        "device = torch.device('cuda' if torch.cuda.is_available() else 'cpu')\n",
        "model = model.to(device)"
      ],
      "metadata": {
        "colab": {
          "base_uri": "https://localhost:8080/"
        },
        "id": "tsdJHFnFj5PU",
        "outputId": "87bf3105-9964-47a8-fe34-4444e6d9d91a"
      },
      "execution_count": 7,
      "outputs": [
        {
          "output_type": "stream",
          "name": "stderr",
          "text": [
            "Some weights of DistilBertForSequenceClassification were not initialized from the model checkpoint at distilbert-base-uncased and are newly initialized: ['classifier.bias', 'classifier.weight', 'pre_classifier.bias', 'pre_classifier.weight']\n",
            "You should probably TRAIN this model on a down-stream task to be able to use it for predictions and inference.\n"
          ]
        }
      ]
    },
    {
      "cell_type": "markdown",
      "source": [
        "모델의 입력과 출력, 예측 결과 형태를 확인한다."
      ],
      "metadata": {
        "id": "qmtygJX3pn6j"
      }
    },
    {
      "cell_type": "code",
      "source": [
        "# 예시 데이터\n",
        "premise = \"Conceptually cream skimming has two basic dimensions - product and geography.\"\n",
        "hypothesis = \"Product and geography are what make cream skimming work.\"\n",
        "\n",
        "# 입력 형태\n",
        "encoded = tokenizer(\n",
        "    premise,\n",
        "    hypothesis,\n",
        "    padding=True,\n",
        "    truncation=True,\n",
        "    max_length=104,\n",
        "    return_tensors='pt'\n",
        ")\n",
        "encoded = {k: v.to(device) for k, v in encoded.items()}\n",
        "\n",
        "print(\"=== 입력 형태 ===\")\n",
        "print(\"input_ids 형태:\", encoded['input_ids'].shape)\n",
        "print(\"attention_mask 형태:\", encoded['attention_mask'].shape)\n",
        "\n",
        "# 모델 출력\n",
        "outputs = model(**encoded)\n",
        "print(\"\\n=== 출력 형태 ===\")\n",
        "print(\"로짓 형태:\", outputs.logits.shape)  # [batch_size, 3] - 3개 클래스에 대한 점수\n",
        "\n",
        "# 예측 클래스\n",
        "predicted_class = torch.argmax(outputs.logits, dim=1)\n",
        "print(\"\\n=== 예측 결과 ===\")\n",
        "print(\"예측 클래스:\", predicted_class.item())  # 0: entailment, 1: contradiction, 2: neutral\n",
        "\n",
        "# 레이블과 예측값 매핑\n",
        "label_map = {0: 'entailment', 1: 'contradiction', 2: 'neutral'}\n",
        "print(\"예측 결과:\", label_map[predicted_class.item()])"
      ],
      "metadata": {
        "colab": {
          "base_uri": "https://localhost:8080/"
        },
        "id": "RllxpNGTlXOv",
        "outputId": "fb10afda-428f-4ca4-8871-3e6bbd3f97ab"
      },
      "execution_count": 8,
      "outputs": [
        {
          "output_type": "stream",
          "name": "stdout",
          "text": [
            "=== 입력 형태 ===\n",
            "input_ids 형태: torch.Size([1, 28])\n",
            "attention_mask 형태: torch.Size([1, 28])\n",
            "\n",
            "=== 출력 형태 ===\n",
            "로짓 형태: torch.Size([1, 3])\n",
            "\n",
            "=== 예측 결과 ===\n",
            "예측 클래스: 2\n",
            "예측 결과: neutral\n"
          ]
        }
      ]
    },
    {
      "cell_type": "markdown",
      "source": [
        "### 3. Fine tuning"
      ],
      "metadata": {
        "id": "pYQjFnYNqGsC"
      }
    },
    {
      "cell_type": "markdown",
      "source": [
        "fine tuning 전/후를 비교하기 위해 정확도를 계산하고 모델의 성능을 평가하는 함수를 추가한다."
      ],
      "metadata": {
        "id": "hT7pFzHlqJ80"
      }
    },
    {
      "cell_type": "code",
      "source": [
        "# 정확도 계산 함수\n",
        "def compute_accuracy(model, data_loader):\n",
        "    model.eval()\n",
        "    correct = 0\n",
        "    total = 0\n",
        "\n",
        "    with torch.no_grad():\n",
        "        for batch in data_loader:\n",
        "            input_ids = batch['input_ids'].to(device)\n",
        "            attention_mask = batch['attention_mask'].to(device)\n",
        "            labels = batch['labels'].to(device)\n",
        "\n",
        "            outputs = model(input_ids, attention_mask=attention_mask)\n",
        "            predictions = torch.argmax(outputs.logits, dim=1)\n",
        "\n",
        "            correct += (predictions == labels).sum().item()\n",
        "            total += labels.size(0)\n",
        "\n",
        "    return correct / total\n",
        "\n",
        "# 모델 성능 평가 및 시각화 함수\n",
        "def evaluate_and_visualize(model, train_loader, test_loader, title_prefix=\"\"):\n",
        "    # 정확도 계산\n",
        "    train_acc = compute_accuracy(model, train_loader)\n",
        "    test_acc = compute_accuracy(model, test_loader)\n",
        "\n",
        "    print(f\"\\n=== {title_prefix} 모델 성능 ===\")\n",
        "    print(f\"Train Accuracy: {train_acc:.4f}\")\n",
        "    print(f\"Test Accuracy: {test_acc:.4f}\")\n",
        "\n",
        "    return train_acc, test_acc"
      ],
      "metadata": {
        "id": "9pJC8ujVkURN"
      },
      "execution_count": 9,
      "outputs": []
    },
    {
      "cell_type": "markdown",
      "source": [
        "overfitting을 방지하기 위해 early stopping을 정의한다."
      ],
      "metadata": {
        "id": "ZRsSL7cm1mRY"
      }
    },
    {
      "cell_type": "code",
      "source": [
        "class EarlyStopping:\n",
        "    def __init__(self, patience=3, min_delta=0.001, verbose=True):\n",
        "        \"\"\"\n",
        "        patience: 성능 향상이 없어도 기다리는 에폭 수\n",
        "        min_delta: 성능 향상으로 간주할 최소 변화량\n",
        "        verbose: 상세 출력 여부\n",
        "        \"\"\"\n",
        "        self.patience = patience\n",
        "        self.min_delta = min_delta\n",
        "        self.verbose = verbose\n",
        "        self.counter = 0\n",
        "        self.best_loss = None\n",
        "        self.best_acc = None\n",
        "        self.early_stop = False\n",
        "        self.best_model = None\n",
        "\n",
        "    def __call__(self, val_loss, val_acc, model):\n",
        "        if self.best_loss is None:  # 첫 에폭\n",
        "            self.best_loss = val_loss\n",
        "            self.best_acc = val_acc\n",
        "            self.best_model = model.state_dict()\n",
        "        elif val_loss > self.best_loss - self.min_delta:  # 성능 향상이 없는 경우\n",
        "            self.counter += 1\n",
        "            if self.verbose:\n",
        "                print(f'EarlyStopping counter: {self.counter} out of {self.patience}')\n",
        "            if self.counter >= self.patience:\n",
        "                self.early_stop = True\n",
        "                if self.verbose:\n",
        "                    print(f'Early stopping triggered! Best accuracy: {self.best_acc:.4f}')\n",
        "        else:  # 성능이 향상된 경우\n",
        "            self.best_loss = val_loss\n",
        "            self.best_acc = val_acc\n",
        "            self.best_model = model.state_dict()\n",
        "            self.counter = 0"
      ],
      "metadata": {
        "id": "ZVr3VgW_1jeA"
      },
      "execution_count": 10,
      "outputs": []
    },
    {
      "cell_type": "markdown",
      "source": [
        "학습 함수를 정의한다."
      ],
      "metadata": {
        "id": "vVvEMscDqj_n"
      }
    },
    {
      "cell_type": "code",
      "source": [
        "import torch\n",
        "from torch.optim import AdamW\n",
        "import numpy as np\n",
        "import matplotlib.pyplot as plt\n",
        "from tqdm import tqdm\n",
        "\n",
        "# 학습 함수\n",
        "def train_model(model, train_loader, test_loader):\n",
        "    model = model.to(device)\n",
        "\n",
        "    # transformer 미세조정에 적합한 learning rate\n",
        "    lr = 3e-5\n",
        "    n_epochs = 20\n",
        "\n",
        "    # AdamW 옵티마이저 사용 (트랜스포머 모델에 더 적합)\n",
        "    optimizer = AdamW(model.parameters(), lr=lr)\n",
        "\n",
        "    # Early Stopping 초기화\n",
        "    early_stopping = EarlyStopping(\n",
        "        patience=3,  # 3번 연속으로 성능 향상이 없으면 중단\n",
        "        min_delta=0.001,  # 최소 0.1%p 향상을 기대\n",
        "        verbose=True\n",
        "    )\n",
        "\n",
        "    train_losses = []\n",
        "    train_accs = []\n",
        "    test_accs = []\n",
        "\n",
        "    for epoch in range(n_epochs):\n",
        "        model.train()\n",
        "        total_loss = 0\n",
        "        progress_bar = tqdm(train_loader, desc=f'Epoch {epoch + 1}/{n_epochs}')\n",
        "\n",
        "        for batch in progress_bar:\n",
        "            input_ids = batch['input_ids'].to(device)\n",
        "            attention_mask = batch['attention_mask'].to(device)\n",
        "            labels = batch['labels'].to(device)\n",
        "\n",
        "            optimizer.zero_grad()\n",
        "            outputs = model(\n",
        "                input_ids=input_ids,\n",
        "                attention_mask=attention_mask,\n",
        "                labels=labels\n",
        "            )\n",
        "\n",
        "            loss = outputs.loss\n",
        "            total_loss += loss.item()\n",
        "\n",
        "            loss.backward()\n",
        "            optimizer.step()\n",
        "\n",
        "            progress_bar.set_postfix({'loss': loss.item()})\n",
        "\n",
        "        avg_loss = total_loss / len(train_loader)\n",
        "        train_losses.append(avg_loss)\n",
        "\n",
        "        # 에폭마다 정확도 계산\n",
        "        train_acc = compute_accuracy(model, train_loader)\n",
        "        test_acc = compute_accuracy(model, test_loader)\n",
        "        train_accs.append(train_acc)\n",
        "        test_accs.append(test_acc)\n",
        "\n",
        "        print(f\"\\nEpoch {epoch + 1}/{n_epochs}\")\n",
        "        print(f\"Total Loss: {total_loss:.4f}\")\n",
        "        print(f\"Average Loss: {avg_loss:.4f}\")\n",
        "        print(f\"Train Accuracy: {train_acc:.4f}\")\n",
        "        print(f\"Test Accuracy: {test_acc:.4f}\\n\")\n",
        "\n",
        "        # Early Stopping 체크\n",
        "        early_stopping(avg_loss, test_acc, model)\n",
        "        if early_stopping.early_stop:\n",
        "            print(f\"\\nEarly stopping triggered at epoch {epoch + 1}\")\n",
        "            # 최고 성능 모델로 복원\n",
        "            model.load_state_dict(early_stopping.best_model)\n",
        "            break\n",
        "\n",
        "    return train_losses, train_accs, test_accs"
      ],
      "metadata": {
        "id": "fBcmmsiwkFVe"
      },
      "execution_count": 11,
      "outputs": []
    },
    {
      "cell_type": "markdown",
      "source": [
        "fine tuning 전/후 성능을 측정한다."
      ],
      "metadata": {
        "id": "LTx24yMgqrk9"
      }
    },
    {
      "cell_type": "code",
      "source": [
        "# 1. Fine-tuning 전 성능 평가\n",
        "before_train_acc, before_test_acc = evaluate_and_visualize(\n",
        "    model, train_loader, test_loader, \"Fine-tuning 전\"\n",
        ")\n",
        "\n",
        "# 2. Fine-tuning 수행\n",
        "print(\"\\n=== Fine-tuning 시작 ===\")\n",
        "for param in model.distilbert.parameters():\n",
        "    param.requires_grad = False\n",
        "\n",
        "train_losses, train_accs, test_accs = train_model(\n",
        "    model, train_loader, test_loader\n",
        ")\n",
        "\n",
        "# 3. Fine-tuning 후 성능 평가\n",
        "after_train_acc, after_test_acc = evaluate_and_visualize(\n",
        "    model, train_loader, test_loader, \"Fine-tuning 후\"\n",
        ")\n",
        "\n",
        "# 4. 결과 시각화\n",
        "plt.figure(figsize=(15, 5))\n",
        "\n",
        "# 학습 중 손실 그래프\n",
        "plt.subplot(1, 2, 1)\n",
        "plt.plot(train_losses, label='Training Loss')\n",
        "plt.title('Training Loss Over Epochs')\n",
        "plt.xlabel('Epoch')\n",
        "plt.ylabel('Loss')\n",
        "plt.legend()\n",
        "\n",
        "# 정확도 비교 그래프\n",
        "plt.subplot(1, 2, 2)\n",
        "plt.plot(train_accs, label='Train Accuracy')\n",
        "plt.plot(test_accs, label='Test Accuracy')\n",
        "plt.axhline(y=before_train_acc, color='r', linestyle='--', label='Before Fine-tuning (Train)')\n",
        "plt.axhline(y=before_test_acc, color='g', linestyle='--', label='Before Fine-tuning (Test)')\n",
        "plt.title('Accuracy Comparison')\n",
        "plt.xlabel('Epoch')\n",
        "plt.ylabel('Accuracy')\n",
        "plt.legend()\n",
        "\n",
        "plt.tight_layout()\n",
        "plt.show()\n",
        "\n",
        "# 성능 향상 출력\n",
        "print(\"\\n=== 성능 향상 분석 ===\")\n",
        "print(f\"Train Accuracy 향상: {(after_train_acc - before_train_acc)*100:.2f}%\")\n",
        "print(f\"Test Accuracy 향상: {(after_test_acc - before_test_acc)*100:.2f}%\")"
      ],
      "metadata": {
        "colab": {
          "base_uri": "https://localhost:8080/",
          "height": 1000
        },
        "id": "pW7IdQK8jwnY",
        "outputId": "a66816e9-5d1b-440b-f70a-b724407ac2e5"
      },
      "execution_count": 12,
      "outputs": [
        {
          "output_type": "stream",
          "name": "stdout",
          "text": [
            "\n",
            "=== Fine-tuning 전 모델 성능 ===\n",
            "Train Accuracy: 0.3760\n",
            "Test Accuracy: 0.3400\n",
            "\n",
            "=== Fine-tuning 시작 ===\n"
          ]
        },
        {
          "output_type": "stream",
          "name": "stderr",
          "text": [
            "Epoch 1/20: 100%|██████████| 63/63 [00:02<00:00, 26.32it/s, loss=1.11]\n"
          ]
        },
        {
          "output_type": "stream",
          "name": "stdout",
          "text": [
            "\n",
            "Epoch 1/20\n",
            "Total Loss: 69.1029\n",
            "Average Loss: 1.0969\n",
            "Train Accuracy: 0.3760\n",
            "Test Accuracy: 0.3450\n",
            "\n"
          ]
        },
        {
          "output_type": "stream",
          "name": "stderr",
          "text": [
            "Epoch 2/20: 100%|██████████| 63/63 [00:02<00:00, 26.07it/s, loss=1.12]\n"
          ]
        },
        {
          "output_type": "stream",
          "name": "stdout",
          "text": [
            "\n",
            "Epoch 2/20\n",
            "Total Loss: 68.6790\n",
            "Average Loss: 1.0901\n",
            "Train Accuracy: 0.4120\n",
            "Test Accuracy: 0.3480\n",
            "\n"
          ]
        },
        {
          "output_type": "stream",
          "name": "stderr",
          "text": [
            "Epoch 3/20: 100%|██████████| 63/63 [00:02<00:00, 25.74it/s, loss=0.978]\n"
          ]
        },
        {
          "output_type": "stream",
          "name": "stdout",
          "text": [
            "\n",
            "Epoch 3/20\n",
            "Total Loss: 68.2892\n",
            "Average Loss: 1.0840\n",
            "Train Accuracy: 0.4340\n",
            "Test Accuracy: 0.3590\n",
            "\n"
          ]
        },
        {
          "output_type": "stream",
          "name": "stderr",
          "text": [
            "Epoch 4/20: 100%|██████████| 63/63 [00:02<00:00, 24.60it/s, loss=1.02]\n"
          ]
        },
        {
          "output_type": "stream",
          "name": "stdout",
          "text": [
            "\n",
            "Epoch 4/20\n",
            "Total Loss: 68.0919\n",
            "Average Loss: 1.0808\n",
            "Train Accuracy: 0.4420\n",
            "Test Accuracy: 0.3600\n",
            "\n"
          ]
        },
        {
          "output_type": "stream",
          "name": "stderr",
          "text": [
            "Epoch 5/20: 100%|██████████| 63/63 [00:02<00:00, 25.81it/s, loss=1.04]\n"
          ]
        },
        {
          "output_type": "stream",
          "name": "stdout",
          "text": [
            "\n",
            "Epoch 5/20\n",
            "Total Loss: 67.8655\n",
            "Average Loss: 1.0772\n",
            "Train Accuracy: 0.4380\n",
            "Test Accuracy: 0.3630\n",
            "\n"
          ]
        },
        {
          "output_type": "stream",
          "name": "stderr",
          "text": [
            "Epoch 6/20: 100%|██████████| 63/63 [00:02<00:00, 25.99it/s, loss=1.05]\n"
          ]
        },
        {
          "output_type": "stream",
          "name": "stdout",
          "text": [
            "\n",
            "Epoch 6/20\n",
            "Total Loss: 67.7679\n",
            "Average Loss: 1.0757\n",
            "Train Accuracy: 0.4460\n",
            "Test Accuracy: 0.3620\n",
            "\n"
          ]
        },
        {
          "output_type": "stream",
          "name": "stderr",
          "text": [
            "Epoch 7/20: 100%|██████████| 63/63 [00:02<00:00, 26.51it/s, loss=1.01]\n"
          ]
        },
        {
          "output_type": "stream",
          "name": "stdout",
          "text": [
            "\n",
            "Epoch 7/20\n",
            "Total Loss: 67.2007\n",
            "Average Loss: 1.0667\n",
            "Train Accuracy: 0.4460\n",
            "Test Accuracy: 0.3590\n",
            "\n"
          ]
        },
        {
          "output_type": "stream",
          "name": "stderr",
          "text": [
            "Epoch 8/20: 100%|██████████| 63/63 [00:02<00:00, 26.16it/s, loss=1.13]\n"
          ]
        },
        {
          "output_type": "stream",
          "name": "stdout",
          "text": [
            "\n",
            "Epoch 8/20\n",
            "Total Loss: 67.5033\n",
            "Average Loss: 1.0715\n",
            "Train Accuracy: 0.4430\n",
            "Test Accuracy: 0.3610\n",
            "\n",
            "EarlyStopping counter: 1 out of 3\n"
          ]
        },
        {
          "output_type": "stream",
          "name": "stderr",
          "text": [
            "Epoch 9/20: 100%|██████████| 63/63 [00:02<00:00, 27.22it/s, loss=1.04]\n"
          ]
        },
        {
          "output_type": "stream",
          "name": "stdout",
          "text": [
            "\n",
            "Epoch 9/20\n",
            "Total Loss: 67.2084\n",
            "Average Loss: 1.0668\n",
            "Train Accuracy: 0.4530\n",
            "Test Accuracy: 0.3640\n",
            "\n",
            "EarlyStopping counter: 2 out of 3\n"
          ]
        },
        {
          "output_type": "stream",
          "name": "stderr",
          "text": [
            "Epoch 10/20: 100%|██████████| 63/63 [00:02<00:00, 27.39it/s, loss=1.14]\n"
          ]
        },
        {
          "output_type": "stream",
          "name": "stdout",
          "text": [
            "\n",
            "Epoch 10/20\n",
            "Total Loss: 66.7765\n",
            "Average Loss: 1.0599\n",
            "Train Accuracy: 0.4580\n",
            "Test Accuracy: 0.3670\n",
            "\n"
          ]
        },
        {
          "output_type": "stream",
          "name": "stderr",
          "text": [
            "Epoch 11/20: 100%|██████████| 63/63 [00:02<00:00, 25.88it/s, loss=0.975]\n"
          ]
        },
        {
          "output_type": "stream",
          "name": "stdout",
          "text": [
            "\n",
            "Epoch 11/20\n",
            "Total Loss: 66.5198\n",
            "Average Loss: 1.0559\n",
            "Train Accuracy: 0.4730\n",
            "Test Accuracy: 0.3720\n",
            "\n"
          ]
        },
        {
          "output_type": "stream",
          "name": "stderr",
          "text": [
            "Epoch 12/20: 100%|██████████| 63/63 [00:02<00:00, 26.36it/s, loss=0.985]\n"
          ]
        },
        {
          "output_type": "stream",
          "name": "stdout",
          "text": [
            "\n",
            "Epoch 12/20\n",
            "Total Loss: 66.5878\n",
            "Average Loss: 1.0569\n",
            "Train Accuracy: 0.4860\n",
            "Test Accuracy: 0.3700\n",
            "\n",
            "EarlyStopping counter: 1 out of 3\n"
          ]
        },
        {
          "output_type": "stream",
          "name": "stderr",
          "text": [
            "Epoch 13/20: 100%|██████████| 63/63 [00:02<00:00, 25.45it/s, loss=1.04]\n"
          ]
        },
        {
          "output_type": "stream",
          "name": "stdout",
          "text": [
            "\n",
            "Epoch 13/20\n",
            "Total Loss: 66.2281\n",
            "Average Loss: 1.0512\n",
            "Train Accuracy: 0.4800\n",
            "Test Accuracy: 0.3700\n",
            "\n"
          ]
        },
        {
          "output_type": "stream",
          "name": "stderr",
          "text": [
            "Epoch 14/20: 100%|██████████| 63/63 [00:02<00:00, 26.06it/s, loss=1.11]\n"
          ]
        },
        {
          "output_type": "stream",
          "name": "stdout",
          "text": [
            "\n",
            "Epoch 14/20\n",
            "Total Loss: 65.8903\n",
            "Average Loss: 1.0459\n",
            "Train Accuracy: 0.4740\n",
            "Test Accuracy: 0.3740\n",
            "\n"
          ]
        },
        {
          "output_type": "stream",
          "name": "stderr",
          "text": [
            "Epoch 15/20: 100%|██████████| 63/63 [00:02<00:00, 26.50it/s, loss=1.09]\n"
          ]
        },
        {
          "output_type": "stream",
          "name": "stdout",
          "text": [
            "\n",
            "Epoch 15/20\n",
            "Total Loss: 66.0081\n",
            "Average Loss: 1.0477\n",
            "Train Accuracy: 0.4930\n",
            "Test Accuracy: 0.3840\n",
            "\n",
            "EarlyStopping counter: 1 out of 3\n"
          ]
        },
        {
          "output_type": "stream",
          "name": "stderr",
          "text": [
            "Epoch 16/20: 100%|██████████| 63/63 [00:02<00:00, 26.30it/s, loss=1.04]\n"
          ]
        },
        {
          "output_type": "stream",
          "name": "stdout",
          "text": [
            "\n",
            "Epoch 16/20\n",
            "Total Loss: 65.7661\n",
            "Average Loss: 1.0439\n",
            "Train Accuracy: 0.4840\n",
            "Test Accuracy: 0.3690\n",
            "\n"
          ]
        },
        {
          "output_type": "stream",
          "name": "stderr",
          "text": [
            "Epoch 17/20: 100%|██████████| 63/63 [00:02<00:00, 26.36it/s, loss=1.04]\n"
          ]
        },
        {
          "output_type": "stream",
          "name": "stdout",
          "text": [
            "\n",
            "Epoch 17/20\n",
            "Total Loss: 65.6473\n",
            "Average Loss: 1.0420\n",
            "Train Accuracy: 0.5020\n",
            "Test Accuracy: 0.3860\n",
            "\n"
          ]
        },
        {
          "output_type": "stream",
          "name": "stderr",
          "text": [
            "Epoch 18/20: 100%|██████████| 63/63 [00:02<00:00, 26.05it/s, loss=0.915]\n"
          ]
        },
        {
          "output_type": "stream",
          "name": "stdout",
          "text": [
            "\n",
            "Epoch 18/20\n",
            "Total Loss: 65.5413\n",
            "Average Loss: 1.0403\n",
            "Train Accuracy: 0.4950\n",
            "Test Accuracy: 0.3790\n",
            "\n"
          ]
        },
        {
          "output_type": "stream",
          "name": "stderr",
          "text": [
            "Epoch 19/20: 100%|██████████| 63/63 [00:02<00:00, 26.44it/s, loss=1.12]\n"
          ]
        },
        {
          "output_type": "stream",
          "name": "stdout",
          "text": [
            "\n",
            "Epoch 19/20\n",
            "Total Loss: 65.4579\n",
            "Average Loss: 1.0390\n",
            "Train Accuracy: 0.5030\n",
            "Test Accuracy: 0.3790\n",
            "\n"
          ]
        },
        {
          "output_type": "stream",
          "name": "stderr",
          "text": [
            "Epoch 20/20: 100%|██████████| 63/63 [00:02<00:00, 25.45it/s, loss=1.05]\n"
          ]
        },
        {
          "output_type": "stream",
          "name": "stdout",
          "text": [
            "\n",
            "Epoch 20/20\n",
            "Total Loss: 65.0290\n",
            "Average Loss: 1.0322\n",
            "Train Accuracy: 0.5120\n",
            "Test Accuracy: 0.3870\n",
            "\n",
            "\n",
            "=== Fine-tuning 후 모델 성능 ===\n",
            "Train Accuracy: 0.5120\n",
            "Test Accuracy: 0.3870\n"
          ]
        },
        {
          "output_type": "display_data",
          "data": {
            "text/plain": [
              "<Figure size 1500x500 with 2 Axes>"
            ],
            "image/png": "[encoded data removed]"
          },
          "metadata": {}
        },
        {
          "output_type": "stream",
          "name": "stdout",
          "text": [
            "\n",
            "=== 성능 향상 분석 ===\n",
            "Train Accuracy 향상: 13.60%\n",
            "Test Accuracy 향상: 4.70%\n"
          ]
        }
      ]
    }
  ],
  "metadata": {
    "language_info": {
      "name": "python"
    },
    "colab": {
      "provenance": [],
      "gpuType": "T4"
    },
    "kernelspec": {
      "name": "python3",
      "display_name": "Python 3"
    },
    "accelerator": "GPU"
  },
  "nbformat": 4,
  "nbformat_minor": 0
}