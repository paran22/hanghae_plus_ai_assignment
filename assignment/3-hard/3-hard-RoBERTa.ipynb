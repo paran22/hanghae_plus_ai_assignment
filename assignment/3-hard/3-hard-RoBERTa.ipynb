{
  "cells": [
    {
      "cell_type": "markdown",
      "metadata": {
        "id": "DEolFCkfLT84"
      },
      "source": [
        "# [3주차] 심화과제 - Pre-trained 모델로 효율적인 NLP 모델 학습하기\n",
        "\n",
        "-"
      ]
    },
    {
      "cell_type": "code",
      "execution_count": 1,
      "metadata": {
        "colab": {
          "base_uri": "https://localhost:8080/"
        },
        "id": "sU6syw9-LT86",
        "outputId": "afa00825-f7bf-4c31-da30-331e4906df7c",
        "vscode": {
          "languageId": "plaintext"
        }
      },
      "outputs": [
        {
          "output_type": "stream",
          "name": "stdout",
          "text": [
            "Requirement already satisfied: tqdm in /usr/local/lib/python3.11/dist-packages (4.67.1)\n",
            "Requirement already satisfied: boto3 in /usr/local/lib/python3.11/dist-packages (1.37.30)\n",
            "Requirement already satisfied: requests in /usr/local/lib/python3.11/dist-packages (2.32.3)\n",
            "Requirement already satisfied: regex in /usr/local/lib/python3.11/dist-packages (2024.11.6)\n",
            "Requirement already satisfied: sentencepiece in /usr/local/lib/python3.11/dist-packages (0.2.0)\n",
            "Requirement already satisfied: sacremoses in /usr/local/lib/python3.11/dist-packages (0.1.1)\n",
            "Requirement already satisfied: datasets in /usr/local/lib/python3.11/dist-packages (3.5.0)\n",
            "Requirement already satisfied: botocore<1.38.0,>=1.37.30 in /usr/local/lib/python3.11/dist-packages (from boto3) (1.37.30)\n",
            "Requirement already satisfied: jmespath<2.0.0,>=0.7.1 in /usr/local/lib/python3.11/dist-packages (from boto3) (1.0.1)\n",
            "Requirement already satisfied: s3transfer<0.12.0,>=0.11.0 in /usr/local/lib/python3.11/dist-packages (from boto3) (0.11.4)\n",
            "Requirement already satisfied: charset-normalizer<4,>=2 in /usr/local/lib/python3.11/dist-packages (from requests) (3.4.1)\n",
            "Requirement already satisfied: idna<4,>=2.5 in /usr/local/lib/python3.11/dist-packages (from requests) (3.10)\n",
            "Requirement already satisfied: urllib3<3,>=1.21.1 in /usr/local/lib/python3.11/dist-packages (from requests) (2.3.0)\n",
            "Requirement already satisfied: certifi>=2017.4.17 in /usr/local/lib/python3.11/dist-packages (from requests) (2025.1.31)\n",
            "Requirement already satisfied: click in /usr/local/lib/python3.11/dist-packages (from sacremoses) (8.1.8)\n",
            "Requirement already satisfied: joblib in /usr/local/lib/python3.11/dist-packages (from sacremoses) (1.4.2)\n",
            "Requirement already satisfied: filelock in /usr/local/lib/python3.11/dist-packages (from datasets) (3.18.0)\n",
            "Requirement already satisfied: numpy>=1.17 in /usr/local/lib/python3.11/dist-packages (from datasets) (2.0.2)\n",
            "Requirement already satisfied: pyarrow>=15.0.0 in /usr/local/lib/python3.11/dist-packages (from datasets) (18.1.0)\n",
            "Requirement already satisfied: dill<0.3.9,>=0.3.0 in /usr/local/lib/python3.11/dist-packages (from datasets) (0.3.8)\n",
            "Requirement already satisfied: pandas in /usr/local/lib/python3.11/dist-packages (from datasets) (2.2.2)\n",
            "Requirement already satisfied: xxhash in /usr/local/lib/python3.11/dist-packages (from datasets) (3.5.0)\n",
            "Requirement already satisfied: multiprocess<0.70.17 in /usr/local/lib/python3.11/dist-packages (from datasets) (0.70.16)\n",
            "Requirement already satisfied: fsspec<=2024.12.0,>=2023.1.0 in /usr/local/lib/python3.11/dist-packages (from fsspec[http]<=2024.12.0,>=2023.1.0->datasets) (2024.12.0)\n",
            "Requirement already satisfied: aiohttp in /usr/local/lib/python3.11/dist-packages (from datasets) (3.11.15)\n",
            "Requirement already satisfied: huggingface-hub>=0.24.0 in /usr/local/lib/python3.11/dist-packages (from datasets) (0.30.1)\n",
            "Requirement already satisfied: packaging in /usr/local/lib/python3.11/dist-packages (from datasets) (24.2)\n",
            "Requirement already satisfied: pyyaml>=5.1 in /usr/local/lib/python3.11/dist-packages (from datasets) (6.0.2)\n",
            "Requirement already satisfied: python-dateutil<3.0.0,>=2.1 in /usr/local/lib/python3.11/dist-packages (from botocore<1.38.0,>=1.37.30->boto3) (2.8.2)\n",
            "Requirement already satisfied: aiohappyeyeballs>=2.3.0 in /usr/local/lib/python3.11/dist-packages (from aiohttp->datasets) (2.6.1)\n",
            "Requirement already satisfied: aiosignal>=1.1.2 in /usr/local/lib/python3.11/dist-packages (from aiohttp->datasets) (1.3.2)\n",
            "Requirement already satisfied: attrs>=17.3.0 in /usr/local/lib/python3.11/dist-packages (from aiohttp->datasets) (25.3.0)\n",
            "Requirement already satisfied: frozenlist>=1.1.1 in /usr/local/lib/python3.11/dist-packages (from aiohttp->datasets) (1.5.0)\n",
            "Requirement already satisfied: multidict<7.0,>=4.5 in /usr/local/lib/python3.11/dist-packages (from aiohttp->datasets) (6.2.0)\n",
            "Requirement already satisfied: propcache>=0.2.0 in /usr/local/lib/python3.11/dist-packages (from aiohttp->datasets) (0.3.1)\n",
            "Requirement already satisfied: yarl<2.0,>=1.17.0 in /usr/local/lib/python3.11/dist-packages (from aiohttp->datasets) (1.18.3)\n",
            "Requirement already satisfied: typing-extensions>=3.7.4.3 in /usr/local/lib/python3.11/dist-packages (from huggingface-hub>=0.24.0->datasets) (4.13.1)\n",
            "Requirement already satisfied: pytz>=2020.1 in /usr/local/lib/python3.11/dist-packages (from pandas->datasets) (2025.2)\n",
            "Requirement already satisfied: tzdata>=2022.7 in /usr/local/lib/python3.11/dist-packages (from pandas->datasets) (2025.2)\n",
            "Requirement already satisfied: six>=1.5 in /usr/local/lib/python3.11/dist-packages (from python-dateutil<3.0.0,>=2.1->botocore<1.38.0,>=1.37.30->boto3) (1.17.0)\n"
          ]
        }
      ],
      "source": [
        "%pip install tqdm boto3 requests regex sentencepiece sacremoses datasets"
      ]
    },
    {
      "cell_type": "markdown",
      "metadata": {
        "id": "tFFH4Y2imR2L"
      },
      "source": [
        "### 1. 데이터셋 준비"
      ]
    },
    {
      "cell_type": "markdown",
      "metadata": {
        "id": "CpdgAA5yLT88"
      },
      "source": [
        "Kaggle 데이터셋을 다운로드 받는다."
      ]
    },
    {
      "cell_type": "code",
      "execution_count": 2,
      "metadata": {
        "colab": {
          "base_uri": "https://localhost:8080/"
        },
        "id": "aeSNRcFnLT88",
        "outputId": "08dfce05-3b69-4eba-9442-55610f03f820"
      },
      "outputs": [
        {
          "output_type": "stream",
          "name": "stdout",
          "text": [
            "Path to dataset files: /kaggle/input/unlocking-language-understanding-with-the-multin\n"
          ]
        }
      ],
      "source": [
        "import kagglehub\n",
        "\n",
        "# Download latest version\n",
        "path = kagglehub.dataset_download(\"thedevastator/unlocking-language-understanding-with-the-multin\")\n",
        "\n",
        "print(\"Path to dataset files:\", path)"
      ]
    },
    {
      "cell_type": "markdown",
      "metadata": {
        "id": "T57GnFU7mxty"
      },
      "source": [
        "kaggle 데이터셋은 다음과 같이 구성되어 있다.\n",
        "- premise: 기준이 되는 첫 번째 문장\n",
        "- hypothesis: 두 번째 문장\n",
        "- label: 두 문장의 관계\n",
        "  - entailment: 논리적 연결(0)\n",
        "  - contradiction: 모순 관계(1)\n",
        "  - neutral: 무관한 관계(2)"
      ]
    },
    {
      "cell_type": "code",
      "execution_count": 3,
      "metadata": {
        "colab": {
          "base_uri": "https://localhost:8080/"
        },
        "id": "nrS1sSdvjfZd",
        "outputId": "3851d08c-c017-429b-b825-37f7847bf952"
      },
      "outputs": [
        {
          "output_type": "stream",
          "name": "stdout",
          "text": [
            "\n",
            "=== 데이터 예시 ===\n",
            "첫 번째 예시:\n",
            "Premise: Conceptually cream skimming has two basic dimensions - product and geography.\n",
            "Hypothesis: Product and geography are what make cream skimming work. \n",
            "Label: 1\n",
            "\n",
            "두 번째 예시:\n",
            "Premise: you know during the season and i guess at at your level uh you lose them to the next level if if they decide to recall the the parent team the Braves decide to call to recall a guy from triple A then a double A guy goes up to replace him and a single A guy goes up to replace him\n",
            "Hypothesis: You lose the things to the following level if the people recall.\n",
            "Label: 0\n"
          ]
        }
      ],
      "source": [
        "import random\n",
        "import pandas as pd\n",
        "\n",
        "def load_data(path, nrows=None):\n",
        "  df = pd.read_csv(path, nrows=nrows, keep_default_na=False)\n",
        "  data = []\n",
        "  for _, row in df.iterrows():\n",
        "    if len(row['premise']) * len(row['hypothesis']) != 0:\n",
        "      data.append({'premise': row['premise'], 'hypothesis': row['hypothesis'], 'label': row['label']})\n",
        "\n",
        "  return data\n",
        "\n",
        "train_data = load_data(path+'/train.csv', nrows=5000)\n",
        "test_data = load_data(path+'/validation_matched.csv', nrows=5000)\n",
        "\n",
        "print(\"\\n=== 데이터 예시 ===\")\n",
        "print(\"첫 번째 예시:\")\n",
        "print(f\"Premise: {train_data[0]['premise']}\")\n",
        "print(f\"Hypothesis: {train_data[0]['hypothesis']}\")\n",
        "print(f\"Label: {train_data[0]['label']}\")\n",
        "\n",
        "print(\"\\n두 번째 예시:\")\n",
        "print(f\"Premise: {train_data[1]['premise']}\")\n",
        "print(f\"Hypothesis: {train_data[1]['hypothesis']}\")\n",
        "print(f\"Label: {train_data[1]['label']}\")"
      ]
    },
    {
      "cell_type": "markdown",
      "metadata": {
        "id": "XNSsf6MCLT87"
      },
      "source": [
        "RoBERTa 토크나이저를 불러온다."
      ]
    },
    {
      "cell_type": "code",
      "execution_count": 4,
      "metadata": {
        "colab": {
          "base_uri": "https://localhost:8080/"
        },
        "id": "QOunVrt9LT87",
        "outputId": "fc3e0fb7-6e89-4049-e129-2c74a280b1e9"
      },
      "outputs": [
        {
          "output_type": "stream",
          "name": "stderr",
          "text": [
            "/usr/local/lib/python3.11/dist-packages/huggingface_hub/utils/_auth.py:94: UserWarning: \n",
            "The secret `HF_TOKEN` does not exist in your Colab secrets.\n",
            "To authenticate with the Hugging Face Hub, create a token in your settings tab (https://huggingface.co/settings/tokens), set it as secret in your Google Colab and restart your session.\n",
            "You will be able to reuse this secret in all of your notebooks.\n",
            "Please note that authentication is recommended but still optional to access public models or datasets.\n",
            "  warnings.warn(\n"
          ]
        }
      ],
      "source": [
        "from transformers import RobertaTokenizer\n",
        "\n",
        "# RoBERTa 토크나이저 로드\n",
        "tokenizer = RobertaTokenizer.from_pretrained('roberta-base')  # 또는 'roberta-large'"
      ]
    },
    {
      "cell_type": "code",
      "execution_count": 5,
      "metadata": {
        "colab": {
          "base_uri": "https://localhost:8080/"
        },
        "id": "B0BlAWQsluC6",
        "outputId": "cb525472-519f-4bf6-a969-4163792197ef"
      },
      "outputs": [
        {
          "output_type": "stream",
          "name": "stdout",
          "text": [
            "배치 크기: torch.Size([32, 78])\n",
            "어텐션 마스크 크기: torch.Size([32, 78])\n",
            "라벨 크기: torch.Size([32])\n",
            "\n",
            "첫 번째 배치 예시:\n",
            "입력 ID: tensor([    0, 10975,   104,   742,   700,  5741,    11, 25876,     7,  1323,\n",
            "          160,  7428, 15864,    25,  7371,    10,  1741,  7743,     6, 22262,\n",
            "        11721,  1033,    25,   937, 30079,     6,  2241, 12949,  9622,    25,\n",
            "         5616,  2956,     6,  5789,     5,   188,   469,  1513,   128,  9605,\n",
            "         9691, 26452,  1182,  1543,     4,     2,     2, 40648,  9691, 26452,\n",
            "         1182,  1543,   875,    11,     5,   188,   469,  1513,    14,    51,\n",
            "          860,    11, 25876,     7,  1323,   160,  7428, 15864,    25,   937,\n",
            "        30079,     4,     2,     1,     1,     1,     1,     1])\n",
            "라벨: tensor(0)\n"
          ]
        }
      ],
      "source": [
        "from transformers import AutoTokenizer\n",
        "import torch\n",
        "from torch.utils.data import DataLoader\n",
        "\n",
        "\n",
        "def collate_fn(batch):\n",
        "    premises, hypotheses, labels = [], [], []\n",
        "\n",
        "    # 배치 내 각 샘플에서 premise, hypothesis, label 추출\n",
        "    for row in batch:\n",
        "        premises.append(row['premise'])\n",
        "        hypotheses.append(row['hypothesis'])\n",
        "        labels.append(row['label'])\n",
        "\n",
        "    # tokenizer로 두 문장을 함께 토큰화\n",
        "    encoded = tokenizer(\n",
        "        premises,\n",
        "        hypotheses,\n",
        "        padding=True,\n",
        "        truncation='longest_first',\n",
        "        max_length=156,\n",
        "        return_tensors='pt',\n",
        "        add_special_tokens=True  # RoBERTa의 special 토큰 추가\n",
        "    )\n",
        "\n",
        "    # label을 텐서로 변환한다\n",
        "    labels = torch.LongTensor(labels)\n",
        "\n",
        "    # 모델 입력에 필요한 모든 정보 반환\n",
        "    return {\n",
        "        'input_ids': encoded['input_ids'],\n",
        "        'attention_mask': encoded['attention_mask'],\n",
        "        'labels': labels\n",
        "    }\n",
        "\n",
        "batch_size = 32\n",
        "\n",
        "# DataLoader 설정\n",
        "train_loader = DataLoader(\n",
        "    train_data,\n",
        "    batch_size=batch_size,\n",
        "    shuffle=True,\n",
        "    collate_fn=collate_fn\n",
        ")\n",
        "\n",
        "test_loader = DataLoader(\n",
        "    test_data,\n",
        "    batch_size=batch_size,\n",
        "    shuffle=False,\n",
        "    collate_fn=collate_fn\n",
        ")\n",
        "\n",
        "# 데이터 형태 확인\n",
        "for batch in train_loader:\n",
        "    print(\"배치 크기:\", batch['input_ids'].shape)\n",
        "    print(\"어텐션 마스크 크기:\", batch['attention_mask'].shape)\n",
        "    print(\"라벨 크기:\", batch['labels'].shape)\n",
        "    print(\"\\n첫 번째 배치 예시:\")\n",
        "    print(\"입력 ID:\", batch['input_ids'][0])\n",
        "    print(\"라벨:\", batch['labels'][0])\n",
        "    break"
      ]
    },
    {
      "cell_type": "markdown",
      "metadata": {
        "id": "6GWhKcdpo9XV"
      },
      "source": [
        "### 2. 모델 정의\n",
        "\n",
        "MNLI task를 위해 시퀀스 분류용 모델 RobertaForSequenceClassification을 불러온다."
      ]
    },
    {
      "cell_type": "code",
      "execution_count": 6,
      "metadata": {
        "colab": {
          "base_uri": "https://localhost:8080/"
        },
        "id": "tsdJHFnFj5PU",
        "outputId": "5e97e859-8623-4867-d583-53243d115375"
      },
      "outputs": [
        {
          "output_type": "stream",
          "name": "stderr",
          "text": [
            "Some weights of RobertaForSequenceClassification were not initialized from the model checkpoint at roberta-base and are newly initialized: ['classifier.dense.bias', 'classifier.dense.weight', 'classifier.out_proj.bias', 'classifier.out_proj.weight']\n",
            "You should probably TRAIN this model on a down-stream task to be able to use it for predictions and inference.\n"
          ]
        }
      ],
      "source": [
        "from transformers import RobertaForSequenceClassification\n",
        "\n",
        "model = RobertaForSequenceClassification.from_pretrained(\n",
        "    'roberta-base',  # 또는 'roberta-large'\n",
        "    num_labels=3,    # entailment, contradiction, neutral\n",
        "    problem_type=\"single_label_classification\", # 하나의 레이블만 선택\n",
        "    classifier_dropout=0.3, # 분류기(classifier) 레이어의 dropout 비율\n",
        "    attention_probs_dropout_prob=0.1,  # 어텐션 스코어에 적용되는 dropout 비율\n",
        "    hidden_dropout_prob=0.1 # 트랜스포머 hidden states의 dropout 비율\n",
        ")\n",
        "\n",
        "# GPU 사용 설정\n",
        "device = torch.device('cuda' if torch.cuda.is_available() else 'cpu')\n",
        "model = model.to(device)"
      ]
    },
    {
      "cell_type": "markdown",
      "metadata": {
        "id": "qmtygJX3pn6j"
      },
      "source": [
        "모델의 입력과 출력, 예측 결과 형태를 확인한다."
      ]
    },
    {
      "cell_type": "code",
      "execution_count": 7,
      "metadata": {
        "colab": {
          "base_uri": "https://localhost:8080/"
        },
        "id": "RllxpNGTlXOv",
        "outputId": "5b82834d-115f-4839-af55-cd968ab7aa2b"
      },
      "outputs": [
        {
          "output_type": "stream",
          "name": "stdout",
          "text": [
            "=== 입력 형태 ===\n",
            "input_ids 형태: torch.Size([1, 30])\n",
            "attention_mask 형태: torch.Size([1, 30])\n",
            "\n",
            "=== 출력 형태 ===\n",
            "로짓 형태: torch.Size([1, 3])\n",
            "\n",
            "=== 예측 결과 ===\n",
            "예측 클래스: 1\n",
            "예측 결과: contradiction\n"
          ]
        }
      ],
      "source": [
        "# 예시 데이터\n",
        "premise = \"Conceptually cream skimming has two basic dimensions - product and geography.\"\n",
        "hypothesis = \"Product and geography are what make cream skimming work.\"\n",
        "\n",
        "# 입력 형태\n",
        "encoded = tokenizer(\n",
        "    premise,\n",
        "    hypothesis,\n",
        "    padding=True,\n",
        "    truncation=True,\n",
        "    max_length=124,\n",
        "    return_tensors='pt'\n",
        ")\n",
        "encoded = {k: v.to(device) for k, v in encoded.items()}\n",
        "\n",
        "print(\"=== 입력 형태 ===\")\n",
        "print(\"input_ids 형태:\", encoded['input_ids'].shape)\n",
        "print(\"attention_mask 형태:\", encoded['attention_mask'].shape)\n",
        "\n",
        "# 모델 출력\n",
        "outputs = model(**encoded)\n",
        "print(\"\\n=== 출력 형태 ===\")\n",
        "print(\"로짓 형태:\", outputs.logits.shape)  # [batch_size, 3] - 3개 클래스에 대한 점수\n",
        "\n",
        "# 예측 클래스\n",
        "predicted_class = torch.argmax(outputs.logits, dim=1)\n",
        "print(\"\\n=== 예측 결과 ===\")\n",
        "print(\"예측 클래스:\", predicted_class.item())  # 0: entailment, 1: contradiction, 2: neutral\n",
        "\n",
        "# 레이블과 예측값 매핑\n",
        "label_map = {0: 'entailment', 1: 'contradiction', 2: 'neutral'}\n",
        "print(\"예측 결과:\", label_map[predicted_class.item()])"
      ]
    },
    {
      "cell_type": "markdown",
      "metadata": {
        "id": "pYQjFnYNqGsC"
      },
      "source": [
        "### 3. Fine tuning"
      ]
    },
    {
      "cell_type": "markdown",
      "metadata": {
        "id": "hT7pFzHlqJ80"
      },
      "source": [
        "fine tuning 전/후를 비교하기 위해 정확도를 계산하고 모델의 성능을 평가하는 함수를 추가한다."
      ]
    },
    {
      "cell_type": "code",
      "execution_count": 8,
      "metadata": {
        "id": "9pJC8ujVkURN"
      },
      "outputs": [],
      "source": [
        "# 정확도 계산 함수\n",
        "def compute_accuracy(model, data_loader, print_errors=False):\n",
        "    model.eval()\n",
        "    correct = 0\n",
        "    total = 0\n",
        "\n",
        "    # 오답 사례를 저장할 리스트\n",
        "    error_cases = []\n",
        "\n",
        "    with torch.no_grad():\n",
        "        for batch_idx, batch in enumerate(data_loader):\n",
        "            input_ids = batch['input_ids'].to(device)\n",
        "            attention_mask = batch['attention_mask'].to(device)\n",
        "            labels = batch['labels'].to(device)\n",
        "\n",
        "            outputs = model(input_ids, attention_mask=attention_mask)\n",
        "            predictions = torch.argmax(outputs.logits, dim=1)\n",
        "\n",
        "            # 오답 케이스 찾기\n",
        "            if print_errors:\n",
        "                incorrect_indices = (predictions != labels).nonzero(as_tuple=True)[0]\n",
        "                for idx in incorrect_indices:\n",
        "                    # batch에서 원본 데이터 가져오기\n",
        "                    original_premise = data_loader.dataset[batch_size * batch_idx + idx]['premise']\n",
        "                    original_hypothesis = data_loader.dataset[batch_size * batch_idx + idx]['hypothesis']\n",
        "\n",
        "                    error_cases.append({\n",
        "                        'premise': original_premise,\n",
        "                        'hypothesis': original_hypothesis,\n",
        "                        'predicted': predictions[idx].item(),\n",
        "                        'actual': labels[idx].item()\n",
        "                    })\n",
        "\n",
        "            correct += (predictions == labels).sum().item()\n",
        "            total += labels.size(0)\n",
        "\n",
        "    # 오답 사례 출력\n",
        "    if print_errors and error_cases:\n",
        "        print(\"\\n=== 예측 실패 사례 ===\")\n",
        "        label_map = {0: 'entailment', 1: 'neutral', 2: 'contradiction'}\n",
        "        for i, case in enumerate(error_cases[:5]):  # 처음 5개만 출력\n",
        "            print(f\"\\n사례 {i+1}:\")\n",
        "            print(f\"Premise: {case['premise']}\")\n",
        "            print(f\"Hypothesis: {case['hypothesis']}\")\n",
        "            print(f\"예측: {label_map[case['predicted']]}\")\n",
        "            print(f\"실제: {label_map[case['actual']]}\")\n",
        "            print(\"-\" * 50)\n",
        "\n",
        "    return correct / total\n",
        "\n",
        "# 모델 성능 평가 함수\n",
        "def evaluate(model, train_loader, test_loader, title_prefix=\"\"):\n",
        "    # 정확도 계산\n",
        "    train_acc = compute_accuracy(model, train_loader, print_errors=False)\n",
        "    test_acc = compute_accuracy(model, test_loader, print_errors=True)\n",
        "\n",
        "    print(f\"\\n=== {title_prefix} 모델 성능 ===\")\n",
        "    print(f\"Train Accuracy: {train_acc:.4f}\")\n",
        "    print(f\"Test Accuracy: {test_acc:.4f}\")\n",
        "\n",
        "    return train_acc, test_acc"
      ]
    },
    {
      "cell_type": "markdown",
      "metadata": {
        "id": "ZRsSL7cm1mRY"
      },
      "source": [
        "overfitting을 방지하기 위해 early stopping을 정의한다."
      ]
    },
    {
      "cell_type": "code",
      "execution_count": 9,
      "metadata": {
        "id": "ZVr3VgW_1jeA"
      },
      "outputs": [],
      "source": [
        "class EarlyStopping:\n",
        "    def __init__(self, patience=3, min_delta=0.001, max_train_acc=0.95, verbose=True):\n",
        "        \"\"\"\n",
        "        patience: 성능 향상이 없어도 기다리는 에폭 수\n",
        "        min_delta: 성능 향상으로 간주할 최소 변화량\n",
        "        verbose: 상세 출력 여부\n",
        "        \"\"\"\n",
        "        self.patience = patience\n",
        "        self.min_delta = min_delta\n",
        "        self.verbose = verbose\n",
        "        self.counter = 0\n",
        "        self.best_loss = None\n",
        "        self.best_acc = None\n",
        "        self.early_stop = False\n",
        "        self.best_model = None\n",
        "        self.max_train_acc = max_train_acc\n",
        "\n",
        "    def __call__(self, val_loss, val_acc, train_acc, model):\n",
        "        # 학습 정확도가 너무 높아지면 조기 종료\n",
        "        if train_acc > self.max_train_acc:\n",
        "            if self.verbose:\n",
        "                print(f'Early stopping: Train accuracy ({train_acc:.4f}) exceeded threshold ({self.max_train_acc:.4f})')\n",
        "            self.early_stop = True\n",
        "            return\n",
        "\n",
        "        if self.best_loss is None:  # 첫 에폭\n",
        "            self.best_loss = val_loss\n",
        "            self.best_acc = val_acc\n",
        "            self.best_model = model.state_dict()\n",
        "        elif val_loss > self.best_loss - self.min_delta:  # 성능 향상이 없는 경우\n",
        "            self.counter += 1\n",
        "            if self.verbose:\n",
        "                print(f'EarlyStopping counter: {self.counter} out of {self.patience}')\n",
        "            if self.counter >= self.patience:\n",
        "                self.early_stop = True\n",
        "                if self.verbose:\n",
        "                    print(f'Early stopping triggered! Best accuracy: {self.best_acc:.4f}')\n",
        "        else:  # 성능이 향상된 경우\n",
        "            self.best_loss = val_loss\n",
        "            self.best_acc = val_acc\n",
        "            self.best_model = model.state_dict()\n",
        "            self.counter = 0"
      ]
    },
    {
      "cell_type": "markdown",
      "metadata": {
        "id": "vVvEMscDqj_n"
      },
      "source": [
        "학습 함수를 정의한다.\n",
        "\n",
        "overfitting을 방지하기 위해 early stop을 추가하고 epochs를 넉넉하게 설정하였다."
      ]
    },
    {
      "cell_type": "code",
      "execution_count": 10,
      "metadata": {
        "id": "fBcmmsiwkFVe"
      },
      "outputs": [],
      "source": [
        "import torch\n",
        "from torch.optim import AdamW\n",
        "import numpy as np\n",
        "import matplotlib.pyplot as plt\n",
        "from tqdm import tqdm\n",
        "from transformers import get_linear_schedule_with_warmup\n",
        "\n",
        "# 학습 함수\n",
        "def train_model(model, train_loader, test_loader):\n",
        "    model = model.to(device)\n",
        "\n",
        "    lr = 5e-6\n",
        "    n_epochs = 50\n",
        "\n",
        "    # AdamW 옵티마이저 사용 (트랜스포머 모델에 더 적합)\n",
        "    optimizer = AdamW(model.parameters(), lr=lr, weight_decay=0.1)\n",
        "\n",
        "    # 웜업 스케줄러 추가\n",
        "    num_training_steps = len(train_loader) * n_epochs\n",
        "    # 처음 10%는 학습률을 천천히 증가시키고 그 후 선형적으로 감소\n",
        "    num_warmup_steps = num_training_steps // 10\n",
        "    scheduler = get_linear_schedule_with_warmup(\n",
        "        optimizer,\n",
        "        num_warmup_steps=num_warmup_steps,\n",
        "        num_training_steps=num_training_steps\n",
        "    )\n",
        "\n",
        "    # Early Stopping 초기화\n",
        "    early_stopping = EarlyStopping(\n",
        "        patience=3,\n",
        "        min_delta=0.001,\n",
        "        max_train_acc=0.95,\n",
        "        verbose=True\n",
        "    )\n",
        "\n",
        "    train_losses = []\n",
        "    train_accs = []\n",
        "    test_accs = []\n",
        "\n",
        "    # 그라디언트 스케일러 추가\n",
        "    # Mixed Precision 학습에서 발생할 수 있는 그라디언트 소실(gradient underflow)문제를 방지하기 위함\n",
        "    scaler = torch.cuda.amp.GradScaler()\n",
        "\n",
        "    for epoch in range(n_epochs):\n",
        "        model.train()\n",
        "        total_loss = 0\n",
        "        progress_bar = tqdm(train_loader, desc=f'Epoch {epoch + 1}/{n_epochs}')\n",
        "\n",
        "        for batch in progress_bar:\n",
        "            input_ids = batch['input_ids'].to(device)\n",
        "            attention_mask = batch['attention_mask'].to(device)\n",
        "            labels = batch['labels'].to(device)\n",
        "\n",
        "            optimizer.zero_grad()\n",
        "\n",
        "            # 학습 속도 향상 및 메모리 사용량 감소 위해 Mixed precision 학습 적용\n",
        "            with torch.cuda.amp.autocast():\n",
        "                outputs = model(\n",
        "                    input_ids=input_ids,\n",
        "                    attention_mask=attention_mask,\n",
        "                    labels=labels\n",
        "                )\n",
        "\n",
        "            loss = outputs.loss\n",
        "            total_loss += loss.item()\n",
        "\n",
        "            # 그라디언트 스케일링 적용\n",
        "            scaler.scale(loss).backward()\n",
        "            scaler.step(optimizer)\n",
        "            scaler.update()\n",
        "\n",
        "            # 학습률 스케줄러 업데이트\n",
        "            scheduler.step()\n",
        "\n",
        "            progress_bar.set_postfix({'loss': loss.item()})\n",
        "\n",
        "        avg_loss = total_loss / len(train_loader)\n",
        "        train_losses.append(avg_loss)\n",
        "\n",
        "        # 에폭마다 정확도 계산\n",
        "        train_acc = compute_accuracy(model, train_loader)\n",
        "        test_acc = compute_accuracy(model, test_loader)\n",
        "        train_accs.append(train_acc)\n",
        "        test_accs.append(test_acc)\n",
        "\n",
        "        print(f\"\\nEpoch {epoch + 1}/{n_epochs}\")\n",
        "        print(f\"Total Loss: {total_loss:.4f}\")\n",
        "        print(f\"Average Loss: {avg_loss:.4f}\")\n",
        "        print(f\"Train Accuracy: {train_acc:.4f}\")\n",
        "        print(f\"Test Accuracy: {test_acc:.4f}\\n\")\n",
        "        print(f\"Learning Rate: {scheduler.get_last_lr()[0]:.2e}\\n\")\n",
        "\n",
        "        # Early Stopping 체크\n",
        "        early_stopping(avg_loss, test_acc, train_acc, model)\n",
        "        if early_stopping.early_stop:\n",
        "            print(f\"\\nEarly stopping triggered at epoch {epoch + 1}\")\n",
        "            # 최고 성능 모델로 복원\n",
        "            model.load_state_dict(early_stopping.best_model)\n",
        "            break\n",
        "\n",
        "    return train_losses, train_accs, test_accs"
      ]
    },
    {
      "cell_type": "markdown",
      "metadata": {
        "id": "LTx24yMgqrk9"
      },
      "source": [
        "fine tuning 전/후 성능을 측정한다."
      ]
    },
    {
      "cell_type": "code",
      "execution_count": 11,
      "metadata": {
        "colab": {
          "base_uri": "https://localhost:8080/",
          "height": 1000
        },
        "id": "pW7IdQK8jwnY",
        "outputId": "43d7bca1-47b5-4171-b9df-bc3197300c6d"
      },
      "outputs": [
        {
          "output_type": "stream",
          "name": "stderr",
          "text": [
            "Be aware, overflowing tokens are not returned for the setting you have chosen, i.e. sequence pairs with the 'longest_first' truncation strategy. So the returned list will always be empty even if some tokens have been removed.\n",
            "Be aware, overflowing tokens are not returned for the setting you have chosen, i.e. sequence pairs with the 'longest_first' truncation strategy. So the returned list will always be empty even if some tokens have been removed.\n",
            "Be aware, overflowing tokens are not returned for the setting you have chosen, i.e. sequence pairs with the 'longest_first' truncation strategy. So the returned list will always be empty even if some tokens have been removed.\n",
            "Be aware, overflowing tokens are not returned for the setting you have chosen, i.e. sequence pairs with the 'longest_first' truncation strategy. So the returned list will always be empty even if some tokens have been removed.\n",
            "Be aware, overflowing tokens are not returned for the setting you have chosen, i.e. sequence pairs with the 'longest_first' truncation strategy. So the returned list will always be empty even if some tokens have been removed.\n",
            "Be aware, overflowing tokens are not returned for the setting you have chosen, i.e. sequence pairs with the 'longest_first' truncation strategy. So the returned list will always be empty even if some tokens have been removed.\n",
            "Be aware, overflowing tokens are not returned for the setting you have chosen, i.e. sequence pairs with the 'longest_first' truncation strategy. So the returned list will always be empty even if some tokens have been removed.\n",
            "Be aware, overflowing tokens are not returned for the setting you have chosen, i.e. sequence pairs with the 'longest_first' truncation strategy. So the returned list will always be empty even if some tokens have been removed.\n",
            "Be aware, overflowing tokens are not returned for the setting you have chosen, i.e. sequence pairs with the 'longest_first' truncation strategy. So the returned list will always be empty even if some tokens have been removed.\n",
            "Be aware, overflowing tokens are not returned for the setting you have chosen, i.e. sequence pairs with the 'longest_first' truncation strategy. So the returned list will always be empty even if some tokens have been removed.\n",
            "<ipython-input-10-2c3689ae2499>:42: FutureWarning: `torch.cuda.amp.GradScaler(args...)` is deprecated. Please use `torch.amp.GradScaler('cuda', args...)` instead.\n",
            "  scaler = torch.cuda.amp.GradScaler()\n"
          ]
        },
        {
          "output_type": "stream",
          "name": "stdout",
          "text": [
            "\n",
            "=== 예측 실패 사례 ===\n",
            "\n",
            "사례 1:\n",
            "Premise: This site includes a list of all award winners and a searchable database of Government Executive articles.\n",
            "Hypothesis: The Government Executive articles housed on the website are not able to be searched.\n",
            "예측: neutral\n",
            "실제: contradiction\n",
            "--------------------------------------------------\n",
            "\n",
            "사례 2:\n",
            "Premise: uh i don't know i i have mixed emotions about him uh sometimes i like him but at the same times i love to see somebody beat him\n",
            "Hypothesis: I like him for the most part, but would still enjoy seeing someone beat him.\n",
            "예측: neutral\n",
            "실제: entailment\n",
            "--------------------------------------------------\n",
            "\n",
            "사례 3:\n",
            "Premise: yeah i i think my favorite restaurant is always been the one closest  you know the closest as long as it's it meets the minimum criteria you know of good food\n",
            "Hypothesis: My favorite restaurants are always at least a hundred miles away from my house. \n",
            "예측: neutral\n",
            "실제: contradiction\n",
            "--------------------------------------------------\n",
            "\n",
            "사례 4:\n",
            "Premise: i don't know um do you do a lot of camping\n",
            "Hypothesis: I know exactly.\n",
            "예측: neutral\n",
            "실제: contradiction\n",
            "--------------------------------------------------\n",
            "\n",
            "사례 5:\n",
            "Premise: well that would be a help i wish they would do that here we have got so little landfill space left that we're going to run out before the end of this decade and it's really going to be\n",
            "Hypothesis: We have plenty of space in the landfill.\n",
            "예측: neutral\n",
            "실제: contradiction\n",
            "--------------------------------------------------\n",
            "\n",
            "=== Fine-tuning 전 모델 성능 ===\n",
            "Train Accuracy: 0.2884\n",
            "Test Accuracy: 0.3152\n",
            "\n",
            "=== Fine-tuning 시작 ===\n"
          ]
        },
        {
          "output_type": "stream",
          "name": "stderr",
          "text": [
            "\rEpoch 1/50:   0%|          | 0/157 [00:00<?, ?it/s]<ipython-input-10-2c3689ae2499>:57: FutureWarning: `torch.cuda.amp.autocast(args...)` is deprecated. Please use `torch.amp.autocast('cuda', args...)` instead.\n",
            "  with torch.cuda.amp.autocast():\n",
            "Epoch 1/50:   4%|▍         | 6/157 [00:01<00:27,  5.52it/s, loss=1.11]Be aware, overflowing tokens are not returned for the setting you have chosen, i.e. sequence pairs with the 'longest_first' truncation strategy. So the returned list will always be empty even if some tokens have been removed.\n",
            "Epoch 1/50:  26%|██▌       | 41/157 [00:06<00:17,  6.68it/s, loss=1.12]Be aware, overflowing tokens are not returned for the setting you have chosen, i.e. sequence pairs with the 'longest_first' truncation strategy. So the returned list will always be empty even if some tokens have been removed.\n",
            "Epoch 1/50:  38%|███▊      | 60/157 [00:10<00:16,  5.74it/s, loss=1.23]Be aware, overflowing tokens are not returned for the setting you have chosen, i.e. sequence pairs with the 'longest_first' truncation strategy. So the returned list will always be empty even if some tokens have been removed.\n",
            "Epoch 1/50:  50%|█████     | 79/157 [00:13<00:13,  5.97it/s, loss=1.12]Be aware, overflowing tokens are not returned for the setting you have chosen, i.e. sequence pairs with the 'longest_first' truncation strategy. So the returned list will always be empty even if some tokens have been removed.\n",
            "Epoch 1/50:  63%|██████▎   | 99/157 [00:17<00:09,  6.41it/s, loss=1.12]Be aware, overflowing tokens are not returned for the setting you have chosen, i.e. sequence pairs with the 'longest_first' truncation strategy. So the returned list will always be empty even if some tokens have been removed.\n",
            "Epoch 1/50:  82%|████████▏ | 129/157 [00:22<00:04,  6.31it/s, loss=1.1]Be aware, overflowing tokens are not returned for the setting you have chosen, i.e. sequence pairs with the 'longest_first' truncation strategy. So the returned list will always be empty even if some tokens have been removed.\n",
            "Epoch 1/50:  84%|████████▍ | 132/157 [00:22<00:04,  5.73it/s, loss=1.13]Be aware, overflowing tokens are not returned for the setting you have chosen, i.e. sequence pairs with the 'longest_first' truncation strategy. So the returned list will always be empty even if some tokens have been removed.\n",
            "Epoch 1/50: 100%|██████████| 157/157 [00:26<00:00,  5.83it/s, loss=1.17]\n",
            "Be aware, overflowing tokens are not returned for the setting you have chosen, i.e. sequence pairs with the 'longest_first' truncation strategy. So the returned list will always be empty even if some tokens have been removed.\n",
            "Be aware, overflowing tokens are not returned for the setting you have chosen, i.e. sequence pairs with the 'longest_first' truncation strategy. So the returned list will always be empty even if some tokens have been removed.\n",
            "Be aware, overflowing tokens are not returned for the setting you have chosen, i.e. sequence pairs with the 'longest_first' truncation strategy. So the returned list will always be empty even if some tokens have been removed.\n",
            "Be aware, overflowing tokens are not returned for the setting you have chosen, i.e. sequence pairs with the 'longest_first' truncation strategy. So the returned list will always be empty even if some tokens have been removed.\n",
            "Be aware, overflowing tokens are not returned for the setting you have chosen, i.e. sequence pairs with the 'longest_first' truncation strategy. So the returned list will always be empty even if some tokens have been removed.\n",
            "Be aware, overflowing tokens are not returned for the setting you have chosen, i.e. sequence pairs with the 'longest_first' truncation strategy. So the returned list will always be empty even if some tokens have been removed.\n",
            "Be aware, overflowing tokens are not returned for the setting you have chosen, i.e. sequence pairs with the 'longest_first' truncation strategy. So the returned list will always be empty even if some tokens have been removed.\n",
            "Be aware, overflowing tokens are not returned for the setting you have chosen, i.e. sequence pairs with the 'longest_first' truncation strategy. So the returned list will always be empty even if some tokens have been removed.\n",
            "Be aware, overflowing tokens are not returned for the setting you have chosen, i.e. sequence pairs with the 'longest_first' truncation strategy. So the returned list will always be empty even if some tokens have been removed.\n",
            "Be aware, overflowing tokens are not returned for the setting you have chosen, i.e. sequence pairs with the 'longest_first' truncation strategy. So the returned list will always be empty even if some tokens have been removed.\n"
          ]
        },
        {
          "output_type": "stream",
          "name": "stdout",
          "text": [
            "\n",
            "Epoch 1/50\n",
            "Total Loss: 177.1709\n",
            "Average Loss: 1.1285\n",
            "Train Accuracy: 0.2884\n",
            "Test Accuracy: 0.3152\n",
            "\n",
            "Learning Rate: 1.00e-06\n",
            "\n"
          ]
        },
        {
          "output_type": "stream",
          "name": "stderr",
          "text": [
            "Epoch 2/50:   6%|▋         | 10/157 [00:01<00:24,  5.97it/s, loss=1.11]Be aware, overflowing tokens are not returned for the setting you have chosen, i.e. sequence pairs with the 'longest_first' truncation strategy. So the returned list will always be empty even if some tokens have been removed.\n",
            "Epoch 2/50:  59%|█████▊    | 92/157 [00:15<00:10,  6.24it/s, loss=1.07]Be aware, overflowing tokens are not returned for the setting you have chosen, i.e. sequence pairs with the 'longest_first' truncation strategy. So the returned list will always be empty even if some tokens have been removed.\n",
            "Epoch 2/50:  62%|██████▏   | 97/157 [00:16<00:10,  5.88it/s, loss=1.11]Be aware, overflowing tokens are not returned for the setting you have chosen, i.e. sequence pairs with the 'longest_first' truncation strategy. So the returned list will always be empty even if some tokens have been removed.\n",
            "Epoch 2/50:  68%|██████▊   | 107/157 [00:18<00:08,  5.74it/s, loss=1.1]Be aware, overflowing tokens are not returned for the setting you have chosen, i.e. sequence pairs with the 'longest_first' truncation strategy. So the returned list will always be empty even if some tokens have been removed.\n",
            "Epoch 2/50:  76%|███████▋  | 120/157 [00:20<00:06,  5.82it/s, loss=1.12]Be aware, overflowing tokens are not returned for the setting you have chosen, i.e. sequence pairs with the 'longest_first' truncation strategy. So the returned list will always be empty even if some tokens have been removed.\n",
            "Epoch 2/50:  89%|████████▊ | 139/157 [00:23<00:02,  6.25it/s, loss=1.08]Be aware, overflowing tokens are not returned for the setting you have chosen, i.e. sequence pairs with the 'longest_first' truncation strategy. So the returned list will always be empty even if some tokens have been removed.\n",
            "Epoch 2/50:  89%|████████▉ | 140/157 [00:23<00:03,  5.40it/s, loss=1.09]Be aware, overflowing tokens are not returned for the setting you have chosen, i.e. sequence pairs with the 'longest_first' truncation strategy. So the returned list will always be empty even if some tokens have been removed.\n",
            "Epoch 2/50: 100%|██████████| 157/157 [00:26<00:00,  5.88it/s, loss=1.17]\n",
            "Be aware, overflowing tokens are not returned for the setting you have chosen, i.e. sequence pairs with the 'longest_first' truncation strategy. So the returned list will always be empty even if some tokens have been removed.\n",
            "Be aware, overflowing tokens are not returned for the setting you have chosen, i.e. sequence pairs with the 'longest_first' truncation strategy. So the returned list will always be empty even if some tokens have been removed.\n",
            "Be aware, overflowing tokens are not returned for the setting you have chosen, i.e. sequence pairs with the 'longest_first' truncation strategy. So the returned list will always be empty even if some tokens have been removed.\n",
            "Be aware, overflowing tokens are not returned for the setting you have chosen, i.e. sequence pairs with the 'longest_first' truncation strategy. So the returned list will always be empty even if some tokens have been removed.\n",
            "Be aware, overflowing tokens are not returned for the setting you have chosen, i.e. sequence pairs with the 'longest_first' truncation strategy. So the returned list will always be empty even if some tokens have been removed.\n",
            "Be aware, overflowing tokens are not returned for the setting you have chosen, i.e. sequence pairs with the 'longest_first' truncation strategy. So the returned list will always be empty even if some tokens have been removed.\n",
            "Be aware, overflowing tokens are not returned for the setting you have chosen, i.e. sequence pairs with the 'longest_first' truncation strategy. So the returned list will always be empty even if some tokens have been removed.\n",
            "Be aware, overflowing tokens are not returned for the setting you have chosen, i.e. sequence pairs with the 'longest_first' truncation strategy. So the returned list will always be empty even if some tokens have been removed.\n",
            "Be aware, overflowing tokens are not returned for the setting you have chosen, i.e. sequence pairs with the 'longest_first' truncation strategy. So the returned list will always be empty even if some tokens have been removed.\n",
            "Be aware, overflowing tokens are not returned for the setting you have chosen, i.e. sequence pairs with the 'longest_first' truncation strategy. So the returned list will always be empty even if some tokens have been removed.\n"
          ]
        },
        {
          "output_type": "stream",
          "name": "stdout",
          "text": [
            "\n",
            "Epoch 2/50\n",
            "Total Loss: 173.8300\n",
            "Average Loss: 1.1072\n",
            "Train Accuracy: 0.3772\n",
            "Test Accuracy: 0.3414\n",
            "\n",
            "Learning Rate: 2.00e-06\n",
            "\n"
          ]
        },
        {
          "output_type": "stream",
          "name": "stderr",
          "text": [
            "Epoch 3/50:   1%|          | 1/157 [00:00<00:31,  4.91it/s, loss=1.12]Be aware, overflowing tokens are not returned for the setting you have chosen, i.e. sequence pairs with the 'longest_first' truncation strategy. So the returned list will always be empty even if some tokens have been removed.\n",
            "Epoch 3/50:   4%|▍         | 6/157 [00:01<00:26,  5.80it/s, loss=1.09]Be aware, overflowing tokens are not returned for the setting you have chosen, i.e. sequence pairs with the 'longest_first' truncation strategy. So the returned list will always be empty even if some tokens have been removed.\n",
            "Epoch 3/50:  18%|█▊        | 29/157 [00:05<00:25,  5.10it/s, loss=1.15]Be aware, overflowing tokens are not returned for the setting you have chosen, i.e. sequence pairs with the 'longest_first' truncation strategy. So the returned list will always be empty even if some tokens have been removed.\n",
            "Epoch 3/50:  39%|███▉      | 61/157 [00:11<00:19,  4.82it/s, loss=1.08]Be aware, overflowing tokens are not returned for the setting you have chosen, i.e. sequence pairs with the 'longest_first' truncation strategy. So the returned list will always be empty even if some tokens have been removed.\n",
            "Epoch 3/50:  51%|█████     | 80/157 [00:15<00:14,  5.22it/s, loss=1.15]Be aware, overflowing tokens are not returned for the setting you have chosen, i.e. sequence pairs with the 'longest_first' truncation strategy. So the returned list will always be empty even if some tokens have been removed.\n",
            "Epoch 3/50:  60%|█████▉    | 94/157 [00:18<00:11,  5.28it/s, loss=1.17]Be aware, overflowing tokens are not returned for the setting you have chosen, i.e. sequence pairs with the 'longest_first' truncation strategy. So the returned list will always be empty even if some tokens have been removed.\n",
            "Epoch 3/50:  89%|████████▉ | 140/157 [00:26<00:03,  5.65it/s, loss=1.05]Be aware, overflowing tokens are not returned for the setting you have chosen, i.e. sequence pairs with the 'longest_first' truncation strategy. So the returned list will always be empty even if some tokens have been removed.\n",
            "Epoch 3/50: 100%|██████████| 157/157 [00:29<00:00,  5.36it/s, loss=0.925]\n",
            "Be aware, overflowing tokens are not returned for the setting you have chosen, i.e. sequence pairs with the 'longest_first' truncation strategy. So the returned list will always be empty even if some tokens have been removed.\n",
            "Be aware, overflowing tokens are not returned for the setting you have chosen, i.e. sequence pairs with the 'longest_first' truncation strategy. So the returned list will always be empty even if some tokens have been removed.\n",
            "Be aware, overflowing tokens are not returned for the setting you have chosen, i.e. sequence pairs with the 'longest_first' truncation strategy. So the returned list will always be empty even if some tokens have been removed.\n",
            "Be aware, overflowing tokens are not returned for the setting you have chosen, i.e. sequence pairs with the 'longest_first' truncation strategy. So the returned list will always be empty even if some tokens have been removed.\n",
            "Be aware, overflowing tokens are not returned for the setting you have chosen, i.e. sequence pairs with the 'longest_first' truncation strategy. So the returned list will always be empty even if some tokens have been removed.\n",
            "Be aware, overflowing tokens are not returned for the setting you have chosen, i.e. sequence pairs with the 'longest_first' truncation strategy. So the returned list will always be empty even if some tokens have been removed.\n",
            "Be aware, overflowing tokens are not returned for the setting you have chosen, i.e. sequence pairs with the 'longest_first' truncation strategy. So the returned list will always be empty even if some tokens have been removed.\n",
            "Be aware, overflowing tokens are not returned for the setting you have chosen, i.e. sequence pairs with the 'longest_first' truncation strategy. So the returned list will always be empty even if some tokens have been removed.\n",
            "Be aware, overflowing tokens are not returned for the setting you have chosen, i.e. sequence pairs with the 'longest_first' truncation strategy. So the returned list will always be empty even if some tokens have been removed.\n",
            "Be aware, overflowing tokens are not returned for the setting you have chosen, i.e. sequence pairs with the 'longest_first' truncation strategy. So the returned list will always be empty even if some tokens have been removed.\n"
          ]
        },
        {
          "output_type": "stream",
          "name": "stdout",
          "text": [
            "\n",
            "Epoch 3/50\n",
            "Total Loss: 169.9120\n",
            "Average Loss: 1.0822\n",
            "Train Accuracy: 0.5608\n",
            "Test Accuracy: 0.5160\n",
            "\n",
            "Learning Rate: 3.00e-06\n",
            "\n"
          ]
        },
        {
          "output_type": "stream",
          "name": "stderr",
          "text": [
            "Epoch 4/50:   1%|▏         | 2/157 [00:00<00:27,  5.64it/s, loss=0.942]Be aware, overflowing tokens are not returned for the setting you have chosen, i.e. sequence pairs with the 'longest_first' truncation strategy. So the returned list will always be empty even if some tokens have been removed.\n",
            "Epoch 4/50:   5%|▌         | 8/157 [00:01<00:27,  5.41it/s, loss=0.919]Be aware, overflowing tokens are not returned for the setting you have chosen, i.e. sequence pairs with the 'longest_first' truncation strategy. So the returned list will always be empty even if some tokens have been removed.\n",
            "Epoch 4/50:   6%|▌         | 9/157 [00:01<00:30,  4.91it/s, loss=0.984]Be aware, overflowing tokens are not returned for the setting you have chosen, i.e. sequence pairs with the 'longest_first' truncation strategy. So the returned list will always be empty even if some tokens have been removed.\n",
            "Epoch 4/50:  31%|███       | 49/157 [00:08<00:19,  5.57it/s, loss=0.775]Be aware, overflowing tokens are not returned for the setting you have chosen, i.e. sequence pairs with the 'longest_first' truncation strategy. So the returned list will always be empty even if some tokens have been removed.\n",
            "Epoch 4/50:  33%|███▎      | 52/157 [00:08<00:19,  5.50it/s, loss=0.703]Be aware, overflowing tokens are not returned for the setting you have chosen, i.e. sequence pairs with the 'longest_first' truncation strategy. So the returned list will always be empty even if some tokens have been removed.\n",
            "Epoch 4/50:  66%|██████▌   | 104/157 [00:18<00:08,  6.18it/s, loss=0.617]Be aware, overflowing tokens are not returned for the setting you have chosen, i.e. sequence pairs with the 'longest_first' truncation strategy. So the returned list will always be empty even if some tokens have been removed.\n",
            "Epoch 4/50:  68%|██████▊   | 107/157 [00:18<00:08,  5.89it/s, loss=0.601]Be aware, overflowing tokens are not returned for the setting you have chosen, i.e. sequence pairs with the 'longest_first' truncation strategy. So the returned list will always be empty even if some tokens have been removed.\n",
            "Epoch 4/50: 100%|██████████| 157/157 [00:27<00:00,  5.75it/s, loss=0.915]\n",
            "Be aware, overflowing tokens are not returned for the setting you have chosen, i.e. sequence pairs with the 'longest_first' truncation strategy. So the returned list will always be empty even if some tokens have been removed.\n",
            "Be aware, overflowing tokens are not returned for the setting you have chosen, i.e. sequence pairs with the 'longest_first' truncation strategy. So the returned list will always be empty even if some tokens have been removed.\n",
            "Be aware, overflowing tokens are not returned for the setting you have chosen, i.e. sequence pairs with the 'longest_first' truncation strategy. So the returned list will always be empty even if some tokens have been removed.\n",
            "Be aware, overflowing tokens are not returned for the setting you have chosen, i.e. sequence pairs with the 'longest_first' truncation strategy. So the returned list will always be empty even if some tokens have been removed.\n",
            "Be aware, overflowing tokens are not returned for the setting you have chosen, i.e. sequence pairs with the 'longest_first' truncation strategy. So the returned list will always be empty even if some tokens have been removed.\n",
            "Be aware, overflowing tokens are not returned for the setting you have chosen, i.e. sequence pairs with the 'longest_first' truncation strategy. So the returned list will always be empty even if some tokens have been removed.\n",
            "Be aware, overflowing tokens are not returned for the setting you have chosen, i.e. sequence pairs with the 'longest_first' truncation strategy. So the returned list will always be empty even if some tokens have been removed.\n",
            "Be aware, overflowing tokens are not returned for the setting you have chosen, i.e. sequence pairs with the 'longest_first' truncation strategy. So the returned list will always be empty even if some tokens have been removed.\n",
            "Be aware, overflowing tokens are not returned for the setting you have chosen, i.e. sequence pairs with the 'longest_first' truncation strategy. So the returned list will always be empty even if some tokens have been removed.\n",
            "Be aware, overflowing tokens are not returned for the setting you have chosen, i.e. sequence pairs with the 'longest_first' truncation strategy. So the returned list will always be empty even if some tokens have been removed.\n"
          ]
        },
        {
          "output_type": "stream",
          "name": "stdout",
          "text": [
            "\n",
            "Epoch 4/50\n",
            "Total Loss: 116.1556\n",
            "Average Loss: 0.7398\n",
            "Train Accuracy: 0.8062\n",
            "Test Accuracy: 0.7398\n",
            "\n",
            "Learning Rate: 4.00e-06\n",
            "\n"
          ]
        },
        {
          "output_type": "stream",
          "name": "stderr",
          "text": [
            "Epoch 5/50:  22%|██▏       | 35/157 [00:05<00:20,  5.87it/s, loss=0.684]Be aware, overflowing tokens are not returned for the setting you have chosen, i.e. sequence pairs with the 'longest_first' truncation strategy. So the returned list will always be empty even if some tokens have been removed.\n",
            "Epoch 5/50:  36%|███▌      | 56/157 [00:09<00:17,  5.94it/s, loss=0.64]Be aware, overflowing tokens are not returned for the setting you have chosen, i.e. sequence pairs with the 'longest_first' truncation strategy. So the returned list will always be empty even if some tokens have been removed.\n",
            "Epoch 5/50:  40%|████      | 63/157 [00:10<00:14,  6.30it/s, loss=0.427]Be aware, overflowing tokens are not returned for the setting you have chosen, i.e. sequence pairs with the 'longest_first' truncation strategy. So the returned list will always be empty even if some tokens have been removed.\n",
            "Epoch 5/50:  62%|██████▏   | 98/157 [00:16<00:09,  6.03it/s, loss=0.314]Be aware, overflowing tokens are not returned for the setting you have chosen, i.e. sequence pairs with the 'longest_first' truncation strategy. So the returned list will always be empty even if some tokens have been removed.\n",
            "Epoch 5/50:  63%|██████▎   | 99/157 [00:16<00:10,  5.30it/s, loss=0.531]Be aware, overflowing tokens are not returned for the setting you have chosen, i.e. sequence pairs with the 'longest_first' truncation strategy. So the returned list will always be empty even if some tokens have been removed.\n",
            "Epoch 5/50:  80%|███████▉  | 125/157 [00:21<00:05,  5.62it/s, loss=0.328]Be aware, overflowing tokens are not returned for the setting you have chosen, i.e. sequence pairs with the 'longest_first' truncation strategy. So the returned list will always be empty even if some tokens have been removed.\n",
            "Epoch 5/50:  87%|████████▋ | 136/157 [00:22<00:03,  5.94it/s, loss=0.654]Be aware, overflowing tokens are not returned for the setting you have chosen, i.e. sequence pairs with the 'longest_first' truncation strategy. So the returned list will always be empty even if some tokens have been removed.\n",
            "Epoch 5/50: 100%|██████████| 157/157 [00:26<00:00,  5.93it/s, loss=0.388]\n",
            "Be aware, overflowing tokens are not returned for the setting you have chosen, i.e. sequence pairs with the 'longest_first' truncation strategy. So the returned list will always be empty even if some tokens have been removed.\n",
            "Be aware, overflowing tokens are not returned for the setting you have chosen, i.e. sequence pairs with the 'longest_first' truncation strategy. So the returned list will always be empty even if some tokens have been removed.\n",
            "Be aware, overflowing tokens are not returned for the setting you have chosen, i.e. sequence pairs with the 'longest_first' truncation strategy. So the returned list will always be empty even if some tokens have been removed.\n",
            "Be aware, overflowing tokens are not returned for the setting you have chosen, i.e. sequence pairs with the 'longest_first' truncation strategy. So the returned list will always be empty even if some tokens have been removed.\n",
            "Be aware, overflowing tokens are not returned for the setting you have chosen, i.e. sequence pairs with the 'longest_first' truncation strategy. So the returned list will always be empty even if some tokens have been removed.\n",
            "Be aware, overflowing tokens are not returned for the setting you have chosen, i.e. sequence pairs with the 'longest_first' truncation strategy. So the returned list will always be empty even if some tokens have been removed.\n",
            "Be aware, overflowing tokens are not returned for the setting you have chosen, i.e. sequence pairs with the 'longest_first' truncation strategy. So the returned list will always be empty even if some tokens have been removed.\n",
            "Be aware, overflowing tokens are not returned for the setting you have chosen, i.e. sequence pairs with the 'longest_first' truncation strategy. So the returned list will always be empty even if some tokens have been removed.\n",
            "Be aware, overflowing tokens are not returned for the setting you have chosen, i.e. sequence pairs with the 'longest_first' truncation strategy. So the returned list will always be empty even if some tokens have been removed.\n",
            "Be aware, overflowing tokens are not returned for the setting you have chosen, i.e. sequence pairs with the 'longest_first' truncation strategy. So the returned list will always be empty even if some tokens have been removed.\n"
          ]
        },
        {
          "output_type": "stream",
          "name": "stdout",
          "text": [
            "\n",
            "Epoch 5/50\n",
            "Total Loss: 82.8466\n",
            "Average Loss: 0.5277\n",
            "Train Accuracy: 0.8776\n",
            "Test Accuracy: 0.7612\n",
            "\n",
            "Learning Rate: 5.00e-06\n",
            "\n"
          ]
        },
        {
          "output_type": "stream",
          "name": "stderr",
          "text": [
            "Epoch 6/50:  14%|█▍        | 22/157 [00:03<00:22,  6.04it/s, loss=0.466]Be aware, overflowing tokens are not returned for the setting you have chosen, i.e. sequence pairs with the 'longest_first' truncation strategy. So the returned list will always be empty even if some tokens have been removed.\n",
            "Epoch 6/50:  22%|██▏       | 34/157 [00:05<00:21,  5.81it/s, loss=0.481]Be aware, overflowing tokens are not returned for the setting you have chosen, i.e. sequence pairs with the 'longest_first' truncation strategy. So the returned list will always be empty even if some tokens have been removed.\n",
            "Epoch 6/50:  59%|█████▊    | 92/157 [00:15<00:10,  6.27it/s, loss=0.577]Be aware, overflowing tokens are not returned for the setting you have chosen, i.e. sequence pairs with the 'longest_first' truncation strategy. So the returned list will always be empty even if some tokens have been removed.\n",
            "Epoch 6/50:  65%|██████▍   | 102/157 [00:17<00:09,  6.09it/s, loss=0.208]Be aware, overflowing tokens are not returned for the setting you have chosen, i.e. sequence pairs with the 'longest_first' truncation strategy. So the returned list will always be empty even if some tokens have been removed.\n",
            "Epoch 6/50:  71%|███████▏  | 112/157 [00:19<00:07,  5.79it/s, loss=0.169]Be aware, overflowing tokens are not returned for the setting you have chosen, i.e. sequence pairs with the 'longest_first' truncation strategy. So the returned list will always be empty even if some tokens have been removed.\n",
            "Epoch 6/50:  88%|████████▊ | 138/157 [00:23<00:03,  6.11it/s, loss=0.329]Be aware, overflowing tokens are not returned for the setting you have chosen, i.e. sequence pairs with the 'longest_first' truncation strategy. So the returned list will always be empty even if some tokens have been removed.\n",
            "Epoch 6/50:  99%|█████████▊| 155/157 [00:26<00:00,  6.57it/s, loss=0.445]Be aware, overflowing tokens are not returned for the setting you have chosen, i.e. sequence pairs with the 'longest_first' truncation strategy. So the returned list will always be empty even if some tokens have been removed.\n",
            "Epoch 6/50: 100%|██████████| 157/157 [00:26<00:00,  5.89it/s, loss=0.358]\n",
            "Be aware, overflowing tokens are not returned for the setting you have chosen, i.e. sequence pairs with the 'longest_first' truncation strategy. So the returned list will always be empty even if some tokens have been removed.\n",
            "Be aware, overflowing tokens are not returned for the setting you have chosen, i.e. sequence pairs with the 'longest_first' truncation strategy. So the returned list will always be empty even if some tokens have been removed.\n",
            "Be aware, overflowing tokens are not returned for the setting you have chosen, i.e. sequence pairs with the 'longest_first' truncation strategy. So the returned list will always be empty even if some tokens have been removed.\n",
            "Be aware, overflowing tokens are not returned for the setting you have chosen, i.e. sequence pairs with the 'longest_first' truncation strategy. So the returned list will always be empty even if some tokens have been removed.\n",
            "Be aware, overflowing tokens are not returned for the setting you have chosen, i.e. sequence pairs with the 'longest_first' truncation strategy. So the returned list will always be empty even if some tokens have been removed.\n",
            "Be aware, overflowing tokens are not returned for the setting you have chosen, i.e. sequence pairs with the 'longest_first' truncation strategy. So the returned list will always be empty even if some tokens have been removed.\n",
            "Be aware, overflowing tokens are not returned for the setting you have chosen, i.e. sequence pairs with the 'longest_first' truncation strategy. So the returned list will always be empty even if some tokens have been removed.\n",
            "Be aware, overflowing tokens are not returned for the setting you have chosen, i.e. sequence pairs with the 'longest_first' truncation strategy. So the returned list will always be empty even if some tokens have been removed.\n",
            "Be aware, overflowing tokens are not returned for the setting you have chosen, i.e. sequence pairs with the 'longest_first' truncation strategy. So the returned list will always be empty even if some tokens have been removed.\n",
            "Be aware, overflowing tokens are not returned for the setting you have chosen, i.e. sequence pairs with the 'longest_first' truncation strategy. So the returned list will always be empty even if some tokens have been removed.\n"
          ]
        },
        {
          "output_type": "stream",
          "name": "stdout",
          "text": [
            "\n",
            "Epoch 6/50\n",
            "Total Loss: 64.1513\n",
            "Average Loss: 0.4086\n",
            "Train Accuracy: 0.9236\n",
            "Test Accuracy: 0.7832\n",
            "\n",
            "Learning Rate: 4.89e-06\n",
            "\n"
          ]
        },
        {
          "output_type": "stream",
          "name": "stderr",
          "text": [
            "Epoch 7/50:  10%|▉         | 15/157 [00:02<00:22,  6.41it/s, loss=0.497]Be aware, overflowing tokens are not returned for the setting you have chosen, i.e. sequence pairs with the 'longest_first' truncation strategy. So the returned list will always be empty even if some tokens have been removed.\n",
            "Epoch 7/50:  24%|██▍       | 38/157 [00:06<00:21,  5.63it/s, loss=0.311]Be aware, overflowing tokens are not returned for the setting you have chosen, i.e. sequence pairs with the 'longest_first' truncation strategy. So the returned list will always be empty even if some tokens have been removed.\n",
            "Epoch 7/50:  35%|███▌      | 55/157 [00:09<00:18,  5.57it/s, loss=0.183]Be aware, overflowing tokens are not returned for the setting you have chosen, i.e. sequence pairs with the 'longest_first' truncation strategy. So the returned list will always be empty even if some tokens have been removed.\n",
            "Epoch 7/50:  37%|███▋      | 58/157 [00:09<00:17,  5.65it/s, loss=0.455]Be aware, overflowing tokens are not returned for the setting you have chosen, i.e. sequence pairs with the 'longest_first' truncation strategy. So the returned list will always be empty even if some tokens have been removed.\n",
            "Epoch 7/50:  45%|████▌     | 71/157 [00:12<00:13,  6.28it/s, loss=0.387]Be aware, overflowing tokens are not returned for the setting you have chosen, i.e. sequence pairs with the 'longest_first' truncation strategy. So the returned list will always be empty even if some tokens have been removed.\n",
            "Epoch 7/50:  70%|███████   | 110/157 [00:18<00:08,  5.84it/s, loss=0.206]Be aware, overflowing tokens are not returned for the setting you have chosen, i.e. sequence pairs with the 'longest_first' truncation strategy. So the returned list will always be empty even if some tokens have been removed.\n",
            "Epoch 7/50:  71%|███████▏  | 112/157 [00:19<00:08,  5.40it/s, loss=0.162]Be aware, overflowing tokens are not returned for the setting you have chosen, i.e. sequence pairs with the 'longest_first' truncation strategy. So the returned list will always be empty even if some tokens have been removed.\n",
            "Epoch 7/50: 100%|██████████| 157/157 [00:26<00:00,  5.91it/s, loss=0.604]\n",
            "Be aware, overflowing tokens are not returned for the setting you have chosen, i.e. sequence pairs with the 'longest_first' truncation strategy. So the returned list will always be empty even if some tokens have been removed.\n",
            "Be aware, overflowing tokens are not returned for the setting you have chosen, i.e. sequence pairs with the 'longest_first' truncation strategy. So the returned list will always be empty even if some tokens have been removed.\n",
            "Be aware, overflowing tokens are not returned for the setting you have chosen, i.e. sequence pairs with the 'longest_first' truncation strategy. So the returned list will always be empty even if some tokens have been removed.\n",
            "Be aware, overflowing tokens are not returned for the setting you have chosen, i.e. sequence pairs with the 'longest_first' truncation strategy. So the returned list will always be empty even if some tokens have been removed.\n",
            "Be aware, overflowing tokens are not returned for the setting you have chosen, i.e. sequence pairs with the 'longest_first' truncation strategy. So the returned list will always be empty even if some tokens have been removed.\n",
            "Be aware, overflowing tokens are not returned for the setting you have chosen, i.e. sequence pairs with the 'longest_first' truncation strategy. So the returned list will always be empty even if some tokens have been removed.\n",
            "Be aware, overflowing tokens are not returned for the setting you have chosen, i.e. sequence pairs with the 'longest_first' truncation strategy. So the returned list will always be empty even if some tokens have been removed.\n",
            "Be aware, overflowing tokens are not returned for the setting you have chosen, i.e. sequence pairs with the 'longest_first' truncation strategy. So the returned list will always be empty even if some tokens have been removed.\n",
            "Be aware, overflowing tokens are not returned for the setting you have chosen, i.e. sequence pairs with the 'longest_first' truncation strategy. So the returned list will always be empty even if some tokens have been removed.\n",
            "Be aware, overflowing tokens are not returned for the setting you have chosen, i.e. sequence pairs with the 'longest_first' truncation strategy. So the returned list will always be empty even if some tokens have been removed.\n"
          ]
        },
        {
          "output_type": "stream",
          "name": "stdout",
          "text": [
            "\n",
            "Epoch 7/50\n",
            "Total Loss: 49.2112\n",
            "Average Loss: 0.3134\n",
            "Train Accuracy: 0.9522\n",
            "Test Accuracy: 0.7912\n",
            "\n",
            "Learning Rate: 4.78e-06\n",
            "\n",
            "Early stopping: Train accuracy (0.9522) exceeded threshold (0.9500)\n",
            "\n",
            "Early stopping triggered at epoch 7\n"
          ]
        },
        {
          "output_type": "stream",
          "name": "stderr",
          "text": [
            "Be aware, overflowing tokens are not returned for the setting you have chosen, i.e. sequence pairs with the 'longest_first' truncation strategy. So the returned list will always be empty even if some tokens have been removed.\n",
            "Be aware, overflowing tokens are not returned for the setting you have chosen, i.e. sequence pairs with the 'longest_first' truncation strategy. So the returned list will always be empty even if some tokens have been removed.\n",
            "Be aware, overflowing tokens are not returned for the setting you have chosen, i.e. sequence pairs with the 'longest_first' truncation strategy. So the returned list will always be empty even if some tokens have been removed.\n",
            "Be aware, overflowing tokens are not returned for the setting you have chosen, i.e. sequence pairs with the 'longest_first' truncation strategy. So the returned list will always be empty even if some tokens have been removed.\n",
            "Be aware, overflowing tokens are not returned for the setting you have chosen, i.e. sequence pairs with the 'longest_first' truncation strategy. So the returned list will always be empty even if some tokens have been removed.\n",
            "Be aware, overflowing tokens are not returned for the setting you have chosen, i.e. sequence pairs with the 'longest_first' truncation strategy. So the returned list will always be empty even if some tokens have been removed.\n",
            "Be aware, overflowing tokens are not returned for the setting you have chosen, i.e. sequence pairs with the 'longest_first' truncation strategy. So the returned list will always be empty even if some tokens have been removed.\n",
            "Be aware, overflowing tokens are not returned for the setting you have chosen, i.e. sequence pairs with the 'longest_first' truncation strategy. So the returned list will always be empty even if some tokens have been removed.\n",
            "Be aware, overflowing tokens are not returned for the setting you have chosen, i.e. sequence pairs with the 'longest_first' truncation strategy. So the returned list will always be empty even if some tokens have been removed.\n",
            "Be aware, overflowing tokens are not returned for the setting you have chosen, i.e. sequence pairs with the 'longest_first' truncation strategy. So the returned list will always be empty even if some tokens have been removed.\n"
          ]
        },
        {
          "output_type": "stream",
          "name": "stdout",
          "text": [
            "\n",
            "=== 예측 실패 사례 ===\n",
            "\n",
            "사례 1:\n",
            "Premise: 3)  Dare you rise to the occasion, like Raskolnikov, and reject the petty rules that govern lesser men?\n",
            "Hypothesis: Would you rise up and defeaat all evil lords in the town?\n",
            "예측: contradiction\n",
            "실제: neutral\n",
            "--------------------------------------------------\n",
            "\n",
            "사례 2:\n",
            "Premise: um-hum um-hum yeah well uh i can see you know it's it's it's it's kind of funny because we it seems like we loan money you know we money with strings attached and if the government changes and the country that we loan the money to um i can see why the might have a different attitude towards paying it back it's a lot us that  you know we don't really loan money to to countries we loan money to governments and it's the\n",
            "Hypothesis: We don't loan a lot of money.\n",
            "예측: entailment\n",
            "실제: neutral\n",
            "--------------------------------------------------\n",
            "\n",
            "사례 3:\n",
            "Premise: i'm not sure what the overnight low was\n",
            "Hypothesis: I don't know how cold it got last night.\n",
            "예측: neutral\n",
            "실제: entailment\n",
            "--------------------------------------------------\n",
            "\n",
            "사례 4:\n",
            "Premise: oh uh-huh well no they wouldn't would they no\n",
            "Hypothesis: No, they wouldn't go there.\n",
            "예측: entailment\n",
            "실제: neutral\n",
            "--------------------------------------------------\n",
            "\n",
            "사례 5:\n",
            "Premise: Not quite as large is the Papal Crose commemorating Pope John Paul II's visit in 1979, when more than one million people gathered to celebrate mass.\n",
            "Hypothesis: Pope John Paul II also visited in 1983.\n",
            "예측: contradiction\n",
            "실제: neutral\n",
            "--------------------------------------------------\n",
            "\n",
            "=== Fine-tuning 후 모델 성능 ===\n",
            "Train Accuracy: 0.9522\n",
            "Test Accuracy: 0.7912\n"
          ]
        },
        {
          "output_type": "display_data",
          "data": {
            "text/plain": [
              "<Figure size 1500x500 with 2 Axes>"
            ],
            "image/png": "[encoded data removed]"
          },
          "metadata": {}
        },
        {
          "output_type": "stream",
          "name": "stdout",
          "text": [
            "\n",
            "=== 성능 향상 분석 ===\n",
            "Train Accuracy 향상: 66.38%\n",
            "Test Accuracy 향상: 47.60%\n"
          ]
        }
      ],
      "source": [
        "# 1. Fine-tuning 전 성능 평가\n",
        "before_train_acc, before_test_acc = evaluate(\n",
        "    model, train_loader, test_loader, \"Fine-tuning 전\"\n",
        ")\n",
        "\n",
        "# 2. Fine-tuning 수행\n",
        "print(\"\\n=== Fine-tuning 시작 ===\")\n",
        "\n",
        "train_losses, train_accs, test_accs = train_model(\n",
        "    model, train_loader, test_loader\n",
        ")\n",
        "\n",
        "# 3. Fine-tuning 후 성능 평가\n",
        "after_train_acc, after_test_acc = evaluate(\n",
        "    model, train_loader, test_loader, \"Fine-tuning 후\"\n",
        ")\n",
        "\n",
        "# 4. 결과 시각화\n",
        "plt.figure(figsize=(15, 5))\n",
        "\n",
        "# 학습 중 손실 그래프\n",
        "plt.subplot(1, 2, 1)\n",
        "plt.plot(train_losses, label='Training Loss')\n",
        "plt.title('Training Loss Over Epochs')\n",
        "plt.xlabel('Epoch')\n",
        "plt.ylabel('Loss')\n",
        "plt.legend()\n",
        "\n",
        "# 정확도 비교 그래프\n",
        "plt.subplot(1, 2, 2)\n",
        "plt.plot(train_accs, label='Train Accuracy')\n",
        "plt.plot(test_accs, label='Test Accuracy')\n",
        "plt.axhline(y=before_train_acc, color='r', linestyle='--', label='Before Fine-tuning (Train)')\n",
        "plt.axhline(y=before_test_acc, color='g', linestyle='--', label='Before Fine-tuning (Test)')\n",
        "plt.title('Accuracy Comparison')\n",
        "plt.xlabel('Epoch')\n",
        "plt.ylabel('Accuracy')\n",
        "plt.legend()\n",
        "\n",
        "plt.tight_layout()\n",
        "plt.show()\n",
        "\n",
        "# 성능 향상 출력\n",
        "print(\"\\n=== 성능 향상 분석 ===\")\n",
        "print(f\"Train Accuracy 향상: {(after_train_acc - before_train_acc)*100:.2f}%\")\n",
        "print(f\"Test Accuracy 향상: {(after_test_acc - before_test_acc)*100:.2f}%\")"
      ]
    }
  ],
  "metadata": {
    "accelerator": "GPU",
    "colab": {
      "gpuType": "T4",
      "provenance": []
    },
    "kernelspec": {
      "display_name": "Python 3",
      "name": "python3"
    },
    "language_info": {
      "name": "python"
    }
  },
  "nbformat": 4,
  "nbformat_minor": 0
}