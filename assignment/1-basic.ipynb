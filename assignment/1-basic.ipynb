{
 "cells": [
  {
   "cell_type": "markdown",
   "metadata": {
    "id": "OPJenlrhihrh"
   },
   "source": [
    "# [1주차] 기본과제 - MNIST를 분류 모델로 학습하기\n",
    "\n",
    "구현 목표 : MNIST 데이터로 손글씨 이미지가 어떤 숫자를 의미하는지 분류하는 모델을 구현한다.\n",
    "\n",
    "필요한 라이브러리를 import 한다.\n",
    "GPU를 사용하기 위한 설정을 한다."
   ]
  },
  {
   "cell_type": "code",
   "execution_count": 1,
   "metadata": {
    "executionInfo": {
     "elapsed": 6315,
     "status": "ok",
     "timestamp": 1724212693193,
     "user": {
      "displayName": "조승혁",
      "userId": "15759752471844115325"
     },
     "user_tz": -540
    },
    "id": "6lXVfXoDtoQh"
   },
   "outputs": [],
   "source": [
    "import torch\n",
    "import torchvision\n",
    "import torchvision.transforms as transforms\n",
    "import numpy as np\n",
    "\n",
    "# mac에 GPU를 사용하기 위한 설정\n",
    "device = torch.device(\"mps\")"
   ]
  },
  {
   "cell_type": "markdown",
   "metadata": {
    "id": "pF-1zQvmiult"
   },
   "source": [
    "trainset과 testset 준비한다.\n",
    "PyTorch를 사용하기 위해 다차원 배열인 Tensor 형태로 변환한다."
   ]
  },
  {
   "cell_type": "code",
   "execution_count": 2,
   "metadata": {
    "colab": {
     "base_uri": "https://localhost:8080/"
    },
    "executionInfo": {
     "elapsed": 22007,
     "status": "ok",
     "timestamp": 1724212718261,
     "user": {
      "displayName": "조승혁",
      "userId": "15759752471844115325"
     },
     "user_tz": -540
    },
    "id": "KAYlqPaRt6ti",
    "outputId": "67e51d96-85b4-4129-efc8-7938006afdd4"
   },
   "outputs": [],
   "source": [
    "transform = transforms.ToTensor()\n",
    "\n",
    "trainset = torchvision.datasets.MNIST(\n",
    "    root='./data',\n",
    "    train=True,\n",
    "    download=True,\n",
    "    transform=transform\n",
    ")\n",
    "\n",
    "testset = torchvision.datasets.MNIST(\n",
    "    root='./data',\n",
    "    train=False,\n",
    "    download=True,\n",
    "    transform=transform\n",
    ")\n"
   ]
  },
  {
   "cell_type": "markdown",
   "metadata": {
    "id": "p-GqH7_ZjVMs"
   },
   "source": [
    "trainset이 잘 만들어졌는지 확인하기 위해 전체 transet data의 개수와 첫 번째 data를 출력한다."
   ]
  },
  {
   "cell_type": "code",
   "execution_count": 3,
   "metadata": {
    "colab": {
     "base_uri": "https://localhost:8080/",
     "height": 481
    },
    "executionInfo": {
     "elapsed": 601,
     "status": "ok",
     "timestamp": 1724212727291,
     "user": {
      "displayName": "조승혁",
      "userId": "15759752471844115325"
     },
     "user_tz": -540
    },
    "id": "Zsp3sHmojyhT",
    "outputId": "3511bb75-e677-4fb8-894b-69e22c80f4bc"
   },
   "outputs": [
    {
     "name": "stdout",
     "output_type": "stream",
     "text": [
      "60000\n",
      "torch.Size([1, 28, 28]) 5\n"
     ]
    },
    {
     "data": {
      "text/plain": [
       "<matplotlib.image.AxesImage at 0x12c55ff50>"
      ]
     },
     "execution_count": 3,
     "metadata": {},
     "output_type": "execute_result"
    },
    {
     "data": {
      "image/png": "[encoded data removed]",
      "text/plain": [
       "<Figure size 640x480 with 1 Axes>"
      ]
     },
     "metadata": {},
     "output_type": "display_data"
    }
   ],
   "source": [
    "from matplotlib import pyplot as plt\n",
    "\n",
    "print(len(trainset))\n",
    "print(trainset[0][0].shape, trainset[0][1])\n",
    "plt.imshow(trainset[0][0][0], cmap='gray')"
   ]
  },
  {
   "cell_type": "markdown",
   "metadata": {
    "id": "udm8wDBsi301"
   },
   "source": [
    "SGD를 위해 dataset을 여러 개의 batch로 나눈다.\n",
    "여러 개의 batch로 나누면 데이터가 많아도 메모리가 부족하지 않게 gradient descent를 수행할 수 있다.\n",
    "SGD는 랜덤으로 batch를 구성해야 잘 동작하기 때문에 trainloader에 shuffle=True로 설정한다."
   ]
  },
  {
   "cell_type": "code",
   "execution_count": 4,
   "metadata": {
    "id": "UxKu3kA2i5WH"
   },
   "outputs": [],
   "source": [
    "batch_size = 256\n",
    "\n",
    "trainloader = torch.utils.data.DataLoader(\n",
    "    trainset,\n",
    "    batch_size=batch_size,\n",
    "    shuffle=True\n",
    ")\n",
    "\n",
    "testloader = torch.utils.data.DataLoader(\n",
    "    testset,\n",
    "    batch_size=batch_size,\n",
    "    shuffle=False\n",
    ")\n"
   ]
  },
  {
   "cell_type": "markdown",
   "metadata": {
    "id": "z4Qyrm4WlzWt"
   },
   "source": [
    "첫 번째 batch를 출력하면 다음과 같다."
   ]
  },
  {
   "cell_type": "code",
   "execution_count": 5,
   "metadata": {
    "colab": {
     "base_uri": "https://localhost:8080/"
    },
    "executionInfo": {
     "elapsed": 33,
     "status": "ok",
     "timestamp": 1723366306519,
     "user": {
      "displayName": "조승혁",
      "userId": "15759752471844115325"
     },
     "user_tz": -540
    },
    "id": "_Hd7XxyAvVNz",
    "outputId": "185acb61-2ed7-4110-b325-c0e016ca60b0"
   },
   "outputs": [
    {
     "name": "stdout",
     "output_type": "stream",
     "text": [
      "torch.Size([256, 1, 28, 28]) torch.Size([256])\n"
     ]
    }
   ],
   "source": [
    "dataiter = iter(trainloader)\n",
    "images, labels = next(dataiter)\n",
    "print(images.shape, labels.shape)"
   ]
  },
  {
   "cell_type": "markdown",
   "metadata": {},
   "source": [
    "dataloader에 대한 model의 정확도를 측정하는 코드를 추가한다."
   ]
  },
  {
   "cell_type": "code",
   "execution_count": 6,
   "metadata": {},
   "outputs": [],
   "source": [
    "def accuracy(model, dataloader):\n",
    "  cnt = 0\n",
    "  acc = 0\n",
    "\n",
    "  for data in dataloader:\n",
    "    inputs, labels = data\n",
    "    inputs, labels = inputs.to('mps'), labels.to('mps')\n",
    "\n",
    "    preds = model(inputs)\n",
    "    preds = torch.argmax(preds, dim=-1)\n",
    "\n",
    "    cnt += labels.shape[0]\n",
    "    acc += (labels == preds).sum().item()\n",
    "\n",
    "  return acc / cnt"
   ]
  },
  {
   "cell_type": "markdown",
   "metadata": {},
   "source": [
    "(n, 1, 28, 28) shape의 image를 입력받아 0~9 사이의 정수 하나를 출력하는 3-layer MLP를 구현한다.\n",
    "이미지는 (n, 1, 28, 28) shape이기 때문에 (n, 1 * 28 * 28) shape으로 변환해서 선형 함수에 입력으로 사용할 수 있게 torch.flatten을 사용한다.  "
   ]
  },
  {
   "cell_type": "code",
   "execution_count": 7,
   "metadata": {
    "id": "OLOA-ZGTuVVG"
   },
   "outputs": [],
   "source": [
    "from torch import nn\n",
    "\n",
    "\n",
    "class Model(nn.Module):\n",
    "  def __init__(self, input_dim, n_dim):\n",
    "    super().__init__()\n",
    "\n",
    "    self.layer1 = nn.Linear(input_dim, n_dim)\n",
    "    self.layer2 = nn.Linear(n_dim, n_dim)\n",
    "    # 0~9까지 각 클래스에 대한 확률을 출력하기 위해 dimension을 10으로 설정\n",
    "    self.layer3 = nn.Linear(n_dim, 10)\n",
    "\n",
    "    self.act = nn.ReLU()\n",
    "\n",
    "  def forward(self, x):\n",
    "    x = torch.flatten(x, start_dim=1)\n",
    "    x = self.act(self.layer1(x))\n",
    "    x = self.act(self.layer2(x))\n",
    "    x = self.layer3(x)\n",
    "\n",
    "    return x\n",
    "\n",
    "\n",
    "model = Model(28 * 28 * 1, 1024)"
   ]
  },
  {
   "cell_type": "markdown",
   "metadata": {
    "id": "tag1rNcwmnAr"
   },
   "source": [
    "다음은 gradient descent를 수행해줄 optimizer를 구현한다."
   ]
  },
  {
   "cell_type": "code",
   "execution_count": 8,
   "metadata": {
    "id": "ypS0TcOlvBhZ"
   },
   "outputs": [],
   "source": [
    "from torch.optim import SGD\n",
    "\n",
    "lr = 0.001\n",
    "model = model.to('mps')\n",
    "\n",
    "optimizer = SGD(model.parameters(), lr=lr)"
   ]
  },
  {
   "cell_type": "markdown",
   "metadata": {
    "id": "5PooeOKMnRfZ"
   },
   "source": [
    "model을 학습한다.\n",
    "epoch마다 모델의 정확성을 계산해서 배열에 저장한다."
   ]
  },
  {
   "cell_type": "code",
   "execution_count": 9,
   "metadata": {
    "colab": {
     "base_uri": "https://localhost:8080/"
    },
    "executionInfo": {
     "elapsed": 786155,
     "status": "ok",
     "timestamp": 1723367093025,
     "user": {
      "displayName": "조승혁",
      "userId": "15759752471844115325"
     },
     "user_tz": -540
    },
    "id": "TryX1hewvNiB",
    "outputId": "4e4a9282-d49a-40ff-c26c-d00fb7c0af79"
   },
   "outputs": [
    {
     "name": "stdout",
     "output_type": "stream",
     "text": [
      "Epoch   0 | Loss: 539.464382648468\n",
      "Epoch   1 | Loss: 535.3863596916199\n",
      "Epoch   2 | Loss: 531.2210669517517\n",
      "Epoch   3 | Loss: 526.8375833034515\n",
      "Epoch   4 | Loss: 522.0910639762878\n",
      "Epoch   5 | Loss: 516.8420598506927\n",
      "Epoch   6 | Loss: 510.9481818675995\n",
      "Epoch   7 | Loss: 504.27947211265564\n",
      "Epoch   8 | Loss: 496.67730617523193\n",
      "Epoch   9 | Loss: 487.9685854911804\n",
      "Epoch  10 | Loss: 477.973800778389\n",
      "Epoch  11 | Loss: 466.53049290180206\n",
      "Epoch  12 | Loss: 453.5379170179367\n",
      "Epoch  13 | Loss: 438.878635764122\n",
      "Epoch  14 | Loss: 422.6016004085541\n",
      "Epoch  15 | Loss: 404.7890113592148\n",
      "Epoch  16 | Loss: 385.7278245687485\n",
      "Epoch  17 | Loss: 365.7276391983032\n",
      "Epoch  18 | Loss: 345.46189308166504\n",
      "Epoch  19 | Loss: 325.30199432373047\n",
      "Epoch  20 | Loss: 306.0503339767456\n",
      "Epoch  21 | Loss: 287.86687457561493\n",
      "Epoch  22 | Loss: 271.0199143886566\n",
      "Epoch  23 | Loss: 255.62248975038528\n",
      "Epoch  24 | Loss: 241.90455758571625\n",
      "Epoch  25 | Loss: 229.3954581618309\n",
      "Epoch  26 | Loss: 218.302206158638\n",
      "Epoch  27 | Loss: 208.32381999492645\n",
      "Epoch  28 | Loss: 199.40650689601898\n",
      "Epoch  29 | Loss: 191.3415270447731\n",
      "Epoch  30 | Loss: 183.9940990805626\n",
      "Epoch  31 | Loss: 177.4196616411209\n",
      "Epoch  32 | Loss: 171.5328005552292\n",
      "Epoch  33 | Loss: 165.99531239271164\n",
      "Epoch  34 | Loss: 161.10330188274384\n",
      "Epoch  35 | Loss: 156.48230910301208\n",
      "Epoch  36 | Loss: 152.33055835962296\n",
      "Epoch  37 | Loss: 148.46919530630112\n",
      "Epoch  38 | Loss: 144.94255751371384\n",
      "Epoch  39 | Loss: 141.6308354139328\n",
      "Epoch  40 | Loss: 138.4364611208439\n",
      "Epoch  41 | Loss: 135.57041785120964\n",
      "Epoch  42 | Loss: 132.96347892284393\n",
      "Epoch  43 | Loss: 130.2542217373848\n",
      "Epoch  44 | Loss: 127.89967787265778\n",
      "Epoch  45 | Loss: 125.80014118552208\n",
      "Epoch  46 | Loss: 123.72392857074738\n",
      "Epoch  47 | Loss: 121.70858895778656\n",
      "Epoch  48 | Loss: 119.77933084964752\n",
      "Epoch  49 | Loss: 118.01612702012062\n",
      "Epoch  50 | Loss: 116.39914566278458\n",
      "Epoch  51 | Loss: 114.89612919092178\n",
      "Epoch  52 | Loss: 113.2194013595581\n",
      "Epoch  53 | Loss: 111.820915132761\n",
      "Epoch  54 | Loss: 110.51884889602661\n",
      "Epoch  55 | Loss: 109.14321666955948\n",
      "Epoch  56 | Loss: 107.89099219441414\n",
      "Epoch  57 | Loss: 106.74433723092079\n",
      "Epoch  58 | Loss: 105.61043345928192\n",
      "Epoch  59 | Loss: 104.44255259633064\n",
      "Epoch  60 | Loss: 103.46436685323715\n",
      "Epoch  61 | Loss: 102.48515164852142\n",
      "Epoch  62 | Loss: 101.53715246915817\n",
      "Epoch  63 | Loss: 100.60006511211395\n",
      "Epoch  64 | Loss: 99.74406912922859\n",
      "Epoch  65 | Loss: 98.8621880710125\n",
      "Epoch  66 | Loss: 97.99494394659996\n",
      "Epoch  67 | Loss: 97.29862961173058\n",
      "Epoch  68 | Loss: 96.6330418586731\n",
      "Epoch  69 | Loss: 95.85276761651039\n",
      "Epoch  70 | Loss: 95.20155957341194\n",
      "Epoch  71 | Loss: 94.37380591034889\n",
      "Epoch  72 | Loss: 93.76476719975471\n",
      "Epoch  73 | Loss: 93.14662659168243\n",
      "Epoch  74 | Loss: 92.55338767170906\n",
      "Epoch  75 | Loss: 91.92507693171501\n",
      "Epoch  76 | Loss: 91.38446360826492\n",
      "Epoch  77 | Loss: 90.76943410933018\n",
      "Epoch  78 | Loss: 90.21134534478188\n",
      "Epoch  79 | Loss: 89.72679489850998\n",
      "Epoch  80 | Loss: 89.25101098418236\n",
      "Epoch  81 | Loss: 88.75408127903938\n",
      "Epoch  82 | Loss: 88.27635499835014\n",
      "Epoch  83 | Loss: 87.88038417696953\n",
      "Epoch  84 | Loss: 87.37265028059483\n",
      "Epoch  85 | Loss: 86.89717495441437\n",
      "Epoch  86 | Loss: 86.46519324183464\n",
      "Epoch  87 | Loss: 85.98970301449299\n",
      "Epoch  88 | Loss: 85.71144542098045\n",
      "Epoch  89 | Loss: 85.23582072556019\n",
      "Epoch  90 | Loss: 84.84593570232391\n",
      "Epoch  91 | Loss: 84.53085659444332\n",
      "Epoch  92 | Loss: 84.14116343855858\n",
      "Epoch  93 | Loss: 83.77041210234165\n",
      "Epoch  94 | Loss: 83.36307115852833\n",
      "Epoch  95 | Loss: 83.05715091526508\n",
      "Epoch  96 | Loss: 82.72804972529411\n",
      "Epoch  97 | Loss: 82.41395170986652\n",
      "Epoch  98 | Loss: 82.07500752806664\n",
      "Epoch  99 | Loss: 81.73704341053963\n"
     ]
    }
   ],
   "source": [
    "# 각 클래스에 대한 확률 분포를 예측하는 것으로, 분류 문제에 더 적합하다.\n",
    "criterion = nn.CrossEntropyLoss()\n",
    "n_epochs = 100\n",
    "\n",
    "train_acc_list = []\n",
    "test_acc_list = []\n",
    "\n",
    "for epoch in range(n_epochs):\n",
    "  total_loss = 0.\n",
    "  for data in trainloader:\n",
    "    model.zero_grad()\n",
    "    inputs, labels = data\n",
    "    inputs, labels = inputs.to('mps'), labels.to('mps')\n",
    "\n",
    "    preds = model(inputs)\n",
    "    loss = criterion(preds, labels)\n",
    "    loss.backward()\n",
    "    optimizer.step()\n",
    "\n",
    "    total_loss += loss.item()\n",
    "  train_acc_list.append(accuracy(model, trainloader))\n",
    "  test_acc_list.append(accuracy(model, testloader))\n",
    "\n",
    "  print(f\"Epoch {epoch:3d} | Loss: {total_loss}\")"
   ]
  },
  {
   "cell_type": "markdown",
   "metadata": {
    "id": "YRDcptrqniX7"
   },
   "source": [
    "첫 번째 data에 대한 예측 결과는 다음과 같다."
   ]
  },
  {
   "cell_type": "code",
   "execution_count": 10,
   "metadata": {
    "colab": {
     "base_uri": "https://localhost:8080/"
    },
    "executionInfo": {
     "elapsed": 31,
     "status": "ok",
     "timestamp": 1723367093026,
     "user": {
      "displayName": "조승혁",
      "userId": "15759752471844115325"
     },
     "user_tz": -540
    },
    "id": "Zct0ssSKwjt1",
    "outputId": "4a8d7062-1a43-4522-895e-cfebb9c02cdb"
   },
   "outputs": [
    {
     "name": "stdout",
     "output_type": "stream",
     "text": [
      "tensor([[ 11.3152, -10.0227,   0.7874,   1.2311,  -6.2772,   5.5490,  -0.9681,\n",
      "          -0.8570,   1.1333,  -1.3040]], device='mps:0',\n",
      "       grad_fn=<LinearBackward0>)\n",
      "0\n"
     ]
    }
   ],
   "source": [
    "idx = 1\n",
    "\n",
    "x = trainset[idx][0][None]  # (1, 1, 28, 28)\n",
    "x = x.to('mps')\n",
    "\n",
    "print(model(x))\n",
    "print(trainset[idx][1])"
   ]
  },
  {
   "cell_type": "markdown",
   "metadata": {
    "id": "qzgSOrMsoZ2z"
   },
   "source": [
    "모델을 학습하면서 저장한 정확도를 plot으로 출력한다."
   ]
  },
  {
   "cell_type": "code",
   "execution_count": 11,
   "metadata": {},
   "outputs": [
    {
     "data": {
      "image/png": "[encoded data removed]",
      "text/plain": [
       "<Figure size 640x480 with 1 Axes>"
      ]
     },
     "metadata": {},
     "output_type": "display_data"
    }
   ],
   "source": [
    "def plot_acc(train_accs, test_accs, label1='train', label2='test'):\n",
    "  x = np.arange(len(train_accs))\n",
    "\n",
    "  plt.plot(x, train_accs, label=label1)\n",
    "  plt.plot(x, test_accs, label=label2)\n",
    "  plt.legend()\n",
    "  plt.show()\n",
    "\n",
    "plot_acc(train_acc_list, test_acc_list)"
   ]
  }
 ],
 "metadata": {
  "accelerator": "GPU",
  "colab": {
   "authorship_tag": "ABX9TyOz7vBAsZ4WYLph4xp9q2ee",
   "gpuType": "T4",
   "provenance": []
  },
  "kernelspec": {
   "display_name": "Python (welcomedl)",
   "language": "python",
   "name": "welcomedl"
  },
  "language_info": {
   "codemirror_mode": {
    "name": "ipython",
    "version": 3
   },
   "file_extension": ".py",
   "mimetype": "text/x-python",
   "name": "python",
   "nbconvert_exporter": "python",
   "pygments_lexer": "ipython3",
   "version": "3.12.9"
  }
 },
 "nbformat": 4,
 "nbformat_minor": 0
}
