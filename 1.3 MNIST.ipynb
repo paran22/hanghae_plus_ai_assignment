{
 "cells": [
  {
   "cell_type": "markdown",
   "metadata": {
    "id": "OPJenlrhihrh"
   },
   "source": [
    "# MNIST 실습\n",
    "\n",
    "이번에는 28x28 흑백 손글씨 이미지를 보고 0~9 사이의 숫자 중 어떤 숫자를 쓴 것인지 예측하는 문제를 실습합니다.\n",
    "이번 실습에서는 GPU를 활용할 것이기 때문에, 이전 챕터에서 Colab에서 GPU를 설정하는 방법을 따라해주시길 바랍니다.\n",
    "\n",
    "GPU를 설정했으면 library들을 import합니다."
   ]
  },
  {
   "cell_type": "code",
   "execution_count": 22,
   "metadata": {
    "executionInfo": {
     "elapsed": 6315,
     "status": "ok",
     "timestamp": 1724212693193,
     "user": {
      "displayName": "조승혁",
      "userId": "15759752471844115325"
     },
     "user_tz": -540
    },
    "id": "6lXVfXoDtoQh"
   },
   "outputs": [],
   "source": [
    "import torch\n",
    "import torchvision\n",
    "import torchvision.transforms as transforms"
   ]
  },
  {
   "cell_type": "markdown",
   "metadata": {
    "id": "pF-1zQvmiult"
   },
   "source": [
    "다음은 dataset을 준비합니다. 손글씨 dataset은 MNIST라는 유명한 dataset이 있습니다. 이 dataset은 `torchvision`에서 제공하고 있으며, 다음과 같이 다운로드 받을 수 있습니다."
   ]
  },
  {
   "cell_type": "code",
   "execution_count": 23,
   "metadata": {
    "colab": {
     "base_uri": "https://localhost:8080/"
    },
    "executionInfo": {
     "elapsed": 22007,
     "status": "ok",
     "timestamp": 1724212718261,
     "user": {
      "displayName": "조승혁",
      "userId": "15759752471844115325"
     },
     "user_tz": -540
    },
    "id": "KAYlqPaRt6ti",
    "outputId": "67e51d96-85b4-4129-efc8-7938006afdd4"
   },
   "outputs": [],
   "source": [
    "transform = transforms.ToTensor()\n",
    "\n",
    "trainset = torchvision.datasets.MNIST(\n",
    "    root='./data',\n",
    "    train=True,\n",
    "    download=True,\n",
    "    transform=transform\n",
    ")"
   ]
  },
  {
   "cell_type": "markdown",
   "metadata": {
    "id": "p-GqH7_ZjVMs"
   },
   "source": [
    "MNIST는 손글씨 사진과 어떤 숫자를 의미하는지에 대한 label의 pair들로 구성되어있습니다.\n",
    "이 때, 우리는 PyTorch model을 사용할 것이기 때문에 손글씨 사진들을 모두 tensor로 변환해야합니다.\n",
    "이러한 부가적인 변환들은 `torchvision.transforms`에서 제공하고 있으며, `torchvision.datasets.MNIST`에서 `transform` 인자로 받을 수 있습니다.\n",
    "우리는 단순히 사진을 tensor로 바꾸고 싶기 때문에 `transforms.ToTensor()` transformation을 넘겨줍니다.\n",
    "\n",
    "다음은 전체 data의 개수와 첫 번째 data를 출력한 결과입니다."
   ]
  },
  {
   "cell_type": "code",
   "execution_count": 24,
   "metadata": {
    "colab": {
     "base_uri": "https://localhost:8080/",
     "height": 481
    },
    "executionInfo": {
     "elapsed": 601,
     "status": "ok",
     "timestamp": 1724212727291,
     "user": {
      "displayName": "조승혁",
      "userId": "15759752471844115325"
     },
     "user_tz": -540
    },
    "id": "Zsp3sHmojyhT",
    "outputId": "3511bb75-e677-4fb8-894b-69e22c80f4bc"
   },
   "outputs": [
    {
     "name": "stdout",
     "output_type": "stream",
     "text": [
      "60000\n",
      "torch.Size([1, 28, 28]) 5\n"
     ]
    },
    {
     "data": {
      "text/plain": [
       "<matplotlib.image.AxesImage at 0x147aa6b70>"
      ]
     },
     "execution_count": 24,
     "metadata": {},
     "output_type": "execute_result"
    },
    {
     "data": {
      "image/png": "[encoded data removed]",
      "text/plain": [
       "<Figure size 640x480 with 1 Axes>"
      ]
     },
     "metadata": {},
     "output_type": "display_data"
    }
   ],
   "source": [
    "from matplotlib import pyplot as plt\n",
    "\n",
    "\n",
    "print(len(trainset))\n",
    "print(trainset[0][0].shape, trainset[0][1])\n",
    "plt.imshow(trainset[0][0][0], cmap='gray')"
   ]
  },
  {
   "cell_type": "markdown",
   "metadata": {
    "id": "udm8wDBsi301"
   },
   "source": [
    "첫 번째 출력결과를 통해 우리는 6만장의 손글씨 data가 있는 것을 알 수 있습니다.\n",
    "그리고 두 번째 출력결과를 통해 첫 번째 data의 shape은 (1, 28, 28)이고 5라는 숫자를 쓴 사진이라는 것을 알 수 있습니다.\n",
    "마지막으로 `plt.imshow`를 통해 visualize 했을 때 5라는 숫자가 나오는 것을 알 수 있습니다.\n",
    "\n",
    "다음은 SGD를 위해 dataset을 여러 개의 batch로 나누는 과정을 PyTorch로 구현한 모습입니다."
   ]
  },
  {
   "cell_type": "code",
   "execution_count": 25,
   "metadata": {
    "id": "UxKu3kA2i5WH"
   },
   "outputs": [],
   "source": [
    "batch_size = 64\n",
    "\n",
    "trainloader = torch.utils.data.DataLoader(\n",
    "    trainset,\n",
    "    batch_size=batch_size,\n",
    "    shuffle=True\n",
    ")"
   ]
  },
  {
   "cell_type": "markdown",
   "metadata": {
    "id": "z4Qyrm4WlzWt"
   },
   "source": [
    "PyTorch에서는 `DataLoader`가 dataset을 인자로 받아 batch로 나눠줍니다.\n",
    "부가적으로 `batch_size`라는 인자를 통해 batch size를 받고 있으며, `shuffle`이라는 인자를 통해 data들을 섞을지 결정해줍니다.\n",
    "우리는 SGD가 완전 랜덤으로 batch를 구성해야 잘 동작하는 것을 알고 있기 때문에 `shuffle`에 `True`를 넘겨주고 있습니다.\n",
    "\n",
    "다음은 첫 번째 batch를 출력한 모습입니다."
   ]
  },
  {
   "cell_type": "code",
   "execution_count": 26,
   "metadata": {
    "colab": {
     "base_uri": "https://localhost:8080/"
    },
    "executionInfo": {
     "elapsed": 33,
     "status": "ok",
     "timestamp": 1723366306519,
     "user": {
      "displayName": "조승혁",
      "userId": "15759752471844115325"
     },
     "user_tz": -540
    },
    "id": "_Hd7XxyAvVNz",
    "outputId": "185acb61-2ed7-4110-b325-c0e016ca60b0"
   },
   "outputs": [
    {
     "name": "stdout",
     "output_type": "stream",
     "text": [
      "torch.Size([64, 1, 28, 28]) torch.Size([64])\n"
     ]
    }
   ],
   "source": [
    "dataiter = iter(trainloader)\n",
    "images, labels = next(dataiter)\n",
    "print(images.shape, labels.shape)"
   ]
  },
  {
   "cell_type": "markdown",
   "metadata": {
    "id": "h0ZY5mDimRUK"
   },
   "source": [
    "`images`는 첫 번째 batch의 image들이고 `labels`는 첫 번째 batch의 label들입니다.\n",
    "위에서 batch size를 64로 설정했기 때문에 총 64개의 image와 label들이 있어야 합니다.\n",
    "실제 shape 출력 결과를 보면 그렇다는 것을 알 수 있습니다.\n",
    "\n",
    "다음은 (n, 1, 28, 28) shape의 image를 입력받아 0~9 사이의 정수 하나를 출력하는 3-layer MLP를 구현합니다."
   ]
  },
  {
   "cell_type": "code",
   "execution_count": 27,
   "metadata": {
    "id": "OLOA-ZGTuVVG"
   },
   "outputs": [],
   "source": [
    "from torch import nn\n",
    "\n",
    "\n",
    "class Model(nn.Module):\n",
    "  def __init__(self, input_dim, n_dim):\n",
    "    super().__init__()\n",
    "\n",
    "    self.layer1 = nn.Linear(input_dim, n_dim)\n",
    "    self.layer2 = nn.Linear(n_dim, n_dim)\n",
    "    self.layer3 = nn.Linear(n_dim, 1)\n",
    "\n",
    "    self.act = nn.ReLU()\n",
    "\n",
    "  def forward(self, x):\n",
    "    x = torch.flatten(x, start_dim=1)\n",
    "    x = self.act(self.layer1(x))\n",
    "    x = self.act(self.layer2(x))\n",
    "    x = self.act(self.layer3(x))\n",
    "\n",
    "    return x\n",
    "\n",
    "\n",
    "model = Model(28 * 28 * 1, 1024)"
   ]
  },
  {
   "cell_type": "markdown",
   "metadata": {
    "id": "tag1rNcwmnAr"
   },
   "source": [
    "이전의 2-layer MLP와 유사한 형태임을 알 수 있습니다.\n",
    "여기서 특이사항은 `forward`의 첫 번째 줄에 `torch.flatten`을 사용한다는 것입니다.\n",
    "`Linear`는 이전에도 봤다시피 (n, d) 형태의 shape을 입력받습니다.\n",
    "이미지는 (n, 1, 28, 28)이기 때문에 (n, 1 * 28 * 28)로 shape을 변환해야 선형 함수에 입력으로 주어줄 수 있게 됩니다.\n",
    "이 역할을 수행하는 것이 바로 `torch.flatten`입니다.\n",
    "우리는 첫 번째 shape인 n을 보존할 것이기 때문에 flatten할 차원은 `start_dim=1`로 넘겨주게 됩니다.\n",
    "\n",
    "다음은 gradient descent를 수행해줄 optimizer를 구현하는 모습입니다."
   ]
  },
  {
   "cell_type": "code",
   "execution_count": 28,
   "metadata": {
    "id": "ypS0TcOlvBhZ"
   },
   "outputs": [],
   "source": [
    "from torch.optim import SGD\n",
    "\n",
    "lr = 0.001\n",
    "# model = model.to('cuda')\n",
    "\n",
    "optimizer = SGD(model.parameters(), lr=lr)"
   ]
  },
  {
   "cell_type": "markdown",
   "metadata": {
    "id": "5PooeOKMnRfZ"
   },
   "source": [
    "이전 코드와 거의 똑같습니다. 다른 점은 `model.to('cuda')` 코드를 통해 우리가 구현한 model을 GPU로 옮긴 것입니다.\n",
    "MNIST 부터는 모델과 data가 커지면서 훨씬 많은 행렬 연산이 이루어지기 때문에 GPU를 활용하는 것이 빠릅니다.\n",
    "\n",
    "다음은 model을 MNIST에 학습하는 코드입니다."
   ]
  },
  {
   "cell_type": "code",
   "execution_count": 29,
   "metadata": {
    "colab": {
     "base_uri": "https://localhost:8080/"
    },
    "executionInfo": {
     "elapsed": 786155,
     "status": "ok",
     "timestamp": 1723367093025,
     "user": {
      "displayName": "조승혁",
      "userId": "15759752471844115325"
     },
     "user_tz": -540
    },
    "id": "TryX1hewvNiB",
    "outputId": "4e4a9282-d49a-40ff-c26c-d00fb7c0af79"
   },
   "outputs": [
    {
     "name": "stdout",
     "output_type": "stream",
     "text": [
      "Epoch   0 | Loss: 4694.081340551376\n",
      "Epoch   1 | Loss: 2588.4762077331543\n",
      "Epoch   2 | Loss: 1892.0898129343987\n",
      "Epoch   3 | Loss: 1487.811428308487\n",
      "Epoch   4 | Loss: 1246.8345163464546\n",
      "Epoch   5 | Loss: 1089.0888494551182\n",
      "Epoch   6 | Loss: 981.148544549942\n",
      "Epoch   7 | Loss: 902.6472226679325\n",
      "Epoch   8 | Loss: 840.2475936412811\n",
      "Epoch   9 | Loss: 787.9144227206707\n",
      "Epoch  10 | Loss: 743.5717047899961\n",
      "Epoch  11 | Loss: 705.05644723773\n",
      "Epoch  12 | Loss: 674.5165078639984\n",
      "Epoch  13 | Loss: 639.5840824693441\n",
      "Epoch  14 | Loss: 614.0203668773174\n",
      "Epoch  15 | Loss: 589.2506857514381\n",
      "Epoch  16 | Loss: 565.6308621019125\n",
      "Epoch  17 | Loss: 546.791412293911\n",
      "Epoch  18 | Loss: 526.5122062116861\n",
      "Epoch  19 | Loss: 508.9782614707947\n",
      "Epoch  20 | Loss: 491.0154605805874\n",
      "Epoch  21 | Loss: 475.589501991868\n",
      "Epoch  22 | Loss: 459.8522829711437\n",
      "Epoch  23 | Loss: 448.097697481513\n",
      "Epoch  24 | Loss: 435.1541611254215\n",
      "Epoch  25 | Loss: 425.8410883694887\n",
      "Epoch  26 | Loss: 409.59715999662876\n",
      "Epoch  27 | Loss: 400.2035630643368\n",
      "Epoch  28 | Loss: 385.82896399497986\n",
      "Epoch  29 | Loss: 377.55628848075867\n",
      "Epoch  30 | Loss: 365.47931960970163\n",
      "Epoch  31 | Loss: 357.46677827090025\n",
      "Epoch  32 | Loss: 344.36893870681524\n",
      "Epoch  33 | Loss: 338.9349737614393\n",
      "Epoch  34 | Loss: 330.7590621635318\n",
      "Epoch  35 | Loss: 320.57602821290493\n",
      "Epoch  36 | Loss: 316.33298010379076\n",
      "Epoch  37 | Loss: 305.52092012763023\n",
      "Epoch  38 | Loss: 301.53398259729147\n",
      "Epoch  39 | Loss: 297.3960084244609\n",
      "Epoch  40 | Loss: 288.6091438010335\n",
      "Epoch  41 | Loss: 283.57491927593946\n",
      "Epoch  42 | Loss: 279.1583183556795\n",
      "Epoch  43 | Loss: 270.52638217806816\n",
      "Epoch  44 | Loss: 264.32752218842506\n",
      "Epoch  45 | Loss: 264.3235106021166\n",
      "Epoch  46 | Loss: 256.7989754676819\n",
      "Epoch  47 | Loss: 251.05799110233784\n",
      "Epoch  48 | Loss: 245.1326273754239\n",
      "Epoch  49 | Loss: 237.2116968780756\n",
      "Epoch  50 | Loss: 237.82938773185015\n",
      "Epoch  51 | Loss: 235.35649379715323\n",
      "Epoch  52 | Loss: 225.01627790927887\n",
      "Epoch  53 | Loss: 226.02066942304373\n",
      "Epoch  54 | Loss: 220.70794988796115\n",
      "Epoch  55 | Loss: 216.8163476884365\n",
      "Epoch  56 | Loss: 212.28630156069994\n",
      "Epoch  57 | Loss: 209.3436686694622\n",
      "Epoch  58 | Loss: 203.53851103037596\n",
      "Epoch  59 | Loss: 202.6730080395937\n",
      "Epoch  60 | Loss: 196.69834449142218\n",
      "Epoch  61 | Loss: 198.9497629031539\n",
      "Epoch  62 | Loss: 189.71822951361537\n",
      "Epoch  63 | Loss: 181.8089825361967\n",
      "Epoch  64 | Loss: 181.5804345421493\n",
      "Epoch  65 | Loss: 178.66071492433548\n",
      "Epoch  66 | Loss: 187.80334899574518\n",
      "Epoch  67 | Loss: 175.46978656575084\n",
      "Epoch  68 | Loss: 175.51557467877865\n",
      "Epoch  69 | Loss: 168.6008679047227\n",
      "Epoch  70 | Loss: 164.6866285726428\n",
      "Epoch  71 | Loss: 161.42596911266446\n",
      "Epoch  72 | Loss: 158.12924072146416\n",
      "Epoch  73 | Loss: 158.93500935286283\n",
      "Epoch  74 | Loss: 154.2319883555174\n",
      "Epoch  75 | Loss: 153.89890045300126\n",
      "Epoch  76 | Loss: 148.165294919163\n",
      "Epoch  77 | Loss: 152.74991698935628\n",
      "Epoch  78 | Loss: 151.57283737510443\n",
      "Epoch  79 | Loss: 149.91153735294938\n",
      "Epoch  80 | Loss: 137.0296833179891\n",
      "Epoch  81 | Loss: 136.4510832168162\n",
      "Epoch  82 | Loss: 134.24172381311655\n",
      "Epoch  83 | Loss: 133.13510665670037\n",
      "Epoch  84 | Loss: 137.29086416214705\n",
      "Epoch  85 | Loss: 137.2635147124529\n",
      "Epoch  86 | Loss: 129.34067879989743\n",
      "Epoch  87 | Loss: 133.09175222367048\n",
      "Epoch  88 | Loss: 121.18821020796895\n",
      "Epoch  89 | Loss: 123.91522277146578\n",
      "Epoch  90 | Loss: 117.89910716563463\n",
      "Epoch  91 | Loss: 117.1324146091938\n",
      "Epoch  92 | Loss: 121.67594197206199\n",
      "Epoch  93 | Loss: 116.69253078661859\n",
      "Epoch  94 | Loss: 112.19515860080719\n",
      "Epoch  95 | Loss: 112.32884987816215\n",
      "Epoch  96 | Loss: 108.10673275217414\n",
      "Epoch  97 | Loss: 118.57025458291173\n",
      "Epoch  98 | Loss: 104.8359272070229\n",
      "Epoch  99 | Loss: 114.06608936563134\n"
     ]
    }
   ],
   "source": [
    "n_epochs = 100\n",
    "\n",
    "for epoch in range(n_epochs):\n",
    "  total_loss = 0.\n",
    "  for data in trainloader:\n",
    "    model.zero_grad()\n",
    "    inputs, labels = data\n",
    "    # inputs, labels = inputs.to('cuda'), labels.to('cuda')\n",
    "\n",
    "    preds = model(inputs)\n",
    "    loss = (preds[:, 0] - labels).pow(2).mean()\n",
    "    loss.backward()\n",
    "    optimizer.step()\n",
    "\n",
    "    total_loss += loss.item()\n",
    "\n",
    "  print(f\"Epoch {epoch:3d} | Loss: {total_loss}\")"
   ]
  },
  {
   "cell_type": "markdown",
   "metadata": {
    "id": "YRDcptrqniX7"
   },
   "source": [
    "출력 결과를 보면 잘 수렴하는 것을 볼 수 있습니다.\n",
    "이전 구현과 다른 점은 다음 두 가지입니다.\n",
    "- `for data in trainloader`를 통해 batch들을 iterate하면서 model을 학습합니다.\n",
    "- `inputs, labels = inputs.to('cuda'), labels.to('cuda')`를 통해 model의 입력으로 들어가는 tensor들을 GPU로 보냅니다.\n",
    "\n",
    "마지막으로 첫 번째 data에 대한 예측 결과를 살펴봅시다."
   ]
  },
  {
   "cell_type": "code",
   "execution_count": 30,
   "metadata": {
    "colab": {
     "base_uri": "https://localhost:8080/"
    },
    "executionInfo": {
     "elapsed": 31,
     "status": "ok",
     "timestamp": 1723367093026,
     "user": {
      "displayName": "조승혁",
      "userId": "15759752471844115325"
     },
     "user_tz": -540
    },
    "id": "Zct0ssSKwjt1",
    "outputId": "4a8d7062-1a43-4522-895e-cfebb9c02cdb"
   },
   "outputs": [
    {
     "name": "stdout",
     "output_type": "stream",
     "text": [
      "tensor([[3.2124]], grad_fn=<ReluBackward0>)\n",
      "3\n"
     ]
    }
   ],
   "source": [
    "idx = 10\n",
    "\n",
    "x = trainset[idx][0][None]  # (1, 1, 28, 28)\n",
    "# x = x.to('cuda')\n",
    "\n",
    "print(model(x))\n",
    "print(trainset[idx][1])"
   ]
  },
  {
   "cell_type": "markdown",
   "metadata": {
    "id": "qzgSOrMsoZ2z"
   },
   "source": [
    "여기서 idx를 조정하여 다른 data에 대한 출력 결과도 볼 수 있습니다.\n",
    "예측 결과를 보시면 아직 성능이 그렇게 좋지 않은 것을 알 수 있습니다."
   ]
  }
 ],
 "metadata": {
  "accelerator": "GPU",
  "colab": {
   "authorship_tag": "ABX9TyOz7vBAsZ4WYLph4xp9q2ee",
   "gpuType": "T4",
   "provenance": []
  },
  "kernelspec": {
   "display_name": "Python (welcomedl)",
   "language": "python",
   "name": "welcomedl"
  }
 },
 "nbformat": 4,
 "nbformat_minor": 0
}
