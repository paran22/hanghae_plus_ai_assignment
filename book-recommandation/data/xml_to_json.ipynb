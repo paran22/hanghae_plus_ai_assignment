{
 "cells": [
  {
   "cell_type": "code",
   "execution_count": 9,
   "metadata": {},
   "outputs": [
    {
     "name": "stdout",
     "output_type": "stream",
     "text": [
      "Requirement already satisfied: xmltodict in /opt/anaconda3/envs/llm/lib/python3.12/site-packages (0.14.2)\n",
      "Requirement already satisfied: bs4 in /opt/anaconda3/envs/llm/lib/python3.12/site-packages (0.0.2)\n",
      "Requirement already satisfied: beautifulsoup4 in /opt/anaconda3/envs/llm/lib/python3.12/site-packages (from bs4) (4.13.4)\n",
      "Requirement already satisfied: soupsieve>1.2 in /opt/anaconda3/envs/llm/lib/python3.12/site-packages (from beautifulsoup4->bs4) (2.6)\n",
      "Requirement already satisfied: typing-extensions>=4.0.0 in /opt/anaconda3/envs/llm/lib/python3.12/site-packages (from beautifulsoup4->bs4) (4.13.2)\n",
      "Note: you may need to restart the kernel to use updated packages.\n"
     ]
    }
   ],
   "source": [
    "%pip install xmltodict bs4"
   ]
  },
  {
   "cell_type": "code",
   "execution_count": 11,
   "metadata": {},
   "outputs": [
    {
     "name": "stdout",
     "output_type": "stream",
     "text": [
      "성공적으로 1388개의 도서 정보를 변환했습니다.\n"
     ]
    }
   ],
   "source": [
    "import re\n",
    "import json\n",
    "from bs4 import BeautifulSoup\n",
    "\n",
    "def clean_text(text):\n",
    "    if text is None:\n",
    "        return \"\"\n",
    "    \n",
    "    # BeautifulSoup을 사용하여 HTML 파싱\n",
    "    soup = BeautifulSoup(text, 'html.parser')\n",
    "    # 텍스트만 추출\n",
    "    text = soup.get_text()\n",
    "    # 연속된 공백 제거\n",
    "    text = re.sub(r'\\s+', ' ', text)\n",
    "    # 앞뒤 공백 제거\n",
    "    return text.strip()\n",
    "\n",
    "def extract_tag_content(text, tag_name):\n",
    "    pattern = f'<{tag_name}>(.*?)</{tag_name}>'\n",
    "    match = re.search(pattern, text, re.DOTALL)\n",
    "    return match.group(1) if match else ''\n",
    "\n",
    "def process_xml_file():\n",
    "    books = []\n",
    "    \n",
    "    with open('국립중앙도서관_사서추천도서.xml', 'r', encoding='utf-8') as file:\n",
    "        content = file.read()\n",
    "        \n",
    "    # 각 item 블록을 찾기\n",
    "    items = re.findall(r'<item>(.*?)</item>', content, re.DOTALL)\n",
    "    \n",
    "    for item in items:\n",
    "        try:\n",
    "            book = {\n",
    "                'category_code': extract_tag_content(item, 'drCode'),\n",
    "                'category_name': extract_tag_content(item, 'drCodeName'),\n",
    "                'title': extract_tag_content(item, 'recomtitle'),\n",
    "                'author': extract_tag_content(item, 'recomauthor'),\n",
    "                'publisher': extract_tag_content(item, 'recompublisher'),\n",
    "                'isbn': extract_tag_content(item, 'recomisbn'),\n",
    "                'contents': clean_text(extract_tag_content(item, 'recomcontens')),\n",
    "                'table_of_contents': clean_text(extract_tag_content(item, 'recommokcha')),\n",
    "                'publish_year': extract_tag_content(item, 'publishYear'),\n",
    "                'recommend_year': extract_tag_content(item, 'recomYear'),\n",
    "                'recommend_month': extract_tag_content(item, 'recomMonth')\n",
    "            }\n",
    "            books.append(book)\n",
    "        except Exception as e:\n",
    "            print(f\"Error processing item: {e}\")\n",
    "            continue\n",
    "    \n",
    "    # JSON 파일로 저장\n",
    "    with open('library_books.json', 'w', encoding='utf-8') as f:\n",
    "        json.dump(books, f, ensure_ascii=False, indent=2)\n",
    "    \n",
    "    return len(books)\n",
    "\n",
    "# 실행\n",
    "try:\n",
    "    count = process_xml_file()\n",
    "    print(f\"성공적으로 {count}개의 도서 정보를 변환했습니다.\")\n",
    "except Exception as e:\n",
    "    print(f\"변환 중 오류 발생: {e}\")"
   ]
  }
 ],
 "metadata": {
  "kernelspec": {
   "display_name": "llm",
   "language": "python",
   "name": "python3"
  },
  "language_info": {
   "codemirror_mode": {
    "name": "ipython",
    "version": 3
   },
   "file_extension": ".py",
   "mimetype": "text/x-python",
   "name": "python",
   "nbconvert_exporter": "python",
   "pygments_lexer": "ipython3",
   "version": "3.12.9"
  }
 },
 "nbformat": 4,
 "nbformat_minor": 2
}
