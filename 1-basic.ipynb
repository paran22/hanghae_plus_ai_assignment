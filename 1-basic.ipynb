{
 "cells": [
  {
   "cell_type": "markdown",
   "metadata": {
    "id": "OPJenlrhihrh"
   },
   "source": [
    "# [1주차] 기본과제 - MNIST를 분류 모델로 학습하기\n",
    "\n",
    "구현 목표 : MNIST 데이터로 손글씨 이미지가 어떤 숫자를 의미하는지 분류하는 모델을 구현한다.\n",
    "\n",
    "필요한 라이브러리를 import 한다.\n",
    "GPU를 사용하기 위한 설정을 한다."
   ]
  },
  {
   "cell_type": "code",
   "execution_count": 12,
   "metadata": {
    "executionInfo": {
     "elapsed": 6315,
     "status": "ok",
     "timestamp": 1724212693193,
     "user": {
      "displayName": "조승혁",
      "userId": "15759752471844115325"
     },
     "user_tz": -540
    },
    "id": "6lXVfXoDtoQh"
   },
   "outputs": [],
   "source": [
    "import torch\n",
    "import torchvision\n",
    "import torchvision.transforms as transforms\n",
    "import numpy as np\n",
    "\n",
    "# mac에 GPU를 사용하기 위한 설정\n",
    "device = torch.device(\"mps\")"
   ]
  },
  {
   "cell_type": "markdown",
   "metadata": {
    "id": "pF-1zQvmiult"
   },
   "source": [
    "trainset과 testset 준비한다.\n",
    "PyTorch를 사용하기 위해 다차원 배열인 Tensor 형태로 변환한다."
   ]
  },
  {
   "cell_type": "code",
   "execution_count": 13,
   "metadata": {
    "colab": {
     "base_uri": "https://localhost:8080/"
    },
    "executionInfo": {
     "elapsed": 22007,
     "status": "ok",
     "timestamp": 1724212718261,
     "user": {
      "displayName": "조승혁",
      "userId": "15759752471844115325"
     },
     "user_tz": -540
    },
    "id": "KAYlqPaRt6ti",
    "outputId": "67e51d96-85b4-4129-efc8-7938006afdd4"
   },
   "outputs": [],
   "source": [
    "transform = transforms.ToTensor()\n",
    "\n",
    "trainset = torchvision.datasets.MNIST(\n",
    "    root='./data',\n",
    "    train=True,\n",
    "    download=True,\n",
    "    transform=transform\n",
    ")\n",
    "\n",
    "testset = torchvision.datasets.MNIST(\n",
    "    root='./data',\n",
    "    train=False,\n",
    "    download=True,\n",
    "    transform=transform\n",
    ")\n"
   ]
  },
  {
   "cell_type": "markdown",
   "metadata": {
    "id": "p-GqH7_ZjVMs"
   },
   "source": [
    "trainset이 잘 만들어졌는지 확인하기 위해 전체 transet data의 개수와 첫 번째 data를 출력한다."
   ]
  },
  {
   "cell_type": "code",
   "execution_count": 14,
   "metadata": {
    "colab": {
     "base_uri": "https://localhost:8080/",
     "height": 481
    },
    "executionInfo": {
     "elapsed": 601,
     "status": "ok",
     "timestamp": 1724212727291,
     "user": {
      "displayName": "조승혁",
      "userId": "15759752471844115325"
     },
     "user_tz": -540
    },
    "id": "Zsp3sHmojyhT",
    "outputId": "3511bb75-e677-4fb8-894b-69e22c80f4bc"
   },
   "outputs": [
    {
     "name": "stdout",
     "output_type": "stream",
     "text": [
      "60000\n",
      "torch.Size([1, 28, 28]) 5\n"
     ]
    },
    {
     "data": {
      "text/plain": [
       "<matplotlib.image.AxesImage at 0x1495020f0>"
      ]
     },
     "execution_count": 14,
     "metadata": {},
     "output_type": "execute_result"
    },
    {
     "data": {
      "image/png": "[encoded data removed]",
      "text/plain": [
       "<Figure size 640x480 with 1 Axes>"
      ]
     },
     "metadata": {},
     "output_type": "display_data"
    }
   ],
   "source": [
    "from matplotlib import pyplot as plt\n",
    "\n",
    "print(len(trainset))\n",
    "print(trainset[0][0].shape, trainset[0][1])\n",
    "plt.imshow(trainset[0][0][0], cmap='gray')"
   ]
  },
  {
   "cell_type": "markdown",
   "metadata": {
    "id": "udm8wDBsi301"
   },
   "source": [
    "SGD를 위해 dataset을 여러 개의 batch로 나눈다.\n",
    "여러 개의 batch로 나누면 데이터가 많아도 메모리가 부족하지 않게 gradient descent를 수행할 수 있다.\n",
    "SGD는 랜덤으로 batch를 구성해야 잘 동작하기 때문에 trainloader에 shuffle=True로 설정한다."
   ]
  },
  {
   "cell_type": "code",
   "execution_count": 15,
   "metadata": {
    "id": "UxKu3kA2i5WH"
   },
   "outputs": [],
   "source": [
    "batch_size = 256\n",
    "\n",
    "trainloader = torch.utils.data.DataLoader(\n",
    "    trainset,\n",
    "    batch_size=batch_size,\n",
    "    shuffle=True\n",
    ")\n",
    "\n",
    "testloader = torch.utils.data.DataLoader(\n",
    "    testset,\n",
    "    batch_size=batch_size,\n",
    "    shuffle=False\n",
    ")\n"
   ]
  },
  {
   "cell_type": "markdown",
   "metadata": {
    "id": "z4Qyrm4WlzWt"
   },
   "source": [
    "첫 번째 batch를 출력하면 다음과 같다."
   ]
  },
  {
   "cell_type": "code",
   "execution_count": 16,
   "metadata": {
    "colab": {
     "base_uri": "https://localhost:8080/"
    },
    "executionInfo": {
     "elapsed": 33,
     "status": "ok",
     "timestamp": 1723366306519,
     "user": {
      "displayName": "조승혁",
      "userId": "15759752471844115325"
     },
     "user_tz": -540
    },
    "id": "_Hd7XxyAvVNz",
    "outputId": "185acb61-2ed7-4110-b325-c0e016ca60b0"
   },
   "outputs": [
    {
     "name": "stdout",
     "output_type": "stream",
     "text": [
      "torch.Size([256, 1, 28, 28]) torch.Size([256])\n"
     ]
    }
   ],
   "source": [
    "dataiter = iter(trainloader)\n",
    "images, labels = next(dataiter)\n",
    "print(images.shape, labels.shape)"
   ]
  },
  {
   "cell_type": "markdown",
   "metadata": {},
   "source": [
    "dataloader에 대한 model의 정확도를 측정하는 코드를 추가한다."
   ]
  },
  {
   "cell_type": "code",
   "execution_count": 17,
   "metadata": {},
   "outputs": [],
   "source": [
    "def accuracy(model, dataloader):\n",
    "  cnt = 0\n",
    "  acc = 0\n",
    "\n",
    "  for data in dataloader:\n",
    "    inputs, labels = data\n",
    "    inputs, labels = inputs.to('mps'), labels.to('mps')\n",
    "\n",
    "    preds = model(inputs)\n",
    "    preds = torch.argmax(preds, dim=-1)\n",
    "\n",
    "    cnt += labels.shape[0]\n",
    "    acc += (labels == preds).sum().item()\n",
    "\n",
    "  return acc / cnt"
   ]
  },
  {
   "cell_type": "markdown",
   "metadata": {},
   "source": [
    "(n, 1, 28, 28) shape의 image를 입력받아 0~9 사이의 정수 하나를 출력하는 3-layer MLP를 구현한다.\n",
    "이미지는 (n, 1, 28, 28) shape이기 때문에 (n, 1 * 28 * 28) shape으로 변환해서 선형 함수에 입력으로 사용할 수 있게 torch.flatten을 사용한다.  "
   ]
  },
  {
   "cell_type": "code",
   "execution_count": 18,
   "metadata": {
    "id": "OLOA-ZGTuVVG"
   },
   "outputs": [],
   "source": [
    "from torch import nn\n",
    "\n",
    "\n",
    "class Model(nn.Module):\n",
    "  def __init__(self, input_dim, n_dim):\n",
    "    super().__init__()\n",
    "\n",
    "    self.layer1 = nn.Linear(input_dim, n_dim)\n",
    "    self.layer2 = nn.Linear(n_dim, n_dim)\n",
    "    # 0~9까지 각 클래스에 대한 확률을 출력하기 위해 dimension을 10으로 설정\n",
    "    self.layer3 = nn.Linear(n_dim, 10)\n",
    "\n",
    "    self.act = nn.ReLU()\n",
    "\n",
    "  def forward(self, x):\n",
    "    x = torch.flatten(x, start_dim=1)\n",
    "    x = self.act(self.layer1(x))\n",
    "    x = self.act(self.layer2(x))\n",
    "    x = self.act(self.layer3(x))\n",
    "\n",
    "    return x\n",
    "\n",
    "\n",
    "model = Model(28 * 28 * 1, 1024)"
   ]
  },
  {
   "cell_type": "markdown",
   "metadata": {
    "id": "tag1rNcwmnAr"
   },
   "source": [
    "다음은 gradient descent를 수행해줄 optimizer를 구현한다."
   ]
  },
  {
   "cell_type": "code",
   "execution_count": 19,
   "metadata": {
    "id": "ypS0TcOlvBhZ"
   },
   "outputs": [],
   "source": [
    "from torch.optim import SGD\n",
    "\n",
    "lr = 0.001\n",
    "model = model.to('mps')\n",
    "\n",
    "optimizer = SGD(model.parameters(), lr=lr)"
   ]
  },
  {
   "cell_type": "markdown",
   "metadata": {
    "id": "5PooeOKMnRfZ"
   },
   "source": [
    "model을 학습한다.\n",
    "epoch마다 모델의 정확성을 계산해서 배열에 저장한다."
   ]
  },
  {
   "cell_type": "code",
   "execution_count": 20,
   "metadata": {
    "colab": {
     "base_uri": "https://localhost:8080/"
    },
    "executionInfo": {
     "elapsed": 786155,
     "status": "ok",
     "timestamp": 1723367093025,
     "user": {
      "displayName": "조승혁",
      "userId": "15759752471844115325"
     },
     "user_tz": -540
    },
    "id": "TryX1hewvNiB",
    "outputId": "4e4a9282-d49a-40ff-c26c-d00fb7c0af79"
   },
   "outputs": [
    {
     "name": "stdout",
     "output_type": "stream",
     "text": [
      "Epoch   0 | Loss: 540.9027667045593\n",
      "Epoch   1 | Loss: 539.1684927940369\n",
      "Epoch   2 | Loss: 537.4508407115936\n",
      "Epoch   3 | Loss: 535.6614942550659\n",
      "Epoch   4 | Loss: 533.7650535106659\n",
      "Epoch   5 | Loss: 531.7629191875458\n",
      "Epoch   6 | Loss: 529.6387317180634\n",
      "Epoch   7 | Loss: 527.3312768936157\n",
      "Epoch   8 | Loss: 524.8381750583649\n",
      "Epoch   9 | Loss: 522.1042459011078\n",
      "Epoch  10 | Loss: 519.0933263301849\n",
      "Epoch  11 | Loss: 515.7375230789185\n",
      "Epoch  12 | Loss: 512.0303122997284\n",
      "Epoch  13 | Loss: 507.9269063472748\n",
      "Epoch  14 | Loss: 503.393034696579\n",
      "Epoch  15 | Loss: 498.42302680015564\n",
      "Epoch  16 | Loss: 492.96789264678955\n",
      "Epoch  17 | Loss: 486.9775035381317\n",
      "Epoch  18 | Loss: 480.648730635643\n",
      "Epoch  19 | Loss: 473.8630974292755\n",
      "Epoch  20 | Loss: 466.75735223293304\n",
      "Epoch  21 | Loss: 459.36581671237946\n",
      "Epoch  22 | Loss: 451.9242626428604\n",
      "Epoch  23 | Loss: 444.4339588880539\n",
      "Epoch  24 | Loss: 437.02648973464966\n",
      "Epoch  25 | Loss: 429.86308681964874\n",
      "Epoch  26 | Loss: 422.9600330591202\n",
      "Epoch  27 | Loss: 416.35815620422363\n",
      "Epoch  28 | Loss: 410.1782330274582\n",
      "Epoch  29 | Loss: 404.13055098056793\n",
      "Epoch  30 | Loss: 398.5551133155823\n",
      "Epoch  31 | Loss: 393.2315671443939\n",
      "Epoch  32 | Loss: 388.19678914546967\n",
      "Epoch  33 | Loss: 383.59448504447937\n",
      "Epoch  34 | Loss: 379.14928448200226\n",
      "Epoch  35 | Loss: 374.9998861551285\n",
      "Epoch  36 | Loss: 370.1427620649338\n",
      "Epoch  37 | Loss: 364.3682726621628\n",
      "Epoch  38 | Loss: 359.1697120666504\n",
      "Epoch  39 | Loss: 354.124054312706\n",
      "Epoch  40 | Loss: 349.1640132665634\n",
      "Epoch  41 | Loss: 344.3107959032059\n",
      "Epoch  42 | Loss: 339.4001258611679\n",
      "Epoch  43 | Loss: 333.2166419029236\n",
      "Epoch  44 | Loss: 322.8272339105606\n",
      "Epoch  45 | Loss: 315.5412666797638\n",
      "Epoch  46 | Loss: 309.4351056814194\n",
      "Epoch  47 | Loss: 303.746742606163\n",
      "Epoch  48 | Loss: 298.2173316478729\n",
      "Epoch  49 | Loss: 292.8079218864441\n",
      "Epoch  50 | Loss: 287.70212483406067\n",
      "Epoch  51 | Loss: 282.8305039405823\n",
      "Epoch  52 | Loss: 278.1237437725067\n",
      "Epoch  53 | Loss: 273.70203971862793\n",
      "Epoch  54 | Loss: 269.6487020254135\n",
      "Epoch  55 | Loss: 265.6203726530075\n",
      "Epoch  56 | Loss: 261.92058116197586\n",
      "Epoch  57 | Loss: 258.46831035614014\n",
      "Epoch  58 | Loss: 255.14324140548706\n",
      "Epoch  59 | Loss: 251.92926436662674\n",
      "Epoch  60 | Loss: 248.93919962644577\n",
      "Epoch  61 | Loss: 246.09997588396072\n",
      "Epoch  62 | Loss: 243.3827982544899\n",
      "Epoch  63 | Loss: 240.83969980478287\n",
      "Epoch  64 | Loss: 238.51408803462982\n",
      "Epoch  65 | Loss: 236.02575993537903\n",
      "Epoch  66 | Loss: 233.7740131020546\n",
      "Epoch  67 | Loss: 231.77448880672455\n",
      "Epoch  68 | Loss: 229.76597529649734\n",
      "Epoch  69 | Loss: 227.81357556581497\n",
      "Epoch  70 | Loss: 226.07751160860062\n",
      "Epoch  71 | Loss: 224.28111654520035\n",
      "Epoch  72 | Loss: 222.5534508228302\n",
      "Epoch  73 | Loss: 221.15273028612137\n",
      "Epoch  74 | Loss: 219.67921769618988\n",
      "Epoch  75 | Loss: 218.06212466955185\n",
      "Epoch  76 | Loss: 216.7737631201744\n",
      "Epoch  77 | Loss: 215.44388455152512\n",
      "Epoch  78 | Loss: 214.07942563295364\n",
      "Epoch  79 | Loss: 212.8000864982605\n",
      "Epoch  80 | Loss: 211.73609203100204\n",
      "Epoch  81 | Loss: 210.61166483163834\n",
      "Epoch  82 | Loss: 209.61773961782455\n",
      "Epoch  83 | Loss: 208.51530373096466\n",
      "Epoch  84 | Loss: 207.4722023010254\n",
      "Epoch  85 | Loss: 206.55234360694885\n",
      "Epoch  86 | Loss: 205.69141572713852\n",
      "Epoch  87 | Loss: 204.67291074991226\n",
      "Epoch  88 | Loss: 203.95263677835464\n",
      "Epoch  89 | Loss: 203.00742787122726\n",
      "Epoch  90 | Loss: 202.28685158491135\n",
      "Epoch  91 | Loss: 201.43282568454742\n",
      "Epoch  92 | Loss: 200.67117071151733\n",
      "Epoch  93 | Loss: 199.94995802640915\n",
      "Epoch  94 | Loss: 199.25321984291077\n",
      "Epoch  95 | Loss: 198.63213711977005\n",
      "Epoch  96 | Loss: 197.93072319030762\n",
      "Epoch  97 | Loss: 197.2280859351158\n",
      "Epoch  98 | Loss: 196.6862832903862\n",
      "Epoch  99 | Loss: 196.08436715602875\n"
     ]
    }
   ],
   "source": [
    "# 각 클래스에 대한 확률 분포를 예측하는 것으로, 분류 문제에 더 적합하다.\n",
    "criterion = nn.CrossEntropyLoss()\n",
    "n_epochs = 100\n",
    "\n",
    "train_acc_list = []\n",
    "test_acc_list = []\n",
    "\n",
    "for epoch in range(n_epochs):\n",
    "  total_loss = 0.\n",
    "  for data in trainloader:\n",
    "    model.zero_grad()\n",
    "    inputs, labels = data\n",
    "    inputs, labels = inputs.to('mps'), labels.to('mps')\n",
    "\n",
    "    preds = model(inputs)\n",
    "    loss = criterion(preds, labels)\n",
    "    loss.backward()\n",
    "    optimizer.step()\n",
    "\n",
    "    total_loss += loss.item()\n",
    "  train_acc_list.append(accuracy(model, trainloader))\n",
    "  test_acc_list.append(accuracy(model, testloader))\n",
    "\n",
    "  print(f\"Epoch {epoch:3d} | Loss: {total_loss}\")"
   ]
  },
  {
   "cell_type": "markdown",
   "metadata": {
    "id": "YRDcptrqniX7"
   },
   "source": [
    "첫 번째 data에 대한 예측 결과는 다음과 같다."
   ]
  },
  {
   "cell_type": "code",
   "execution_count": 21,
   "metadata": {
    "colab": {
     "base_uri": "https://localhost:8080/"
    },
    "executionInfo": {
     "elapsed": 31,
     "status": "ok",
     "timestamp": 1723367093026,
     "user": {
      "displayName": "조승혁",
      "userId": "15759752471844115325"
     },
     "user_tz": -540
    },
    "id": "Zct0ssSKwjt1",
    "outputId": "4a8d7062-1a43-4522-895e-cfebb9c02cdb"
   },
   "outputs": [
    {
     "name": "stdout",
     "output_type": "stream",
     "text": [
      "tensor([[0., 0., 0., 0., 0., 0., 0., 0., 0., 0.]], device='mps:0',\n",
      "       grad_fn=<ReluBackward0>)\n",
      "0\n"
     ]
    }
   ],
   "source": [
    "idx = 1\n",
    "\n",
    "x = trainset[idx][0][None]  # (1, 1, 28, 28)\n",
    "x = x.to('mps')\n",
    "\n",
    "print(model(x))\n",
    "print(trainset[idx][1])"
   ]
  },
  {
   "cell_type": "markdown",
   "metadata": {
    "id": "qzgSOrMsoZ2z"
   },
   "source": [
    "모델을 학습하면서 저장한 정확도를 plot으로 출력한다."
   ]
  },
  {
   "cell_type": "code",
   "execution_count": 22,
   "metadata": {},
   "outputs": [
    {
     "data": {
      "image/png": "[encoded data removed]",
      "text/plain": [
       "<Figure size 640x480 with 1 Axes>"
      ]
     },
     "metadata": {},
     "output_type": "display_data"
    }
   ],
   "source": [
    "def plot_acc(train_accs, test_accs, label1='train', label2='test'):\n",
    "  x = np.arange(len(train_accs))\n",
    "\n",
    "  plt.plot(x, train_accs, label=label1)\n",
    "  plt.plot(x, test_accs, label=label2)\n",
    "  plt.legend()\n",
    "  plt.show()\n",
    "\n",
    "plot_acc(train_acc_list, test_acc_list)"
   ]
  }
 ],
 "metadata": {
  "accelerator": "GPU",
  "colab": {
   "authorship_tag": "ABX9TyOz7vBAsZ4WYLph4xp9q2ee",
   "gpuType": "T4",
   "provenance": []
  },
  "kernelspec": {
   "display_name": "Python (welcomedl)",
   "language": "python",
   "name": "welcomedl"
  },
  "language_info": {
   "codemirror_mode": {
    "name": "ipython",
    "version": 3
   },
   "file_extension": ".py",
   "mimetype": "text/x-python",
   "name": "python",
   "nbconvert_exporter": "python",
   "pygments_lexer": "ipython3",
   "version": "3.12.9"
  }
 },
 "nbformat": 4,
 "nbformat_minor": 0
}
